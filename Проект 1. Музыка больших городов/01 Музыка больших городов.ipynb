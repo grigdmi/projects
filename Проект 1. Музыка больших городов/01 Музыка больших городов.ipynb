{
 "cells": [
  {
   "cell_type": "markdown",
   "metadata": {
    "deletable": false,
    "editable": false,
    "id": "E0vqbgi9ay0H"
   },
   "source": [
    "# Яндекс.Музыка"
   ]
  },
  {
   "cell_type": "markdown",
   "metadata": {
    "deletable": false,
    "editable": false,
    "id": "VUC88oWjTJw2"
   },
   "source": [
    "Сравнение Москвы и Петербурга окружено мифами. Например:\n",
    " * Москва — мегаполис, подчинённый жёсткому ритму рабочей недели;\n",
    " * Петербург — культурная столица, со своими вкусами.\n",
    "\n",
    "На данных Яндекс Музыки вы сравните поведение пользователей двух столиц.\n",
    "\n",
    "**Цель исследования** — проверьте три гипотезы:\n",
    "1. Активность пользователей зависит от дня недели. Причём в Москве и Петербурге это проявляется по-разному.\n",
    "2. В понедельник утром в Москве преобладают одни жанры, а в Петербурге — другие. Так же и вечером пятницы преобладают разные жанры — в зависимости от города. \n",
    "3. Москва и Петербург предпочитают разные жанры музыки. В Москве чаще слушают поп-музыку, в Петербурге — русский рэп.\n",
    "\n",
    "**Ход исследования**\n",
    "\n",
    "Данные о поведении пользователей вы получите из файла `yandex_music_project.csv`. О качестве данных ничего не известно. Поэтому перед проверкой гипотез понадобится обзор данных. \n",
    "\n",
    "Вы проверите данные на ошибки и оцените их влияние на исследование. Затем, на этапе предобработки вы поищете возможность исправить самые критичные ошибки данных.\n",
    " \n",
    "Таким образом, исследование пройдёт в три этапа:\n",
    " 1. Обзор данных.\n",
    " 2. Предобработка данных.\n",
    " 3. Проверка гипотез.\n",
    "\n"
   ]
  },
  {
   "cell_type": "markdown",
   "metadata": {
    "deletable": false,
    "editable": false,
    "id": "Ml1hmfXC_Zcs"
   },
   "source": [
    "## Обзор данных\n",
    "\n",
    "Составьте первое представление о данных Яндекс Музыки.\n",
    "\n",
    "\n"
   ]
  },
  {
   "cell_type": "markdown",
   "metadata": {
    "deletable": false,
    "editable": false,
    "id": "57eAOGIz_Zcs",
    "tags": [
     "start_task"
    ]
   },
   "source": [
    "**Задание 1**\n",
    "\n",
    "Основной инструмент аналитика — `pandas`. Импортируйте эту библиотеку."
   ]
  },
  {
   "cell_type": "code",
   "execution_count": 1,
   "metadata": {
    "deletable": false,
    "id": "AXN7PHPN_Zcs"
   },
   "outputs": [],
   "source": [
    "import pandas as pd # импорт библиотеки pandas"
   ]
  },
  {
   "cell_type": "markdown",
   "metadata": {
    "deletable": false,
    "editable": false,
    "id": "SG23P8tt_Zcs",
    "tags": [
     "start_task"
    ]
   },
   "source": [
    "**Задание 2**\n",
    "\n",
    "Прочитайте файл `yandex_music_project.csv` из папки `/datasets` и сохраните его в переменной `df`:"
   ]
  },
  {
   "cell_type": "code",
   "execution_count": 2,
   "metadata": {
    "deletable": false,
    "id": "fFVu7vqh_Zct"
   },
   "outputs": [],
   "source": [
    "df=pd.read_csv('/datasets/yandex_music_project.csv') # чтение файла с данными и сохранение в df"
   ]
  },
  {
   "cell_type": "markdown",
   "metadata": {
    "deletable": false,
    "editable": false,
    "id": "rDoOMd3uTqnZ",
    "tags": [
     "start_task"
    ]
   },
   "source": [
    "**Задание 3**\n",
    "\n",
    "\n",
    "Выведите на экран первые десять строк таблицы:"
   ]
  },
  {
   "cell_type": "code",
   "execution_count": 3,
   "metadata": {
    "deletable": false,
    "id": "oWTVX3gW_Zct",
    "scrolled": true
   },
   "outputs": [
    {
     "name": "stdout",
     "output_type": "stream",
     "text": [
      "     userID                        Track            artist   genre  \\\n",
      "0  FFB692EC            Kamigata To Boots  The Mass Missile    rock   \n",
      "1  55204538  Delayed Because of Accident  Andreas Rönnberg    rock   \n",
      "2    20EC38            Funiculì funiculà       Mario Lanza     pop   \n",
      "3  A3DD03C9        Dragons in the Sunset        Fire + Ice    folk   \n",
      "4  E2DC1FAE                  Soul People        Space Echo   dance   \n",
      "5  842029A1                    Преданная         IMPERVTOR  rusrap   \n",
      "6  4CB90AA5                         True      Roman Messer   dance   \n",
      "7  F03E1C1F             Feeling This Way   Polina Griffith   dance   \n",
      "8  8FA1D3BE     И вновь продолжается бой               NaN  ruspop   \n",
      "9  E772D5C0                    Pessimist               NaN   dance   \n",
      "\n",
      "             City        time        Day  \n",
      "0  Saint-Petersburg  20:28:33  Wednesday  \n",
      "1            Moscow  14:07:09     Friday  \n",
      "2  Saint-Petersburg  20:58:07  Wednesday  \n",
      "3  Saint-Petersburg  08:37:09     Monday  \n",
      "4            Moscow  08:34:34     Monday  \n",
      "5  Saint-Petersburg  13:09:41     Friday  \n",
      "6            Moscow  13:00:07  Wednesday  \n",
      "7            Moscow  20:47:49  Wednesday  \n",
      "8            Moscow  09:17:40     Friday  \n",
      "9  Saint-Petersburg  21:20:49  Wednesday  \n"
     ]
    }
   ],
   "source": [
    "print(df.head(10)) # получение первых 10 строк таблицы df"
   ]
  },
  {
   "cell_type": "markdown",
   "metadata": {
    "deletable": false,
    "editable": false,
    "id": "EO73Kwic_Zct",
    "tags": [
     "start_task"
    ]
   },
   "source": [
    "**Задание 4**\n",
    "\n",
    "\n",
    "Одной командой получить общую информацию о таблице c помощью метода `info()`:"
   ]
  },
  {
   "cell_type": "code",
   "execution_count": 4,
   "metadata": {
    "deletable": false,
    "id": "DSf2kIb-_Zct"
   },
   "outputs": [
    {
     "name": "stdout",
     "output_type": "stream",
     "text": [
      "<class 'pandas.core.frame.DataFrame'>\n",
      "RangeIndex: 65079 entries, 0 to 65078\n",
      "Data columns (total 7 columns):\n",
      " #   Column    Non-Null Count  Dtype \n",
      "---  ------    --------------  ----- \n",
      " 0     userID  65079 non-null  object\n",
      " 1   Track     63848 non-null  object\n",
      " 2   artist    57876 non-null  object\n",
      " 3   genre     63881 non-null  object\n",
      " 4     City    65079 non-null  object\n",
      " 5   time      65079 non-null  object\n",
      " 6   Day       65079 non-null  object\n",
      "dtypes: object(7)\n",
      "memory usage: 3.5+ MB\n"
     ]
    }
   ],
   "source": [
    "df.info() # получение общей информации о данных в таблице df"
   ]
  },
  {
   "cell_type": "markdown",
   "metadata": {
    "deletable": false,
    "editable": false,
    "id": "TaQ2Iwbr_Zct"
   },
   "source": [
    "Итак, в таблице семь столбцов. Тип данных во всех столбцах — `object`.\n",
    "\n",
    "Согласно документации к данным:\n",
    "* `userID` — идентификатор пользователя;\n",
    "* `Track` — название трека;  \n",
    "* `artist` — имя исполнителя;\n",
    "* `genre` — название жанра;\n",
    "* `City` — город пользователя;\n",
    "* `time` — время начала прослушивания;\n",
    "* `Day` — день недели.\n",
    "\n",
    "Количество значений в столбцах различается. Значит, в данных есть пропущенные значения."
   ]
  },
  {
   "cell_type": "markdown",
   "metadata": {
    "deletable": false,
    "editable": false,
    "id": "4P0UCWzswgEm",
    "tags": [
     "start_task"
    ]
   },
   "source": [
    "**Задание 5**\n",
    "\n",
    "**Вопрос со свободной формой ответа**\n",
    "\n",
    "В названиях колонок видны три нарушения стиля:\n",
    "1. Строчные буквы сочетаются с прописными.\n",
    "2. Встречаются пробелы."
   ]
  },
  {
   "cell_type": "code",
   "execution_count": 5,
   "metadata": {
    "id": "c137-ZstwgEm"
   },
   "outputs": [
    {
     "name": "stdout",
     "output_type": "stream",
     "text": [
      "3. В названиях столбцов нет нижних подчёркиваний.\n"
     ]
    }
   ],
   "source": [
    "print('3. В названиях столбцов нет нижних подчёркиваний.') # Напишите ваш ответ здесь комментарием."
   ]
  },
  {
   "cell_type": "markdown",
   "metadata": {
    "deletable": false,
    "editable": false,
    "id": "MCB6-dXG_Zct"
   },
   "source": [
    "**Выводы**\n",
    "\n",
    "В каждой строке таблицы — данные о прослушанном треке. Часть колонок описывает саму композицию: название, исполнителя и жанр. Остальные данные рассказывают о пользователе: из какого он города, когда он слушал музыку. \n",
    "\n",
    "Предварительно можно утверждать, что, данных достаточно для проверки гипотез. Но встречаются пропуски в данных, а в названиях колонок — расхождения с хорошим стилем.\n",
    "\n",
    "Чтобы двигаться дальше, нужно устранить проблемы в данных."
   ]
  },
  {
   "cell_type": "markdown",
   "metadata": {
    "deletable": false,
    "editable": false,
    "id": "SjYF6Ub9_Zct"
   },
   "source": [
    "## Предобработка данных\n",
    "Исправьте стиль в заголовках столбцов, исключите пропуски. Затем проверьте данные на дубликаты."
   ]
  },
  {
   "cell_type": "markdown",
   "metadata": {
    "deletable": false,
    "editable": false,
    "id": "dIaKXr29_Zct",
    "tags": [
     "start_task"
    ]
   },
   "source": [
    "### Стиль заголовков\n",
    "\n",
    "**Задание 6**\n",
    "\n",
    "Выведите на экран названия столбцов:"
   ]
  },
  {
   "cell_type": "code",
   "execution_count": 6,
   "metadata": {
    "deletable": false,
    "id": "oKOTdF_Q_Zct"
   },
   "outputs": [
    {
     "name": "stdout",
     "output_type": "stream",
     "text": [
      "Index(['  userID', 'Track', 'artist', 'genre', '  City  ', 'time', 'Day'], dtype='object')\n"
     ]
    }
   ],
   "source": [
    "print(df.columns) # перечень названий столбцов таблицы df"
   ]
  },
  {
   "cell_type": "markdown",
   "metadata": {
    "deletable": false,
    "editable": false,
    "id": "zj5534cv_Zct",
    "tags": [
     "start_task"
    ]
   },
   "source": [
    "**Задание 7**\n",
    "\n",
    "\n",
    "Приведите названия в соответствие с хорошим стилем:\n",
    "* несколько слов в названии запишите в «змеином_регистре»,\n",
    "* все символы сделайте строчными,\n",
    "* устраните пробелы.\n",
    "\n",
    "Для этого переименуйте колонки так:\n",
    "* `'  userID'` → `'user_id'`;\n",
    "* `'Track'` → `'track'`;\n",
    "* `'  City  '` → `'city'`;\n",
    "* `'Day'` → `'day'`."
   ]
  },
  {
   "cell_type": "code",
   "execution_count": 7,
   "metadata": {
    "deletable": false,
    "id": "ISlFqs5y_Zct"
   },
   "outputs": [],
   "source": [
    "df=df.rename(columns={'  userID':'user_id','Track':'track','  City  ':'city','Day':'day' }) # переименование столбцов"
   ]
  },
  {
   "cell_type": "markdown",
   "metadata": {
    "deletable": false,
    "editable": false,
    "id": "1dqbh00J_Zct",
    "tags": [
     "start_task"
    ]
   },
   "source": [
    "**Задание 8**\n",
    "\n",
    "\n",
    "Проверьте результат. Для этого ещё раз выведите на экран названия столбцов:"
   ]
  },
  {
   "cell_type": "code",
   "execution_count": 8,
   "metadata": {
    "deletable": false,
    "id": "d4NOAmTW_Zct"
   },
   "outputs": [
    {
     "name": "stdout",
     "output_type": "stream",
     "text": [
      "Index(['user_id', 'track', 'artist', 'genre', 'city', 'time', 'day'], dtype='object')\n"
     ]
    }
   ],
   "source": [
    "print(df.columns) # проверка результатов - перечень названий столбцов"
   ]
  },
  {
   "cell_type": "markdown",
   "metadata": {
    "deletable": false,
    "editable": false,
    "id": "5ISfbcfY_Zct",
    "tags": [
     "start_task"
    ]
   },
   "source": [
    "### Пропуски значений\n",
    "\n",
    "**Задание 9**\n",
    "\n",
    "Сначала посчитайте, сколько в таблице пропущенных значений. Для этого достаточно двух методов `pandas`:"
   ]
  },
  {
   "cell_type": "code",
   "execution_count": 9,
   "metadata": {
    "deletable": false,
    "id": "RskX29qr_Zct"
   },
   "outputs": [
    {
     "name": "stdout",
     "output_type": "stream",
     "text": [
      "user_id       0\n",
      "track      1231\n",
      "artist     7203\n",
      "genre      1198\n",
      "city          0\n",
      "time          0\n",
      "day           0\n",
      "dtype: int64\n"
     ]
    }
   ],
   "source": [
    "print(df.isna().sum()) # подсчёт пропусков"
   ]
  },
  {
   "cell_type": "markdown",
   "metadata": {
    "deletable": false,
    "editable": false,
    "id": "qubhgnlO_Zct"
   },
   "source": [
    "Не все пропущенные значения влияют на исследование. Так в `track` и `artist` пропуски не важны для вашей работы. Достаточно заменить их явными обозначениями.\n",
    "\n",
    "Но пропуски в `genre` могут помешать сравнению музыкальных вкусов в Москве и Санкт-Петербурге. На практике было бы правильно установить причину пропусков и восстановить данные. Такой возможности нет в учебном проекте. Придётся:\n",
    "* заполнить и эти пропуски явными обозначениями,\n",
    "* оценить, насколько они повредят расчётам. "
   ]
  },
  {
   "cell_type": "markdown",
   "metadata": {
    "deletable": false,
    "editable": false,
    "id": "fSv2laPA_Zct",
    "tags": [
     "start_task"
    ]
   },
   "source": [
    "**Задание 10**\n",
    "\n",
    "Замените пропущенные значения в столбцах `track`, `artist` и `genre` на строку `'unknown'`. Для этого создайте список `columns_to_replace`, переберите его элементы циклом `for` и для каждого столбца выполните замену пропущенных значений:"
   ]
  },
  {
   "cell_type": "code",
   "execution_count": 10,
   "metadata": {
    "deletable": false,
    "id": "KplB5qWs_Zct"
   },
   "outputs": [],
   "source": [
    "columns_to_replace = ['track', 'artist', 'genre'] # список со столбцами, в которых нужно заменить значения\n",
    "\n",
    "for column in columns_to_replace:\n",
    "    df[column] = df[column].fillna('unknown') # перебор названий столбцов в цикле и замена пропущенных значений на 'unknown'"
   ]
  },
  {
   "cell_type": "markdown",
   "metadata": {
    "deletable": false,
    "editable": false,
    "id": "Ilsm-MZo_Zct",
    "tags": [
     "start_task"
    ]
   },
   "source": [
    "**Задание 11**\n",
    "\n",
    "Убедитесь, что в таблице не осталось пропусков. Для этого ещё раз посчитайте пропущенные значения."
   ]
  },
  {
   "cell_type": "code",
   "execution_count": 11,
   "metadata": {
    "deletable": false,
    "id": "Tq4nYRX4_Zct"
   },
   "outputs": [
    {
     "name": "stdout",
     "output_type": "stream",
     "text": [
      "user_id    0\n",
      "track      0\n",
      "artist     0\n",
      "genre      0\n",
      "city       0\n",
      "time       0\n",
      "day        0\n",
      "dtype: int64\n"
     ]
    }
   ],
   "source": [
    "print(df.isna().sum()) # подсчёт пропусков"
   ]
  },
  {
   "cell_type": "markdown",
   "metadata": {
    "deletable": false,
    "editable": false,
    "id": "BWKRtBJ3_Zct",
    "tags": [
     "start_task"
    ]
   },
   "source": [
    "### Дубликаты\n",
    "\n",
    "**Задание 12**\n",
    "\n",
    "Посчитайте явные дубликаты в таблице одной командой:"
   ]
  },
  {
   "cell_type": "code",
   "execution_count": 12,
   "metadata": {
    "deletable": false,
    "id": "36eES_S0_Zct"
   },
   "outputs": [],
   "source": [
    "df_dublication=df.duplicated().sum()\n"
   ]
  },
  {
   "cell_type": "markdown",
   "metadata": {
    "deletable": false,
    "editable": false,
    "id": "Ot25h6XR_Zct",
    "tags": [
     "start_task"
    ]
   },
   "source": [
    "**Задание 13**\n",
    "\n",
    "Вызовите специальный метод `pandas`, чтобы удалить явные дубликаты:"
   ]
  },
  {
   "cell_type": "code",
   "execution_count": 13,
   "metadata": {
    "deletable": false,
    "id": "exFHq6tt_Zct"
   },
   "outputs": [],
   "source": [
    "df=df.drop_duplicates() # удаление явных дубликатов (с удалением старых индексов и формированием новых)"
   ]
  },
  {
   "cell_type": "markdown",
   "metadata": {
    "deletable": false,
    "editable": false,
    "id": "Im2YwBEG_Zct",
    "tags": [
     "start_task"
    ]
   },
   "source": [
    "**Задание 14**\n",
    "\n",
    "Ещё раз посчитайте явные дубликаты в таблице — убедитесь, что полностью от них избавились:"
   ]
  },
  {
   "cell_type": "code",
   "execution_count": 14,
   "metadata": {
    "deletable": false,
    "id": "-8PuNWQ0_Zct"
   },
   "outputs": [],
   "source": [
    "df_dublication=df.duplicated().sum() # проверка на отсутствие дубликатов"
   ]
  },
  {
   "cell_type": "markdown",
   "metadata": {
    "deletable": false,
    "editable": false,
    "id": "QlFBsxAr_Zct"
   },
   "source": [
    "Теперь избавьтесь от неявных дубликатов в колонке `genre`. Например, название одного и того же жанра может быть записано немного по-разному. Такие ошибки тоже повлияют на результат исследования."
   ]
  },
  {
   "cell_type": "markdown",
   "metadata": {
    "deletable": false,
    "editable": false,
    "id": "eSjWwsOh_Zct",
    "tags": [
     "start_task"
    ]
   },
   "source": [
    "**Задание 15**\n",
    "\n",
    "Выведите на экран список уникальных названий жанров, отсортированный в алфавитном порядке. Для этого:\n",
    "* извлеките нужный столбец датафрейма, \n",
    "* примените к нему метод сортировки,\n",
    "* для отсортированного столбца вызовите метод, который вернёт уникальные значения из столбца."
   ]
  },
  {
   "cell_type": "code",
   "execution_count": 15,
   "metadata": {
    "deletable": false,
    "id": "JIUcqzZN_Zct"
   },
   "outputs": [
    {
     "data": {
      "text/plain": [
       "array(['acid', 'acoustic', 'action', 'adult', 'africa', 'afrikaans',\n",
       "       'alternative', 'alternativepunk', 'ambient', 'americana',\n",
       "       'animated', 'anime', 'arabesk', 'arabic', 'arena',\n",
       "       'argentinetango', 'art', 'audiobook', 'author', 'avantgarde',\n",
       "       'axé', 'baile', 'balkan', 'beats', 'bigroom', 'black', 'bluegrass',\n",
       "       'blues', 'bollywood', 'bossa', 'brazilian', 'breakbeat', 'breaks',\n",
       "       'broadway', 'cantautori', 'cantopop', 'canzone', 'caribbean',\n",
       "       'caucasian', 'celtic', 'chamber', 'chanson', 'children', 'chill',\n",
       "       'chinese', 'choral', 'christian', 'christmas', 'classical',\n",
       "       'classicmetal', 'club', 'colombian', 'comedy', 'conjazz',\n",
       "       'contemporary', 'country', 'cuban', 'dance', 'dancehall',\n",
       "       'dancepop', 'dark', 'death', 'deep', 'deutschrock', 'deutschspr',\n",
       "       'dirty', 'disco', 'dnb', 'documentary', 'downbeat', 'downtempo',\n",
       "       'drum', 'dub', 'dubstep', 'eastern', 'easy', 'electronic',\n",
       "       'electropop', 'emo', 'entehno', 'epicmetal', 'estrada', 'ethnic',\n",
       "       'eurofolk', 'european', 'experimental', 'extrememetal', 'fado',\n",
       "       'fairytail', 'film', 'fitness', 'flamenco', 'folk', 'folklore',\n",
       "       'folkmetal', 'folkrock', 'folktronica', 'forró', 'frankreich',\n",
       "       'französisch', 'french', 'funk', 'future', 'gangsta', 'garage',\n",
       "       'german', 'ghazal', 'gitarre', 'glitch', 'gospel', 'gothic',\n",
       "       'grime', 'grunge', 'gypsy', 'handsup', \"hard'n'heavy\", 'hardcore',\n",
       "       'hardstyle', 'hardtechno', 'hip', 'hip-hop', 'hiphop',\n",
       "       'historisch', 'holiday', 'hop', 'horror', 'house', 'hymn', 'idm',\n",
       "       'independent', 'indian', 'indie', 'indipop', 'industrial',\n",
       "       'inspirational', 'instrumental', 'international', 'irish', 'jam',\n",
       "       'japanese', 'jazz', 'jewish', 'jpop', 'jungle', 'k-pop',\n",
       "       'karadeniz', 'karaoke', 'kayokyoku', 'korean', 'laiko', 'latin',\n",
       "       'latino', 'leftfield', 'local', 'lounge', 'loungeelectronic',\n",
       "       'lovers', 'malaysian', 'mandopop', 'marschmusik', 'meditative',\n",
       "       'mediterranean', 'melodic', 'metal', 'metalcore', 'mexican',\n",
       "       'middle', 'minimal', 'miscellaneous', 'modern', 'mood', 'mpb',\n",
       "       'muslim', 'native', 'neoklassik', 'neue', 'new', 'newage',\n",
       "       'newwave', 'nu', 'nujazz', 'numetal', 'oceania', 'old', 'opera',\n",
       "       'orchestral', 'other', 'piano', 'podcasts', 'pop', 'popdance',\n",
       "       'popelectronic', 'popeurodance', 'poprussian', 'post',\n",
       "       'posthardcore', 'postrock', 'power', 'progmetal', 'progressive',\n",
       "       'psychedelic', 'punjabi', 'punk', 'quebecois', 'ragga', 'ram',\n",
       "       'rancheras', 'rap', 'rave', 'reggae', 'reggaeton', 'regional',\n",
       "       'relax', 'religious', 'retro', 'rhythm', 'rnb', 'rnr', 'rock',\n",
       "       'rockabilly', 'rockalternative', 'rockindie', 'rockother',\n",
       "       'romance', 'roots', 'ruspop', 'rusrap', 'rusrock', 'russian',\n",
       "       'salsa', 'samba', 'scenic', 'schlager', 'self', 'sertanejo',\n",
       "       'shanson', 'shoegazing', 'showtunes', 'singer', 'ska', 'skarock',\n",
       "       'slow', 'smooth', 'soft', 'soul', 'soulful', 'sound', 'soundtrack',\n",
       "       'southern', 'specialty', 'speech', 'spiritual', 'sport',\n",
       "       'stonerrock', 'surf', 'swing', 'synthpop', 'synthrock',\n",
       "       'sängerportrait', 'tango', 'tanzorchester', 'taraftar', 'tatar',\n",
       "       'tech', 'techno', 'teen', 'thrash', 'top', 'traditional',\n",
       "       'tradjazz', 'trance', 'tribal', 'trip', 'triphop', 'tropical',\n",
       "       'türk', 'türkçe', 'ukrrock', 'unknown', 'urban', 'uzbek',\n",
       "       'variété', 'vi', 'videogame', 'vocal', 'western', 'world',\n",
       "       'worldbeat', 'ïîï', 'электроника'], dtype=object)"
      ]
     },
     "execution_count": 15,
     "metadata": {},
     "output_type": "execute_result"
    }
   ],
   "source": [
    "df['genre'].sort_values().unique() # Просмотр уникальных названий жанров"
   ]
  },
  {
   "cell_type": "markdown",
   "metadata": {
    "deletable": false,
    "editable": false,
    "id": "qej-Qmuo_Zct",
    "tags": [
     "start_task"
    ]
   },
   "source": [
    "**Задание 16**\n",
    "\n",
    "Просмотрите список и найдите неявные дубликаты названия `hiphop`. Это могут быть названия с ошибками или альтернативные названия того же жанра.\n",
    "\n",
    "Вы увидите следующие неявные дубликаты:\n",
    "* *hip*,\n",
    "* *hop*,\n",
    "* *hip-hop*.\n",
    "\n",
    "Чтобы очистить от них таблицу используйте метод `replace()` с двумя аргументами: списком строк-дубликатов (включащий *hip*, *hop* и *hip-hop*) и строкой с правильным значением. Вам нужно исправить колонку `genre` в таблице `df`: заменить каждое значение из списка дубликатов на верное. Вместо `hip`, `hop` и `hip-hop` в таблице должно быть значение `hiphop`:"
   ]
  },
  {
   "cell_type": "code",
   "execution_count": 16,
   "metadata": {
    "deletable": false,
    "id": "ErNDkmns_Zct"
   },
   "outputs": [],
   "source": [
    "duplicates = ['hip', 'hop', 'hip-hop']\n",
    "genre = 'hiphop'\n",
    "df['genre'] = df['genre'].replace(duplicates, genre)\n",
    "# Устранение неявных дубликатов"
   ]
  },
  {
   "cell_type": "markdown",
   "metadata": {
    "deletable": false,
    "editable": false,
    "id": "zQKF16_RG15m",
    "tags": [
     "start_task"
    ]
   },
   "source": [
    "**Задание 17**\n",
    "\n",
    "Проверьте, что заменили неправильные названия:\n",
    "\n",
    "*   hip\n",
    "*   hop\n",
    "*   hip-hop\n",
    "\n",
    "Выведите отсортированный список уникальных значений столбца `genre`:"
   ]
  },
  {
   "cell_type": "code",
   "execution_count": 17,
   "metadata": {
    "deletable": false,
    "id": "wvixALnFG15m"
   },
   "outputs": [
    {
     "name": "stdout",
     "output_type": "stream",
     "text": [
      "['acid' 'acoustic' 'action' 'adult' 'africa' 'afrikaans' 'alternative'\n",
      " 'alternativepunk' 'ambient' 'americana' 'animated' 'anime' 'arabesk'\n",
      " 'arabic' 'arena' 'argentinetango' 'art' 'audiobook' 'author' 'avantgarde'\n",
      " 'axé' 'baile' 'balkan' 'beats' 'bigroom' 'black' 'bluegrass' 'blues'\n",
      " 'bollywood' 'bossa' 'brazilian' 'breakbeat' 'breaks' 'broadway'\n",
      " 'cantautori' 'cantopop' 'canzone' 'caribbean' 'caucasian' 'celtic'\n",
      " 'chamber' 'chanson' 'children' 'chill' 'chinese' 'choral' 'christian'\n",
      " 'christmas' 'classical' 'classicmetal' 'club' 'colombian' 'comedy'\n",
      " 'conjazz' 'contemporary' 'country' 'cuban' 'dance' 'dancehall' 'dancepop'\n",
      " 'dark' 'death' 'deep' 'deutschrock' 'deutschspr' 'dirty' 'disco' 'dnb'\n",
      " 'documentary' 'downbeat' 'downtempo' 'drum' 'dub' 'dubstep' 'eastern'\n",
      " 'easy' 'electronic' 'electropop' 'emo' 'entehno' 'epicmetal' 'estrada'\n",
      " 'ethnic' 'eurofolk' 'european' 'experimental' 'extrememetal' 'fado'\n",
      " 'fairytail' 'film' 'fitness' 'flamenco' 'folk' 'folklore' 'folkmetal'\n",
      " 'folkrock' 'folktronica' 'forró' 'frankreich' 'französisch' 'french'\n",
      " 'funk' 'future' 'gangsta' 'garage' 'german' 'ghazal' 'gitarre' 'glitch'\n",
      " 'gospel' 'gothic' 'grime' 'grunge' 'gypsy' 'handsup' \"hard'n'heavy\"\n",
      " 'hardcore' 'hardstyle' 'hardtechno' 'hiphop' 'historisch' 'holiday'\n",
      " 'horror' 'house' 'hymn' 'idm' 'independent' 'indian' 'indie' 'indipop'\n",
      " 'industrial' 'inspirational' 'instrumental' 'international' 'irish' 'jam'\n",
      " 'japanese' 'jazz' 'jewish' 'jpop' 'jungle' 'k-pop' 'karadeniz' 'karaoke'\n",
      " 'kayokyoku' 'korean' 'laiko' 'latin' 'latino' 'leftfield' 'local'\n",
      " 'lounge' 'loungeelectronic' 'lovers' 'malaysian' 'mandopop' 'marschmusik'\n",
      " 'meditative' 'mediterranean' 'melodic' 'metal' 'metalcore' 'mexican'\n",
      " 'middle' 'minimal' 'miscellaneous' 'modern' 'mood' 'mpb' 'muslim'\n",
      " 'native' 'neoklassik' 'neue' 'new' 'newage' 'newwave' 'nu' 'nujazz'\n",
      " 'numetal' 'oceania' 'old' 'opera' 'orchestral' 'other' 'piano' 'podcasts'\n",
      " 'pop' 'popdance' 'popelectronic' 'popeurodance' 'poprussian' 'post'\n",
      " 'posthardcore' 'postrock' 'power' 'progmetal' 'progressive' 'psychedelic'\n",
      " 'punjabi' 'punk' 'quebecois' 'ragga' 'ram' 'rancheras' 'rap' 'rave'\n",
      " 'reggae' 'reggaeton' 'regional' 'relax' 'religious' 'retro' 'rhythm'\n",
      " 'rnb' 'rnr' 'rock' 'rockabilly' 'rockalternative' 'rockindie' 'rockother'\n",
      " 'romance' 'roots' 'ruspop' 'rusrap' 'rusrock' 'russian' 'salsa' 'samba'\n",
      " 'scenic' 'schlager' 'self' 'sertanejo' 'shanson' 'shoegazing' 'showtunes'\n",
      " 'singer' 'ska' 'skarock' 'slow' 'smooth' 'soft' 'soul' 'soulful' 'sound'\n",
      " 'soundtrack' 'southern' 'specialty' 'speech' 'spiritual' 'sport'\n",
      " 'stonerrock' 'surf' 'swing' 'synthpop' 'synthrock' 'sängerportrait'\n",
      " 'tango' 'tanzorchester' 'taraftar' 'tatar' 'tech' 'techno' 'teen'\n",
      " 'thrash' 'top' 'traditional' 'tradjazz' 'trance' 'tribal' 'trip'\n",
      " 'triphop' 'tropical' 'türk' 'türkçe' 'ukrrock' 'unknown' 'urban' 'uzbek'\n",
      " 'variété' 'vi' 'videogame' 'vocal' 'western' 'world' 'worldbeat' 'ïîï'\n",
      " 'электроника']\n"
     ]
    }
   ],
   "source": [
    "print(df['genre'].sort_values().unique()) # Проверка на неявные дубликаты"
   ]
  },
  {
   "cell_type": "markdown",
   "metadata": {
    "deletable": false,
    "editable": false,
    "id": "jz6a9-7HQUDd"
   },
   "source": [
    "**Выводы**\n",
    "\n",
    "Предобработка обнаружила три проблемы в данных:\n",
    "\n",
    "- нарушения в стиле заголовков,\n",
    "- пропущенные значения,\n",
    "- дубликаты — явные и неявные.\n",
    "\n",
    "Вы исправили заголовки, чтобы упростить работу с таблицей. Без дубликатов исследование станет более точным.\n",
    "\n",
    "Пропущенные значения вы заменили на `'unknown'`. Ещё предстоит увидеть, не повредят ли исследованию пропуски в колонке `genre`.\n",
    "\n",
    "Теперь можно перейти к проверке гипотез. "
   ]
  },
  {
   "cell_type": "markdown",
   "metadata": {
    "deletable": false,
    "editable": false,
    "id": "WttZHXH0SqKk"
   },
   "source": [
    "## Проверка гипотез"
   ]
  },
  {
   "cell_type": "markdown",
   "metadata": {
    "deletable": false,
    "editable": false,
    "id": "Im936VVi_Zcu"
   },
   "source": [
    "### Сравнение поведения пользователей двух столиц"
   ]
  },
  {
   "cell_type": "markdown",
   "metadata": {
    "deletable": false,
    "editable": false,
    "id": "nwt_MuaL_Zcu"
   },
   "source": [
    "Первая гипотеза утверждает, что пользователи по-разному слушают музыку в Москве и Санкт-Петербурге. Проверьте это предположение по данным о трёх днях недели — понедельнике, среде и пятнице. Для этого:\n",
    "\n",
    "* Разделите пользователей Москвы и Санкт-Петербурга\n",
    "* Сравните, сколько треков послушала каждая группа пользователей в понедельник, среду и пятницу.\n"
   ]
  },
  {
   "cell_type": "markdown",
   "metadata": {
    "deletable": false,
    "editable": false,
    "id": "8Dw_YMmT_Zcu",
    "tags": [
     "start_task"
    ]
   },
   "source": [
    "**Задание 18**\n",
    "\n",
    "Для тренировки сначала выполните каждый из расчётов по отдельности. \n",
    "\n",
    "Оцените активность пользователей в каждом городе. Сгруппируйте данные по городу и посчитайте прослушивания в каждой группе.\n",
    "\n"
   ]
  },
  {
   "cell_type": "code",
   "execution_count": 18,
   "metadata": {
    "deletable": false,
    "id": "0_Qs96oh_Zcu"
   },
   "outputs": [
    {
     "name": "stdout",
     "output_type": "stream",
     "text": [
      "city\n",
      "Moscow              42741\n",
      "Saint-Petersburg    18512\n",
      "Name: city, dtype: int64\n"
     ]
    }
   ],
   "source": [
    "print(df.groupby('city')['city'].count())\n",
    "\n",
    "# Подсчёт прослушиваний в каждом городе"
   ]
  },
  {
   "cell_type": "markdown",
   "metadata": {
    "deletable": false,
    "editable": false,
    "id": "dzli3w8o_Zcu",
    "tags": [
     "start_task"
    ]
   },
   "source": [
    "В Москве прослушиваний больше, чем в Петербурге. Из этого не следует, что московские пользователи чаще слушают музыку. Просто самих пользователей в Москве больше.\n",
    "\n",
    "**Задание 19**\n",
    "\n",
    "Теперь сгруппируйте данные по дню недели и подсчитайте прослушивания в понедельник, среду и пятницу. Учтите, что в данных есть информация только о прослушиваниях только за эти дни.\n"
   ]
  },
  {
   "cell_type": "code",
   "execution_count": 19,
   "metadata": {
    "deletable": false,
    "id": "uZMKjiJz_Zcu"
   },
   "outputs": [
    {
     "name": "stdout",
     "output_type": "stream",
     "text": [
      "day\n",
      "Friday       21840\n",
      "Monday       21354\n",
      "Wednesday    18059\n",
      "Name: day, dtype: int64\n"
     ]
    }
   ],
   "source": [
    "print(df.groupby('day')['day'].count()) # Подсчёт прослушиваний в каждый из трёх дней"
   ]
  },
  {
   "cell_type": "markdown",
   "metadata": {
    "deletable": false,
    "editable": false,
    "id": "cC2tNrlL_Zcu"
   },
   "source": [
    "В среднем пользователи из двух городов менее активны по средам. Но картина может измениться, если рассмотреть каждый город в отдельности."
   ]
  },
  {
   "cell_type": "markdown",
   "metadata": {
    "deletable": false,
    "editable": false,
    "id": "POzs8bGa_Zcu",
    "tags": [
     "start_task"
    ]
   },
   "source": [
    "**Задание 20**\n",
    "\n",
    "\n",
    "Вы видели, как работает группировка по городу и по дням недели. Теперь напишите функцию, которая объединит два эти расчёта.\n",
    "\n",
    "Создайте функцию `number_tracks()`, которая посчитает прослушивания для заданного дня и города. Ей понадобятся два параметра:\n",
    "* день недели,\n",
    "* название города.\n",
    "\n",
    "В функции сохраните в переменную строки исходной таблицы, у которых значение:\n",
    "  * в колонке `day` равно параметру `day`,\n",
    "  * в колонке `city` равно параметру `city`.\n",
    "\n",
    "Для этого примените последовательную фильтрацию с логической индексацией (или сложные логические выражения в одну строку, если вы уже знакомы с ними).\n",
    "\n",
    "Затем посчитайте значения в столбце `user_id` получившейся таблицы. Результат сохраните в новую переменную. Верните эту переменную из функции."
   ]
  },
  {
   "cell_type": "code",
   "execution_count": 20,
   "metadata": {
    "deletable": false,
    "id": "Nz3GdQB1_Zcu"
   },
   "outputs": [],
   "source": [
    "def number_tracks(day, city): \n",
    "    track_list = df[(df['day'] == day) & (df['city'] == city)]\n",
    "    track_list_count = track_list['user_id'].count()\n",
    "    return track_list_count\n",
    "\n",
    "\n",
    "\n",
    "# <создание функции number_tracks()>\n",
    "# Объявляется функция с двумя параметрами: day, city.\n",
    "# В переменной track_list сохраняются те строки таблицы df, для которых \n",
    "# значение в столбце 'day' равно параметру day и одновременно значение\n",
    "# в столбце 'city' равно параметру city (используйте последовательную фильтрацию\n",
    "# с помощью логической индексации или сложные логические выражения в одну строку, если вы уже знакомы с ними).\n",
    "# В переменной track_list_count сохраняется число значений столбца 'user_id',\n",
    "# рассчитанное методом count() для таблицы track_list.\n",
    "# Функция возвращает число - значение track_list_count.\n",
    "\n",
    "# Функция для подсчёта прослушиваний для конкретного города и дня.\n",
    "# С помощью последовательной фильтрации с логической индексацией она \n",
    "# сначала получит из исходной таблицы строки с нужным днём,\n",
    "# затем из результата отфильтрует строки с нужным городом,\n",
    "# методом count() посчитает количество значений в колонке user_id. \n",
    "# Это количество функция вернёт в качестве результата"
   ]
  },
  {
   "cell_type": "markdown",
   "metadata": {
    "deletable": false,
    "editable": false,
    "id": "ytf7xFrFJQ2r",
    "tags": [
     "start_task"
    ]
   },
   "source": [
    "**Задание 21**\n",
    "\n",
    "Вызовите `number_tracks()` шесть раз, меняя значение параметров — так, чтобы получить данные для каждого города в каждый из трёх дней."
   ]
  },
  {
   "cell_type": "code",
   "execution_count": 21,
   "metadata": {
    "deletable": false,
    "id": "rJcRATNQ_Zcu"
   },
   "outputs": [
    {
     "data": {
      "text/plain": [
       "15740"
      ]
     },
     "execution_count": 21,
     "metadata": {},
     "output_type": "execute_result"
    }
   ],
   "source": [
    "number_tracks('Monday', 'Moscow') # количество прослушиваний в Москве по понедельникам"
   ]
  },
  {
   "cell_type": "code",
   "execution_count": 22,
   "metadata": {
    "deletable": false,
    "id": "hq_ncZ5T_Zcu"
   },
   "outputs": [
    {
     "data": {
      "text/plain": [
       "5614"
      ]
     },
     "execution_count": 22,
     "metadata": {},
     "output_type": "execute_result"
    }
   ],
   "source": [
    "number_tracks('Monday', 'Saint-Petersburg') # количество прослушиваний в Санкт-Петербурге по понедельникам"
   ]
  },
  {
   "cell_type": "code",
   "execution_count": 23,
   "metadata": {
    "deletable": false,
    "id": "_NTy2VPU_Zcu"
   },
   "outputs": [
    {
     "data": {
      "text/plain": [
       "11056"
      ]
     },
     "execution_count": 23,
     "metadata": {},
     "output_type": "execute_result"
    }
   ],
   "source": [
    "number_tracks('Wednesday', 'Moscow') # количество прослушиваний в Москве по средам"
   ]
  },
  {
   "cell_type": "code",
   "execution_count": 24,
   "metadata": {
    "deletable": false,
    "id": "j2y3TAwo_Zcu"
   },
   "outputs": [
    {
     "data": {
      "text/plain": [
       "7003"
      ]
     },
     "execution_count": 24,
     "metadata": {},
     "output_type": "execute_result"
    }
   ],
   "source": [
    "number_tracks('Wednesday', 'Saint-Petersburg') # количество прослушиваний в Санкт-Петербурге по средам"
   ]
  },
  {
   "cell_type": "code",
   "execution_count": 25,
   "metadata": {
    "deletable": false,
    "id": "vYDw5u_K_Zcu"
   },
   "outputs": [
    {
     "data": {
      "text/plain": [
       "15945"
      ]
     },
     "execution_count": 25,
     "metadata": {},
     "output_type": "execute_result"
    }
   ],
   "source": [
    "number_tracks('Friday', 'Moscow') # количество прослушиваний в Москве по пятницам"
   ]
  },
  {
   "cell_type": "code",
   "execution_count": 26,
   "metadata": {
    "deletable": false,
    "id": "8_yzFtW3_Zcu"
   },
   "outputs": [
    {
     "data": {
      "text/plain": [
       "5895"
      ]
     },
     "execution_count": 26,
     "metadata": {},
     "output_type": "execute_result"
    }
   ],
   "source": [
    "number_tracks('Friday', 'Saint-Petersburg') # количество прослушиваний в Санкт-Петербурге по пятницам"
   ]
  },
  {
   "cell_type": "markdown",
   "metadata": {
    "deletable": false,
    "editable": false,
    "id": "7QXffbO-_Zcu",
    "tags": [
     "start_task"
    ]
   },
   "source": [
    "**Задание 22**\n",
    "\n",
    "Создайте c помощью конструктора `pd.DataFrame` таблицу, где\n",
    "* названия колонок — `['city', 'monday', 'wednesday', 'friday']`;\n",
    "* данные — результаты, которые вы получили с помощью `number_tracks`."
   ]
  },
  {
   "cell_type": "code",
   "execution_count": 27,
   "metadata": {
    "deletable": false,
    "id": "APAcLpOr_Zcu"
   },
   "outputs": [
    {
     "data": {
      "text/html": [
       "<div>\n",
       "<style scoped>\n",
       "    .dataframe tbody tr th:only-of-type {\n",
       "        vertical-align: middle;\n",
       "    }\n",
       "\n",
       "    .dataframe tbody tr th {\n",
       "        vertical-align: top;\n",
       "    }\n",
       "\n",
       "    .dataframe thead th {\n",
       "        text-align: right;\n",
       "    }\n",
       "</style>\n",
       "<table border=\"1\" class=\"dataframe\">\n",
       "  <thead>\n",
       "    <tr style=\"text-align: right;\">\n",
       "      <th></th>\n",
       "      <th>city</th>\n",
       "      <th>monday</th>\n",
       "      <th>wednesday</th>\n",
       "      <th>friday</th>\n",
       "    </tr>\n",
       "  </thead>\n",
       "  <tbody>\n",
       "    <tr>\n",
       "      <th>0</th>\n",
       "      <td>Москва</td>\n",
       "      <td>15740</td>\n",
       "      <td>11056</td>\n",
       "      <td>15945</td>\n",
       "    </tr>\n",
       "    <tr>\n",
       "      <th>1</th>\n",
       "      <td>Санкт-Петербург</td>\n",
       "      <td>5614</td>\n",
       "      <td>7003</td>\n",
       "      <td>5895</td>\n",
       "    </tr>\n",
       "  </tbody>\n",
       "</table>\n",
       "</div>"
      ],
      "text/plain": [
       "              city  monday  wednesday  friday\n",
       "0           Москва   15740      11056   15945\n",
       "1  Санкт-Петербург    5614       7003    5895"
      ]
     },
     "execution_count": 27,
     "metadata": {},
     "output_type": "execute_result"
    }
   ],
   "source": [
    "info = pd.DataFrame(data=[['Москва', 15740, 11056, 15945], ['Санкт-Петербург', 5614, 7003, 5895]], columns=['city', 'monday', 'wednesday', 'friday'])\n",
    "info # Таблица с результатами"
   ]
  },
  {
   "cell_type": "markdown",
   "metadata": {
    "deletable": false,
    "editable": false,
    "id": "-EgPIHYu_Zcu"
   },
   "source": [
    "**Выводы**\n",
    "\n",
    "Данные показывают разницу поведения пользователей:\n",
    "\n",
    "- В Москве пик прослушиваний приходится на понедельник и пятницу, а в среду заметен спад.\n",
    "- В Петербурге, наоборот, больше слушают музыку по средам. Активность в понедельник и пятницу здесь почти в равной мере уступает среде.\n",
    "\n",
    "Значит, данные говорят в пользу первой гипотезы."
   ]
  },
  {
   "cell_type": "markdown",
   "metadata": {
    "deletable": false,
    "editable": false,
    "id": "atZAxtq4_Zcu"
   },
   "source": [
    "### Музыка в начале и в конце недели"
   ]
  },
  {
   "cell_type": "markdown",
   "metadata": {
    "deletable": false,
    "editable": false,
    "id": "eXrQqXFH_Zcu"
   },
   "source": [
    "Согласно второй гипотезе, утром в понедельник в Москве преобладают одни жанры, а в Петербурге — другие. Так же и вечером пятницы преобладают разные жанры — в зависимости от города."
   ]
  },
  {
   "cell_type": "markdown",
   "metadata": {
    "deletable": false,
    "editable": false,
    "id": "S8UcW6Hw_Zcu",
    "tags": [
     "start_task"
    ]
   },
   "source": [
    "**Задание 23**\n",
    "\n",
    "Сохраните таблицы с данными в две переменные:\n",
    "* по Москве — в `moscow_general`;\n",
    "* по Санкт-Петербургу — в `spb_general`."
   ]
  },
  {
   "cell_type": "code",
   "execution_count": 28,
   "metadata": {
    "deletable": false,
    "id": "qeaFfM_P_Zcu"
   },
   "outputs": [],
   "source": [
    "moscow_general=df[df['city'] == 'Moscow']\n",
    "# получение таблицы moscow_general из тех строк таблицы df, \n",
    "# для которых значение в столбце 'city' равно 'Moscow'\n"
   ]
  },
  {
   "cell_type": "code",
   "execution_count": 29,
   "metadata": {
    "deletable": false,
    "id": "ORaVRKto_Zcu"
   },
   "outputs": [
    {
     "name": "stdout",
     "output_type": "stream",
     "text": [
      "Index(['user_id', 'track', 'artist', 'genre', 'city', 'time', 'day'], dtype='object')\n"
     ]
    }
   ],
   "source": [
    "spb_general = df[df['city'] == 'Saint-Petersburg'] # получение таблицы spb_general из тех строк таблицы df,\n",
    "# для которых значение в столбце 'city' равно 'Saint-Petersburg'\n",
    "print(df.columns)"
   ]
  },
  {
   "cell_type": "markdown",
   "metadata": {
    "deletable": false,
    "id": "MEJV-CX2_Zcu",
    "tags": [
     "start_task"
    ]
   },
   "source": [
    "**Задание 24**\n",
    "\n",
    "Создайте функцию `genre_weekday()` с четырьмя параметрами:\n",
    "* таблица (датафрейм) с данными,\n",
    "* день недели,\n",
    "* начальная временная метка в формате 'hh:mm', \n",
    "* последняя временная метка в формате 'hh:mm'.\n",
    "\n",
    "Функция должна вернуть информацию о топ-10 жанров тех треков, которые прослушивали в указанный день, в промежутке между двумя отметками времени."
   ]
  },
  {
   "cell_type": "code",
   "execution_count": 30,
   "metadata": {
    "deletable": false,
    "id": "laJT9BYl_Zcu"
   },
   "outputs": [],
   "source": [
    "\n",
    "# Объявление функции genre_weekday() с параметрами table, day, time1, time2,\n",
    "# которая возвращает информацию о самых популярных жанрах в указанный день в\n",
    "# заданное время:\n",
    "# 1) в переменную genre_df сохраняются те строки переданного датафрейма table, для\n",
    "#    которых одновременно:\n",
    "#    - значение в столбце day равно значению аргумента day\n",
    "#    - значение в столбце time больше значения аргумента time1\n",
    "#    - значение в столбце time меньше значения аргумента time2\n",
    "#    Используйте последовательную фильтрацию с помощью логической индексации.\n",
    "# 2) сгруппировать датафрейм genre_df по столбцу genre, взять один из его\n",
    "#    столбцов и посчитать методом count() количество записей для каждого из\n",
    "#    присутствующих жанров, получившийся Series записать в переменную\n",
    "#    genre_df_grouped\n",
    "# 3) отсортировать genre_df_grouped по убыванию встречаемости и сохранить\n",
    "#    в переменную genre_df_sorted\n",
    "# 4) вернуть Series из 10 первых значений genre_df_sorted, это будут топ-10\n",
    "#    популярных жанров (в указанный день, в заданное время)\n",
    "\n",
    "def genre_weekday(df, day, time1, time2):\n",
    "    # последовательная фильтрация\n",
    "    # оставляем в genre_df только те строки df, у которых день равен day\n",
    "    genre_df = df[df['day'] == day]  # ваш код здесь\n",
    "    # оставляем в genre_df только те строки genre_df, у которых время меньше time2\n",
    "    genre_df = genre_df[genre_df['time'] < time2] # ваш код здесь\n",
    "    # оставляем в genre_df только те строки genre_df, у которых время больше time1\n",
    "    genre_df = genre_df[genre_df['time'] > time1] # ваш код здесь\n",
    "    # сгруппируем отфильтрованный датафрейм по столбцу с названиями жанров, возьмём столбец genre и посчитаем кол-во строк для каждого жанра методом count()\n",
    "    genre_df_grouped = genre_df.groupby('genre')['genre'].count() # ваш код здесь\n",
    "    # отсортируем результат по убыванию (чтобы в начале Series оказались самые популярные жанры)\n",
    "    genre_df_sorted = genre_df_grouped.sort_values(ascending=False) # ваш код здесь\n",
    "    # вернём Series с 10 самыми популярными жанрами в указанный отрезок времени заданного дня\n",
    "    return genre_df_sorted[:10]"
   ]
  },
  {
   "cell_type": "markdown",
   "metadata": {
    "deletable": false,
    "editable": false,
    "id": "la2s2_PF_Zcu",
    "tags": [
     "start_task"
    ]
   },
   "source": [
    "**Задание 25**\n",
    "\n",
    "\n",
    "Cравните результаты функции `genre_weekday()` для Москвы и Санкт-Петербурга в понедельник утром (с 7:00 до 11:00) и в пятницу вечером (с 17:00 до 23:00):"
   ]
  },
  {
   "cell_type": "code",
   "execution_count": 31,
   "metadata": {
    "deletable": false,
    "id": "yz7itPUQ_Zcu"
   },
   "outputs": [
    {
     "data": {
      "text/plain": [
       "genre\n",
       "pop            781\n",
       "dance          549\n",
       "electronic     480\n",
       "rock           474\n",
       "hiphop         286\n",
       "ruspop         186\n",
       "world          181\n",
       "rusrap         175\n",
       "alternative    164\n",
       "unknown        161\n",
       "Name: genre, dtype: int64"
      ]
     },
     "execution_count": 31,
     "metadata": {},
     "output_type": "execute_result"
    }
   ],
   "source": [
    "genre_weekday(moscow_general, 'Monday', '07:00', '11:00')\n",
    "# вызов функции для утра понедельника в Москве (вместо df — таблица moscow_general)\n",
    "# объекты, хранящие время, являются строками и сравниваются как строки\n",
    "# пример вызова: genre_weekday(moscow_general, 'Monday', '07:00', '11:00')"
   ]
  },
  {
   "cell_type": "code",
   "execution_count": 32,
   "metadata": {
    "deletable": false,
    "id": "kwUcHPdy_Zcu"
   },
   "outputs": [
    {
     "data": {
      "text/plain": [
       "genre\n",
       "pop            218\n",
       "dance          182\n",
       "rock           162\n",
       "electronic     147\n",
       "hiphop          80\n",
       "ruspop          64\n",
       "alternative     58\n",
       "rusrap          55\n",
       "jazz            44\n",
       "classical       40\n",
       "Name: genre, dtype: int64"
      ]
     },
     "execution_count": 32,
     "metadata": {},
     "output_type": "execute_result"
    }
   ],
   "source": [
    "genre_weekday(spb_general, 'Monday', '07:00', '11:00')\n",
    "# вызов функции для утра понедельника в Петербурге (вместо df — таблица spb_general)"
   ]
  },
  {
   "cell_type": "code",
   "execution_count": 33,
   "metadata": {
    "deletable": false,
    "id": "EzXVRE1o_Zcu"
   },
   "outputs": [
    {
     "data": {
      "text/plain": [
       "genre\n",
       "pop            713\n",
       "rock           517\n",
       "dance          495\n",
       "electronic     482\n",
       "hiphop         273\n",
       "world          208\n",
       "ruspop         170\n",
       "alternative    163\n",
       "classical      163\n",
       "rusrap         142\n",
       "Name: genre, dtype: int64"
      ]
     },
     "execution_count": 33,
     "metadata": {},
     "output_type": "execute_result"
    }
   ],
   "source": [
    "genre_weekday(moscow_general, 'Friday', '17:00', '23:00')# вызов функции для вечера пятницы в Москве"
   ]
  },
  {
   "cell_type": "code",
   "execution_count": 34,
   "metadata": {
    "deletable": false,
    "id": "JZaEKu5v_Zcu"
   },
   "outputs": [
    {
     "data": {
      "text/plain": [
       "genre\n",
       "pop            256\n",
       "electronic     216\n",
       "rock           216\n",
       "dance          210\n",
       "hiphop          97\n",
       "alternative     63\n",
       "jazz            61\n",
       "classical       60\n",
       "rusrap          59\n",
       "world           54\n",
       "Name: genre, dtype: int64"
      ]
     },
     "execution_count": 34,
     "metadata": {},
     "output_type": "execute_result"
    }
   ],
   "source": [
    "genre_weekday(spb_general, 'Friday', '17:00', '23:00') # вызов функции для вечера пятницы в Петербурге"
   ]
  },
  {
   "cell_type": "markdown",
   "metadata": {
    "deletable": false,
    "editable": false,
    "id": "wrCe4MNX_Zcu"
   },
   "source": [
    "**Выводы**\n",
    "\n",
    "Если сравнить топ-10 жанров в понедельник утром, можно сделать такие выводы:\n",
    "\n",
    "1. В Москве и Петербурге слушают похожую музыку. Единственное отличие — в московский рейтинг вошёл жанр “world”, а в петербургский — джаз и классика.\n",
    "\n",
    "2. В Москве пропущенных значений оказалось так много, что значение `'unknown'` заняло десятое место среди самых популярных жанров. Значит, пропущенные значения занимают существенную долю в данных и угрожают достоверности исследования.\n",
    "\n",
    "Вечер пятницы не меняет эту картину. Некоторые жанры поднимаются немного выше, другие спускаются, но в целом топ-10 остаётся тем же самым.\n",
    "\n",
    "Таким образом, вторая гипотеза подтвердилась лишь частично:\n",
    "* Пользователи слушают похожую музыку в начале недели и в конце.\n",
    "* Разница между Москвой и Петербургом не слишком выражена. В Москве чаще слушают русскую популярную музыку, в Петербурге — джаз.\n",
    "\n",
    "Однако пропуски в данных ставят под сомнение этот результат. В Москве их так много, что рейтинг топ-10 мог бы выглядеть иначе, если бы не утерянные  данные о жанрах."
   ]
  },
  {
   "cell_type": "markdown",
   "metadata": {
    "deletable": false,
    "editable": false,
    "id": "JolODAqr_Zcu"
   },
   "source": [
    "### Жанровые предпочтения в Москве и Петербурге\n",
    "\n",
    "Гипотеза: Петербург — столица рэпа, музыку этого жанра там слушают чаще, чем в Москве.  А Москва — город контрастов, в котором, тем не менее, преобладает поп-музыка."
   ]
  },
  {
   "cell_type": "markdown",
   "metadata": {
    "deletable": false,
    "editable": false,
    "id": "DlegSvaT_Zcu",
    "tags": [
     "start_task"
    ]
   },
   "source": [
    "**Задание 26**\n",
    "\n",
    "Сгруппируйте таблицу `moscow_general` по жанру и посчитайте прослушивания треков каждого жанра методом `count()`. Затем отсортируйте результат в порядке убывания и сохраните его в таблице `moscow_genres`."
   ]
  },
  {
   "cell_type": "code",
   "execution_count": 35,
   "metadata": {
    "deletable": false,
    "id": "r19lIPke_Zcu"
   },
   "outputs": [],
   "source": [
    "moscow_genres = (moscow_general.groupby('genre')['genre'].count()).sort_values(ascending=False)\n",
    "\n",
    "# одной строкой: группировка таблицы moscow_general по столбцу 'genre', \n",
    "# подсчёт числа значений 'genre' в этой группировке методом count(), \n",
    "# сортировка получившегося Series в порядке убывания и сохранение в moscow_genres"
   ]
  },
  {
   "cell_type": "markdown",
   "metadata": {
    "deletable": false,
    "editable": false,
    "id": "6kMuomxTiIr8",
    "tags": [
     "start_task"
    ]
   },
   "source": [
    "**Задание 27**\n",
    "\n",
    "Выведите на экран первые десять строк `moscow_genres`:"
   ]
  },
  {
   "cell_type": "code",
   "execution_count": 36,
   "metadata": {
    "deletable": false,
    "id": "WhCSooF8_Zcv"
   },
   "outputs": [
    {
     "data": {
      "text/plain": [
       "genre\n",
       "pop            5892\n",
       "dance          4435\n",
       "rock           3965\n",
       "electronic     3786\n",
       "hiphop         2096\n",
       "classical      1616\n",
       "world          1432\n",
       "alternative    1379\n",
       "ruspop         1372\n",
       "rusrap         1161\n",
       "Name: genre, dtype: int64"
      ]
     },
     "execution_count": 36,
     "metadata": {},
     "output_type": "execute_result"
    }
   ],
   "source": [
    "moscow_genres.head(10) # просмотр первых 10 строк moscow_genres"
   ]
  },
  {
   "cell_type": "markdown",
   "metadata": {
    "deletable": false,
    "editable": false,
    "id": "cnPG2vnN_Zcv",
    "tags": [
     "start_task"
    ]
   },
   "source": [
    "**Задание 28**\n",
    "\n",
    "\n",
    "Теперь повторите то же и для Петербурга.\n",
    "\n",
    "Сгруппируйте таблицу `spb_general` по жанру. Посчитайте прослушивания треков каждого жанра. Результат отсортируйте в порядке убывания и сохраните в таблице `spb_genres`:\n"
   ]
  },
  {
   "cell_type": "code",
   "execution_count": 37,
   "metadata": {
    "deletable": false,
    "id": "gluLIpE7_Zcv"
   },
   "outputs": [],
   "source": [
    "spb_genres = (spb_general.groupby('genre')['genre'].count()).sort_values(ascending=False)\n",
    "# одной строкой: группировка таблицы spb_general по столбцу 'genre', \n",
    "# подсчёт числа значений 'genre' в этой группировке методом count(), \n",
    "# сортировка получившегося Series в порядке убывания и сохранение в spb_genres"
   ]
  },
  {
   "cell_type": "markdown",
   "metadata": {
    "deletable": false,
    "editable": false,
    "id": "5Doha_ODgyQ8",
    "tags": [
     "start_task"
    ]
   },
   "source": [
    "**Задание 29**\n",
    "\n",
    "Выведите на экран первые десять строк `spb_genres`:"
   ]
  },
  {
   "cell_type": "code",
   "execution_count": 38,
   "metadata": {
    "deletable": false,
    "id": "uaGJHjVU_Zcv"
   },
   "outputs": [
    {
     "data": {
      "text/plain": [
       "genre\n",
       "pop            2431\n",
       "dance          1932\n",
       "rock           1879\n",
       "electronic     1736\n",
       "hiphop          960\n",
       "alternative     649\n",
       "classical       646\n",
       "rusrap          564\n",
       "ruspop          538\n",
       "world           515\n",
       "Name: genre, dtype: int64"
      ]
     },
     "execution_count": 38,
     "metadata": {},
     "output_type": "execute_result"
    }
   ],
   "source": [
    "spb_genres.head(10) # просмотр первых 10 строк spb_genres"
   ]
  },
  {
   "cell_type": "markdown",
   "metadata": {
    "deletable": false,
    "editable": false,
    "id": "RY51YJYu_Zcv"
   },
   "source": [
    "**Выводы**"
   ]
  },
  {
   "cell_type": "markdown",
   "metadata": {
    "deletable": false,
    "editable": false,
    "id": "nVhnJEm__Zcv"
   },
   "source": [
    "Гипотеза частично подтвердилась:\n",
    "* Поп-музыка — самый популярный жанр в Москве, как и предполагала гипотеза. Более того, в топ-10 жанров встречается близкий жанр — русская популярная музыка.\n",
    "* Вопреки ожиданиям, рэп одинаково популярен в Москве и Петербурге. \n"
   ]
  },
  {
   "cell_type": "markdown",
   "metadata": {
    "deletable": false,
    "editable": false,
    "id": "ykKQ0N65_Zcv"
   },
   "source": [
    "## Итоги исследования"
   ]
  },
  {
   "cell_type": "markdown",
   "metadata": {
    "deletable": false,
    "editable": false,
    "id": "tjUwbHb3_Zcv"
   },
   "source": [
    "Вы проверили три гипотезы и установили:\n",
    "\n",
    "1. День недели по-разному влияет на активность пользователей в Москве и Петербурге. \n",
    "\n",
    "Первая гипотеза полностью подтвердилась.\n",
    "\n",
    "2. Музыкальные предпочтения не сильно меняются в течение недели — будь то Москва или Петербург. Небольшие различия заметны в начале недели, по понедельникам:\n",
    "* в Москве слушают музыку жанра “world”,\n",
    "* в Петербурге — джаз и классику.\n",
    "\n",
    "Таким образом, вторая гипотеза подтвердилась лишь отчасти. Этот результат мог оказаться иным, если бы не пропуски в данных.\n",
    "\n",
    "3. Во вкусах пользователей Москвы и Петербурга больше общего чем различий. Вопреки ожиданиям, предпочтения жанров в Петербурге напоминают московские.\n",
    "\n",
    "Третья гипотеза не подтвердилась. Если различия в предпочтениях и существуют, на основной массе пользователей они незаметны.\n",
    "\n",
    "**На практике исследования содержат проверки статистических гипотез.**\n",
    "Из данных одного сервиса не всегда можно сделать вывод о всех жителях города.\n",
    "Проверки статистических гипотез покажут, насколько они достоверны, исходя из имеющихся данных. \n",
    "С методами проверок гипотез вы ещё познакомитесь в следующих темах."
   ]
  }
 ],
 "metadata": {
  "ExecuteTimeLog": [
   {
    "duration": 51,
    "start_time": "2023-01-29T20:47:17.419Z"
   },
   {
    "duration": 366,
    "start_time": "2023-01-29T20:47:27.379Z"
   },
   {
    "duration": 178,
    "start_time": "2023-01-29T20:47:32.035Z"
   },
   {
    "duration": 9,
    "start_time": "2023-01-29T20:47:35.086Z"
   },
   {
    "duration": 30,
    "start_time": "2023-01-29T20:48:21.871Z"
   },
   {
    "duration": 52,
    "start_time": "2023-01-29T20:51:26.512Z"
   },
   {
    "duration": 51,
    "start_time": "2023-01-29T20:51:52.583Z"
   },
   {
    "duration": 59,
    "start_time": "2023-01-29T20:52:27.630Z"
   },
   {
    "duration": 51,
    "start_time": "2023-01-29T20:54:34.569Z"
   },
   {
    "duration": 44,
    "start_time": "2023-01-29T20:56:12.241Z"
   },
   {
    "duration": 47,
    "start_time": "2023-01-29T20:56:47.289Z"
   },
   {
    "duration": 78,
    "start_time": "2023-01-29T20:57:05.628Z"
   },
   {
    "duration": 3,
    "start_time": "2023-01-29T20:57:20.096Z"
   },
   {
    "duration": 4,
    "start_time": "2023-01-29T20:58:10.310Z"
   },
   {
    "duration": 12,
    "start_time": "2023-01-29T21:02:54.548Z"
   },
   {
    "duration": 4,
    "start_time": "2023-01-29T21:07:30.035Z"
   },
   {
    "duration": 30,
    "start_time": "2023-01-29T21:08:47.921Z"
   },
   {
    "duration": 25,
    "start_time": "2023-01-29T21:13:42.640Z"
   },
   {
    "duration": 27,
    "start_time": "2023-01-29T21:15:09.514Z"
   },
   {
    "duration": 77,
    "start_time": "2023-01-29T21:17:25.774Z"
   },
   {
    "duration": 3,
    "start_time": "2023-01-29T21:53:04.634Z"
   },
   {
    "duration": 164,
    "start_time": "2023-01-29T21:53:05.671Z"
   },
   {
    "duration": 32,
    "start_time": "2023-01-29T21:54:00.022Z"
   },
   {
    "duration": 79,
    "start_time": "2023-01-29T21:54:13.646Z"
   },
   {
    "duration": 23,
    "start_time": "2023-01-29T21:54:18.214Z"
   },
   {
    "duration": 61,
    "start_time": "2023-01-29T21:55:04.570Z"
   },
   {
    "duration": 7,
    "start_time": "2023-01-29T21:56:05.790Z"
   },
   {
    "duration": 7,
    "start_time": "2023-01-29T21:56:24.650Z"
   },
   {
    "duration": 6,
    "start_time": "2023-01-29T21:56:27.171Z"
   },
   {
    "duration": 3,
    "start_time": "2023-01-29T21:56:34.654Z"
   },
   {
    "duration": 162,
    "start_time": "2023-01-29T21:56:34.659Z"
   },
   {
    "duration": 6,
    "start_time": "2023-01-29T21:56:34.822Z"
   },
   {
    "duration": 39,
    "start_time": "2023-01-29T21:56:34.830Z"
   },
   {
    "duration": 6,
    "start_time": "2023-01-29T21:56:34.871Z"
   },
   {
    "duration": 14,
    "start_time": "2023-01-29T21:56:34.879Z"
   },
   {
    "duration": 13,
    "start_time": "2023-01-29T21:56:34.895Z"
   },
   {
    "duration": 3,
    "start_time": "2023-01-29T21:56:34.909Z"
   },
   {
    "duration": 27,
    "start_time": "2023-01-29T21:56:34.914Z"
   },
   {
    "duration": 21,
    "start_time": "2023-01-29T21:56:34.942Z"
   },
   {
    "duration": 36,
    "start_time": "2023-01-29T21:56:34.964Z"
   },
   {
    "duration": 68,
    "start_time": "2023-01-29T21:56:35.001Z"
   },
   {
    "duration": 74,
    "start_time": "2023-01-29T21:56:35.071Z"
   },
   {
    "duration": 57,
    "start_time": "2023-01-29T21:59:43.038Z"
   },
   {
    "duration": 69,
    "start_time": "2023-01-29T22:00:00.222Z"
   },
   {
    "duration": 110,
    "start_time": "2023-01-29T22:00:41.341Z"
   },
   {
    "duration": 2,
    "start_time": "2023-01-29T23:23:58.255Z"
   },
   {
    "duration": 150,
    "start_time": "2023-01-29T23:23:58.260Z"
   },
   {
    "duration": 7,
    "start_time": "2023-01-29T23:23:58.411Z"
   },
   {
    "duration": 26,
    "start_time": "2023-01-29T23:23:58.419Z"
   },
   {
    "duration": 3,
    "start_time": "2023-01-29T23:23:58.448Z"
   },
   {
    "duration": 14,
    "start_time": "2023-01-29T23:23:58.453Z"
   },
   {
    "duration": 30,
    "start_time": "2023-01-29T23:23:58.469Z"
   },
   {
    "duration": 7,
    "start_time": "2023-01-29T23:23:58.500Z"
   },
   {
    "duration": 28,
    "start_time": "2023-01-29T23:23:58.508Z"
   },
   {
    "duration": 26,
    "start_time": "2023-01-29T23:23:58.537Z"
   },
   {
    "duration": 21,
    "start_time": "2023-01-29T23:23:58.565Z"
   },
   {
    "duration": 59,
    "start_time": "2023-01-29T23:23:58.591Z"
   },
   {
    "duration": 76,
    "start_time": "2023-01-29T23:23:58.652Z"
   },
   {
    "duration": 103,
    "start_time": "2023-01-29T23:23:58.730Z"
   },
   {
    "duration": 3,
    "start_time": "2023-01-29T23:24:05.835Z"
   },
   {
    "duration": 205,
    "start_time": "2023-01-29T23:24:05.840Z"
   },
   {
    "duration": 7,
    "start_time": "2023-01-29T23:24:06.047Z"
   },
   {
    "duration": 37,
    "start_time": "2023-01-29T23:24:06.055Z"
   },
   {
    "duration": 2,
    "start_time": "2023-01-29T23:24:06.094Z"
   },
   {
    "duration": 5,
    "start_time": "2023-01-29T23:24:06.098Z"
   },
   {
    "duration": 30,
    "start_time": "2023-01-29T23:24:06.105Z"
   },
   {
    "duration": 8,
    "start_time": "2023-01-29T23:24:06.137Z"
   },
   {
    "duration": 23,
    "start_time": "2023-01-29T23:24:06.147Z"
   },
   {
    "duration": 16,
    "start_time": "2023-01-29T23:24:06.171Z"
   },
   {
    "duration": 21,
    "start_time": "2023-01-29T23:24:06.193Z"
   },
   {
    "duration": 66,
    "start_time": "2023-01-29T23:24:06.216Z"
   },
   {
    "duration": 68,
    "start_time": "2023-01-29T23:24:06.292Z"
   },
   {
    "duration": 119,
    "start_time": "2023-01-29T23:24:06.361Z"
   },
   {
    "duration": 384,
    "start_time": "2023-01-29T23:24:12.899Z"
   },
   {
    "duration": 176,
    "start_time": "2023-01-29T23:24:13.285Z"
   },
   {
    "duration": 8,
    "start_time": "2023-01-29T23:24:13.463Z"
   },
   {
    "duration": 42,
    "start_time": "2023-01-29T23:24:13.473Z"
   },
   {
    "duration": 3,
    "start_time": "2023-01-29T23:24:13.517Z"
   },
   {
    "duration": 7,
    "start_time": "2023-01-29T23:24:13.522Z"
   },
   {
    "duration": 18,
    "start_time": "2023-01-29T23:24:13.531Z"
   },
   {
    "duration": 9,
    "start_time": "2023-01-29T23:24:13.550Z"
   },
   {
    "duration": 34,
    "start_time": "2023-01-29T23:24:13.560Z"
   },
   {
    "duration": 16,
    "start_time": "2023-01-29T23:24:13.597Z"
   },
   {
    "duration": 19,
    "start_time": "2023-01-29T23:24:13.614Z"
   },
   {
    "duration": 76,
    "start_time": "2023-01-29T23:24:13.634Z"
   },
   {
    "duration": 66,
    "start_time": "2023-01-29T23:24:13.712Z"
   },
   {
    "duration": 118,
    "start_time": "2023-01-29T23:24:13.780Z"
   },
   {
    "duration": 19,
    "start_time": "2023-01-29T23:24:13.899Z"
   },
   {
    "duration": 2,
    "start_time": "2023-01-29T23:24:13.920Z"
   },
   {
    "duration": 4,
    "start_time": "2023-01-29T23:24:13.924Z"
   },
   {
    "duration": 5,
    "start_time": "2023-01-29T23:24:13.930Z"
   },
   {
    "duration": 6,
    "start_time": "2023-01-29T23:24:13.936Z"
   },
   {
    "duration": 9,
    "start_time": "2023-01-29T23:24:13.943Z"
   },
   {
    "duration": 6,
    "start_time": "2023-01-29T23:24:13.954Z"
   },
   {
    "duration": 9,
    "start_time": "2023-01-29T23:24:13.962Z"
   },
   {
    "duration": 20,
    "start_time": "2023-01-29T23:24:13.972Z"
   },
   {
    "duration": 2,
    "start_time": "2023-01-29T23:24:13.993Z"
   },
   {
    "duration": 6,
    "start_time": "2023-01-29T23:24:13.997Z"
   },
   {
    "duration": 4,
    "start_time": "2023-01-29T23:24:14.004Z"
   },
   {
    "duration": 4,
    "start_time": "2023-01-29T23:24:14.010Z"
   },
   {
    "duration": 4,
    "start_time": "2023-01-29T23:24:14.016Z"
   },
   {
    "duration": 13,
    "start_time": "2023-01-29T23:24:14.022Z"
   },
   {
    "duration": 48,
    "start_time": "2023-01-29T23:24:14.036Z"
   },
   {
    "duration": 0,
    "start_time": "2023-01-29T23:24:14.086Z"
   },
   {
    "duration": 0,
    "start_time": "2023-01-29T23:24:14.087Z"
   },
   {
    "duration": 0,
    "start_time": "2023-01-29T23:24:14.088Z"
   },
   {
    "duration": 0,
    "start_time": "2023-01-29T23:24:14.089Z"
   },
   {
    "duration": 0,
    "start_time": "2023-01-29T23:24:14.090Z"
   },
   {
    "duration": 0,
    "start_time": "2023-01-29T23:24:14.091Z"
   },
   {
    "duration": 0,
    "start_time": "2023-01-29T23:24:14.091Z"
   },
   {
    "duration": 0,
    "start_time": "2023-01-29T23:24:14.093Z"
   },
   {
    "duration": 34,
    "start_time": "2023-01-29T23:25:31.947Z"
   },
   {
    "duration": 7,
    "start_time": "2023-01-29T23:29:08.135Z"
   },
   {
    "duration": 7,
    "start_time": "2023-01-29T23:29:21.247Z"
   },
   {
    "duration": 380,
    "start_time": "2023-01-29T23:29:35.727Z"
   },
   {
    "duration": 160,
    "start_time": "2023-01-29T23:29:36.109Z"
   },
   {
    "duration": 8,
    "start_time": "2023-01-29T23:29:36.271Z"
   },
   {
    "duration": 34,
    "start_time": "2023-01-29T23:29:36.281Z"
   },
   {
    "duration": 7,
    "start_time": "2023-01-29T23:29:36.317Z"
   },
   {
    "duration": 12,
    "start_time": "2023-01-29T23:29:36.325Z"
   },
   {
    "duration": 24,
    "start_time": "2023-01-29T23:29:36.339Z"
   },
   {
    "duration": 25,
    "start_time": "2023-01-29T23:29:36.364Z"
   },
   {
    "duration": 30,
    "start_time": "2023-01-29T23:29:36.391Z"
   },
   {
    "duration": 29,
    "start_time": "2023-01-29T23:29:36.428Z"
   },
   {
    "duration": 24,
    "start_time": "2023-01-29T23:29:36.459Z"
   },
   {
    "duration": 71,
    "start_time": "2023-01-29T23:29:36.485Z"
   },
   {
    "duration": 64,
    "start_time": "2023-01-29T23:29:36.558Z"
   },
   {
    "duration": 108,
    "start_time": "2023-01-29T23:29:36.623Z"
   },
   {
    "duration": 36,
    "start_time": "2023-01-29T23:29:36.733Z"
   },
   {
    "duration": 3,
    "start_time": "2023-01-29T23:29:36.770Z"
   },
   {
    "duration": 18,
    "start_time": "2023-01-29T23:29:36.774Z"
   },
   {
    "duration": 2,
    "start_time": "2023-01-29T23:29:36.793Z"
   },
   {
    "duration": 8,
    "start_time": "2023-01-29T23:29:36.796Z"
   },
   {
    "duration": 6,
    "start_time": "2023-01-29T23:29:36.805Z"
   },
   {
    "duration": 6,
    "start_time": "2023-01-29T23:29:36.812Z"
   },
   {
    "duration": 4,
    "start_time": "2023-01-29T23:29:36.820Z"
   },
   {
    "duration": 5,
    "start_time": "2023-01-29T23:29:36.825Z"
   },
   {
    "duration": 5,
    "start_time": "2023-01-29T23:29:36.831Z"
   },
   {
    "duration": 6,
    "start_time": "2023-01-29T23:29:36.838Z"
   },
   {
    "duration": 5,
    "start_time": "2023-01-29T23:29:36.846Z"
   },
   {
    "duration": 4,
    "start_time": "2023-01-29T23:29:36.852Z"
   },
   {
    "duration": 2,
    "start_time": "2023-01-29T23:29:36.860Z"
   },
   {
    "duration": 3,
    "start_time": "2023-01-29T23:29:36.864Z"
   },
   {
    "duration": 39,
    "start_time": "2023-01-29T23:29:36.892Z"
   },
   {
    "duration": 0,
    "start_time": "2023-01-29T23:29:36.932Z"
   },
   {
    "duration": 0,
    "start_time": "2023-01-29T23:29:36.934Z"
   },
   {
    "duration": 0,
    "start_time": "2023-01-29T23:29:36.936Z"
   },
   {
    "duration": 0,
    "start_time": "2023-01-29T23:29:36.937Z"
   },
   {
    "duration": 0,
    "start_time": "2023-01-29T23:29:36.939Z"
   },
   {
    "duration": 0,
    "start_time": "2023-01-29T23:29:36.940Z"
   },
   {
    "duration": 0,
    "start_time": "2023-01-29T23:29:36.942Z"
   },
   {
    "duration": 0,
    "start_time": "2023-01-29T23:29:36.943Z"
   },
   {
    "duration": 3,
    "start_time": "2023-01-29T23:30:37.490Z"
   },
   {
    "duration": 399,
    "start_time": "2023-01-29T23:30:45.287Z"
   },
   {
    "duration": 162,
    "start_time": "2023-01-29T23:30:45.687Z"
   },
   {
    "duration": 8,
    "start_time": "2023-01-29T23:30:45.851Z"
   },
   {
    "duration": 34,
    "start_time": "2023-01-29T23:30:45.861Z"
   },
   {
    "duration": 3,
    "start_time": "2023-01-29T23:30:45.897Z"
   },
   {
    "duration": 5,
    "start_time": "2023-01-29T23:30:45.902Z"
   },
   {
    "duration": 14,
    "start_time": "2023-01-29T23:30:45.909Z"
   },
   {
    "duration": 11,
    "start_time": "2023-01-29T23:30:45.925Z"
   },
   {
    "duration": 26,
    "start_time": "2023-01-29T23:30:45.938Z"
   },
   {
    "duration": 22,
    "start_time": "2023-01-29T23:30:45.993Z"
   },
   {
    "duration": 38,
    "start_time": "2023-01-29T23:30:46.017Z"
   },
   {
    "duration": 87,
    "start_time": "2023-01-29T23:30:46.057Z"
   },
   {
    "duration": 80,
    "start_time": "2023-01-29T23:30:46.146Z"
   },
   {
    "duration": 116,
    "start_time": "2023-01-29T23:30:46.228Z"
   },
   {
    "duration": 47,
    "start_time": "2023-01-29T23:30:46.346Z"
   },
   {
    "duration": 3,
    "start_time": "2023-01-29T23:30:46.395Z"
   },
   {
    "duration": 7,
    "start_time": "2023-01-29T23:30:46.400Z"
   },
   {
    "duration": 6,
    "start_time": "2023-01-29T23:30:46.408Z"
   },
   {
    "duration": 6,
    "start_time": "2023-01-29T23:30:46.416Z"
   },
   {
    "duration": 34,
    "start_time": "2023-01-29T23:30:46.423Z"
   },
   {
    "duration": 8,
    "start_time": "2023-01-29T23:30:46.458Z"
   },
   {
    "duration": 5,
    "start_time": "2023-01-29T23:30:46.468Z"
   },
   {
    "duration": 8,
    "start_time": "2023-01-29T23:30:46.474Z"
   },
   {
    "duration": 15,
    "start_time": "2023-01-29T23:30:46.484Z"
   },
   {
    "duration": 10,
    "start_time": "2023-01-29T23:30:46.501Z"
   },
   {
    "duration": 7,
    "start_time": "2023-01-29T23:30:46.512Z"
   },
   {
    "duration": 26,
    "start_time": "2023-01-29T23:30:46.520Z"
   },
   {
    "duration": 14,
    "start_time": "2023-01-29T23:30:46.549Z"
   },
   {
    "duration": 5,
    "start_time": "2023-01-29T23:30:46.565Z"
   },
   {
    "duration": 45,
    "start_time": "2023-01-29T23:30:46.572Z"
   },
   {
    "duration": 0,
    "start_time": "2023-01-29T23:30:46.618Z"
   },
   {
    "duration": 0,
    "start_time": "2023-01-29T23:30:46.619Z"
   },
   {
    "duration": 0,
    "start_time": "2023-01-29T23:30:46.620Z"
   },
   {
    "duration": 0,
    "start_time": "2023-01-29T23:30:46.621Z"
   },
   {
    "duration": 0,
    "start_time": "2023-01-29T23:30:46.622Z"
   },
   {
    "duration": 0,
    "start_time": "2023-01-29T23:30:46.622Z"
   },
   {
    "duration": 0,
    "start_time": "2023-01-29T23:30:46.624Z"
   },
   {
    "duration": 0,
    "start_time": "2023-01-29T23:30:46.625Z"
   },
   {
    "duration": 34,
    "start_time": "2023-01-29T23:30:53.338Z"
   },
   {
    "duration": 114,
    "start_time": "2023-01-29T23:30:58.566Z"
   },
   {
    "duration": 56,
    "start_time": "2023-01-29T23:31:04.551Z"
   },
   {
    "duration": 20,
    "start_time": "2023-01-29T23:31:17.335Z"
   },
   {
    "duration": 890,
    "start_time": "2023-01-29T23:39:30.230Z"
   },
   {
    "duration": 9,
    "start_time": "2023-01-29T23:40:13.248Z"
   },
   {
    "duration": 5,
    "start_time": "2023-01-29T23:41:17.450Z"
   },
   {
    "duration": 39,
    "start_time": "2023-01-29T23:42:46.467Z"
   },
   {
    "duration": 7,
    "start_time": "2023-01-29T23:46:00.956Z"
   },
   {
    "duration": 3,
    "start_time": "2023-01-29T23:46:43.816Z"
   },
   {
    "duration": 34,
    "start_time": "2023-01-29T23:47:24.751Z"
   },
   {
    "duration": 31,
    "start_time": "2023-01-29T23:47:45.292Z"
   },
   {
    "duration": 10,
    "start_time": "2023-01-29T23:56:36.671Z"
   },
   {
    "duration": 3,
    "start_time": "2023-01-29T23:57:54.040Z"
   },
   {
    "duration": 10,
    "start_time": "2023-01-29T23:58:32.513Z"
   },
   {
    "duration": 45,
    "start_time": "2023-01-30T00:41:56.478Z"
   },
   {
    "duration": 60,
    "start_time": "2023-01-30T00:42:34.969Z"
   },
   {
    "duration": 49,
    "start_time": "2023-01-30T00:49:14.506Z"
   },
   {
    "duration": 65,
    "start_time": "2023-01-30T00:49:48.230Z"
   },
   {
    "duration": 8,
    "start_time": "2023-01-30T00:49:54.986Z"
   },
   {
    "duration": 8,
    "start_time": "2023-01-30T00:50:10.566Z"
   },
   {
    "duration": 9,
    "start_time": "2023-01-30T00:50:41.678Z"
   },
   {
    "duration": 8,
    "start_time": "2023-01-30T00:50:48.770Z"
   },
   {
    "duration": 8,
    "start_time": "2023-01-30T00:51:00.682Z"
   },
   {
    "duration": 3,
    "start_time": "2023-01-30T00:51:34.594Z"
   },
   {
    "duration": 4,
    "start_time": "2023-01-30T00:52:48.490Z"
   },
   {
    "duration": 3,
    "start_time": "2023-01-30T00:53:36.458Z"
   },
   {
    "duration": 3,
    "start_time": "2023-01-30T00:53:56.214Z"
   },
   {
    "duration": 4,
    "start_time": "2023-01-30T00:54:12.511Z"
   },
   {
    "duration": 4,
    "start_time": "2023-01-30T01:00:04.227Z"
   },
   {
    "duration": 4,
    "start_time": "2023-01-30T01:00:34.950Z"
   },
   {
    "duration": 79,
    "start_time": "2023-01-30T11:07:19.195Z"
   },
   {
    "duration": 3,
    "start_time": "2023-01-30T11:09:27.119Z"
   },
   {
    "duration": 3,
    "start_time": "2023-01-30T11:13:14.249Z"
   },
   {
    "duration": 42,
    "start_time": "2023-01-30T11:16:58.102Z"
   },
   {
    "duration": 7,
    "start_time": "2023-01-30T11:17:12.035Z"
   },
   {
    "duration": 402,
    "start_time": "2023-01-30T11:17:25.037Z"
   },
   {
    "duration": 244,
    "start_time": "2023-01-30T11:17:25.444Z"
   },
   {
    "duration": 7,
    "start_time": "2023-01-30T11:17:25.689Z"
   },
   {
    "duration": 56,
    "start_time": "2023-01-30T11:17:25.698Z"
   },
   {
    "duration": 17,
    "start_time": "2023-01-30T11:17:25.755Z"
   },
   {
    "duration": 17,
    "start_time": "2023-01-30T11:17:25.774Z"
   },
   {
    "duration": 29,
    "start_time": "2023-01-30T11:17:25.793Z"
   },
   {
    "duration": 12,
    "start_time": "2023-01-30T11:17:25.824Z"
   },
   {
    "duration": 63,
    "start_time": "2023-01-30T11:17:25.838Z"
   },
   {
    "duration": 19,
    "start_time": "2023-01-30T11:17:25.904Z"
   },
   {
    "duration": 51,
    "start_time": "2023-01-30T11:17:25.925Z"
   },
   {
    "duration": 80,
    "start_time": "2023-01-30T11:17:25.978Z"
   },
   {
    "duration": 61,
    "start_time": "2023-01-30T11:17:26.060Z"
   },
   {
    "duration": 69,
    "start_time": "2023-01-30T11:17:26.123Z"
   },
   {
    "duration": 48,
    "start_time": "2023-01-30T11:17:26.193Z"
   },
   {
    "duration": 13,
    "start_time": "2023-01-30T11:17:26.242Z"
   },
   {
    "duration": 40,
    "start_time": "2023-01-30T11:17:26.256Z"
   },
   {
    "duration": 8,
    "start_time": "2023-01-30T11:17:26.298Z"
   },
   {
    "duration": 14,
    "start_time": "2023-01-30T11:17:26.307Z"
   },
   {
    "duration": 35,
    "start_time": "2023-01-30T11:17:26.326Z"
   },
   {
    "duration": 57,
    "start_time": "2023-01-30T11:17:26.365Z"
   },
   {
    "duration": 3,
    "start_time": "2023-01-30T11:17:31.736Z"
   },
   {
    "duration": 203,
    "start_time": "2023-01-30T11:17:31.753Z"
   },
   {
    "duration": 8,
    "start_time": "2023-01-30T11:17:31.957Z"
   },
   {
    "duration": 52,
    "start_time": "2023-01-30T11:17:31.967Z"
   },
   {
    "duration": 36,
    "start_time": "2023-01-30T11:17:32.021Z"
   },
   {
    "duration": 22,
    "start_time": "2023-01-30T11:17:32.059Z"
   },
   {
    "duration": 21,
    "start_time": "2023-01-30T11:17:32.083Z"
   },
   {
    "duration": 27,
    "start_time": "2023-01-30T11:17:32.106Z"
   },
   {
    "duration": 52,
    "start_time": "2023-01-30T11:17:32.134Z"
   },
   {
    "duration": 46,
    "start_time": "2023-01-30T11:17:32.188Z"
   },
   {
    "duration": 37,
    "start_time": "2023-01-30T11:17:32.235Z"
   },
   {
    "duration": 98,
    "start_time": "2023-01-30T11:17:32.274Z"
   },
   {
    "duration": 70,
    "start_time": "2023-01-30T11:17:32.374Z"
   },
   {
    "duration": 58,
    "start_time": "2023-01-30T11:17:32.446Z"
   },
   {
    "duration": 57,
    "start_time": "2023-01-30T11:17:32.507Z"
   },
   {
    "duration": 20,
    "start_time": "2023-01-30T11:17:32.566Z"
   },
   {
    "duration": 82,
    "start_time": "2023-01-30T11:17:32.588Z"
   },
   {
    "duration": 22,
    "start_time": "2023-01-30T11:17:32.672Z"
   },
   {
    "duration": 46,
    "start_time": "2023-01-30T11:17:32.696Z"
   },
   {
    "duration": 70,
    "start_time": "2023-01-30T11:17:32.744Z"
   },
   {
    "duration": 59,
    "start_time": "2023-01-30T11:17:32.815Z"
   },
   {
    "duration": 43,
    "start_time": "2023-01-30T11:17:32.875Z"
   },
   {
    "duration": 66,
    "start_time": "2023-01-30T11:17:32.920Z"
   },
   {
    "duration": 36,
    "start_time": "2023-01-30T11:17:32.988Z"
   },
   {
    "duration": 45,
    "start_time": "2023-01-30T11:17:33.026Z"
   },
   {
    "duration": 2,
    "start_time": "2023-01-30T11:17:39.385Z"
   },
   {
    "duration": 172,
    "start_time": "2023-01-30T11:17:39.389Z"
   },
   {
    "duration": 6,
    "start_time": "2023-01-30T11:17:39.563Z"
   },
   {
    "duration": 31,
    "start_time": "2023-01-30T11:17:39.570Z"
   },
   {
    "duration": 6,
    "start_time": "2023-01-30T11:17:39.604Z"
   },
   {
    "duration": 7,
    "start_time": "2023-01-30T11:17:39.612Z"
   },
   {
    "duration": 24,
    "start_time": "2023-01-30T11:17:39.621Z"
   },
   {
    "duration": 20,
    "start_time": "2023-01-30T11:17:39.647Z"
   },
   {
    "duration": 33,
    "start_time": "2023-01-30T11:17:39.668Z"
   },
   {
    "duration": 26,
    "start_time": "2023-01-30T11:17:39.703Z"
   },
   {
    "duration": 44,
    "start_time": "2023-01-30T11:17:39.731Z"
   },
   {
    "duration": 74,
    "start_time": "2023-01-30T11:17:39.776Z"
   },
   {
    "duration": 65,
    "start_time": "2023-01-30T11:17:39.854Z"
   },
   {
    "duration": 62,
    "start_time": "2023-01-30T11:17:39.921Z"
   },
   {
    "duration": 32,
    "start_time": "2023-01-30T11:17:39.984Z"
   },
   {
    "duration": 29,
    "start_time": "2023-01-30T11:17:40.018Z"
   },
   {
    "duration": 55,
    "start_time": "2023-01-30T11:17:40.051Z"
   },
   {
    "duration": 14,
    "start_time": "2023-01-30T11:17:40.108Z"
   },
   {
    "duration": 28,
    "start_time": "2023-01-30T11:17:40.124Z"
   },
   {
    "duration": 21,
    "start_time": "2023-01-30T11:17:40.154Z"
   },
   {
    "duration": 58,
    "start_time": "2023-01-30T11:17:40.176Z"
   },
   {
    "duration": 25,
    "start_time": "2023-01-30T11:17:40.235Z"
   },
   {
    "duration": 18,
    "start_time": "2023-01-30T11:17:40.262Z"
   },
   {
    "duration": 18,
    "start_time": "2023-01-30T11:17:40.282Z"
   },
   {
    "duration": 20,
    "start_time": "2023-01-30T11:17:40.302Z"
   },
   {
    "duration": 3,
    "start_time": "2023-01-30T11:17:52.664Z"
   },
   {
    "duration": 156,
    "start_time": "2023-01-30T11:17:52.674Z"
   },
   {
    "duration": 11,
    "start_time": "2023-01-30T11:17:52.832Z"
   },
   {
    "duration": 53,
    "start_time": "2023-01-30T11:17:52.844Z"
   },
   {
    "duration": 25,
    "start_time": "2023-01-30T11:17:52.899Z"
   },
   {
    "duration": 54,
    "start_time": "2023-01-30T11:17:52.926Z"
   },
   {
    "duration": 15,
    "start_time": "2023-01-30T11:17:52.983Z"
   },
   {
    "duration": 4,
    "start_time": "2023-01-30T11:17:53.000Z"
   },
   {
    "duration": 45,
    "start_time": "2023-01-30T11:17:53.006Z"
   },
   {
    "duration": 19,
    "start_time": "2023-01-30T11:17:53.053Z"
   },
   {
    "duration": 19,
    "start_time": "2023-01-30T11:17:53.075Z"
   },
   {
    "duration": 70,
    "start_time": "2023-01-30T11:17:53.096Z"
   },
   {
    "duration": 69,
    "start_time": "2023-01-30T11:17:53.168Z"
   },
   {
    "duration": 57,
    "start_time": "2023-01-30T11:17:53.239Z"
   },
   {
    "duration": 41,
    "start_time": "2023-01-30T11:17:53.297Z"
   },
   {
    "duration": 25,
    "start_time": "2023-01-30T11:17:53.339Z"
   },
   {
    "duration": 48,
    "start_time": "2023-01-30T11:17:53.366Z"
   },
   {
    "duration": 9,
    "start_time": "2023-01-30T11:17:53.415Z"
   },
   {
    "duration": 31,
    "start_time": "2023-01-30T11:17:53.426Z"
   },
   {
    "duration": 13,
    "start_time": "2023-01-30T11:17:53.458Z"
   },
   {
    "duration": 37,
    "start_time": "2023-01-30T11:17:53.473Z"
   },
   {
    "duration": 26,
    "start_time": "2023-01-30T11:17:53.512Z"
   },
   {
    "duration": 42,
    "start_time": "2023-01-30T11:17:53.539Z"
   },
   {
    "duration": 19,
    "start_time": "2023-01-30T11:17:53.583Z"
   },
   {
    "duration": 29,
    "start_time": "2023-01-30T11:17:53.603Z"
   },
   {
    "duration": 32,
    "start_time": "2023-01-30T11:17:53.633Z"
   },
   {
    "duration": 29,
    "start_time": "2023-01-30T11:23:26.615Z"
   },
   {
    "duration": 8,
    "start_time": "2023-01-30T11:27:22.198Z"
   },
   {
    "duration": 9,
    "start_time": "2023-01-30T11:27:53.681Z"
   },
   {
    "duration": 8,
    "start_time": "2023-01-30T11:28:03.199Z"
   },
   {
    "duration": 8,
    "start_time": "2023-01-30T11:28:12.049Z"
   },
   {
    "duration": 352,
    "start_time": "2023-01-30T11:28:36.479Z"
   },
   {
    "duration": 175,
    "start_time": "2023-01-30T11:28:36.833Z"
   },
   {
    "duration": 8,
    "start_time": "2023-01-30T11:28:37.009Z"
   },
   {
    "duration": 36,
    "start_time": "2023-01-30T11:28:37.018Z"
   },
   {
    "duration": 3,
    "start_time": "2023-01-30T11:28:37.056Z"
   },
   {
    "duration": 6,
    "start_time": "2023-01-30T11:28:37.060Z"
   },
   {
    "duration": 28,
    "start_time": "2023-01-30T11:28:37.067Z"
   },
   {
    "duration": 8,
    "start_time": "2023-01-30T11:28:37.097Z"
   },
   {
    "duration": 24,
    "start_time": "2023-01-30T11:28:37.106Z"
   },
   {
    "duration": 39,
    "start_time": "2023-01-30T11:28:37.131Z"
   },
   {
    "duration": 19,
    "start_time": "2023-01-30T11:28:37.172Z"
   },
   {
    "duration": 65,
    "start_time": "2023-01-30T11:28:37.193Z"
   },
   {
    "duration": 59,
    "start_time": "2023-01-30T11:28:37.260Z"
   },
   {
    "duration": 64,
    "start_time": "2023-01-30T11:28:37.322Z"
   },
   {
    "duration": 50,
    "start_time": "2023-01-30T11:28:37.387Z"
   },
   {
    "duration": 12,
    "start_time": "2023-01-30T11:28:37.439Z"
   },
   {
    "duration": 40,
    "start_time": "2023-01-30T11:28:37.454Z"
   },
   {
    "duration": 11,
    "start_time": "2023-01-30T11:28:37.496Z"
   },
   {
    "duration": 17,
    "start_time": "2023-01-30T11:28:37.508Z"
   },
   {
    "duration": 28,
    "start_time": "2023-01-30T11:28:37.527Z"
   },
   {
    "duration": 24,
    "start_time": "2023-01-30T11:28:37.557Z"
   },
   {
    "duration": 23,
    "start_time": "2023-01-30T11:28:37.583Z"
   },
   {
    "duration": 22,
    "start_time": "2023-01-30T11:28:37.607Z"
   },
   {
    "duration": 15,
    "start_time": "2023-01-30T11:28:37.631Z"
   },
   {
    "duration": 24,
    "start_time": "2023-01-30T11:28:37.648Z"
   },
   {
    "duration": 14,
    "start_time": "2023-01-30T11:28:37.674Z"
   },
   {
    "duration": 70,
    "start_time": "2023-01-30T11:28:37.689Z"
   },
   {
    "duration": 0,
    "start_time": "2023-01-30T11:28:37.761Z"
   },
   {
    "duration": 0,
    "start_time": "2023-01-30T11:28:37.762Z"
   },
   {
    "duration": 0,
    "start_time": "2023-01-30T11:28:37.763Z"
   },
   {
    "duration": 0,
    "start_time": "2023-01-30T11:28:37.764Z"
   },
   {
    "duration": 0,
    "start_time": "2023-01-30T11:28:37.766Z"
   },
   {
    "duration": 0,
    "start_time": "2023-01-30T11:28:37.766Z"
   },
   {
    "duration": 0,
    "start_time": "2023-01-30T11:28:37.768Z"
   },
   {
    "duration": 1,
    "start_time": "2023-01-30T11:28:37.769Z"
   },
   {
    "duration": 0,
    "start_time": "2023-01-30T11:28:37.772Z"
   },
   {
    "duration": 0,
    "start_time": "2023-01-30T11:28:37.773Z"
   },
   {
    "duration": 0,
    "start_time": "2023-01-30T11:28:37.775Z"
   },
   {
    "duration": 2,
    "start_time": "2023-01-30T11:28:44.899Z"
   },
   {
    "duration": 184,
    "start_time": "2023-01-30T11:28:44.903Z"
   },
   {
    "duration": 8,
    "start_time": "2023-01-30T11:28:45.088Z"
   },
   {
    "duration": 41,
    "start_time": "2023-01-30T11:28:45.097Z"
   },
   {
    "duration": 14,
    "start_time": "2023-01-30T11:28:45.140Z"
   },
   {
    "duration": 17,
    "start_time": "2023-01-30T11:28:45.155Z"
   },
   {
    "duration": 15,
    "start_time": "2023-01-30T11:28:45.174Z"
   },
   {
    "duration": 3,
    "start_time": "2023-01-30T11:28:45.191Z"
   },
   {
    "duration": 33,
    "start_time": "2023-01-30T11:28:45.195Z"
   },
   {
    "duration": 40,
    "start_time": "2023-01-30T11:28:45.229Z"
   },
   {
    "duration": 22,
    "start_time": "2023-01-30T11:28:45.270Z"
   },
   {
    "duration": 70,
    "start_time": "2023-01-30T11:28:45.293Z"
   },
   {
    "duration": 56,
    "start_time": "2023-01-30T11:28:45.364Z"
   },
   {
    "duration": 58,
    "start_time": "2023-01-30T11:28:45.422Z"
   },
   {
    "duration": 33,
    "start_time": "2023-01-30T11:28:45.481Z"
   },
   {
    "duration": 23,
    "start_time": "2023-01-30T11:28:45.516Z"
   },
   {
    "duration": 35,
    "start_time": "2023-01-30T11:28:45.541Z"
   },
   {
    "duration": 13,
    "start_time": "2023-01-30T11:28:45.577Z"
   },
   {
    "duration": 22,
    "start_time": "2023-01-30T11:28:45.592Z"
   },
   {
    "duration": 12,
    "start_time": "2023-01-30T11:28:45.616Z"
   },
   {
    "duration": 47,
    "start_time": "2023-01-30T11:28:45.629Z"
   },
   {
    "duration": 21,
    "start_time": "2023-01-30T11:28:45.678Z"
   },
   {
    "duration": 29,
    "start_time": "2023-01-30T11:28:45.701Z"
   },
   {
    "duration": 35,
    "start_time": "2023-01-30T11:28:45.731Z"
   },
   {
    "duration": 16,
    "start_time": "2023-01-30T11:28:45.768Z"
   },
   {
    "duration": 15,
    "start_time": "2023-01-30T11:28:45.786Z"
   },
   {
    "duration": 8,
    "start_time": "2023-01-30T11:29:03.958Z"
   },
   {
    "duration": 2,
    "start_time": "2023-01-30T11:29:24.430Z"
   },
   {
    "duration": 161,
    "start_time": "2023-01-30T11:29:24.438Z"
   },
   {
    "duration": 6,
    "start_time": "2023-01-30T11:29:24.601Z"
   },
   {
    "duration": 35,
    "start_time": "2023-01-30T11:29:24.608Z"
   },
   {
    "duration": 7,
    "start_time": "2023-01-30T11:29:24.645Z"
   },
   {
    "duration": 12,
    "start_time": "2023-01-30T11:29:24.654Z"
   },
   {
    "duration": 27,
    "start_time": "2023-01-30T11:29:24.667Z"
   },
   {
    "duration": 4,
    "start_time": "2023-01-30T11:29:24.695Z"
   },
   {
    "duration": 36,
    "start_time": "2023-01-30T11:29:24.700Z"
   },
   {
    "duration": 40,
    "start_time": "2023-01-30T11:29:24.737Z"
   },
   {
    "duration": 25,
    "start_time": "2023-01-30T11:29:24.778Z"
   },
   {
    "duration": 63,
    "start_time": "2023-01-30T11:29:24.805Z"
   },
   {
    "duration": 57,
    "start_time": "2023-01-30T11:29:24.870Z"
   },
   {
    "duration": 65,
    "start_time": "2023-01-30T11:29:24.928Z"
   },
   {
    "duration": 33,
    "start_time": "2023-01-30T11:29:24.995Z"
   },
   {
    "duration": 13,
    "start_time": "2023-01-30T11:29:25.036Z"
   },
   {
    "duration": 49,
    "start_time": "2023-01-30T11:29:25.052Z"
   },
   {
    "duration": 9,
    "start_time": "2023-01-30T11:29:25.103Z"
   },
   {
    "duration": 16,
    "start_time": "2023-01-30T11:29:25.113Z"
   },
   {
    "duration": 6,
    "start_time": "2023-01-30T11:29:25.130Z"
   },
   {
    "duration": 35,
    "start_time": "2023-01-30T11:29:25.137Z"
   },
   {
    "duration": 13,
    "start_time": "2023-01-30T11:29:25.173Z"
   },
   {
    "duration": 18,
    "start_time": "2023-01-30T11:29:25.187Z"
   },
   {
    "duration": 12,
    "start_time": "2023-01-30T11:29:25.206Z"
   },
   {
    "duration": 15,
    "start_time": "2023-01-30T11:29:25.219Z"
   },
   {
    "duration": 2,
    "start_time": "2023-01-30T11:29:31.551Z"
   },
   {
    "duration": 167,
    "start_time": "2023-01-30T11:29:31.555Z"
   },
   {
    "duration": 6,
    "start_time": "2023-01-30T11:29:31.724Z"
   },
   {
    "duration": 37,
    "start_time": "2023-01-30T11:29:31.737Z"
   },
   {
    "duration": 24,
    "start_time": "2023-01-30T11:29:31.777Z"
   },
   {
    "duration": 10,
    "start_time": "2023-01-30T11:29:31.803Z"
   },
   {
    "duration": 23,
    "start_time": "2023-01-30T11:29:31.814Z"
   },
   {
    "duration": 44,
    "start_time": "2023-01-30T11:29:31.838Z"
   },
   {
    "duration": 34,
    "start_time": "2023-01-30T11:29:31.883Z"
   },
   {
    "duration": 59,
    "start_time": "2023-01-30T11:29:31.918Z"
   },
   {
    "duration": 67,
    "start_time": "2023-01-30T11:29:31.978Z"
   },
   {
    "duration": 84,
    "start_time": "2023-01-30T11:29:32.049Z"
   },
   {
    "duration": 71,
    "start_time": "2023-01-30T11:29:32.135Z"
   },
   {
    "duration": 65,
    "start_time": "2023-01-30T11:29:32.209Z"
   },
   {
    "duration": 35,
    "start_time": "2023-01-30T11:29:32.276Z"
   },
   {
    "duration": 26,
    "start_time": "2023-01-30T11:29:32.312Z"
   },
   {
    "duration": 55,
    "start_time": "2023-01-30T11:29:32.340Z"
   },
   {
    "duration": 11,
    "start_time": "2023-01-30T11:29:32.396Z"
   },
   {
    "duration": 27,
    "start_time": "2023-01-30T11:29:32.409Z"
   },
   {
    "duration": 17,
    "start_time": "2023-01-30T11:29:32.446Z"
   },
   {
    "duration": 40,
    "start_time": "2023-01-30T11:29:32.464Z"
   },
   {
    "duration": 21,
    "start_time": "2023-01-30T11:29:32.506Z"
   },
   {
    "duration": 48,
    "start_time": "2023-01-30T11:29:32.529Z"
   },
   {
    "duration": 41,
    "start_time": "2023-01-30T11:29:32.578Z"
   },
   {
    "duration": 51,
    "start_time": "2023-01-30T11:29:32.621Z"
   },
   {
    "duration": 24,
    "start_time": "2023-01-30T11:29:32.674Z"
   },
   {
    "duration": 3,
    "start_time": "2023-01-30T11:31:19.310Z"
   },
   {
    "duration": 7,
    "start_time": "2023-01-30T11:31:24.829Z"
   },
   {
    "duration": 2,
    "start_time": "2023-01-30T11:32:58.659Z"
   },
   {
    "duration": 178,
    "start_time": "2023-01-30T11:32:58.663Z"
   },
   {
    "duration": 7,
    "start_time": "2023-01-30T11:32:58.843Z"
   },
   {
    "duration": 43,
    "start_time": "2023-01-30T11:32:58.852Z"
   },
   {
    "duration": 7,
    "start_time": "2023-01-30T11:32:58.898Z"
   },
   {
    "duration": 21,
    "start_time": "2023-01-30T11:32:58.906Z"
   },
   {
    "duration": 34,
    "start_time": "2023-01-30T11:32:58.928Z"
   },
   {
    "duration": 26,
    "start_time": "2023-01-30T11:32:58.964Z"
   },
   {
    "duration": 36,
    "start_time": "2023-01-30T11:32:58.991Z"
   },
   {
    "duration": 34,
    "start_time": "2023-01-30T11:32:59.029Z"
   },
   {
    "duration": 32,
    "start_time": "2023-01-30T11:32:59.066Z"
   },
   {
    "duration": 76,
    "start_time": "2023-01-30T11:32:59.100Z"
   },
   {
    "duration": 63,
    "start_time": "2023-01-30T11:32:59.178Z"
   },
   {
    "duration": 57,
    "start_time": "2023-01-30T11:32:59.242Z"
   },
   {
    "duration": 52,
    "start_time": "2023-01-30T11:32:59.301Z"
   },
   {
    "duration": 24,
    "start_time": "2023-01-30T11:32:59.355Z"
   },
   {
    "duration": 37,
    "start_time": "2023-01-30T11:32:59.381Z"
   },
   {
    "duration": 9,
    "start_time": "2023-01-30T11:32:59.420Z"
   },
   {
    "duration": 26,
    "start_time": "2023-01-30T11:32:59.431Z"
   },
   {
    "duration": 19,
    "start_time": "2023-01-30T11:32:59.458Z"
   },
   {
    "duration": 32,
    "start_time": "2023-01-30T11:32:59.478Z"
   },
   {
    "duration": 37,
    "start_time": "2023-01-30T11:32:59.511Z"
   },
   {
    "duration": 27,
    "start_time": "2023-01-30T11:32:59.549Z"
   },
   {
    "duration": 12,
    "start_time": "2023-01-30T11:32:59.577Z"
   },
   {
    "duration": 16,
    "start_time": "2023-01-30T11:32:59.590Z"
   },
   {
    "duration": 12,
    "start_time": "2023-01-30T11:32:59.607Z"
   },
   {
    "duration": 15,
    "start_time": "2023-01-30T11:36:18.961Z"
   },
   {
    "duration": 5,
    "start_time": "2023-01-30T11:37:08.986Z"
   },
   {
    "duration": 9,
    "start_time": "2023-01-30T11:43:31.466Z"
   },
   {
    "duration": 1108,
    "start_time": "2023-01-30T11:47:32.838Z"
   },
   {
    "duration": 1087,
    "start_time": "2023-01-30T11:47:33.958Z"
   },
   {
    "duration": 10,
    "start_time": "2023-01-30T11:48:40.158Z"
   },
   {
    "duration": 8,
    "start_time": "2023-01-30T11:48:55.486Z"
   },
   {
    "duration": 20,
    "start_time": "2023-01-30T11:49:14.123Z"
   },
   {
    "duration": 10,
    "start_time": "2023-01-30T11:49:37.431Z"
   },
   {
    "duration": 15,
    "start_time": "2023-01-30T11:54:19.670Z"
   },
   {
    "duration": 10,
    "start_time": "2023-01-30T11:54:39.203Z"
   },
   {
    "duration": 4,
    "start_time": "2023-01-30T12:02:50.777Z"
   },
   {
    "duration": 6,
    "start_time": "2023-01-30T12:02:53.872Z"
   },
   {
    "duration": 4,
    "start_time": "2023-01-30T12:03:18.192Z"
   },
   {
    "duration": 10,
    "start_time": "2023-01-31T18:24:13.804Z"
   },
   {
    "duration": 5,
    "start_time": "2023-01-31T18:27:41.420Z"
   },
   {
    "duration": 5,
    "start_time": "2023-01-31T18:30:23.555Z"
   },
   {
    "duration": 5,
    "start_time": "2023-01-31T18:30:42.631Z"
   },
   {
    "duration": 5,
    "start_time": "2023-01-31T18:33:21.720Z"
   },
   {
    "duration": 4,
    "start_time": "2023-01-31T18:35:10.007Z"
   },
   {
    "duration": 4,
    "start_time": "2023-01-31T18:37:07.758Z"
   },
   {
    "duration": 46,
    "start_time": "2023-01-31T18:40:38.545Z"
   },
   {
    "duration": 7,
    "start_time": "2023-01-31T18:40:59.353Z"
   },
   {
    "duration": 384,
    "start_time": "2023-01-31T18:41:22.813Z"
   },
   {
    "duration": 445,
    "start_time": "2023-01-31T18:41:23.199Z"
   },
   {
    "duration": 8,
    "start_time": "2023-01-31T18:41:23.646Z"
   },
   {
    "duration": 29,
    "start_time": "2023-01-31T18:41:23.655Z"
   },
   {
    "duration": 6,
    "start_time": "2023-01-31T18:41:23.686Z"
   },
   {
    "duration": 7,
    "start_time": "2023-01-31T18:41:23.693Z"
   },
   {
    "duration": 15,
    "start_time": "2023-01-31T18:41:23.702Z"
   },
   {
    "duration": 5,
    "start_time": "2023-01-31T18:41:23.719Z"
   },
   {
    "duration": 25,
    "start_time": "2023-01-31T18:41:23.726Z"
   },
   {
    "duration": 39,
    "start_time": "2023-01-31T18:41:23.753Z"
   },
   {
    "duration": 22,
    "start_time": "2023-01-31T18:41:23.794Z"
   },
   {
    "duration": 60,
    "start_time": "2023-01-31T18:41:23.817Z"
   },
   {
    "duration": 78,
    "start_time": "2023-01-31T18:41:23.879Z"
   },
   {
    "duration": 71,
    "start_time": "2023-01-31T18:41:23.960Z"
   },
   {
    "duration": 39,
    "start_time": "2023-01-31T18:41:24.032Z"
   },
   {
    "duration": 21,
    "start_time": "2023-01-31T18:41:24.072Z"
   },
   {
    "duration": 35,
    "start_time": "2023-01-31T18:41:24.095Z"
   },
   {
    "duration": 12,
    "start_time": "2023-01-31T18:41:24.132Z"
   },
   {
    "duration": 11,
    "start_time": "2023-01-31T18:41:24.145Z"
   },
   {
    "duration": 3,
    "start_time": "2023-01-31T18:41:24.159Z"
   },
   {
    "duration": 38,
    "start_time": "2023-01-31T18:41:24.164Z"
   },
   {
    "duration": 13,
    "start_time": "2023-01-31T18:41:24.204Z"
   },
   {
    "duration": 13,
    "start_time": "2023-01-31T18:41:24.219Z"
   },
   {
    "duration": 11,
    "start_time": "2023-01-31T18:41:24.234Z"
   },
   {
    "duration": 17,
    "start_time": "2023-01-31T18:41:24.247Z"
   },
   {
    "duration": 13,
    "start_time": "2023-01-31T18:41:24.293Z"
   },
   {
    "duration": 11,
    "start_time": "2023-01-31T18:41:24.307Z"
   },
   {
    "duration": 14,
    "start_time": "2023-01-31T18:41:24.320Z"
   },
   {
    "duration": 10,
    "start_time": "2023-01-31T18:41:24.336Z"
   },
   {
    "duration": 5,
    "start_time": "2023-01-31T18:41:24.348Z"
   },
   {
    "duration": 42,
    "start_time": "2023-01-31T18:41:24.355Z"
   },
   {
    "duration": 12,
    "start_time": "2023-01-31T18:41:24.399Z"
   },
   {
    "duration": 19,
    "start_time": "2023-01-31T18:41:24.413Z"
   },
   {
    "duration": 3,
    "start_time": "2023-01-31T18:41:32.581Z"
   },
   {
    "duration": 205,
    "start_time": "2023-01-31T18:41:32.587Z"
   },
   {
    "duration": 6,
    "start_time": "2023-01-31T18:41:32.794Z"
   },
   {
    "duration": 28,
    "start_time": "2023-01-31T18:41:32.802Z"
   },
   {
    "duration": 4,
    "start_time": "2023-01-31T18:41:32.832Z"
   },
   {
    "duration": 5,
    "start_time": "2023-01-31T18:41:32.838Z"
   },
   {
    "duration": 31,
    "start_time": "2023-01-31T18:41:32.844Z"
   },
   {
    "duration": 4,
    "start_time": "2023-01-31T18:41:32.876Z"
   },
   {
    "duration": 26,
    "start_time": "2023-01-31T18:41:32.881Z"
   },
   {
    "duration": 16,
    "start_time": "2023-01-31T18:41:32.908Z"
   },
   {
    "duration": 20,
    "start_time": "2023-01-31T18:41:32.927Z"
   },
   {
    "duration": 85,
    "start_time": "2023-01-31T18:41:32.948Z"
   },
   {
    "duration": 70,
    "start_time": "2023-01-31T18:41:33.035Z"
   },
   {
    "duration": 53,
    "start_time": "2023-01-31T18:41:33.106Z"
   },
   {
    "duration": 48,
    "start_time": "2023-01-31T18:41:33.161Z"
   },
   {
    "duration": 11,
    "start_time": "2023-01-31T18:41:33.211Z"
   },
   {
    "duration": 35,
    "start_time": "2023-01-31T18:41:33.224Z"
   },
   {
    "duration": 35,
    "start_time": "2023-01-31T18:41:33.261Z"
   },
   {
    "duration": 11,
    "start_time": "2023-01-31T18:41:33.298Z"
   },
   {
    "duration": 4,
    "start_time": "2023-01-31T18:41:33.311Z"
   },
   {
    "duration": 19,
    "start_time": "2023-01-31T18:41:33.317Z"
   },
   {
    "duration": 14,
    "start_time": "2023-01-31T18:41:33.338Z"
   },
   {
    "duration": 47,
    "start_time": "2023-01-31T18:41:33.353Z"
   },
   {
    "duration": 13,
    "start_time": "2023-01-31T18:41:33.402Z"
   },
   {
    "duration": 14,
    "start_time": "2023-01-31T18:41:33.417Z"
   },
   {
    "duration": 12,
    "start_time": "2023-01-31T18:41:33.433Z"
   },
   {
    "duration": 8,
    "start_time": "2023-01-31T18:41:33.447Z"
   },
   {
    "duration": 42,
    "start_time": "2023-01-31T18:41:33.457Z"
   },
   {
    "duration": 13,
    "start_time": "2023-01-31T18:41:33.502Z"
   },
   {
    "duration": 5,
    "start_time": "2023-01-31T18:41:33.517Z"
   },
   {
    "duration": 25,
    "start_time": "2023-01-31T18:41:33.523Z"
   },
   {
    "duration": 10,
    "start_time": "2023-01-31T18:41:33.549Z"
   },
   {
    "duration": 12,
    "start_time": "2023-01-31T18:42:18.053Z"
   },
   {
    "duration": 30,
    "start_time": "2023-01-31T18:50:09.793Z"
   },
   {
    "duration": 11,
    "start_time": "2023-01-31T18:51:15.605Z"
   },
   {
    "duration": 9,
    "start_time": "2023-01-31T18:51:44.153Z"
   },
   {
    "duration": 4,
    "start_time": "2023-01-31T18:52:32.825Z"
   },
   {
    "duration": 7,
    "start_time": "2023-01-31T18:53:34.240Z"
   },
   {
    "duration": 7,
    "start_time": "2023-01-31T18:53:55.244Z"
   },
   {
    "duration": 6,
    "start_time": "2023-01-31T18:54:32.352Z"
   },
   {
    "duration": 5,
    "start_time": "2023-01-31T18:54:39.516Z"
   },
   {
    "duration": 414,
    "start_time": "2023-05-23T18:56:08.544Z"
   },
   {
    "duration": 463,
    "start_time": "2023-05-23T18:56:08.960Z"
   },
   {
    "duration": 8,
    "start_time": "2023-05-23T18:56:09.425Z"
   },
   {
    "duration": 47,
    "start_time": "2023-05-23T18:56:09.435Z"
   },
   {
    "duration": 8,
    "start_time": "2023-05-23T18:56:09.483Z"
   },
   {
    "duration": 8,
    "start_time": "2023-05-23T18:56:09.493Z"
   },
   {
    "duration": 20,
    "start_time": "2023-05-23T18:56:09.503Z"
   },
   {
    "duration": 24,
    "start_time": "2023-05-23T18:56:09.525Z"
   },
   {
    "duration": 40,
    "start_time": "2023-05-23T18:56:09.551Z"
   },
   {
    "duration": 37,
    "start_time": "2023-05-23T18:56:09.596Z"
   },
   {
    "duration": 29,
    "start_time": "2023-05-23T18:56:09.635Z"
   },
   {
    "duration": 75,
    "start_time": "2023-05-23T18:56:09.665Z"
   },
   {
    "duration": 69,
    "start_time": "2023-05-23T18:56:09.742Z"
   },
   {
    "duration": 68,
    "start_time": "2023-05-23T18:56:09.812Z"
   },
   {
    "duration": 41,
    "start_time": "2023-05-23T18:56:09.882Z"
   },
   {
    "duration": 11,
    "start_time": "2023-05-23T18:56:09.924Z"
   },
   {
    "duration": 56,
    "start_time": "2023-05-23T18:56:09.937Z"
   },
   {
    "duration": 11,
    "start_time": "2023-05-23T18:56:09.995Z"
   },
   {
    "duration": 12,
    "start_time": "2023-05-23T18:56:10.008Z"
   },
   {
    "duration": 35,
    "start_time": "2023-05-23T18:56:10.022Z"
   },
   {
    "duration": 26,
    "start_time": "2023-05-23T18:56:10.059Z"
   },
   {
    "duration": 14,
    "start_time": "2023-05-23T18:56:10.086Z"
   },
   {
    "duration": 34,
    "start_time": "2023-05-23T18:56:10.102Z"
   },
   {
    "duration": 13,
    "start_time": "2023-05-23T18:56:10.138Z"
   },
   {
    "duration": 21,
    "start_time": "2023-05-23T18:56:10.158Z"
   },
   {
    "duration": 19,
    "start_time": "2023-05-23T18:56:10.181Z"
   },
   {
    "duration": 12,
    "start_time": "2023-05-23T18:56:10.202Z"
   },
   {
    "duration": 24,
    "start_time": "2023-05-23T18:56:10.217Z"
   },
   {
    "duration": 26,
    "start_time": "2023-05-23T18:56:10.243Z"
   },
   {
    "duration": 13,
    "start_time": "2023-05-23T18:56:10.271Z"
   },
   {
    "duration": 23,
    "start_time": "2023-05-23T18:56:10.286Z"
   },
   {
    "duration": 13,
    "start_time": "2023-05-23T18:56:10.311Z"
   },
   {
    "duration": 32,
    "start_time": "2023-05-23T18:56:10.326Z"
   },
   {
    "duration": 15,
    "start_time": "2023-05-23T18:56:10.360Z"
   },
   {
    "duration": 12,
    "start_time": "2023-05-23T18:56:10.377Z"
   },
   {
    "duration": 10,
    "start_time": "2023-05-23T18:56:10.390Z"
   },
   {
    "duration": 9,
    "start_time": "2023-05-23T18:56:10.401Z"
   },
   {
    "duration": 11,
    "start_time": "2023-05-23T18:56:10.412Z"
   }
  ],
  "colab": {
   "collapsed_sections": [
    "E0vqbgi9ay0H",
    "VUC88oWjTJw2"
   ],
   "provenance": []
  },
  "kernelspec": {
   "display_name": "Python 3 (ipykernel)",
   "language": "python",
   "name": "python3"
  },
  "language_info": {
   "codemirror_mode": {
    "name": "ipython",
    "version": 3
   },
   "file_extension": ".py",
   "mimetype": "text/x-python",
   "name": "python",
   "nbconvert_exporter": "python",
   "pygments_lexer": "ipython3",
   "version": "3.9.5"
  },
  "toc": {
   "base_numbering": 1,
   "nav_menu": {
    "height": "215px",
    "width": "403px"
   },
   "number_sections": true,
   "sideBar": true,
   "skip_h1_title": true,
   "title_cell": "Table of Contents",
   "title_sidebar": "Contents",
   "toc_cell": false,
   "toc_position": {
    "height": "calc(100% - 180px)",
    "left": "10px",
    "top": "150px",
    "width": "285.825px"
   },
   "toc_section_display": true,
   "toc_window_display": false
  }
 },
 "nbformat": 4,
 "nbformat_minor": 1
}
