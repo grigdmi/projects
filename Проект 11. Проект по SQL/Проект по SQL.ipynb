{
 "cells": [
  {
   "cell_type": "markdown",
   "metadata": {},
   "source": [
    "# Проект по SQL"
   ]
  },
  {
   "cell_type": "markdown",
   "metadata": {},
   "source": [
    "Коронавирус застал мир врасплох, изменив привычный порядок вещей. В свободное время жители городов больше не выходят на улицу, не посещают кафе и торговые центры. Зато стало больше времени для книг. Это заметили стартаперы — и бросились создавать приложения для тех, кто любит читать.\n",
    "Ваша компания решила быть на волне и купила крупный сервис для чтения книг по подписке. Ваша первая задача как аналитика — проанализировать базу данных.\n",
    "В ней — информация о книгах, издательствах, авторах, а также пользовательские обзоры книг. Эти данные помогут сформулировать ценностное предложение для нового продукта."
   ]
  },
  {
   "cell_type": "markdown",
   "metadata": {},
   "source": [
    "# Описание данных"
   ]
  },
  {
   "cell_type": "markdown",
   "metadata": {},
   "source": [
    "Таблица books\n",
    "- Содержит данные о книгах:\n",
    "    - book_id — идентификатор книги;\n",
    "    - author_id — идентификатор автора;\n",
    "    - title — название книги;\n",
    "    - num_pages — количество страниц;\n",
    "    - publication_date — дата публикации книги;\n",
    "    - publisher_id — идентификатор издателя.\n",
    "\n",
    "Таблица authors\n",
    "- Содержит данные об авторах:\n",
    "    - author_id — идентификатор автора;\n",
    "    - author — имя автора.\n",
    "    - Таблица publishers\n",
    "- Содержит данные об издательствах:\n",
    "    - publisher_id — идентификатор издательства;\n",
    "    - publisher — название издательства;\n",
    "\n",
    "Таблица ratings\n",
    "- Содержит данные о пользовательских оценках книг:\n",
    "    - rating_id — идентификатор оценки;\n",
    "    - book_id — идентификатор книги;\n",
    "    - username — имя пользователя, оставившего оценку;\n",
    "    - rating — оценка книги.\n",
    "\n",
    "Таблица reviews\n",
    "- Содержит данные о пользовательских обзорах:\n",
    "    - review_id — идентификатор обзора;\n",
    "    - book_id — идентификатор книги;\n",
    "    - username — имя автора обзора;\n",
    "    - text — текст обзора."
   ]
  },
  {
   "cell_type": "markdown",
   "metadata": {},
   "source": [
    "# Задачи исследования"
   ]
  },
  {
   "cell_type": "markdown",
   "metadata": {},
   "source": [
    "- Посчитать, сколько книг вышло после 1 января 2000 года;\n",
    "- Для каждой книги посчитать количество обзоров и среднюю оценку;\n",
    "- Определить издательство, которое выпустило наибольшее число книг толще 50 страниц — чтобы исключить из анализа брошюры;\n",
    "- Определить автора с самой высокой средней оценкой книг — учитывать только книги с 50 и более оценками;\n",
    "- Посчитать среднее количество обзоров от пользователей, которые поставили больше 48 оценок."
   ]
  },
  {
   "cell_type": "code",
   "execution_count": 1,
   "metadata": {},
   "outputs": [],
   "source": [
    "# импортируем библиотеки\n",
    "import pandas as pd\n",
    "from sqlalchemy import text, create_engine\n",
    "\n",
    "# устанавливаем параметры\n",
    "db_config = {'user': 'praktikum_student', # имя пользователя\n",
    "'pwd': 'Sdf4$2;d-d30pp', # пароль\n",
    "'host': 'rc1b-wcoijxj3yxfsf3fs.mdb.yandexcloud.net',\n",
    "'port': 6432, # порт подключения\n",
    "'db': 'data-analyst-final-project-db'} # название базы данных\n",
    "connection_string = 'postgresql://{user}:{pwd}@{host}:{port}/{db}'.format(**db_config)\n",
    "\n",
    "# сохраняем коннектор\n",
    "engine = create_engine(connection_string, connect_args={'sslmode':'require'})"
   ]
  },
  {
   "cell_type": "markdown",
   "metadata": {},
   "source": [
    "# Ход исследования"
   ]
  },
  {
   "cell_type": "markdown",
   "metadata": {},
   "source": [
    "## Выгружаем таблицы"
   ]
  },
  {
   "cell_type": "markdown",
   "metadata": {},
   "source": [
    "### Таблица books"
   ]
  },
  {
   "cell_type": "code",
   "execution_count": 2,
   "metadata": {},
   "outputs": [
    {
     "data": {
      "text/html": [
       "<div>\n",
       "<style scoped>\n",
       "    .dataframe tbody tr th:only-of-type {\n",
       "        vertical-align: middle;\n",
       "    }\n",
       "\n",
       "    .dataframe tbody tr th {\n",
       "        vertical-align: top;\n",
       "    }\n",
       "\n",
       "    .dataframe thead th {\n",
       "        text-align: right;\n",
       "    }\n",
       "</style>\n",
       "<table border=\"1\" class=\"dataframe\">\n",
       "  <thead>\n",
       "    <tr style=\"text-align: right;\">\n",
       "      <th></th>\n",
       "      <th>book_id</th>\n",
       "      <th>author_id</th>\n",
       "      <th>title</th>\n",
       "      <th>num_pages</th>\n",
       "      <th>publication_date</th>\n",
       "      <th>publisher_id</th>\n",
       "    </tr>\n",
       "  </thead>\n",
       "  <tbody>\n",
       "    <tr>\n",
       "      <th>0</th>\n",
       "      <td>1</td>\n",
       "      <td>546</td>\n",
       "      <td>'Salem's Lot</td>\n",
       "      <td>594</td>\n",
       "      <td>2005-11-01</td>\n",
       "      <td>93</td>\n",
       "    </tr>\n",
       "    <tr>\n",
       "      <th>1</th>\n",
       "      <td>2</td>\n",
       "      <td>465</td>\n",
       "      <td>1 000 Places to See Before You Die</td>\n",
       "      <td>992</td>\n",
       "      <td>2003-05-22</td>\n",
       "      <td>336</td>\n",
       "    </tr>\n",
       "    <tr>\n",
       "      <th>2</th>\n",
       "      <td>3</td>\n",
       "      <td>407</td>\n",
       "      <td>13 Little Blue Envelopes (Little Blue Envelope...</td>\n",
       "      <td>322</td>\n",
       "      <td>2010-12-21</td>\n",
       "      <td>135</td>\n",
       "    </tr>\n",
       "    <tr>\n",
       "      <th>3</th>\n",
       "      <td>4</td>\n",
       "      <td>82</td>\n",
       "      <td>1491: New Revelations of the Americas Before C...</td>\n",
       "      <td>541</td>\n",
       "      <td>2006-10-10</td>\n",
       "      <td>309</td>\n",
       "    </tr>\n",
       "    <tr>\n",
       "      <th>4</th>\n",
       "      <td>5</td>\n",
       "      <td>125</td>\n",
       "      <td>1776</td>\n",
       "      <td>386</td>\n",
       "      <td>2006-07-04</td>\n",
       "      <td>268</td>\n",
       "    </tr>\n",
       "  </tbody>\n",
       "</table>\n",
       "</div>"
      ],
      "text/plain": [
       "   book_id  author_id                                              title  \\\n",
       "0        1        546                                       'Salem's Lot   \n",
       "1        2        465                 1 000 Places to See Before You Die   \n",
       "2        3        407  13 Little Blue Envelopes (Little Blue Envelope...   \n",
       "3        4         82  1491: New Revelations of the Americas Before C...   \n",
       "4        5        125                                               1776   \n",
       "\n",
       "   num_pages publication_date  publisher_id  \n",
       "0        594       2005-11-01            93  \n",
       "1        992       2003-05-22           336  \n",
       "2        322       2010-12-21           135  \n",
       "3        541       2006-10-10           309  \n",
       "4        386       2006-07-04           268  "
      ]
     },
     "metadata": {},
     "output_type": "display_data"
    },
    {
     "name": "stdout",
     "output_type": "stream",
     "text": [
      "<class 'pandas.core.frame.DataFrame'>\n",
      "RangeIndex: 1000 entries, 0 to 999\n",
      "Data columns (total 6 columns):\n",
      " #   Column            Non-Null Count  Dtype \n",
      "---  ------            --------------  ----- \n",
      " 0   book_id           1000 non-null   int64 \n",
      " 1   author_id         1000 non-null   int64 \n",
      " 2   title             1000 non-null   object\n",
      " 3   num_pages         1000 non-null   int64 \n",
      " 4   publication_date  1000 non-null   object\n",
      " 5   publisher_id      1000 non-null   int64 \n",
      "dtypes: int64(4), object(2)\n",
      "memory usage: 47.0+ KB\n",
      "Количество дубликатов - 0\n"
     ]
    }
   ],
   "source": [
    "query = '''\n",
    "            SELECT * \n",
    "            FROM books\n",
    "        '''\n",
    "books = pd.io.sql.read_sql(query, con = engine)\n",
    "\n",
    "display(books.head())\n",
    "books.info()\n",
    "print('Количество дубликатов -', books.duplicated().sum())"
   ]
  },
  {
   "cell_type": "markdown",
   "metadata": {},
   "source": [
    "### Таблица authors"
   ]
  },
  {
   "cell_type": "code",
   "execution_count": 3,
   "metadata": {},
   "outputs": [
    {
     "data": {
      "text/html": [
       "<div>\n",
       "<style scoped>\n",
       "    .dataframe tbody tr th:only-of-type {\n",
       "        vertical-align: middle;\n",
       "    }\n",
       "\n",
       "    .dataframe tbody tr th {\n",
       "        vertical-align: top;\n",
       "    }\n",
       "\n",
       "    .dataframe thead th {\n",
       "        text-align: right;\n",
       "    }\n",
       "</style>\n",
       "<table border=\"1\" class=\"dataframe\">\n",
       "  <thead>\n",
       "    <tr style=\"text-align: right;\">\n",
       "      <th></th>\n",
       "      <th>author_id</th>\n",
       "      <th>author</th>\n",
       "    </tr>\n",
       "  </thead>\n",
       "  <tbody>\n",
       "    <tr>\n",
       "      <th>0</th>\n",
       "      <td>1</td>\n",
       "      <td>A.S. Byatt</td>\n",
       "    </tr>\n",
       "    <tr>\n",
       "      <th>1</th>\n",
       "      <td>2</td>\n",
       "      <td>Aesop/Laura Harris/Laura Gibbs</td>\n",
       "    </tr>\n",
       "    <tr>\n",
       "      <th>2</th>\n",
       "      <td>3</td>\n",
       "      <td>Agatha Christie</td>\n",
       "    </tr>\n",
       "    <tr>\n",
       "      <th>3</th>\n",
       "      <td>4</td>\n",
       "      <td>Alan Brennert</td>\n",
       "    </tr>\n",
       "    <tr>\n",
       "      <th>4</th>\n",
       "      <td>5</td>\n",
       "      <td>Alan Moore/David   Lloyd</td>\n",
       "    </tr>\n",
       "  </tbody>\n",
       "</table>\n",
       "</div>"
      ],
      "text/plain": [
       "   author_id                          author\n",
       "0          1                      A.S. Byatt\n",
       "1          2  Aesop/Laura Harris/Laura Gibbs\n",
       "2          3                 Agatha Christie\n",
       "3          4                   Alan Brennert\n",
       "4          5        Alan Moore/David   Lloyd"
      ]
     },
     "metadata": {},
     "output_type": "display_data"
    },
    {
     "name": "stdout",
     "output_type": "stream",
     "text": [
      "<class 'pandas.core.frame.DataFrame'>\n",
      "RangeIndex: 636 entries, 0 to 635\n",
      "Data columns (total 2 columns):\n",
      " #   Column     Non-Null Count  Dtype \n",
      "---  ------     --------------  ----- \n",
      " 0   author_id  636 non-null    int64 \n",
      " 1   author     636 non-null    object\n",
      "dtypes: int64(1), object(1)\n",
      "memory usage: 10.1+ KB\n",
      "Количество дубликатов - 0\n"
     ]
    }
   ],
   "source": [
    "query = '''\n",
    "            SELECT * \n",
    "            FROM authors\n",
    "        '''\n",
    "authors = pd.io.sql.read_sql(query, con = engine)\n",
    "\n",
    "display(authors.head())\n",
    "authors.info()\n",
    "print('Количество дубликатов -', authors.duplicated().sum())"
   ]
  },
  {
   "cell_type": "markdown",
   "metadata": {},
   "source": [
    "### Таблица publishers"
   ]
  },
  {
   "cell_type": "code",
   "execution_count": 4,
   "metadata": {},
   "outputs": [
    {
     "data": {
      "text/html": [
       "<div>\n",
       "<style scoped>\n",
       "    .dataframe tbody tr th:only-of-type {\n",
       "        vertical-align: middle;\n",
       "    }\n",
       "\n",
       "    .dataframe tbody tr th {\n",
       "        vertical-align: top;\n",
       "    }\n",
       "\n",
       "    .dataframe thead th {\n",
       "        text-align: right;\n",
       "    }\n",
       "</style>\n",
       "<table border=\"1\" class=\"dataframe\">\n",
       "  <thead>\n",
       "    <tr style=\"text-align: right;\">\n",
       "      <th></th>\n",
       "      <th>publisher_id</th>\n",
       "      <th>publisher</th>\n",
       "    </tr>\n",
       "  </thead>\n",
       "  <tbody>\n",
       "    <tr>\n",
       "      <th>0</th>\n",
       "      <td>1</td>\n",
       "      <td>Ace</td>\n",
       "    </tr>\n",
       "    <tr>\n",
       "      <th>1</th>\n",
       "      <td>2</td>\n",
       "      <td>Ace Book</td>\n",
       "    </tr>\n",
       "    <tr>\n",
       "      <th>2</th>\n",
       "      <td>3</td>\n",
       "      <td>Ace Books</td>\n",
       "    </tr>\n",
       "    <tr>\n",
       "      <th>3</th>\n",
       "      <td>4</td>\n",
       "      <td>Ace Hardcover</td>\n",
       "    </tr>\n",
       "    <tr>\n",
       "      <th>4</th>\n",
       "      <td>5</td>\n",
       "      <td>Addison Wesley Publishing Company</td>\n",
       "    </tr>\n",
       "  </tbody>\n",
       "</table>\n",
       "</div>"
      ],
      "text/plain": [
       "   publisher_id                          publisher\n",
       "0             1                                Ace\n",
       "1             2                           Ace Book\n",
       "2             3                          Ace Books\n",
       "3             4                      Ace Hardcover\n",
       "4             5  Addison Wesley Publishing Company"
      ]
     },
     "metadata": {},
     "output_type": "display_data"
    },
    {
     "name": "stdout",
     "output_type": "stream",
     "text": [
      "<class 'pandas.core.frame.DataFrame'>\n",
      "RangeIndex: 340 entries, 0 to 339\n",
      "Data columns (total 2 columns):\n",
      " #   Column        Non-Null Count  Dtype \n",
      "---  ------        --------------  ----- \n",
      " 0   publisher_id  340 non-null    int64 \n",
      " 1   publisher     340 non-null    object\n",
      "dtypes: int64(1), object(1)\n",
      "memory usage: 5.4+ KB\n",
      "Количество дубликатов - 0\n"
     ]
    }
   ],
   "source": [
    "query = '''\n",
    "            SELECT * \n",
    "            FROM publishers\n",
    "        '''\n",
    "publishers = pd.io.sql.read_sql(query, con = engine)\n",
    "\n",
    "display(publishers.head())\n",
    "publishers.info()\n",
    "print('Количество дубликатов -', publishers.duplicated().sum())"
   ]
  },
  {
   "cell_type": "markdown",
   "metadata": {},
   "source": [
    "### Таблица ratings"
   ]
  },
  {
   "cell_type": "code",
   "execution_count": 5,
   "metadata": {},
   "outputs": [
    {
     "data": {
      "text/html": [
       "<div>\n",
       "<style scoped>\n",
       "    .dataframe tbody tr th:only-of-type {\n",
       "        vertical-align: middle;\n",
       "    }\n",
       "\n",
       "    .dataframe tbody tr th {\n",
       "        vertical-align: top;\n",
       "    }\n",
       "\n",
       "    .dataframe thead th {\n",
       "        text-align: right;\n",
       "    }\n",
       "</style>\n",
       "<table border=\"1\" class=\"dataframe\">\n",
       "  <thead>\n",
       "    <tr style=\"text-align: right;\">\n",
       "      <th></th>\n",
       "      <th>rating_id</th>\n",
       "      <th>book_id</th>\n",
       "      <th>username</th>\n",
       "      <th>rating</th>\n",
       "    </tr>\n",
       "  </thead>\n",
       "  <tbody>\n",
       "    <tr>\n",
       "      <th>0</th>\n",
       "      <td>1</td>\n",
       "      <td>1</td>\n",
       "      <td>ryanfranco</td>\n",
       "      <td>4</td>\n",
       "    </tr>\n",
       "    <tr>\n",
       "      <th>1</th>\n",
       "      <td>2</td>\n",
       "      <td>1</td>\n",
       "      <td>grantpatricia</td>\n",
       "      <td>2</td>\n",
       "    </tr>\n",
       "    <tr>\n",
       "      <th>2</th>\n",
       "      <td>3</td>\n",
       "      <td>1</td>\n",
       "      <td>brandtandrea</td>\n",
       "      <td>5</td>\n",
       "    </tr>\n",
       "    <tr>\n",
       "      <th>3</th>\n",
       "      <td>4</td>\n",
       "      <td>2</td>\n",
       "      <td>lorichen</td>\n",
       "      <td>3</td>\n",
       "    </tr>\n",
       "    <tr>\n",
       "      <th>4</th>\n",
       "      <td>5</td>\n",
       "      <td>2</td>\n",
       "      <td>mariokeller</td>\n",
       "      <td>2</td>\n",
       "    </tr>\n",
       "  </tbody>\n",
       "</table>\n",
       "</div>"
      ],
      "text/plain": [
       "   rating_id  book_id       username  rating\n",
       "0          1        1     ryanfranco       4\n",
       "1          2        1  grantpatricia       2\n",
       "2          3        1   brandtandrea       5\n",
       "3          4        2       lorichen       3\n",
       "4          5        2    mariokeller       2"
      ]
     },
     "metadata": {},
     "output_type": "display_data"
    },
    {
     "name": "stdout",
     "output_type": "stream",
     "text": [
      "<class 'pandas.core.frame.DataFrame'>\n",
      "RangeIndex: 6456 entries, 0 to 6455\n",
      "Data columns (total 4 columns):\n",
      " #   Column     Non-Null Count  Dtype \n",
      "---  ------     --------------  ----- \n",
      " 0   rating_id  6456 non-null   int64 \n",
      " 1   book_id    6456 non-null   int64 \n",
      " 2   username   6456 non-null   object\n",
      " 3   rating     6456 non-null   int64 \n",
      "dtypes: int64(3), object(1)\n",
      "memory usage: 201.9+ KB\n",
      "Количество дубликатов - 0\n"
     ]
    }
   ],
   "source": [
    "query = '''\n",
    "            SELECT * \n",
    "            FROM ratings\n",
    "        '''\n",
    "ratings = pd.io.sql.read_sql(query, con = engine)\n",
    "\n",
    "display(ratings.head())\n",
    "ratings.info()\n",
    "print('Количество дубликатов -', ratings.duplicated().sum())"
   ]
  },
  {
   "cell_type": "markdown",
   "metadata": {},
   "source": [
    "### Таблица reviews"
   ]
  },
  {
   "cell_type": "code",
   "execution_count": 6,
   "metadata": {},
   "outputs": [
    {
     "data": {
      "text/html": [
       "<div>\n",
       "<style scoped>\n",
       "    .dataframe tbody tr th:only-of-type {\n",
       "        vertical-align: middle;\n",
       "    }\n",
       "\n",
       "    .dataframe tbody tr th {\n",
       "        vertical-align: top;\n",
       "    }\n",
       "\n",
       "    .dataframe thead th {\n",
       "        text-align: right;\n",
       "    }\n",
       "</style>\n",
       "<table border=\"1\" class=\"dataframe\">\n",
       "  <thead>\n",
       "    <tr style=\"text-align: right;\">\n",
       "      <th></th>\n",
       "      <th>review_id</th>\n",
       "      <th>book_id</th>\n",
       "      <th>username</th>\n",
       "      <th>text</th>\n",
       "    </tr>\n",
       "  </thead>\n",
       "  <tbody>\n",
       "    <tr>\n",
       "      <th>0</th>\n",
       "      <td>1</td>\n",
       "      <td>1</td>\n",
       "      <td>brandtandrea</td>\n",
       "      <td>Mention society tell send professor analysis. ...</td>\n",
       "    </tr>\n",
       "    <tr>\n",
       "      <th>1</th>\n",
       "      <td>2</td>\n",
       "      <td>1</td>\n",
       "      <td>ryanfranco</td>\n",
       "      <td>Foot glass pretty audience hit themselves. Amo...</td>\n",
       "    </tr>\n",
       "    <tr>\n",
       "      <th>2</th>\n",
       "      <td>3</td>\n",
       "      <td>2</td>\n",
       "      <td>lorichen</td>\n",
       "      <td>Listen treat keep worry. Miss husband tax but ...</td>\n",
       "    </tr>\n",
       "    <tr>\n",
       "      <th>3</th>\n",
       "      <td>4</td>\n",
       "      <td>3</td>\n",
       "      <td>johnsonamanda</td>\n",
       "      <td>Finally month interesting blue could nature cu...</td>\n",
       "    </tr>\n",
       "    <tr>\n",
       "      <th>4</th>\n",
       "      <td>5</td>\n",
       "      <td>3</td>\n",
       "      <td>scotttamara</td>\n",
       "      <td>Nation purpose heavy give wait song will. List...</td>\n",
       "    </tr>\n",
       "  </tbody>\n",
       "</table>\n",
       "</div>"
      ],
      "text/plain": [
       "   review_id  book_id       username  \\\n",
       "0          1        1   brandtandrea   \n",
       "1          2        1     ryanfranco   \n",
       "2          3        2       lorichen   \n",
       "3          4        3  johnsonamanda   \n",
       "4          5        3    scotttamara   \n",
       "\n",
       "                                                text  \n",
       "0  Mention society tell send professor analysis. ...  \n",
       "1  Foot glass pretty audience hit themselves. Amo...  \n",
       "2  Listen treat keep worry. Miss husband tax but ...  \n",
       "3  Finally month interesting blue could nature cu...  \n",
       "4  Nation purpose heavy give wait song will. List...  "
      ]
     },
     "metadata": {},
     "output_type": "display_data"
    },
    {
     "name": "stdout",
     "output_type": "stream",
     "text": [
      "<class 'pandas.core.frame.DataFrame'>\n",
      "RangeIndex: 2793 entries, 0 to 2792\n",
      "Data columns (total 4 columns):\n",
      " #   Column     Non-Null Count  Dtype \n",
      "---  ------     --------------  ----- \n",
      " 0   review_id  2793 non-null   int64 \n",
      " 1   book_id    2793 non-null   int64 \n",
      " 2   username   2793 non-null   object\n",
      " 3   text       2793 non-null   object\n",
      "dtypes: int64(2), object(2)\n",
      "memory usage: 87.4+ KB\n",
      "Количество дубликатов - 0\n"
     ]
    }
   ],
   "source": [
    "query = '''\n",
    "            SELECT * \n",
    "            FROM reviews\n",
    "        '''\n",
    "reviews = pd.io.sql.read_sql(query, con = engine)\n",
    "\n",
    "display(reviews.head())\n",
    "reviews.info()\n",
    "print('Количество дубликатов -', reviews.duplicated().sum())"
   ]
  },
  {
   "cell_type": "markdown",
   "metadata": {},
   "source": [
    "Вывод: \n",
    "\n",
    "Таблицы успешно выгружены, пропуски и дубликаты не обнаружены."
   ]
  },
  {
   "cell_type": "markdown",
   "metadata": {},
   "source": [
    "## Задачи исследования"
   ]
  },
  {
   "cell_type": "markdown",
   "metadata": {},
   "source": [
    "### Посчитать, сколько книг вышло после 1 января 2000 года"
   ]
  },
  {
   "cell_type": "code",
   "execution_count": 7,
   "metadata": {},
   "outputs": [
    {
     "data": {
      "text/html": [
       "<div>\n",
       "<style scoped>\n",
       "    .dataframe tbody tr th:only-of-type {\n",
       "        vertical-align: middle;\n",
       "    }\n",
       "\n",
       "    .dataframe tbody tr th {\n",
       "        vertical-align: top;\n",
       "    }\n",
       "\n",
       "    .dataframe thead th {\n",
       "        text-align: right;\n",
       "    }\n",
       "</style>\n",
       "<table border=\"1\" class=\"dataframe\">\n",
       "  <thead>\n",
       "    <tr style=\"text-align: right;\">\n",
       "      <th></th>\n",
       "      <th>count_of_books</th>\n",
       "    </tr>\n",
       "  </thead>\n",
       "  <tbody>\n",
       "    <tr>\n",
       "      <th>0</th>\n",
       "      <td>819</td>\n",
       "    </tr>\n",
       "  </tbody>\n",
       "</table>\n",
       "</div>"
      ],
      "text/plain": [
       "   count_of_books\n",
       "0             819"
      ]
     },
     "execution_count": 7,
     "metadata": {},
     "output_type": "execute_result"
    }
   ],
   "source": [
    "query = '''\n",
    "            SELECT COUNT(book_id) count_of_books\n",
    "            FROM books \n",
    "            WHERE publication_date > '2000-01-01'\n",
    "        '''\n",
    "pd.io.sql.read_sql(query, con = engine)"
   ]
  },
  {
   "cell_type": "markdown",
   "metadata": {},
   "source": [
    "Вывод: После 1 января 2000 года было выпущено 819 книг."
   ]
  },
  {
   "cell_type": "markdown",
   "metadata": {},
   "source": [
    "### Для каждой книги посчитать количество обзоров и среднюю оценку"
   ]
  },
  {
   "cell_type": "code",
   "execution_count": 8,
   "metadata": {},
   "outputs": [
    {
     "data": {
      "text/html": [
       "<div>\n",
       "<style scoped>\n",
       "    .dataframe tbody tr th:only-of-type {\n",
       "        vertical-align: middle;\n",
       "    }\n",
       "\n",
       "    .dataframe tbody tr th {\n",
       "        vertical-align: top;\n",
       "    }\n",
       "\n",
       "    .dataframe thead th {\n",
       "        text-align: right;\n",
       "    }\n",
       "</style>\n",
       "<table border=\"1\" class=\"dataframe\">\n",
       "  <thead>\n",
       "    <tr style=\"text-align: right;\">\n",
       "      <th></th>\n",
       "      <th>title</th>\n",
       "      <th>book_id</th>\n",
       "      <th>avg_rating</th>\n",
       "      <th>review_count</th>\n",
       "    </tr>\n",
       "  </thead>\n",
       "  <tbody>\n",
       "    <tr>\n",
       "      <th>0</th>\n",
       "      <td>A Dirty Job (Grim Reaper  #1)</td>\n",
       "      <td>17</td>\n",
       "      <td>5.00</td>\n",
       "      <td>4.0</td>\n",
       "    </tr>\n",
       "    <tr>\n",
       "      <th>1</th>\n",
       "      <td>Tai-Pan (Asian Saga  #2)</td>\n",
       "      <td>610</td>\n",
       "      <td>5.00</td>\n",
       "      <td>2.0</td>\n",
       "    </tr>\n",
       "    <tr>\n",
       "      <th>2</th>\n",
       "      <td>School's Out—Forever (Maximum Ride  #2)</td>\n",
       "      <td>553</td>\n",
       "      <td>5.00</td>\n",
       "      <td>3.0</td>\n",
       "    </tr>\n",
       "    <tr>\n",
       "      <th>3</th>\n",
       "      <td>Piercing the Darkness (Darkness  #2)</td>\n",
       "      <td>513</td>\n",
       "      <td>5.00</td>\n",
       "      <td>2.0</td>\n",
       "    </tr>\n",
       "    <tr>\n",
       "      <th>4</th>\n",
       "      <td>The War of Art: Break Through the Blocks &amp; Win...</td>\n",
       "      <td>902</td>\n",
       "      <td>5.00</td>\n",
       "      <td>2.0</td>\n",
       "    </tr>\n",
       "    <tr>\n",
       "      <th>...</th>\n",
       "      <td>...</td>\n",
       "      <td>...</td>\n",
       "      <td>...</td>\n",
       "      <td>...</td>\n",
       "    </tr>\n",
       "    <tr>\n",
       "      <th>995</th>\n",
       "      <td>The World Is Flat: A Brief History of the Twen...</td>\n",
       "      <td>915</td>\n",
       "      <td>2.25</td>\n",
       "      <td>3.0</td>\n",
       "    </tr>\n",
       "    <tr>\n",
       "      <th>996</th>\n",
       "      <td>His Excellency: George Washington</td>\n",
       "      <td>316</td>\n",
       "      <td>2.00</td>\n",
       "      <td>2.0</td>\n",
       "    </tr>\n",
       "    <tr>\n",
       "      <th>997</th>\n",
       "      <td>Junky</td>\n",
       "      <td>371</td>\n",
       "      <td>2.00</td>\n",
       "      <td>2.0</td>\n",
       "    </tr>\n",
       "    <tr>\n",
       "      <th>998</th>\n",
       "      <td>Drowning Ruth</td>\n",
       "      <td>202</td>\n",
       "      <td>2.00</td>\n",
       "      <td>3.0</td>\n",
       "    </tr>\n",
       "    <tr>\n",
       "      <th>999</th>\n",
       "      <td>Harvesting the Heart</td>\n",
       "      <td>303</td>\n",
       "      <td>1.50</td>\n",
       "      <td>2.0</td>\n",
       "    </tr>\n",
       "  </tbody>\n",
       "</table>\n",
       "<p>1000 rows × 4 columns</p>\n",
       "</div>"
      ],
      "text/plain": [
       "                                                 title  book_id  avg_rating  \\\n",
       "0                        A Dirty Job (Grim Reaper  #1)       17        5.00   \n",
       "1                             Tai-Pan (Asian Saga  #2)      610        5.00   \n",
       "2              School's Out—Forever (Maximum Ride  #2)      553        5.00   \n",
       "3                 Piercing the Darkness (Darkness  #2)      513        5.00   \n",
       "4    The War of Art: Break Through the Blocks & Win...      902        5.00   \n",
       "..                                                 ...      ...         ...   \n",
       "995  The World Is Flat: A Brief History of the Twen...      915        2.25   \n",
       "996                  His Excellency: George Washington      316        2.00   \n",
       "997                                              Junky      371        2.00   \n",
       "998                                      Drowning Ruth      202        2.00   \n",
       "999                               Harvesting the Heart      303        1.50   \n",
       "\n",
       "     review_count  \n",
       "0             4.0  \n",
       "1             2.0  \n",
       "2             3.0  \n",
       "3             2.0  \n",
       "4             2.0  \n",
       "..            ...  \n",
       "995           3.0  \n",
       "996           2.0  \n",
       "997           2.0  \n",
       "998           3.0  \n",
       "999           2.0  \n",
       "\n",
       "[1000 rows x 4 columns]"
      ]
     },
     "execution_count": 8,
     "metadata": {},
     "output_type": "execute_result"
    }
   ],
   "source": [
    "query = '''\n",
    "            WITH book_rating AS\n",
    "            (SELECT book_id,\n",
    "            AVG(rating) AS avg_rating\n",
    "            FROM ratings\n",
    "            GROUP BY book_id),\n",
    "\n",
    "            book_review AS\n",
    "            (SELECT book_id,\n",
    "            COUNT(*) AS review_count\n",
    "            FROM reviews\n",
    "            GROUP BY book_id)\n",
    "            \n",
    "            \n",
    "            SELECT b.title, b.book_id, avg_rating, review_count\n",
    "            FROM books AS b\n",
    "            LEFT JOIN book_rating AS b_rat ON b.book_id = b_rat.book_id\n",
    "            LEFT JOIN book_review AS b_rev ON b.book_id = b_rev.book_id\n",
    "            ORDER BY avg_rating DESC\n",
    "            \n",
    "        '''\n",
    "\n",
    "pd.io.sql.read_sql(query, con = engine)"
   ]
  },
  {
   "cell_type": "markdown",
   "metadata": {},
   "source": [
    "Для каждой книги посчитаны количество обзоров и средняя оценка. Средняя оценка варьируется от 1.5 до 5."
   ]
  },
  {
   "cell_type": "markdown",
   "metadata": {},
   "source": [
    "### Определить издательство, которое выпустило наибольшее число книг толще 50 страниц — чтобы исключить из анализа брошюры"
   ]
  },
  {
   "cell_type": "code",
   "execution_count": 9,
   "metadata": {},
   "outputs": [
    {
     "data": {
      "text/html": [
       "<div>\n",
       "<style scoped>\n",
       "    .dataframe tbody tr th:only-of-type {\n",
       "        vertical-align: middle;\n",
       "    }\n",
       "\n",
       "    .dataframe tbody tr th {\n",
       "        vertical-align: top;\n",
       "    }\n",
       "\n",
       "    .dataframe thead th {\n",
       "        text-align: right;\n",
       "    }\n",
       "</style>\n",
       "<table border=\"1\" class=\"dataframe\">\n",
       "  <thead>\n",
       "    <tr style=\"text-align: right;\">\n",
       "      <th></th>\n",
       "      <th>publisher_id</th>\n",
       "      <th>publisher</th>\n",
       "      <th>count_books</th>\n",
       "    </tr>\n",
       "  </thead>\n",
       "  <tbody>\n",
       "    <tr>\n",
       "      <th>0</th>\n",
       "      <td>212</td>\n",
       "      <td>Penguin Books</td>\n",
       "      <td>42</td>\n",
       "    </tr>\n",
       "  </tbody>\n",
       "</table>\n",
       "</div>"
      ],
      "text/plain": [
       "   publisher_id      publisher  count_books\n",
       "0           212  Penguin Books           42"
      ]
     },
     "execution_count": 9,
     "metadata": {},
     "output_type": "execute_result"
    }
   ],
   "source": [
    "query = '''\n",
    "            SELECT b.publisher_id, p.publisher, COUNT(*) count_books\n",
    "            FROM books b\n",
    "            LEFT JOIN publishers p ON b.publisher_id = p.publisher_id\n",
    "            WHERE num_pages > 50\n",
    "            GROUP BY b.publisher_id, p.publisher\n",
    "            ORDER BY COUNT(*) DESC\n",
    "            LIMIT 1\n",
    "        '''\n",
    "pd.io.sql.read_sql(query, con = engine)"
   ]
  },
  {
   "cell_type": "markdown",
   "metadata": {},
   "source": [
    "Вывод: Издательство \"Penguin Books\" выпустило 42 книги толще 50 страниц."
   ]
  },
  {
   "cell_type": "markdown",
   "metadata": {},
   "source": [
    "### Определить автора с самой высокой средней оценкой книг — учитывать только книги с 50 и более оценками"
   ]
  },
  {
   "cell_type": "code",
   "execution_count": 10,
   "metadata": {},
   "outputs": [
    {
     "data": {
      "text/html": [
       "<div>\n",
       "<style scoped>\n",
       "    .dataframe tbody tr th:only-of-type {\n",
       "        vertical-align: middle;\n",
       "    }\n",
       "\n",
       "    .dataframe tbody tr th {\n",
       "        vertical-align: top;\n",
       "    }\n",
       "\n",
       "    .dataframe thead th {\n",
       "        text-align: right;\n",
       "    }\n",
       "</style>\n",
       "<table border=\"1\" class=\"dataframe\">\n",
       "  <thead>\n",
       "    <tr style=\"text-align: right;\">\n",
       "      <th></th>\n",
       "      <th>author</th>\n",
       "      <th>avg</th>\n",
       "    </tr>\n",
       "  </thead>\n",
       "  <tbody>\n",
       "    <tr>\n",
       "      <th>0</th>\n",
       "      <td>J.K. Rowling/Mary GrandPré</td>\n",
       "      <td>4.283844</td>\n",
       "    </tr>\n",
       "  </tbody>\n",
       "</table>\n",
       "</div>"
      ],
      "text/plain": [
       "                       author       avg\n",
       "0  J.K. Rowling/Mary GrandPré  4.283844"
      ]
     },
     "execution_count": 10,
     "metadata": {},
     "output_type": "execute_result"
    }
   ],
   "source": [
    "query = '''\n",
    "            WITH rating AS\n",
    "            (SELECT book_id, AVG(rating) ratings\n",
    "            FROM ratings\n",
    "            GROUP BY book_id\n",
    "            HAVING COUNT(*) >= 50)\n",
    "            \n",
    "            SELECT a.author, AVG(ratings)\n",
    "            FROM rating\n",
    "            JOIN (SELECT book_id, author_id FROM books) AS b ON rating.book_id=b.book_id\n",
    "            JOIN (SELECT author_id, author FROM authors) AS a ON b.author_id=a.author_id\n",
    "            GROUP BY a.author\n",
    "            ORDER BY avg(ratings) DESC\n",
    "            LIMIT 1 \n",
    "        '''\n",
    "pd.io.sql.read_sql(query, con = engine)"
   ]
  },
  {
   "cell_type": "markdown",
   "metadata": {},
   "source": [
    "Вывод: автор с самой высокой средней оценкой книг - J.K. Rowling (вместе с Mary GrandPré), автор книг о Гарри Пттере."
   ]
  },
  {
   "cell_type": "markdown",
   "metadata": {},
   "source": [
    "### Посчитать среднее количество обзоров от пользователей, которые поставили больше 48 оценок"
   ]
  },
  {
   "cell_type": "code",
   "execution_count": 11,
   "metadata": {},
   "outputs": [
    {
     "data": {
      "text/html": [
       "<div>\n",
       "<style scoped>\n",
       "    .dataframe tbody tr th:only-of-type {\n",
       "        vertical-align: middle;\n",
       "    }\n",
       "\n",
       "    .dataframe tbody tr th {\n",
       "        vertical-align: top;\n",
       "    }\n",
       "\n",
       "    .dataframe thead th {\n",
       "        text-align: right;\n",
       "    }\n",
       "</style>\n",
       "<table border=\"1\" class=\"dataframe\">\n",
       "  <thead>\n",
       "    <tr style=\"text-align: right;\">\n",
       "      <th></th>\n",
       "      <th>avg</th>\n",
       "    </tr>\n",
       "  </thead>\n",
       "  <tbody>\n",
       "    <tr>\n",
       "      <th>0</th>\n",
       "      <td>24.0</td>\n",
       "    </tr>\n",
       "  </tbody>\n",
       "</table>\n",
       "</div>"
      ],
      "text/plain": [
       "    avg\n",
       "0  24.0"
      ]
     },
     "execution_count": 11,
     "metadata": {},
     "output_type": "execute_result"
    }
   ],
   "source": [
    "query = '''\n",
    "            SELECT AVG(reviews_quantity)\n",
    "            FROM\n",
    "            (SELECT username, COUNT(review_id) reviews_quantity\n",
    "            FROM reviews\n",
    "            WHERE username IN(\n",
    "            SELECT username\n",
    "            FROM\n",
    "            (SELECT username, COUNT(rating_id) ratings_quantity\n",
    "            FROM ratings\n",
    "            GROUP BY username) AS t\n",
    "            WHERE ratings_quantity > 48)\n",
    "            GROUP BY username) AS tt\n",
    "        '''\n",
    "pd.io.sql.read_sql(query, con = engine)"
   ]
  },
  {
   "cell_type": "markdown",
   "metadata": {},
   "source": [
    "Вывод: Читатели, которые поставили больше 48 оценок, в среднем пишут по 24 обзора"
   ]
  },
  {
   "cell_type": "markdown",
   "metadata": {},
   "source": [
    "## Выводы"
   ]
  },
  {
   "cell_type": "markdown",
   "metadata": {},
   "source": [
    "- Всего в базе данных содержится информация о 1000 книг\n",
    "- 819 книг было издано после 1 января 2020 года\n",
    "- Больше всего книг длиннее 50 страниц выпустило издательство Penguin Books - 42 книги\n",
    "- Автор с самой высокой средней оценкой книг - J.K. Rowling (вместе с Mary GrandPré), автор книг о Гарри Пттере.\n",
    "- Среднее количество обзоров от пользователей, которые поставили больше 48 оценок - 24."
   ]
  }
 ],
 "metadata": {
  "ExecuteTimeLog": [
   {
    "duration": 9995,
    "start_time": "2023-08-08T19:02:38.303Z"
   },
   {
    "duration": 334,
    "start_time": "2023-08-08T19:09:54.858Z"
   },
   {
    "duration": 90,
    "start_time": "2023-08-08T19:10:52.362Z"
   },
   {
    "duration": 81,
    "start_time": "2023-08-08T19:11:17.678Z"
   },
   {
    "duration": 139,
    "start_time": "2023-08-08T19:11:44.165Z"
   },
   {
    "duration": 131,
    "start_time": "2023-08-08T19:12:24.938Z"
   },
   {
    "duration": 129,
    "start_time": "2023-08-08T19:13:08.142Z"
   },
   {
    "duration": 8,
    "start_time": "2023-08-08T19:15:17.233Z"
   },
   {
    "duration": 6,
    "start_time": "2023-08-08T19:15:26.078Z"
   },
   {
    "duration": 108,
    "start_time": "2023-08-08T19:15:35.945Z"
   },
   {
    "duration": 69,
    "start_time": "2023-08-08T19:17:25.997Z"
   },
   {
    "duration": 111,
    "start_time": "2023-08-08T19:17:48.946Z"
   },
   {
    "duration": 108,
    "start_time": "2023-08-08T19:18:06.082Z"
   },
   {
    "duration": 108,
    "start_time": "2023-08-08T19:18:17.805Z"
   },
   {
    "duration": 105,
    "start_time": "2023-08-08T19:19:50.157Z"
   },
   {
    "duration": 93,
    "start_time": "2023-08-08T19:19:51.650Z"
   },
   {
    "duration": 83,
    "start_time": "2023-08-08T19:19:52.861Z"
   },
   {
    "duration": 180,
    "start_time": "2023-08-08T19:19:54.178Z"
   },
   {
    "duration": 131,
    "start_time": "2023-08-08T19:19:55.777Z"
   },
   {
    "duration": 77,
    "start_time": "2023-08-08T19:25:56.305Z"
   },
   {
    "duration": 71,
    "start_time": "2023-08-08T19:26:03.029Z"
   },
   {
    "duration": 106,
    "start_time": "2023-08-08T19:30:58.777Z"
   },
   {
    "duration": 77,
    "start_time": "2023-08-08T19:33:46.661Z"
   },
   {
    "duration": 76,
    "start_time": "2023-08-08T19:36:46.040Z"
   },
   {
    "duration": 74,
    "start_time": "2023-08-08T19:43:03.440Z"
   },
   {
    "duration": 77,
    "start_time": "2023-08-08T19:44:21.880Z"
   },
   {
    "duration": 1447,
    "start_time": "2023-08-08T19:44:59.535Z"
   },
   {
    "duration": 10520,
    "start_time": "2023-08-08T19:45:17.992Z"
   },
   {
    "duration": 280,
    "start_time": "2023-08-08T19:45:28.514Z"
   },
   {
    "duration": 82,
    "start_time": "2023-08-08T19:45:28.796Z"
   },
   {
    "duration": 81,
    "start_time": "2023-08-08T19:45:28.881Z"
   },
   {
    "duration": 105,
    "start_time": "2023-08-08T19:45:28.964Z"
   },
   {
    "duration": 99,
    "start_time": "2023-08-08T19:45:29.070Z"
   },
   {
    "duration": 72,
    "start_time": "2023-08-08T19:45:29.170Z"
   },
   {
    "duration": 108,
    "start_time": "2023-08-08T19:45:29.244Z"
   },
   {
    "duration": 75,
    "start_time": "2023-08-08T19:45:29.354Z"
   },
   {
    "duration": 75,
    "start_time": "2023-08-08T19:45:29.432Z"
   },
   {
    "duration": 74,
    "start_time": "2023-08-08T19:45:29.509Z"
   },
   {
    "duration": 85,
    "start_time": "2023-08-08T19:45:43.767Z"
   },
   {
    "duration": 82,
    "start_time": "2023-08-08T19:45:43.854Z"
   },
   {
    "duration": 131,
    "start_time": "2023-08-08T19:45:43.938Z"
   },
   {
    "duration": 98,
    "start_time": "2023-08-08T19:45:44.071Z"
   },
   {
    "duration": 72,
    "start_time": "2023-08-08T19:45:44.171Z"
   },
   {
    "duration": 92,
    "start_time": "2023-08-08T19:45:44.245Z"
   },
   {
    "duration": 76,
    "start_time": "2023-08-08T19:45:44.339Z"
   },
   {
    "duration": 81,
    "start_time": "2023-08-08T19:45:44.417Z"
   },
   {
    "duration": 75,
    "start_time": "2023-08-08T19:45:44.500Z"
   },
   {
    "duration": 4,
    "start_time": "2023-08-08T19:45:44.577Z"
   },
   {
    "duration": 308,
    "start_time": "2023-08-08T19:45:44.583Z"
   },
   {
    "duration": 78,
    "start_time": "2023-08-08T19:46:05.956Z"
   },
   {
    "duration": 80,
    "start_time": "2023-08-08T19:46:11.177Z"
   },
   {
    "duration": 75,
    "start_time": "2023-08-08T19:50:50.296Z"
   },
   {
    "duration": 1258,
    "start_time": "2023-08-08T19:51:38.879Z"
   },
   {
    "duration": 11298,
    "start_time": "2023-08-08T19:54:57.306Z"
   },
   {
    "duration": 304,
    "start_time": "2023-08-08T19:55:08.606Z"
   },
   {
    "duration": 82,
    "start_time": "2023-08-08T19:55:08.911Z"
   },
   {
    "duration": 81,
    "start_time": "2023-08-08T19:55:08.995Z"
   },
   {
    "duration": 113,
    "start_time": "2023-08-08T19:55:09.078Z"
   },
   {
    "duration": 95,
    "start_time": "2023-08-08T19:55:09.193Z"
   },
   {
    "duration": 72,
    "start_time": "2023-08-08T19:55:09.290Z"
   },
   {
    "duration": 85,
    "start_time": "2023-08-08T19:55:09.364Z"
   },
   {
    "duration": 81,
    "start_time": "2023-08-08T19:55:09.450Z"
   },
   {
    "duration": 79,
    "start_time": "2023-08-08T19:55:09.533Z"
   },
   {
    "duration": 76,
    "start_time": "2023-08-08T19:55:09.614Z"
   },
   {
    "duration": 10423,
    "start_time": "2023-08-08T19:58:42.265Z"
   },
   {
    "duration": 292,
    "start_time": "2023-08-08T19:58:52.691Z"
   },
   {
    "duration": 82,
    "start_time": "2023-08-08T19:58:52.985Z"
   },
   {
    "duration": 80,
    "start_time": "2023-08-08T19:58:53.069Z"
   },
   {
    "duration": 105,
    "start_time": "2023-08-08T19:58:53.152Z"
   },
   {
    "duration": 101,
    "start_time": "2023-08-08T19:58:53.258Z"
   },
   {
    "duration": 73,
    "start_time": "2023-08-08T19:58:53.361Z"
   },
   {
    "duration": 87,
    "start_time": "2023-08-08T19:58:53.435Z"
   },
   {
    "duration": 77,
    "start_time": "2023-08-08T19:58:53.523Z"
   },
   {
    "duration": 78,
    "start_time": "2023-08-08T19:58:53.602Z"
   },
   {
    "duration": 75,
    "start_time": "2023-08-08T19:58:53.682Z"
   }
  ],
  "kernelspec": {
   "display_name": "Python 3 (ipykernel)",
   "language": "python",
   "name": "python3"
  },
  "language_info": {
   "codemirror_mode": {
    "name": "ipython",
    "version": 3
   },
   "file_extension": ".py",
   "mimetype": "text/x-python",
   "name": "python",
   "nbconvert_exporter": "python",
   "pygments_lexer": "ipython3",
   "version": "3.9.5"
  },
  "toc": {
   "base_numbering": 1,
   "nav_menu": {},
   "number_sections": true,
   "sideBar": true,
   "skip_h1_title": true,
   "title_cell": "Table of Contents",
   "title_sidebar": "Contents",
   "toc_cell": false,
   "toc_position": {},
   "toc_section_display": true,
   "toc_window_display": false
  }
 },
 "nbformat": 4,
 "nbformat_minor": 2
}
