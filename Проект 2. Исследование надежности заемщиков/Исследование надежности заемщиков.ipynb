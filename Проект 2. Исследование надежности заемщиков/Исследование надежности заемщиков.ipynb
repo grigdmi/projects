{
 "cells": [
  {
   "cell_type": "markdown",
   "id": "3124d285",
   "metadata": {},
   "source": [
    "# Исследование надежности заёмщиков"
   ]
  },
  {
   "cell_type": "markdown",
   "id": "84e17b88",
   "metadata": {},
   "source": [
    "\n",
    "**Цель исследования**  \n",
    "\n",
    "Нужно разобраться, как разные характеристика клиента влияют на факт погашения кредита в срок.    \n",
    "Результаты исследования будут учтены при построении модели кредитного скоринга — специальной системы, которая оценивает способность потенциального заёмщика вернуть кредит банку.\n",
    "\n",
    "**Заказчик**    \n",
    "\n",
    "Кредитный отдел банка.\n",
    "\n",
    "**Вопросы, на которые необходимо ответить:**    \n",
    "\n",
    "* Есть ли зависимость между количеством детей и возвратом кредита в срок?\n",
    "* Есть ли зависимость между семейным положением и возвратом кредита в срок?\n",
    "* Есть ли зависимость между уровнем дохода и возвратом кредита в срок?\n",
    "* Как разные цели кредита влияют на его возврат в срок?\n",
    "\n",
    "**Ход исследования**    \n",
    "\n",
    "Входные данные от банка — статистика о платёжеспособности клиентов, файл `data.csv`.    \n",
    "О качестве данных ничего не известно. Поэтому перед проверкой гипотез понадобится обзор данных.\n",
    "\n",
    "Мы проверим данные на ошибки и оценим их влияние на исследование. Затем, на этапе предобработки поищем возможность исправить самые критичные ошибки.\n",
    "\n",
    "Таким образом, исследование пройдёт в три этапа:\n",
    "\n",
    "* Обзор данных.\n",
    "* Предобработка данных.\n",
    "* Ответы на вопросы.\n"
   ]
  },
  {
   "cell_type": "markdown",
   "id": "26613308",
   "metadata": {
    "deletable": false,
    "editable": false,
    "id": "26613308"
   },
   "source": [
    "## Откройте таблицу и изучите общую информацию о данных"
   ]
  },
  {
   "cell_type": "markdown",
   "id": "3c9f838e",
   "metadata": {
    "deletable": false,
    "editable": false,
    "id": "3c9f838e"
   },
   "source": [
    "**Задание 1. Импортируйте библиотеку pandas. Считайте данные из csv-файла в датафрейм и сохраните в переменную `data`. Путь к файлу:**\n",
    "\n",
    "`/datasets/data.csv`"
   ]
  },
  {
   "cell_type": "code",
   "execution_count": 1,
   "id": "77a68a90",
   "metadata": {
    "deletable": false,
    "id": "77a68a90"
   },
   "outputs": [],
   "source": [
    "import pandas as pd\n",
    "\n",
    "try:\n",
    "    data = pd.read_csv('/datasets/data.csv')\n",
    "except:\n",
    "    data = pd.read_csv('https://code.s3.yandex.net/datasets/data.csv')"
   ]
  },
  {
   "cell_type": "markdown",
   "id": "45365635",
   "metadata": {
    "deletable": false,
    "editable": false,
    "id": "45365635"
   },
   "source": [
    "**Задание 2. Выведите первые 20 строчек датафрейма `data` на экран.**"
   ]
  },
  {
   "cell_type": "code",
   "execution_count": 2,
   "id": "b0451a9a",
   "metadata": {
    "deletable": false,
    "id": "b0451a9a",
    "outputId": "1a8f3ef2-d323-4ec2-ddf7-89670b5944c4"
   },
   "outputs": [
    {
     "data": {
      "text/html": [
       "<div>\n",
       "<style scoped>\n",
       "    .dataframe tbody tr th:only-of-type {\n",
       "        vertical-align: middle;\n",
       "    }\n",
       "\n",
       "    .dataframe tbody tr th {\n",
       "        vertical-align: top;\n",
       "    }\n",
       "\n",
       "    .dataframe thead th {\n",
       "        text-align: right;\n",
       "    }\n",
       "</style>\n",
       "<table border=\"1\" class=\"dataframe\">\n",
       "  <thead>\n",
       "    <tr style=\"text-align: right;\">\n",
       "      <th></th>\n",
       "      <th>children</th>\n",
       "      <th>days_employed</th>\n",
       "      <th>dob_years</th>\n",
       "      <th>education</th>\n",
       "      <th>education_id</th>\n",
       "      <th>family_status</th>\n",
       "      <th>family_status_id</th>\n",
       "      <th>gender</th>\n",
       "      <th>income_type</th>\n",
       "      <th>debt</th>\n",
       "      <th>total_income</th>\n",
       "      <th>purpose</th>\n",
       "    </tr>\n",
       "  </thead>\n",
       "  <tbody>\n",
       "    <tr>\n",
       "      <th>0</th>\n",
       "      <td>1</td>\n",
       "      <td>-8437.673028</td>\n",
       "      <td>42</td>\n",
       "      <td>высшее</td>\n",
       "      <td>0</td>\n",
       "      <td>женат / замужем</td>\n",
       "      <td>0</td>\n",
       "      <td>F</td>\n",
       "      <td>сотрудник</td>\n",
       "      <td>0</td>\n",
       "      <td>253875.639453</td>\n",
       "      <td>покупка жилья</td>\n",
       "    </tr>\n",
       "    <tr>\n",
       "      <th>1</th>\n",
       "      <td>1</td>\n",
       "      <td>-4024.803754</td>\n",
       "      <td>36</td>\n",
       "      <td>среднее</td>\n",
       "      <td>1</td>\n",
       "      <td>женат / замужем</td>\n",
       "      <td>0</td>\n",
       "      <td>F</td>\n",
       "      <td>сотрудник</td>\n",
       "      <td>0</td>\n",
       "      <td>112080.014102</td>\n",
       "      <td>приобретение автомобиля</td>\n",
       "    </tr>\n",
       "    <tr>\n",
       "      <th>2</th>\n",
       "      <td>0</td>\n",
       "      <td>-5623.422610</td>\n",
       "      <td>33</td>\n",
       "      <td>Среднее</td>\n",
       "      <td>1</td>\n",
       "      <td>женат / замужем</td>\n",
       "      <td>0</td>\n",
       "      <td>M</td>\n",
       "      <td>сотрудник</td>\n",
       "      <td>0</td>\n",
       "      <td>145885.952297</td>\n",
       "      <td>покупка жилья</td>\n",
       "    </tr>\n",
       "    <tr>\n",
       "      <th>3</th>\n",
       "      <td>3</td>\n",
       "      <td>-4124.747207</td>\n",
       "      <td>32</td>\n",
       "      <td>среднее</td>\n",
       "      <td>1</td>\n",
       "      <td>женат / замужем</td>\n",
       "      <td>0</td>\n",
       "      <td>M</td>\n",
       "      <td>сотрудник</td>\n",
       "      <td>0</td>\n",
       "      <td>267628.550329</td>\n",
       "      <td>дополнительное образование</td>\n",
       "    </tr>\n",
       "    <tr>\n",
       "      <th>4</th>\n",
       "      <td>0</td>\n",
       "      <td>340266.072047</td>\n",
       "      <td>53</td>\n",
       "      <td>среднее</td>\n",
       "      <td>1</td>\n",
       "      <td>гражданский брак</td>\n",
       "      <td>1</td>\n",
       "      <td>F</td>\n",
       "      <td>пенсионер</td>\n",
       "      <td>0</td>\n",
       "      <td>158616.077870</td>\n",
       "      <td>сыграть свадьбу</td>\n",
       "    </tr>\n",
       "    <tr>\n",
       "      <th>5</th>\n",
       "      <td>0</td>\n",
       "      <td>-926.185831</td>\n",
       "      <td>27</td>\n",
       "      <td>высшее</td>\n",
       "      <td>0</td>\n",
       "      <td>гражданский брак</td>\n",
       "      <td>1</td>\n",
       "      <td>M</td>\n",
       "      <td>компаньон</td>\n",
       "      <td>0</td>\n",
       "      <td>255763.565419</td>\n",
       "      <td>покупка жилья</td>\n",
       "    </tr>\n",
       "    <tr>\n",
       "      <th>6</th>\n",
       "      <td>0</td>\n",
       "      <td>-2879.202052</td>\n",
       "      <td>43</td>\n",
       "      <td>высшее</td>\n",
       "      <td>0</td>\n",
       "      <td>женат / замужем</td>\n",
       "      <td>0</td>\n",
       "      <td>F</td>\n",
       "      <td>компаньон</td>\n",
       "      <td>0</td>\n",
       "      <td>240525.971920</td>\n",
       "      <td>операции с жильем</td>\n",
       "    </tr>\n",
       "    <tr>\n",
       "      <th>7</th>\n",
       "      <td>0</td>\n",
       "      <td>-152.779569</td>\n",
       "      <td>50</td>\n",
       "      <td>СРЕДНЕЕ</td>\n",
       "      <td>1</td>\n",
       "      <td>женат / замужем</td>\n",
       "      <td>0</td>\n",
       "      <td>M</td>\n",
       "      <td>сотрудник</td>\n",
       "      <td>0</td>\n",
       "      <td>135823.934197</td>\n",
       "      <td>образование</td>\n",
       "    </tr>\n",
       "    <tr>\n",
       "      <th>8</th>\n",
       "      <td>2</td>\n",
       "      <td>-6929.865299</td>\n",
       "      <td>35</td>\n",
       "      <td>ВЫСШЕЕ</td>\n",
       "      <td>0</td>\n",
       "      <td>гражданский брак</td>\n",
       "      <td>1</td>\n",
       "      <td>F</td>\n",
       "      <td>сотрудник</td>\n",
       "      <td>0</td>\n",
       "      <td>95856.832424</td>\n",
       "      <td>на проведение свадьбы</td>\n",
       "    </tr>\n",
       "    <tr>\n",
       "      <th>9</th>\n",
       "      <td>0</td>\n",
       "      <td>-2188.756445</td>\n",
       "      <td>41</td>\n",
       "      <td>среднее</td>\n",
       "      <td>1</td>\n",
       "      <td>женат / замужем</td>\n",
       "      <td>0</td>\n",
       "      <td>M</td>\n",
       "      <td>сотрудник</td>\n",
       "      <td>0</td>\n",
       "      <td>144425.938277</td>\n",
       "      <td>покупка жилья для семьи</td>\n",
       "    </tr>\n",
       "    <tr>\n",
       "      <th>10</th>\n",
       "      <td>2</td>\n",
       "      <td>-4171.483647</td>\n",
       "      <td>36</td>\n",
       "      <td>высшее</td>\n",
       "      <td>0</td>\n",
       "      <td>женат / замужем</td>\n",
       "      <td>0</td>\n",
       "      <td>M</td>\n",
       "      <td>компаньон</td>\n",
       "      <td>0</td>\n",
       "      <td>113943.491460</td>\n",
       "      <td>покупка недвижимости</td>\n",
       "    </tr>\n",
       "    <tr>\n",
       "      <th>11</th>\n",
       "      <td>0</td>\n",
       "      <td>-792.701887</td>\n",
       "      <td>40</td>\n",
       "      <td>среднее</td>\n",
       "      <td>1</td>\n",
       "      <td>женат / замужем</td>\n",
       "      <td>0</td>\n",
       "      <td>F</td>\n",
       "      <td>сотрудник</td>\n",
       "      <td>0</td>\n",
       "      <td>77069.234271</td>\n",
       "      <td>покупка коммерческой недвижимости</td>\n",
       "    </tr>\n",
       "    <tr>\n",
       "      <th>12</th>\n",
       "      <td>0</td>\n",
       "      <td>NaN</td>\n",
       "      <td>65</td>\n",
       "      <td>среднее</td>\n",
       "      <td>1</td>\n",
       "      <td>гражданский брак</td>\n",
       "      <td>1</td>\n",
       "      <td>M</td>\n",
       "      <td>пенсионер</td>\n",
       "      <td>0</td>\n",
       "      <td>NaN</td>\n",
       "      <td>сыграть свадьбу</td>\n",
       "    </tr>\n",
       "    <tr>\n",
       "      <th>13</th>\n",
       "      <td>0</td>\n",
       "      <td>-1846.641941</td>\n",
       "      <td>54</td>\n",
       "      <td>неоконченное высшее</td>\n",
       "      <td>2</td>\n",
       "      <td>женат / замужем</td>\n",
       "      <td>0</td>\n",
       "      <td>F</td>\n",
       "      <td>сотрудник</td>\n",
       "      <td>0</td>\n",
       "      <td>130458.228857</td>\n",
       "      <td>приобретение автомобиля</td>\n",
       "    </tr>\n",
       "    <tr>\n",
       "      <th>14</th>\n",
       "      <td>0</td>\n",
       "      <td>-1844.956182</td>\n",
       "      <td>56</td>\n",
       "      <td>высшее</td>\n",
       "      <td>0</td>\n",
       "      <td>гражданский брак</td>\n",
       "      <td>1</td>\n",
       "      <td>F</td>\n",
       "      <td>компаньон</td>\n",
       "      <td>1</td>\n",
       "      <td>165127.911772</td>\n",
       "      <td>покупка жилой недвижимости</td>\n",
       "    </tr>\n",
       "    <tr>\n",
       "      <th>15</th>\n",
       "      <td>1</td>\n",
       "      <td>-972.364419</td>\n",
       "      <td>26</td>\n",
       "      <td>среднее</td>\n",
       "      <td>1</td>\n",
       "      <td>женат / замужем</td>\n",
       "      <td>0</td>\n",
       "      <td>F</td>\n",
       "      <td>сотрудник</td>\n",
       "      <td>0</td>\n",
       "      <td>116820.904450</td>\n",
       "      <td>строительство собственной недвижимости</td>\n",
       "    </tr>\n",
       "    <tr>\n",
       "      <th>16</th>\n",
       "      <td>0</td>\n",
       "      <td>-1719.934226</td>\n",
       "      <td>35</td>\n",
       "      <td>среднее</td>\n",
       "      <td>1</td>\n",
       "      <td>женат / замужем</td>\n",
       "      <td>0</td>\n",
       "      <td>F</td>\n",
       "      <td>сотрудник</td>\n",
       "      <td>0</td>\n",
       "      <td>289202.704229</td>\n",
       "      <td>недвижимость</td>\n",
       "    </tr>\n",
       "    <tr>\n",
       "      <th>17</th>\n",
       "      <td>0</td>\n",
       "      <td>-2369.999720</td>\n",
       "      <td>33</td>\n",
       "      <td>высшее</td>\n",
       "      <td>0</td>\n",
       "      <td>гражданский брак</td>\n",
       "      <td>1</td>\n",
       "      <td>M</td>\n",
       "      <td>сотрудник</td>\n",
       "      <td>0</td>\n",
       "      <td>90410.586745</td>\n",
       "      <td>строительство недвижимости</td>\n",
       "    </tr>\n",
       "    <tr>\n",
       "      <th>18</th>\n",
       "      <td>0</td>\n",
       "      <td>400281.136913</td>\n",
       "      <td>53</td>\n",
       "      <td>среднее</td>\n",
       "      <td>1</td>\n",
       "      <td>вдовец / вдова</td>\n",
       "      <td>2</td>\n",
       "      <td>F</td>\n",
       "      <td>пенсионер</td>\n",
       "      <td>0</td>\n",
       "      <td>56823.777243</td>\n",
       "      <td>на покупку подержанного автомобиля</td>\n",
       "    </tr>\n",
       "    <tr>\n",
       "      <th>19</th>\n",
       "      <td>0</td>\n",
       "      <td>-10038.818549</td>\n",
       "      <td>48</td>\n",
       "      <td>СРЕДНЕЕ</td>\n",
       "      <td>1</td>\n",
       "      <td>в разводе</td>\n",
       "      <td>3</td>\n",
       "      <td>F</td>\n",
       "      <td>сотрудник</td>\n",
       "      <td>0</td>\n",
       "      <td>242831.107982</td>\n",
       "      <td>на покупку своего автомобиля</td>\n",
       "    </tr>\n",
       "    <tr>\n",
       "      <th>20</th>\n",
       "      <td>1</td>\n",
       "      <td>-1311.604166</td>\n",
       "      <td>36</td>\n",
       "      <td>среднее</td>\n",
       "      <td>1</td>\n",
       "      <td>женат / замужем</td>\n",
       "      <td>0</td>\n",
       "      <td>M</td>\n",
       "      <td>сотрудник</td>\n",
       "      <td>0</td>\n",
       "      <td>209552.644578</td>\n",
       "      <td>недвижимость</td>\n",
       "    </tr>\n",
       "    <tr>\n",
       "      <th>21</th>\n",
       "      <td>1</td>\n",
       "      <td>-253.685166</td>\n",
       "      <td>33</td>\n",
       "      <td>среднее</td>\n",
       "      <td>1</td>\n",
       "      <td>гражданский брак</td>\n",
       "      <td>1</td>\n",
       "      <td>F</td>\n",
       "      <td>сотрудник</td>\n",
       "      <td>0</td>\n",
       "      <td>131812.203909</td>\n",
       "      <td>приобретение автомобиля</td>\n",
       "    </tr>\n",
       "    <tr>\n",
       "      <th>22</th>\n",
       "      <td>1</td>\n",
       "      <td>-1766.644138</td>\n",
       "      <td>24</td>\n",
       "      <td>среднее</td>\n",
       "      <td>1</td>\n",
       "      <td>гражданский брак</td>\n",
       "      <td>1</td>\n",
       "      <td>F</td>\n",
       "      <td>сотрудник</td>\n",
       "      <td>0</td>\n",
       "      <td>149681.140731</td>\n",
       "      <td>на покупку подержанного автомобиля</td>\n",
       "    </tr>\n",
       "    <tr>\n",
       "      <th>23</th>\n",
       "      <td>0</td>\n",
       "      <td>-272.981385</td>\n",
       "      <td>21</td>\n",
       "      <td>высшее</td>\n",
       "      <td>0</td>\n",
       "      <td>гражданский брак</td>\n",
       "      <td>1</td>\n",
       "      <td>M</td>\n",
       "      <td>сотрудник</td>\n",
       "      <td>0</td>\n",
       "      <td>128265.720871</td>\n",
       "      <td>сыграть свадьбу</td>\n",
       "    </tr>\n",
       "    <tr>\n",
       "      <th>24</th>\n",
       "      <td>1</td>\n",
       "      <td>338551.952911</td>\n",
       "      <td>57</td>\n",
       "      <td>среднее</td>\n",
       "      <td>1</td>\n",
       "      <td>Не женат / не замужем</td>\n",
       "      <td>4</td>\n",
       "      <td>F</td>\n",
       "      <td>пенсионер</td>\n",
       "      <td>0</td>\n",
       "      <td>290547.235997</td>\n",
       "      <td>операции с коммерческой недвижимостью</td>\n",
       "    </tr>\n",
       "    <tr>\n",
       "      <th>25</th>\n",
       "      <td>0</td>\n",
       "      <td>363548.489348</td>\n",
       "      <td>67</td>\n",
       "      <td>среднее</td>\n",
       "      <td>1</td>\n",
       "      <td>женат / замужем</td>\n",
       "      <td>0</td>\n",
       "      <td>M</td>\n",
       "      <td>пенсионер</td>\n",
       "      <td>0</td>\n",
       "      <td>55112.757732</td>\n",
       "      <td>покупка недвижимости</td>\n",
       "    </tr>\n",
       "    <tr>\n",
       "      <th>26</th>\n",
       "      <td>0</td>\n",
       "      <td>NaN</td>\n",
       "      <td>41</td>\n",
       "      <td>среднее</td>\n",
       "      <td>1</td>\n",
       "      <td>женат / замужем</td>\n",
       "      <td>0</td>\n",
       "      <td>M</td>\n",
       "      <td>госслужащий</td>\n",
       "      <td>0</td>\n",
       "      <td>NaN</td>\n",
       "      <td>образование</td>\n",
       "    </tr>\n",
       "    <tr>\n",
       "      <th>27</th>\n",
       "      <td>0</td>\n",
       "      <td>-529.191635</td>\n",
       "      <td>28</td>\n",
       "      <td>высшее</td>\n",
       "      <td>0</td>\n",
       "      <td>женат / замужем</td>\n",
       "      <td>0</td>\n",
       "      <td>M</td>\n",
       "      <td>сотрудник</td>\n",
       "      <td>0</td>\n",
       "      <td>308848.983691</td>\n",
       "      <td>строительство собственной недвижимости</td>\n",
       "    </tr>\n",
       "    <tr>\n",
       "      <th>28</th>\n",
       "      <td>1</td>\n",
       "      <td>-717.274324</td>\n",
       "      <td>26</td>\n",
       "      <td>высшее</td>\n",
       "      <td>0</td>\n",
       "      <td>женат / замужем</td>\n",
       "      <td>0</td>\n",
       "      <td>F</td>\n",
       "      <td>сотрудник</td>\n",
       "      <td>0</td>\n",
       "      <td>187863.237306</td>\n",
       "      <td>строительство собственной недвижимости</td>\n",
       "    </tr>\n",
       "    <tr>\n",
       "      <th>29</th>\n",
       "      <td>0</td>\n",
       "      <td>NaN</td>\n",
       "      <td>63</td>\n",
       "      <td>среднее</td>\n",
       "      <td>1</td>\n",
       "      <td>Не женат / не замужем</td>\n",
       "      <td>4</td>\n",
       "      <td>F</td>\n",
       "      <td>пенсионер</td>\n",
       "      <td>0</td>\n",
       "      <td>NaN</td>\n",
       "      <td>строительство жилой недвижимости</td>\n",
       "    </tr>\n",
       "  </tbody>\n",
       "</table>\n",
       "</div>"
      ],
      "text/plain": [
       "    children  days_employed  dob_years            education  education_id  \\\n",
       "0          1   -8437.673028         42               высшее             0   \n",
       "1          1   -4024.803754         36              среднее             1   \n",
       "2          0   -5623.422610         33              Среднее             1   \n",
       "3          3   -4124.747207         32              среднее             1   \n",
       "4          0  340266.072047         53              среднее             1   \n",
       "5          0    -926.185831         27               высшее             0   \n",
       "6          0   -2879.202052         43               высшее             0   \n",
       "7          0    -152.779569         50              СРЕДНЕЕ             1   \n",
       "8          2   -6929.865299         35               ВЫСШЕЕ             0   \n",
       "9          0   -2188.756445         41              среднее             1   \n",
       "10         2   -4171.483647         36               высшее             0   \n",
       "11         0    -792.701887         40              среднее             1   \n",
       "12         0            NaN         65              среднее             1   \n",
       "13         0   -1846.641941         54  неоконченное высшее             2   \n",
       "14         0   -1844.956182         56               высшее             0   \n",
       "15         1    -972.364419         26              среднее             1   \n",
       "16         0   -1719.934226         35              среднее             1   \n",
       "17         0   -2369.999720         33               высшее             0   \n",
       "18         0  400281.136913         53              среднее             1   \n",
       "19         0  -10038.818549         48              СРЕДНЕЕ             1   \n",
       "20         1   -1311.604166         36              среднее             1   \n",
       "21         1    -253.685166         33              среднее             1   \n",
       "22         1   -1766.644138         24              среднее             1   \n",
       "23         0    -272.981385         21               высшее             0   \n",
       "24         1  338551.952911         57              среднее             1   \n",
       "25         0  363548.489348         67              среднее             1   \n",
       "26         0            NaN         41              среднее             1   \n",
       "27         0    -529.191635         28               высшее             0   \n",
       "28         1    -717.274324         26               высшее             0   \n",
       "29         0            NaN         63              среднее             1   \n",
       "\n",
       "            family_status  family_status_id gender  income_type  debt  \\\n",
       "0         женат / замужем                 0      F    сотрудник     0   \n",
       "1         женат / замужем                 0      F    сотрудник     0   \n",
       "2         женат / замужем                 0      M    сотрудник     0   \n",
       "3         женат / замужем                 0      M    сотрудник     0   \n",
       "4        гражданский брак                 1      F    пенсионер     0   \n",
       "5        гражданский брак                 1      M    компаньон     0   \n",
       "6         женат / замужем                 0      F    компаньон     0   \n",
       "7         женат / замужем                 0      M    сотрудник     0   \n",
       "8        гражданский брак                 1      F    сотрудник     0   \n",
       "9         женат / замужем                 0      M    сотрудник     0   \n",
       "10        женат / замужем                 0      M    компаньон     0   \n",
       "11        женат / замужем                 0      F    сотрудник     0   \n",
       "12       гражданский брак                 1      M    пенсионер     0   \n",
       "13        женат / замужем                 0      F    сотрудник     0   \n",
       "14       гражданский брак                 1      F    компаньон     1   \n",
       "15        женат / замужем                 0      F    сотрудник     0   \n",
       "16        женат / замужем                 0      F    сотрудник     0   \n",
       "17       гражданский брак                 1      M    сотрудник     0   \n",
       "18         вдовец / вдова                 2      F    пенсионер     0   \n",
       "19              в разводе                 3      F    сотрудник     0   \n",
       "20        женат / замужем                 0      M    сотрудник     0   \n",
       "21       гражданский брак                 1      F    сотрудник     0   \n",
       "22       гражданский брак                 1      F    сотрудник     0   \n",
       "23       гражданский брак                 1      M    сотрудник     0   \n",
       "24  Не женат / не замужем                 4      F    пенсионер     0   \n",
       "25        женат / замужем                 0      M    пенсионер     0   \n",
       "26        женат / замужем                 0      M  госслужащий     0   \n",
       "27        женат / замужем                 0      M    сотрудник     0   \n",
       "28        женат / замужем                 0      F    сотрудник     0   \n",
       "29  Не женат / не замужем                 4      F    пенсионер     0   \n",
       "\n",
       "     total_income                                 purpose  \n",
       "0   253875.639453                           покупка жилья  \n",
       "1   112080.014102                 приобретение автомобиля  \n",
       "2   145885.952297                           покупка жилья  \n",
       "3   267628.550329              дополнительное образование  \n",
       "4   158616.077870                         сыграть свадьбу  \n",
       "5   255763.565419                           покупка жилья  \n",
       "6   240525.971920                       операции с жильем  \n",
       "7   135823.934197                             образование  \n",
       "8    95856.832424                   на проведение свадьбы  \n",
       "9   144425.938277                 покупка жилья для семьи  \n",
       "10  113943.491460                    покупка недвижимости  \n",
       "11   77069.234271       покупка коммерческой недвижимости  \n",
       "12            NaN                         сыграть свадьбу  \n",
       "13  130458.228857                 приобретение автомобиля  \n",
       "14  165127.911772              покупка жилой недвижимости  \n",
       "15  116820.904450  строительство собственной недвижимости  \n",
       "16  289202.704229                            недвижимость  \n",
       "17   90410.586745              строительство недвижимости  \n",
       "18   56823.777243      на покупку подержанного автомобиля  \n",
       "19  242831.107982            на покупку своего автомобиля  \n",
       "20  209552.644578                            недвижимость  \n",
       "21  131812.203909                 приобретение автомобиля  \n",
       "22  149681.140731      на покупку подержанного автомобиля  \n",
       "23  128265.720871                         сыграть свадьбу  \n",
       "24  290547.235997   операции с коммерческой недвижимостью  \n",
       "25   55112.757732                    покупка недвижимости  \n",
       "26            NaN                             образование  \n",
       "27  308848.983691  строительство собственной недвижимости  \n",
       "28  187863.237306  строительство собственной недвижимости  \n",
       "29            NaN        строительство жилой недвижимости  "
      ]
     },
     "execution_count": 2,
     "metadata": {},
     "output_type": "execute_result"
    }
   ],
   "source": [
    "data.head(30)"
   ]
  },
  {
   "cell_type": "markdown",
   "id": "0ed8f27f",
   "metadata": {
    "deletable": false,
    "editable": false,
    "id": "0ed8f27f"
   },
   "source": [
    "**Задание 3. Выведите основную информацию о датафрейме с помощью метода `info()`.**"
   ]
  },
  {
   "cell_type": "code",
   "execution_count": 3,
   "id": "ab3f863b",
   "metadata": {
    "deletable": false,
    "id": "ab3f863b",
    "outputId": "15376089-8dad-46c9-b520-c05248d43158"
   },
   "outputs": [
    {
     "name": "stdout",
     "output_type": "stream",
     "text": [
      "<class 'pandas.core.frame.DataFrame'>\n",
      "RangeIndex: 21525 entries, 0 to 21524\n",
      "Data columns (total 12 columns):\n",
      " #   Column            Non-Null Count  Dtype  \n",
      "---  ------            --------------  -----  \n",
      " 0   children          21525 non-null  int64  \n",
      " 1   days_employed     19351 non-null  float64\n",
      " 2   dob_years         21525 non-null  int64  \n",
      " 3   education         21525 non-null  object \n",
      " 4   education_id      21525 non-null  int64  \n",
      " 5   family_status     21525 non-null  object \n",
      " 6   family_status_id  21525 non-null  int64  \n",
      " 7   gender            21525 non-null  object \n",
      " 8   income_type       21525 non-null  object \n",
      " 9   debt              21525 non-null  int64  \n",
      " 10  total_income      19351 non-null  float64\n",
      " 11  purpose           21525 non-null  object \n",
      "dtypes: float64(2), int64(5), object(5)\n",
      "memory usage: 2.0+ MB\n"
     ]
    }
   ],
   "source": [
    "data.info()"
   ]
  },
  {
   "cell_type": "markdown",
   "id": "60e3e22d",
   "metadata": {
    "deletable": false,
    "editable": false,
    "id": "60e3e22d"
   },
   "source": [
    "## Предобработка данных"
   ]
  },
  {
   "cell_type": "markdown",
   "id": "03dc170c",
   "metadata": {
    "deletable": false,
    "editable": false,
    "id": "03dc170c"
   },
   "source": [
    "### Удаление пропусков"
   ]
  },
  {
   "cell_type": "markdown",
   "id": "a4f54eef",
   "metadata": {
    "deletable": false,
    "editable": false,
    "id": "a4f54eef"
   },
   "source": [
    "**Задание 4. Выведите количество пропущенных значений для каждого столбца. Используйте комбинацию двух методов.**"
   ]
  },
  {
   "cell_type": "code",
   "execution_count": 4,
   "id": "2dc372b2",
   "metadata": {
    "deletable": false,
    "id": "2dc372b2",
    "outputId": "81f4d817-781c-465c-ed15-91ce4446810d"
   },
   "outputs": [
    {
     "data": {
      "text/plain": [
       "children               0\n",
       "days_employed       2174\n",
       "dob_years              0\n",
       "education              0\n",
       "education_id           0\n",
       "family_status          0\n",
       "family_status_id       0\n",
       "gender                 0\n",
       "income_type            0\n",
       "debt                   0\n",
       "total_income        2174\n",
       "purpose                0\n",
       "dtype: int64"
      ]
     },
     "execution_count": 4,
     "metadata": {},
     "output_type": "execute_result"
    }
   ],
   "source": [
    "data.isna().sum()"
   ]
  },
  {
   "cell_type": "markdown",
   "id": "14f011b1",
   "metadata": {
    "deletable": false,
    "editable": false,
    "id": "14f011b1"
   },
   "source": [
    "**Задание 5. В двух столбцах есть пропущенные значения. Один из них — `days_employed`. Пропуски в этом столбце вы обработаете на следующем этапе. Другой столбец с пропущенными значениями — `total_income` — хранит данные о доходах. На сумму дохода сильнее всего влияет тип занятости, поэтому заполнить пропуски в этом столбце нужно медианным значением по каждому типу из столбца `income_type`. Например, у человека с типом занятости `сотрудник` пропуск в столбце `total_income` должен быть заполнен медианным доходом среди всех записей с тем же типом.**"
   ]
  },
  {
   "cell_type": "code",
   "execution_count": 5,
   "id": "bdabfb6e",
   "metadata": {
    "deletable": false,
    "id": "bdabfb6e"
   },
   "outputs": [],
   "source": [
    "for t in data['income_type'].unique():\n",
    "    data.loc[(data['income_type'] == t) & (data['total_income'].isna()), 'total_income'] = \\\n",
    "    data.loc[(data['income_type'] == t), 'total_income'].median()"
   ]
  },
  {
   "cell_type": "markdown",
   "id": "5be34059",
   "metadata": {
    "deletable": false,
    "editable": false,
    "id": "5be34059"
   },
   "source": [
    "### Обработка аномальных значений"
   ]
  },
  {
   "cell_type": "markdown",
   "id": "a87606cb",
   "metadata": {
    "deletable": false,
    "editable": false,
    "id": "a87606cb"
   },
   "source": [
    "**Задание 6. В данных могут встречаться артефакты (аномалии) — значения, которые не отражают действительность и появились по какой-то ошибке. таким артефактом будет отрицательное количество дней трудового стажа в столбце `days_employed`. Для реальных данных это нормально. Обработайте значения в этом столбце: замените все отрицательные значения положительными с помощью метода `abs()`.**"
   ]
  },
  {
   "cell_type": "code",
   "execution_count": 6,
   "id": "020c46cc",
   "metadata": {
    "deletable": false,
    "id": "020c46cc"
   },
   "outputs": [],
   "source": [
    "data['days_employed'] = data['days_employed'].abs()"
   ]
  },
  {
   "cell_type": "markdown",
   "id": "45538a3a",
   "metadata": {
    "deletable": false,
    "editable": false,
    "id": "45538a3a"
   },
   "source": [
    "**Задание 7. Для каждого типа занятости выведите медианное значение трудового стажа `days_employed` в днях.**"
   ]
  },
  {
   "cell_type": "code",
   "execution_count": 7,
   "id": "cd3e6328",
   "metadata": {
    "deletable": false,
    "id": "cd3e6328",
    "outputId": "801ef80e-522b-4668-f34e-565af7432bcf"
   },
   "outputs": [
    {
     "data": {
      "text/plain": [
       "income_type\n",
       "безработный        366413.652744\n",
       "в декрете            3296.759962\n",
       "госслужащий          2689.368353\n",
       "компаньон            1547.382223\n",
       "пенсионер          365213.306266\n",
       "предприниматель       520.848083\n",
       "сотрудник            1574.202821\n",
       "студент               578.751554\n",
       "Name: days_employed, dtype: float64"
      ]
     },
     "execution_count": 7,
     "metadata": {},
     "output_type": "execute_result"
    }
   ],
   "source": [
    "data.groupby('income_type')['days_employed'].agg('median')"
   ]
  },
  {
   "cell_type": "markdown",
   "id": "90c5f058",
   "metadata": {
    "deletable": false,
    "editable": false,
    "id": "90c5f058"
   },
   "source": [
    "У двух типов (безработные и пенсионеры) получатся аномально большие значения. Исправить такие значения сложно, поэтому оставьте их как есть."
   ]
  },
  {
   "cell_type": "markdown",
   "id": "9652e50d",
   "metadata": {
    "deletable": false,
    "editable": false,
    "id": "9652e50d"
   },
   "source": [
    "**Задание 8. Выведите перечень уникальных значений столбца `children`.**"
   ]
  },
  {
   "cell_type": "code",
   "execution_count": 8,
   "id": "dbb37b8e",
   "metadata": {
    "deletable": false,
    "id": "dbb37b8e",
    "outputId": "6975b15c-7f95-4697-d16d-a0c79b657b03"
   },
   "outputs": [
    {
     "data": {
      "text/plain": [
       "array([ 1,  0,  3,  2, -1,  4, 20,  5])"
      ]
     },
     "execution_count": 8,
     "metadata": {},
     "output_type": "execute_result"
    }
   ],
   "source": [
    "data['children'].unique()"
   ]
  },
  {
   "cell_type": "markdown",
   "id": "2b8b0715",
   "metadata": {
    "deletable": false,
    "editable": false,
    "id": "2b8b0715"
   },
   "source": [
    "**Задание 9. В столбце `children` есть два аномальных значения. Удалите строки, в которых встречаются такие аномальные значения из датафрейма `data`.**"
   ]
  },
  {
   "cell_type": "code",
   "execution_count": 9,
   "id": "20009df8",
   "metadata": {
    "deletable": false,
    "id": "20009df8"
   },
   "outputs": [],
   "source": [
    "data = data[(data['children'] != -1) & (data['children'] != 20)]"
   ]
  },
  {
   "cell_type": "markdown",
   "id": "8c6ac9f1",
   "metadata": {
    "deletable": false,
    "editable": false,
    "id": "8c6ac9f1"
   },
   "source": [
    "**Задание 10. Ещё раз выведите перечень уникальных значений столбца `children`, чтобы убедиться, что артефакты удалены.**"
   ]
  },
  {
   "cell_type": "code",
   "execution_count": 10,
   "id": "07337b81",
   "metadata": {
    "deletable": false,
    "id": "07337b81",
    "outputId": "b2097101-d49d-44d9-901b-32a65c9463d1"
   },
   "outputs": [
    {
     "data": {
      "text/plain": [
       "array([1, 0, 3, 2, 4, 5])"
      ]
     },
     "execution_count": 10,
     "metadata": {},
     "output_type": "execute_result"
    }
   ],
   "source": [
    "data['children'].unique()"
   ]
  },
  {
   "cell_type": "markdown",
   "id": "ee3f52d4",
   "metadata": {
    "deletable": false,
    "editable": false,
    "id": "ee3f52d4"
   },
   "source": [
    "### Удаление пропусков (продолжение)"
   ]
  },
  {
   "cell_type": "markdown",
   "id": "a700b0e4",
   "metadata": {
    "deletable": false,
    "editable": false,
    "id": "a700b0e4"
   },
   "source": [
    "**Задание 11. Заполните пропуски в столбце `days_employed` медианными значениями по каждого типа занятости `income_type`.**"
   ]
  },
  {
   "cell_type": "code",
   "execution_count": 11,
   "id": "61946b83",
   "metadata": {
    "deletable": false,
    "id": "61946b83"
   },
   "outputs": [],
   "source": [
    "for t in data['income_type'].unique():\n",
    "    data.loc[(data['income_type'] == t) & (data['days_employed'].isna()), 'days_employed'] = \\\n",
    "    data.loc[(data['income_type'] == t), 'days_employed'].median()"
   ]
  },
  {
   "cell_type": "markdown",
   "id": "550dcd9b",
   "metadata": {
    "deletable": false,
    "editable": false,
    "id": "550dcd9b"
   },
   "source": [
    "**Задание 12. Убедитесь, что все пропуски заполнены. Проверьте себя и ещё раз выведите количество пропущенных значений для каждого столбца с помощью двух методов.**"
   ]
  },
  {
   "cell_type": "code",
   "execution_count": 12,
   "id": "937c7014",
   "metadata": {
    "deletable": false,
    "id": "937c7014",
    "outputId": "8da1e4e1-358e-4e87-98c9-f261bce0a7b2"
   },
   "outputs": [
    {
     "data": {
      "text/plain": [
       "children            0\n",
       "days_employed       0\n",
       "dob_years           0\n",
       "education           0\n",
       "education_id        0\n",
       "family_status       0\n",
       "family_status_id    0\n",
       "gender              0\n",
       "income_type         0\n",
       "debt                0\n",
       "total_income        0\n",
       "purpose             0\n",
       "dtype: int64"
      ]
     },
     "execution_count": 12,
     "metadata": {},
     "output_type": "execute_result"
    }
   ],
   "source": [
    "data.isna().sum()"
   ]
  },
  {
   "cell_type": "markdown",
   "id": "d522e295",
   "metadata": {
    "deletable": false,
    "editable": false,
    "id": "d522e295"
   },
   "source": [
    "### Изменение типов данных"
   ]
  },
  {
   "cell_type": "markdown",
   "id": "c229c581",
   "metadata": {
    "deletable": false,
    "editable": false,
    "id": "c229c581"
   },
   "source": [
    "**Задание 13. Замените вещественный тип данных в столбце `total_income` на целочисленный с помощью метода `astype()`.**"
   ]
  },
  {
   "cell_type": "code",
   "execution_count": 13,
   "id": "31036462",
   "metadata": {
    "deletable": false,
    "id": "31036462"
   },
   "outputs": [],
   "source": [
    "data['total_income'] = data['total_income'].astype(int)"
   ]
  },
  {
   "cell_type": "markdown",
   "id": "b8e3d1d9",
   "metadata": {
    "deletable": false,
    "editable": false,
    "id": "b8e3d1d9"
   },
   "source": [
    "### Обработка дубликатов"
   ]
  },
  {
   "cell_type": "markdown",
   "id": "9be53c49",
   "metadata": {
    "deletable": false,
    "editable": false,
    "id": "9be53c49"
   },
   "source": [
    "**Задание 14. Обработайте неявные дубликаты в столбце `education`. В этом столбце есть одни и те же значения, но записанные по-разному: с использованием заглавных и строчных букв. Приведите их к нижнему регистру.**"
   ]
  },
  {
   "cell_type": "code",
   "execution_count": 14,
   "id": "d89e73e1",
   "metadata": {
    "deletable": false,
    "id": "d89e73e1"
   },
   "outputs": [],
   "source": [
    "data['education'] = data['education'].str.lower()"
   ]
  },
  {
   "cell_type": "markdown",
   "id": "01d4500e",
   "metadata": {
    "deletable": false,
    "editable": false,
    "id": "01d4500e"
   },
   "source": [
    "**Задание 15. Выведите на экран количество строк-дубликатов в данных. Если такие строки присутствуют, удалите их.**"
   ]
  },
  {
   "cell_type": "code",
   "execution_count": 15,
   "id": "e10efb23",
   "metadata": {
    "deletable": false,
    "id": "e10efb23",
    "outputId": "9684deba-1934-42d1-99e1-cda61740f822"
   },
   "outputs": [
    {
     "data": {
      "text/plain": [
       "71"
      ]
     },
     "execution_count": 15,
     "metadata": {},
     "output_type": "execute_result"
    }
   ],
   "source": [
    "data.duplicated().sum()"
   ]
  },
  {
   "cell_type": "code",
   "execution_count": 16,
   "id": "df853f20",
   "metadata": {
    "deletable": false,
    "id": "df853f20"
   },
   "outputs": [],
   "source": [
    "data = data.drop_duplicates()"
   ]
  },
  {
   "cell_type": "markdown",
   "id": "627be38f",
   "metadata": {
    "deletable": false,
    "editable": false,
    "id": "627be38f"
   },
   "source": [
    "### Категоризация данных"
   ]
  },
  {
   "cell_type": "markdown",
   "id": "4684c3e0",
   "metadata": {
    "deletable": false,
    "editable": false,
    "id": "4684c3e0"
   },
   "source": [
    "**Задание 16. На основании диапазонов, указанных ниже, создайте в датафрейме `data` столбец `total_income_category` с категориями:**\n",
    "\n",
    "- 0–30000 — `'E'`;\n",
    "- 30001–50000 — `'D'`;\n",
    "- 50001–200000 — `'C'`;\n",
    "- 200001–1000000 — `'B'`;\n",
    "- 1000001 и выше — `'A'`.\n",
    "\n",
    "\n",
    "**Например, кредитополучателю с доходом 25000 нужно назначить категорию `'E'`, а клиенту, получающему 235000, — `'B'`. Используйте собственную функцию с именем `categorize_income()` и метод `apply()`.**"
   ]
  },
  {
   "cell_type": "code",
   "execution_count": 17,
   "id": "78965238",
   "metadata": {
    "deletable": false,
    "id": "78965238"
   },
   "outputs": [],
   "source": [
    "def categorize_income(income):\n",
    "    try:\n",
    "        if 0 <= income <= 30000:\n",
    "            return 'E'\n",
    "        elif 30001 <= income <= 50000:\n",
    "            return 'D'\n",
    "        elif 50001 <= income <= 200000:\n",
    "            return 'C'\n",
    "        elif 200001 <= income <= 1000000:\n",
    "            return 'B'\n",
    "        elif income >= 1000001:\n",
    "            return 'A'\n",
    "    except:\n",
    "        pass"
   ]
  },
  {
   "cell_type": "code",
   "execution_count": 18,
   "id": "0980ada1",
   "metadata": {
    "deletable": false,
    "id": "0980ada1"
   },
   "outputs": [],
   "source": [
    "data['total_income_category'] = data['total_income'].apply(categorize_income)"
   ]
  },
  {
   "cell_type": "markdown",
   "id": "9917bba0",
   "metadata": {
    "deletable": false,
    "editable": false,
    "id": "9917bba0"
   },
   "source": [
    "**Задание 17. Выведите на экран перечень уникальных целей взятия кредита из столбца `purpose`.**"
   ]
  },
  {
   "cell_type": "code",
   "execution_count": 19,
   "id": "ee07b65e",
   "metadata": {
    "deletable": false,
    "id": "ee07b65e",
    "outputId": "673c12d9-7d7e-4ae0-9812-c622c89dd244"
   },
   "outputs": [
    {
     "data": {
      "text/plain": [
       "array(['покупка жилья', 'приобретение автомобиля',\n",
       "       'дополнительное образование', 'сыграть свадьбу',\n",
       "       'операции с жильем', 'образование', 'на проведение свадьбы',\n",
       "       'покупка жилья для семьи', 'покупка недвижимости',\n",
       "       'покупка коммерческой недвижимости', 'покупка жилой недвижимости',\n",
       "       'строительство собственной недвижимости', 'недвижимость',\n",
       "       'строительство недвижимости', 'на покупку подержанного автомобиля',\n",
       "       'на покупку своего автомобиля',\n",
       "       'операции с коммерческой недвижимостью',\n",
       "       'строительство жилой недвижимости', 'жилье',\n",
       "       'операции со своей недвижимостью', 'автомобили',\n",
       "       'заняться образованием', 'сделка с подержанным автомобилем',\n",
       "       'получение образования', 'автомобиль', 'свадьба',\n",
       "       'получение дополнительного образования', 'покупка своего жилья',\n",
       "       'операции с недвижимостью', 'получение высшего образования',\n",
       "       'свой автомобиль', 'сделка с автомобилем',\n",
       "       'профильное образование', 'высшее образование',\n",
       "       'покупка жилья для сдачи', 'на покупку автомобиля', 'ремонт жилью',\n",
       "       'заняться высшим образованием'], dtype=object)"
      ]
     },
     "execution_count": 19,
     "metadata": {},
     "output_type": "execute_result"
    }
   ],
   "source": [
    "data['purpose'].unique()"
   ]
  },
  {
   "cell_type": "markdown",
   "id": "52b79d56",
   "metadata": {
    "deletable": false,
    "editable": false,
    "id": "52b79d56"
   },
   "source": [
    "**Задание 18. Создайте функцию, которая на основании данных из столбца `purpose` сформирует новый столбец `purpose_category`, в который войдут следующие категории:**\n",
    "\n",
    "- `'операции с автомобилем'`,\n",
    "- `'операции с недвижимостью'`,\n",
    "- `'проведение свадьбы'`,\n",
    "- `'получение образования'`.\n",
    "\n",
    "**Например, если в столбце `purpose` находится подстрока `'на покупку автомобиля'`, то в столбце `purpose_category` должна появиться строка `'операции с автомобилем'`.**\n",
    "\n",
    "**Используйте собственную функцию с именем `categorize_purpose()` и метод `apply()`. Изучите данные в столбце `purpose` и определите, какие подстроки помогут вам правильно определить категорию.**"
   ]
  },
  {
   "cell_type": "code",
   "execution_count": 20,
   "id": "be41da5d",
   "metadata": {
    "deletable": false,
    "id": "be41da5d"
   },
   "outputs": [],
   "source": [
    "def categorize_purpose(row):\n",
    "    try:\n",
    "        if 'автом' in row:\n",
    "            return 'операции с автомобилем'\n",
    "        elif 'жил' in row or 'недвиж' in row:\n",
    "            return 'операции с недвижимостью'\n",
    "        elif 'свад' in row:\n",
    "            return 'проведение свадьбы'\n",
    "        elif 'образов' in row:\n",
    "            return 'получение образования'\n",
    "    except:\n",
    "        return 'нет категории'"
   ]
  },
  {
   "cell_type": "code",
   "execution_count": 21,
   "id": "94c4a19a",
   "metadata": {
    "deletable": false,
    "id": "94c4a19a"
   },
   "outputs": [],
   "source": [
    "data['purpose_category'] = data['purpose'].apply(categorize_purpose)"
   ]
  },
  {
   "cell_type": "markdown",
   "id": "3d596c34",
   "metadata": {
    "deletable": false,
    "editable": false,
    "id": "3d596c34"
   },
   "source": [
    "### Шаг 3. Исследуйте данные и ответьте на вопросы"
   ]
  },
  {
   "cell_type": "markdown",
   "id": "648db036",
   "metadata": {
    "deletable": false,
    "editable": false,
    "id": "648db036"
   },
   "source": [
    "#### 3.1 Есть ли зависимость между количеством детей и возвратом кредита в срок?"
   ]
  },
  {
   "cell_type": "code",
   "execution_count": 22,
   "id": "7fcff25e",
   "metadata": {
    "deletable": false,
    "id": "7fcff25e"
   },
   "outputs": [
    {
     "data": {
      "text/html": [
       "<div>\n",
       "<style scoped>\n",
       "    .dataframe tbody tr th:only-of-type {\n",
       "        vertical-align: middle;\n",
       "    }\n",
       "\n",
       "    .dataframe tbody tr th {\n",
       "        vertical-align: top;\n",
       "    }\n",
       "\n",
       "    .dataframe thead th {\n",
       "        text-align: right;\n",
       "    }\n",
       "</style>\n",
       "<table border=\"1\" class=\"dataframe\">\n",
       "  <thead>\n",
       "    <tr style=\"text-align: right;\">\n",
       "      <th></th>\n",
       "      <th>count</th>\n",
       "      <th>sum</th>\n",
       "      <th>ratio</th>\n",
       "    </tr>\n",
       "    <tr>\n",
       "      <th>children</th>\n",
       "      <th></th>\n",
       "      <th></th>\n",
       "      <th></th>\n",
       "    </tr>\n",
       "  </thead>\n",
       "  <tbody>\n",
       "    <tr>\n",
       "      <th>4</th>\n",
       "      <td>41</td>\n",
       "      <td>4</td>\n",
       "      <td>0.097561</td>\n",
       "    </tr>\n",
       "    <tr>\n",
       "      <th>2</th>\n",
       "      <td>2052</td>\n",
       "      <td>194</td>\n",
       "      <td>0.094542</td>\n",
       "    </tr>\n",
       "    <tr>\n",
       "      <th>1</th>\n",
       "      <td>4808</td>\n",
       "      <td>444</td>\n",
       "      <td>0.092346</td>\n",
       "    </tr>\n",
       "    <tr>\n",
       "      <th>3</th>\n",
       "      <td>330</td>\n",
       "      <td>27</td>\n",
       "      <td>0.081818</td>\n",
       "    </tr>\n",
       "    <tr>\n",
       "      <th>0</th>\n",
       "      <td>14091</td>\n",
       "      <td>1063</td>\n",
       "      <td>0.075438</td>\n",
       "    </tr>\n",
       "    <tr>\n",
       "      <th>5</th>\n",
       "      <td>9</td>\n",
       "      <td>0</td>\n",
       "      <td>0.000000</td>\n",
       "    </tr>\n",
       "  </tbody>\n",
       "</table>\n",
       "</div>"
      ],
      "text/plain": [
       "          count   sum     ratio\n",
       "children                       \n",
       "4            41     4  0.097561\n",
       "2          2052   194  0.094542\n",
       "1          4808   444  0.092346\n",
       "3           330    27  0.081818\n",
       "0         14091  1063  0.075438\n",
       "5             9     0  0.000000"
      ]
     },
     "metadata": {},
     "output_type": "display_data"
    },
    {
     "data": {
      "text/plain": [
       "<AxesSubplot:xlabel='children', ylabel='ratio'>"
      ]
     },
     "execution_count": 22,
     "metadata": {},
     "output_type": "execute_result"
    },
    {
     "data": {
      "image/png": "[encoded data removed]",
      "text/plain": [
       "<Figure size 432x288 with 1 Axes>"
      ]
     },
     "metadata": {
      "needs_background": "light"
     },
     "output_type": "display_data"
    }
   ],
   "source": [
    "import seaborn\n",
    "data_pivot_children = data.pivot_table(index=['children'], values = 'debt', aggfunc = {'count', 'sum'})\n",
    "data_pivot_children['ratio'] = data_pivot_children['sum']/data_pivot_children['count']\n",
    "\n",
    "data_pivot_children = data_pivot_children.sort_values(by='ratio', ascending=False)\n",
    "\n",
    "display(data_pivot_children)\n",
    "seaborn.barplot(x=data_pivot_children.index, y=data_pivot_children['ratio']) # Ваш код будет здесь. Вы можете создавать новые ячейки."
   ]
  },
  {
   "cell_type": "code",
   "execution_count": 23,
   "id": "62a9116d",
   "metadata": {},
   "outputs": [
    {
     "name": "stdout",
     "output_type": "stream",
     "text": [
      "7240\n",
      "669\n",
      "0.09240331491712707\n",
      "0.017\n"
     ]
    }
   ],
   "source": [
    "print(data_pivot_children['count'].sum() - (data['children'] == 0).sum())\n",
    "print(data_pivot_children['sum'].sum() - 1063)\n",
    "print((data_pivot_children['sum'].sum() - 1063) / (data_pivot_children['count'].sum() - (data['children'] == 0).sum()))\n",
    "print(0.0924-0.0754)"
   ]
  },
  {
   "cell_type": "markdown",
   "id": "96dd1fee",
   "metadata": {
    "deletable": false,
    "id": "2eb9088e"
   },
   "source": [
    "**Вывод:** наличие детей в семье влияет на возврат кредита в срок. \n",
    "Из 14091 семей без детей задолженности имеется у 1063 клиентов, это 7.54%.\n",
    "Из 7240 семей имеющих детей, задолженность имеют 669 клиентов. Это 9.25%.\n",
    "То есть, в целом, наличие детей в семье повышает риск невыплаты кредита в срок на 1.7 % в среднем.\n",
    "Количество детей в семье, по разному зависит от возврата кредита в срок. Например у семей с 3 детьми, процент задолженности по кредиту меньше чем у семей с 1 ребенком, у семей с 4 детьми самый высокий процент невыплаты кредита в срок. У семей с 5 детьми вообще нет задолженностей по кредит, может быть потому что такиих семей немного и они лишь являются исключением."
   ]
  },
  {
   "cell_type": "markdown",
   "id": "74c9b3a7",
   "metadata": {
    "deletable": false,
    "editable": false,
    "id": "74c9b3a7"
   },
   "source": [
    "#### 3.2 Есть ли зависимость между семейным положением и возвратом кредита в срок?"
   ]
  },
  {
   "cell_type": "code",
   "execution_count": 24,
   "id": "8098ab3b",
   "metadata": {
    "deletable": false,
    "id": "8098ab3b"
   },
   "outputs": [
    {
     "data": {
      "text/html": [
       "<div>\n",
       "<style scoped>\n",
       "    .dataframe tbody tr th:only-of-type {\n",
       "        vertical-align: middle;\n",
       "    }\n",
       "\n",
       "    .dataframe tbody tr th {\n",
       "        vertical-align: top;\n",
       "    }\n",
       "\n",
       "    .dataframe thead th {\n",
       "        text-align: right;\n",
       "    }\n",
       "</style>\n",
       "<table border=\"1\" class=\"dataframe\">\n",
       "  <thead>\n",
       "    <tr style=\"text-align: right;\">\n",
       "      <th></th>\n",
       "      <th>count</th>\n",
       "      <th>sum</th>\n",
       "      <th>ratio</th>\n",
       "    </tr>\n",
       "    <tr>\n",
       "      <th>family_status</th>\n",
       "      <th></th>\n",
       "      <th></th>\n",
       "      <th></th>\n",
       "    </tr>\n",
       "  </thead>\n",
       "  <tbody>\n",
       "    <tr>\n",
       "      <th>Не женат / не замужем</th>\n",
       "      <td>2796</td>\n",
       "      <td>273</td>\n",
       "      <td>0.097639</td>\n",
       "    </tr>\n",
       "    <tr>\n",
       "      <th>гражданский брак</th>\n",
       "      <td>4134</td>\n",
       "      <td>385</td>\n",
       "      <td>0.093130</td>\n",
       "    </tr>\n",
       "    <tr>\n",
       "      <th>женат / замужем</th>\n",
       "      <td>12261</td>\n",
       "      <td>927</td>\n",
       "      <td>0.075606</td>\n",
       "    </tr>\n",
       "    <tr>\n",
       "      <th>в разводе</th>\n",
       "      <td>1189</td>\n",
       "      <td>84</td>\n",
       "      <td>0.070648</td>\n",
       "    </tr>\n",
       "    <tr>\n",
       "      <th>вдовец / вдова</th>\n",
       "      <td>951</td>\n",
       "      <td>63</td>\n",
       "      <td>0.066246</td>\n",
       "    </tr>\n",
       "  </tbody>\n",
       "</table>\n",
       "</div>"
      ],
      "text/plain": [
       "                       count  sum     ratio\n",
       "family_status                              \n",
       "Не женат / не замужем   2796  273  0.097639\n",
       "гражданский брак        4134  385  0.093130\n",
       "женат / замужем        12261  927  0.075606\n",
       "в разводе               1189   84  0.070648\n",
       "вдовец / вдова           951   63  0.066246"
      ]
     },
     "metadata": {},
     "output_type": "display_data"
    },
    {
     "data": {
      "text/plain": [
       "<AxesSubplot:xlabel='ratio', ylabel='family_status'>"
      ]
     },
     "execution_count": 24,
     "metadata": {},
     "output_type": "execute_result"
    },
    {
     "data": {
      "image/png": "[encoded data removed]",
      "text/plain": [
       "<Figure size 432x288 with 1 Axes>"
      ]
     },
     "metadata": {
      "needs_background": "light"
     },
     "output_type": "display_data"
    }
   ],
   "source": [
    "import seaborn\n",
    "data_pivot_family_status = data.pivot_table(index=['family_status'], values = 'debt', aggfunc = {'count', 'sum'})\n",
    "data_pivot_family_status['ratio'] = data_pivot_family_status['sum']/data_pivot_family_status['count']\n",
    "\n",
    "data_pivot_family_status = data_pivot_family_status.sort_values(by='ratio', ascending=False)\n",
    "\n",
    "display(data_pivot_family_status)\n",
    "seaborn.barplot(y=data_pivot_family_status.index, x=data_pivot_family_status['ratio']) # Ваш код будет здесь. Вы можете создавать новые ячейки."
   ]
  },
  {
   "cell_type": "markdown",
   "id": "c389ca63",
   "metadata": {
    "deletable": false,
    "id": "c389ca63"
   },
   "source": [
    "**Вывод:** возврат кредита  в срок зависит от семейного положения. Среди холостых людей 9.7% имеют задолженности, те кто находится в гражданском браке 9.3%, а среди пар задолженность имеют только 7.5%, у тех кто в раводе 7% имеют задолженность, самый низкий процент задолженности 6.6% имеют вдовцы и вдовы. Из этого всего можно сделать вывод больше всего задолженностей имеют холостые люди, наличие семейного положения, делает людей более ответственными с выплатой кредита в срок. После развода или будучи в статусе вдвовец/вдова люди сохраняют тенденцию возврата кредита в срок и имеют самый малый процент задолженностей."
   ]
  },
  {
   "cell_type": "markdown",
   "id": "9529de68",
   "metadata": {
    "deletable": false,
    "editable": false,
    "id": "9529de68"
   },
   "source": [
    "#### 3.3 Есть ли зависимость между уровнем дохода и возвратом кредита в срок?"
   ]
  },
  {
   "cell_type": "code",
   "execution_count": 25,
   "id": "8787f44a",
   "metadata": {
    "deletable": false,
    "id": "8787f44a"
   },
   "outputs": [
    {
     "data": {
      "text/html": [
       "<div>\n",
       "<style scoped>\n",
       "    .dataframe tbody tr th:only-of-type {\n",
       "        vertical-align: middle;\n",
       "    }\n",
       "\n",
       "    .dataframe tbody tr th {\n",
       "        vertical-align: top;\n",
       "    }\n",
       "\n",
       "    .dataframe thead th {\n",
       "        text-align: right;\n",
       "    }\n",
       "</style>\n",
       "<table border=\"1\" class=\"dataframe\">\n",
       "  <thead>\n",
       "    <tr style=\"text-align: right;\">\n",
       "      <th></th>\n",
       "      <th>count</th>\n",
       "      <th>sum</th>\n",
       "      <th>ratio</th>\n",
       "    </tr>\n",
       "    <tr>\n",
       "      <th>total_income_category</th>\n",
       "      <th></th>\n",
       "      <th></th>\n",
       "      <th></th>\n",
       "    </tr>\n",
       "  </thead>\n",
       "  <tbody>\n",
       "    <tr>\n",
       "      <th>E</th>\n",
       "      <td>22</td>\n",
       "      <td>2</td>\n",
       "      <td>0.090909</td>\n",
       "    </tr>\n",
       "    <tr>\n",
       "      <th>C</th>\n",
       "      <td>15921</td>\n",
       "      <td>1353</td>\n",
       "      <td>0.084982</td>\n",
       "    </tr>\n",
       "    <tr>\n",
       "      <th>A</th>\n",
       "      <td>25</td>\n",
       "      <td>2</td>\n",
       "      <td>0.080000</td>\n",
       "    </tr>\n",
       "    <tr>\n",
       "      <th>B</th>\n",
       "      <td>5014</td>\n",
       "      <td>354</td>\n",
       "      <td>0.070602</td>\n",
       "    </tr>\n",
       "    <tr>\n",
       "      <th>D</th>\n",
       "      <td>349</td>\n",
       "      <td>21</td>\n",
       "      <td>0.060172</td>\n",
       "    </tr>\n",
       "  </tbody>\n",
       "</table>\n",
       "</div>"
      ],
      "text/plain": [
       "                       count   sum     ratio\n",
       "total_income_category                       \n",
       "E                         22     2  0.090909\n",
       "C                      15921  1353  0.084982\n",
       "A                         25     2  0.080000\n",
       "B                       5014   354  0.070602\n",
       "D                        349    21  0.060172"
      ]
     },
     "metadata": {},
     "output_type": "display_data"
    },
    {
     "data": {
      "text/plain": [
       "<AxesSubplot:xlabel='ratio', ylabel='total_income_category'>"
      ]
     },
     "execution_count": 25,
     "metadata": {},
     "output_type": "execute_result"
    },
    {
     "data": {
      "image/png": "[encoded data removed]",
      "text/plain": [
       "<Figure size 432x288 with 1 Axes>"
      ]
     },
     "metadata": {
      "needs_background": "light"
     },
     "output_type": "display_data"
    }
   ],
   "source": [
    "import seaborn\n",
    "data_pivot_income_category = data.pivot_table(index=['total_income_category'], values = 'debt', aggfunc = {'count', 'sum'})\n",
    "data_pivot_income_category['ratio'] = data_pivot_income_category['sum']/data_pivot_income_category['count']\n",
    "\n",
    "data_pivot_income_category = data_pivot_income_category.sort_values(by='ratio', ascending=False)\n",
    "\n",
    "display(data_pivot_income_category)\n",
    "seaborn.barplot(y=data_pivot_income_category.index, x=data_pivot_family_status['ratio']) # Ваш код будет здесь. Вы можете создавать новые ячейки."
   ]
  },
  {
   "cell_type": "markdown",
   "id": "6dd14b57",
   "metadata": {
    "deletable": false,
    "id": "6dd14b57"
   },
   "source": [
    "**Вывод:** Ранее мы обозначили категории кредитополучателей, в зависимости от уровня дохода. С доходом от 0 до 30000 руб категория - Е, с доходом от 30001 до 50000 руб категория - D, с доходом от 50001 до 200000 руб категория - C, с доходом от 200001 до 1000000 руб категория - B, 1000001 руб и выше — категория A.\n",
    "В результате стало известно что заемщики с доходом от 30001 до 50000 руб лучше всего выплачивают кредит вовремя, заемщики с доходом от 0 до 30000 руб хуже всех выплачивают кредит в срок. Люди с выоскими доходами от 200001 руб чаще допускают задолженность по выплате кредитов в срок."
   ]
  },
  {
   "cell_type": "markdown",
   "id": "1dcc9b12",
   "metadata": {
    "deletable": false,
    "editable": false,
    "id": "1dcc9b12"
   },
   "source": [
    "#### 3.4 Как разные цели кредита влияют на его возврат в срок?"
   ]
  },
  {
   "cell_type": "code",
   "execution_count": 26,
   "id": "c602bc8b",
   "metadata": {
    "deletable": false,
    "id": "c602bc8b"
   },
   "outputs": [
    {
     "data": {
      "text/html": [
       "<div>\n",
       "<style scoped>\n",
       "    .dataframe tbody tr th:only-of-type {\n",
       "        vertical-align: middle;\n",
       "    }\n",
       "\n",
       "    .dataframe tbody tr th {\n",
       "        vertical-align: top;\n",
       "    }\n",
       "\n",
       "    .dataframe thead th {\n",
       "        text-align: right;\n",
       "    }\n",
       "</style>\n",
       "<table border=\"1\" class=\"dataframe\">\n",
       "  <thead>\n",
       "    <tr style=\"text-align: right;\">\n",
       "      <th></th>\n",
       "      <th>count</th>\n",
       "      <th>sum</th>\n",
       "      <th>ratio</th>\n",
       "    </tr>\n",
       "    <tr>\n",
       "      <th>total_income_category</th>\n",
       "      <th></th>\n",
       "      <th></th>\n",
       "      <th></th>\n",
       "    </tr>\n",
       "  </thead>\n",
       "  <tbody>\n",
       "    <tr>\n",
       "      <th>E</th>\n",
       "      <td>22</td>\n",
       "      <td>2</td>\n",
       "      <td>0.090909</td>\n",
       "    </tr>\n",
       "    <tr>\n",
       "      <th>C</th>\n",
       "      <td>15921</td>\n",
       "      <td>1353</td>\n",
       "      <td>0.084982</td>\n",
       "    </tr>\n",
       "    <tr>\n",
       "      <th>A</th>\n",
       "      <td>25</td>\n",
       "      <td>2</td>\n",
       "      <td>0.080000</td>\n",
       "    </tr>\n",
       "    <tr>\n",
       "      <th>B</th>\n",
       "      <td>5014</td>\n",
       "      <td>354</td>\n",
       "      <td>0.070602</td>\n",
       "    </tr>\n",
       "    <tr>\n",
       "      <th>D</th>\n",
       "      <td>349</td>\n",
       "      <td>21</td>\n",
       "      <td>0.060172</td>\n",
       "    </tr>\n",
       "  </tbody>\n",
       "</table>\n",
       "</div>"
      ],
      "text/plain": [
       "                       count   sum     ratio\n",
       "total_income_category                       \n",
       "E                         22     2  0.090909\n",
       "C                      15921  1353  0.084982\n",
       "A                         25     2  0.080000\n",
       "B                       5014   354  0.070602\n",
       "D                        349    21  0.060172"
      ]
     },
     "metadata": {},
     "output_type": "display_data"
    },
    {
     "data": {
      "text/plain": [
       "<AxesSubplot:xlabel='ratio', ylabel='total_income_category'>"
      ]
     },
     "execution_count": 26,
     "metadata": {},
     "output_type": "execute_result"
    },
    {
     "data": {
      "image/png": "[encoded data removed]",
      "text/plain": [
       "<Figure size 432x288 with 1 Axes>"
      ]
     },
     "metadata": {
      "needs_background": "light"
     },
     "output_type": "display_data"
    }
   ],
   "source": [
    "import seaborn\n",
    "data_pivot_purpose_category = data.pivot_table(index=['purpose_category'], values = 'debt', aggfunc = {'count', 'sum'})\n",
    "data_pivot_purpose_category['ratio'] = data_pivot_purpose_category['sum']/data_pivot_purpose_category['count']\n",
    "\n",
    "data_pivot_purpose_category = data_pivot_income_category.sort_values(by='ratio', ascending=False)\n",
    "\n",
    "display(data_pivot_purpose_category)\n",
    "seaborn.barplot(y=data_pivot_purpose_category.index, x=data_pivot_purpose_category['ratio']) # Ваш код будет здесь. Вы можете создавать новые ячейки."
   ]
  },
  {
   "cell_type": "markdown",
   "id": "cf05ed63",
   "metadata": {
    "deletable": false,
    "id": "cf05ed63"
   },
   "source": [
    "**Вывод:** В результате исследования можно сказать что люди берущие кредит на операции с недвижимостью, чаще других отдают его в срок и имеют всего 7.2% задолженностей. Кредиты на операции с автомобилями или на получение образования реже отдаются в срок и имеют примерно 9.3% задолженностей."
   ]
  },
  {
   "cell_type": "markdown",
   "id": "46c1f10b",
   "metadata": {
    "deletable": false,
    "editable": false,
    "id": "46c1f10b"
   },
   "source": [
    "#### 3.5 Приведите возможные причины появления пропусков в исходных данных."
   ]
  },
  {
   "cell_type": "markdown",
   "id": "3697d2a9",
   "metadata": {
    "deletable": false,
    "id": "3697d2a9"
   },
   "source": [
    "*Ответ:* в нашем случае были замечены пропуски в количественных переменных. Такие пропуски могут возникнуть в результате ошибки ввода данных или нежелания клиента вводить эти данные, т.е сокрытие данных."
   ]
  },
  {
   "cell_type": "markdown",
   "id": "3137d257",
   "metadata": {
    "deletable": false,
    "editable": false,
    "id": "3137d257"
   },
   "source": [
    "#### 3.6 Объясните, почему заполнить пропуски медианным значением — лучшее решение для количественных переменных."
   ]
  },
  {
   "cell_type": "markdown",
   "id": "cf40012a",
   "metadata": {
    "deletable": false,
    "id": "cf40012a"
   },
   "source": [
    "*Ответ:* потому что если заполнять подобные пропуски средним значением то, оно может некорректно отобразить итоговые данные, если вдруг некоторые значения сильно выделяются среди большинства. Из за одного высокого значения может сильно измениться общая средняя статистика. Поэтотму пропуски в количественных переменных лучше заполнять медианным значением."
   ]
  },
  {
   "cell_type": "markdown",
   "id": "57bc304e",
   "metadata": {
    "deletable": false,
    "editable": false,
    "id": "57bc304e"
   },
   "source": [
    "### Шаг 4: общий вывод."
   ]
  },
  {
   "cell_type": "markdown",
   "id": "1ab75d1c",
   "metadata": {
    "deletable": false,
    "id": "1ab75d1c"
   },
   "source": [
    "В ходе данной проектной работы я изучил предоставленные данные по заемщикам банка, подготовил данные к анализу: нашел пропуски в данных и исправил их, провел обработку аномальных значений, выполнил обработку дубликатов и провел категоризацию данных. Т.е сделал все необходимое, чтобы с данными можно было работать и исследовать их.\n",
    "\n",
    "В ходе исследований было выявлено, что наличие детей у клиента и их количество, влияет на факт погашения кредита в срок, клиенты с детьми реже погашают кредит в срок, чем клиенты, не имеющие детей.\n",
    "\n",
    "На срок возврата кредита в срок влияет и семейное положение клиента. Клиенты имеющие холостое семейное положение реже погашают кредит в срок, чем клиенты,  состоящие в браке. Клиенты после развода или будучи в статусе вдвовец/вдова сохраняют тенденцию возврата кредита в срок и имеют самый малый процент наличия задолженностей.\n",
    "\n",
    "Также на факт погашения кредита в срок влияет уровень дохода клиента и цели взятия кредита. Заемщики с доходом от 30 до 50 тыс. руб. лучше всего выплачивают кредит вовремя, а заемщики с доходом от 0 до 30000 руб хуже всего. Если кредит берут на операции с недвижимостью, то чаще отдают его в срок и не имеют задолженности, чем например клиенты которые берут кредит на операции с автомобилем или на получение образования."
   ]
  }
 ],
 "metadata": {
  "ExecuteTimeLog": [
   {
    "duration": 51,
    "start_time": "2023-02-18T13:34:35.340Z"
   },
   {
    "duration": 539,
    "start_time": "2023-02-18T13:34:54.695Z"
   },
   {
    "duration": 30,
    "start_time": "2023-02-18T13:34:55.236Z"
   },
   {
    "duration": 20,
    "start_time": "2023-02-18T13:34:55.268Z"
   },
   {
    "duration": 10,
    "start_time": "2023-02-18T13:34:55.290Z"
   },
   {
    "duration": 62,
    "start_time": "2023-02-18T13:34:55.302Z"
   },
   {
    "duration": 5,
    "start_time": "2023-02-18T13:34:55.366Z"
   },
   {
    "duration": 14,
    "start_time": "2023-02-18T13:34:55.372Z"
   },
   {
    "duration": 8,
    "start_time": "2023-02-18T13:34:55.388Z"
   },
   {
    "duration": 8,
    "start_time": "2023-02-18T13:34:55.398Z"
   },
   {
    "duration": 6,
    "start_time": "2023-02-18T13:34:55.407Z"
   },
   {
    "duration": 78,
    "start_time": "2023-02-18T13:34:55.414Z"
   },
   {
    "duration": 13,
    "start_time": "2023-02-18T13:34:55.494Z"
   },
   {
    "duration": 5,
    "start_time": "2023-02-18T13:34:55.508Z"
   },
   {
    "duration": 20,
    "start_time": "2023-02-18T13:34:55.516Z"
   },
   {
    "duration": 48,
    "start_time": "2023-02-18T13:34:55.538Z"
   },
   {
    "duration": 19,
    "start_time": "2023-02-18T13:34:55.588Z"
   },
   {
    "duration": 4,
    "start_time": "2023-02-18T13:34:55.609Z"
   },
   {
    "duration": 14,
    "start_time": "2023-02-18T13:34:55.615Z"
   },
   {
    "duration": 10,
    "start_time": "2023-02-18T13:34:55.654Z"
   },
   {
    "duration": 9,
    "start_time": "2023-02-18T13:34:55.666Z"
   },
   {
    "duration": 14,
    "start_time": "2023-02-18T13:34:55.677Z"
   },
   {
    "duration": 6,
    "start_time": "2023-02-18T13:34:55.693Z"
   },
   {
    "duration": 4,
    "start_time": "2023-02-18T13:34:55.701Z"
   },
   {
    "duration": 5,
    "start_time": "2023-02-18T13:34:55.706Z"
   },
   {
    "duration": 5,
    "start_time": "2023-02-18T13:34:55.713Z"
   },
   {
    "duration": 1290,
    "start_time": "2023-02-18T13:35:32.879Z"
   },
   {
    "duration": 7,
    "start_time": "2023-02-18T13:35:48.367Z"
   },
   {
    "duration": 5,
    "start_time": "2023-02-18T13:36:08.923Z"
   },
   {
    "duration": 5,
    "start_time": "2023-02-18T13:37:32.835Z"
   },
   {
    "duration": 5,
    "start_time": "2023-02-18T13:43:03.083Z"
   },
   {
    "duration": 4,
    "start_time": "2023-02-18T13:43:14.654Z"
   },
   {
    "duration": 4,
    "start_time": "2023-02-18T13:43:53.429Z"
   },
   {
    "duration": 4,
    "start_time": "2023-02-18T13:43:59.934Z"
   },
   {
    "duration": 6,
    "start_time": "2023-02-18T13:45:05.950Z"
   },
   {
    "duration": 14,
    "start_time": "2023-02-18T13:54:33.566Z"
   },
   {
    "duration": 9,
    "start_time": "2023-02-18T13:54:45.497Z"
   },
   {
    "duration": 17,
    "start_time": "2023-02-18T13:54:54.454Z"
   },
   {
    "duration": 19,
    "start_time": "2023-02-18T14:19:01.692Z"
   },
   {
    "duration": 19,
    "start_time": "2023-02-18T14:19:13.459Z"
   },
   {
    "duration": 2192,
    "start_time": "2023-02-18T14:27:01.945Z"
   },
   {
    "duration": 1233,
    "start_time": "2023-02-18T14:27:38.981Z"
   },
   {
    "duration": 24,
    "start_time": "2023-02-18T14:28:29.028Z"
   },
   {
    "duration": 24,
    "start_time": "2023-02-18T14:29:05.277Z"
   },
   {
    "duration": 449,
    "start_time": "2023-02-18T14:29:19.872Z"
   },
   {
    "duration": 25,
    "start_time": "2023-02-18T14:29:20.323Z"
   },
   {
    "duration": 29,
    "start_time": "2023-02-18T14:29:20.350Z"
   },
   {
    "duration": 10,
    "start_time": "2023-02-18T14:29:20.381Z"
   },
   {
    "duration": 37,
    "start_time": "2023-02-18T14:29:20.393Z"
   },
   {
    "duration": 3,
    "start_time": "2023-02-18T14:29:20.432Z"
   },
   {
    "duration": 36,
    "start_time": "2023-02-18T14:29:20.437Z"
   },
   {
    "duration": 16,
    "start_time": "2023-02-18T14:29:20.475Z"
   },
   {
    "duration": 11,
    "start_time": "2023-02-18T14:29:20.493Z"
   },
   {
    "duration": 12,
    "start_time": "2023-02-18T14:29:20.506Z"
   },
   {
    "duration": 38,
    "start_time": "2023-02-18T14:29:20.520Z"
   },
   {
    "duration": 10,
    "start_time": "2023-02-18T14:29:20.559Z"
   },
   {
    "duration": 14,
    "start_time": "2023-02-18T14:29:20.571Z"
   },
   {
    "duration": 13,
    "start_time": "2023-02-18T14:29:20.587Z"
   },
   {
    "duration": 19,
    "start_time": "2023-02-18T14:29:20.602Z"
   },
   {
    "duration": 41,
    "start_time": "2023-02-18T14:29:20.622Z"
   },
   {
    "duration": 4,
    "start_time": "2023-02-18T14:29:20.666Z"
   },
   {
    "duration": 12,
    "start_time": "2023-02-18T14:29:20.672Z"
   },
   {
    "duration": 8,
    "start_time": "2023-02-18T14:29:20.686Z"
   },
   {
    "duration": 4,
    "start_time": "2023-02-18T14:29:20.695Z"
   },
   {
    "duration": 21,
    "start_time": "2023-02-18T14:29:20.701Z"
   },
   {
    "duration": 31,
    "start_time": "2023-02-18T14:29:20.724Z"
   },
   {
    "duration": 11,
    "start_time": "2023-02-18T14:29:20.756Z"
   },
   {
    "duration": 10,
    "start_time": "2023-02-18T14:29:20.769Z"
   },
   {
    "duration": 15,
    "start_time": "2023-02-18T14:29:20.780Z"
   },
   {
    "duration": 885,
    "start_time": "2023-02-18T14:29:20.796Z"
   },
   {
    "duration": 0,
    "start_time": "2023-02-18T14:29:21.683Z"
   },
   {
    "duration": 0,
    "start_time": "2023-02-18T14:29:21.684Z"
   },
   {
    "duration": 0,
    "start_time": "2023-02-18T14:29:21.685Z"
   },
   {
    "duration": 174,
    "start_time": "2023-02-18T14:30:53.426Z"
   },
   {
    "duration": 149,
    "start_time": "2023-02-18T14:31:29.230Z"
   },
   {
    "duration": 141,
    "start_time": "2023-02-18T14:35:57.925Z"
   },
   {
    "duration": 144,
    "start_time": "2023-02-18T14:36:40.973Z"
   },
   {
    "duration": 148,
    "start_time": "2023-02-18T14:36:55.510Z"
   },
   {
    "duration": 164,
    "start_time": "2023-02-18T14:37:09.926Z"
   },
   {
    "duration": 165,
    "start_time": "2023-02-18T14:38:21.725Z"
   },
   {
    "duration": 157,
    "start_time": "2023-02-18T14:38:35.801Z"
   },
   {
    "duration": 151,
    "start_time": "2023-02-18T14:39:29.232Z"
   },
   {
    "duration": 220,
    "start_time": "2023-02-18T14:39:52.374Z"
   },
   {
    "duration": 167,
    "start_time": "2023-02-18T14:41:05.592Z"
   },
   {
    "duration": 150,
    "start_time": "2023-02-18T14:41:19.974Z"
   },
   {
    "duration": 1386,
    "start_time": "2023-02-18T14:42:00.061Z"
   },
   {
    "duration": 1127,
    "start_time": "2023-02-18T14:42:15.689Z"
   },
   {
    "duration": 147,
    "start_time": "2023-02-18T14:43:01.232Z"
   },
   {
    "duration": 153,
    "start_time": "2023-02-18T14:43:22.140Z"
   },
   {
    "duration": 153,
    "start_time": "2023-02-18T14:43:55.887Z"
   },
   {
    "duration": 161,
    "start_time": "2023-02-18T14:44:34.299Z"
   },
   {
    "duration": 99,
    "start_time": "2023-02-18T14:47:20.891Z"
   },
   {
    "duration": 143,
    "start_time": "2023-02-18T14:47:28.585Z"
   },
   {
    "duration": 138,
    "start_time": "2023-02-18T14:47:44.386Z"
   },
   {
    "duration": 161,
    "start_time": "2023-02-18T14:48:14.222Z"
   },
   {
    "duration": 145,
    "start_time": "2023-02-18T15:02:29.637Z"
   },
   {
    "duration": 21,
    "start_time": "2023-02-18T15:20:18.584Z"
   },
   {
    "duration": 25,
    "start_time": "2023-02-18T15:20:52.935Z"
   },
   {
    "duration": 21,
    "start_time": "2023-02-18T15:21:08.391Z"
   },
   {
    "duration": 43,
    "start_time": "2023-02-18T15:21:15.525Z"
   },
   {
    "duration": 196,
    "start_time": "2023-02-18T15:21:29.887Z"
   },
   {
    "duration": 29,
    "start_time": "2023-02-18T15:25:59.955Z"
   },
   {
    "duration": 231,
    "start_time": "2023-02-18T15:28:08.229Z"
   },
   {
    "duration": 4,
    "start_time": "2023-02-18T15:36:38.634Z"
   },
   {
    "duration": 4,
    "start_time": "2023-02-18T15:36:41.042Z"
   },
   {
    "duration": 175,
    "start_time": "2023-02-18T15:36:49.529Z"
   },
   {
    "duration": 125,
    "start_time": "2023-02-18T15:37:34.330Z"
   },
   {
    "duration": 137,
    "start_time": "2023-02-18T15:37:46.747Z"
   },
   {
    "duration": 80,
    "start_time": "2023-02-18T15:38:50.730Z"
   },
   {
    "duration": 133,
    "start_time": "2023-02-18T15:39:00.894Z"
   },
   {
    "duration": 18,
    "start_time": "2023-02-18T15:40:31.225Z"
   },
   {
    "duration": 144,
    "start_time": "2023-02-18T15:40:44.278Z"
   },
   {
    "duration": 52,
    "start_time": "2023-02-20T15:10:18.708Z"
   },
   {
    "duration": 573,
    "start_time": "2023-02-20T15:10:27.805Z"
   },
   {
    "duration": 23,
    "start_time": "2023-02-20T15:10:28.380Z"
   },
   {
    "duration": 18,
    "start_time": "2023-02-20T15:10:28.405Z"
   },
   {
    "duration": 19,
    "start_time": "2023-02-20T15:10:28.426Z"
   },
   {
    "duration": 37,
    "start_time": "2023-02-20T15:10:28.447Z"
   },
   {
    "duration": 4,
    "start_time": "2023-02-20T15:10:28.486Z"
   },
   {
    "duration": 29,
    "start_time": "2023-02-20T15:10:28.492Z"
   },
   {
    "duration": 17,
    "start_time": "2023-02-20T15:10:28.523Z"
   },
   {
    "duration": 9,
    "start_time": "2023-02-20T15:10:28.541Z"
   },
   {
    "duration": 5,
    "start_time": "2023-02-20T15:10:28.553Z"
   },
   {
    "duration": 49,
    "start_time": "2023-02-20T15:10:28.560Z"
   },
   {
    "duration": 12,
    "start_time": "2023-02-20T15:10:28.611Z"
   },
   {
    "duration": 5,
    "start_time": "2023-02-20T15:10:28.640Z"
   },
   {
    "duration": 16,
    "start_time": "2023-02-20T15:10:28.646Z"
   },
   {
    "duration": 21,
    "start_time": "2023-02-20T15:10:28.664Z"
   },
   {
    "duration": 22,
    "start_time": "2023-02-20T15:10:28.687Z"
   },
   {
    "duration": 30,
    "start_time": "2023-02-20T15:10:28.710Z"
   },
   {
    "duration": 12,
    "start_time": "2023-02-20T15:10:28.742Z"
   },
   {
    "duration": 13,
    "start_time": "2023-02-20T15:10:28.756Z"
   },
   {
    "duration": 4,
    "start_time": "2023-02-20T15:10:28.771Z"
   },
   {
    "duration": 18,
    "start_time": "2023-02-20T15:10:28.776Z"
   },
   {
    "duration": 10,
    "start_time": "2023-02-20T15:10:28.796Z"
   },
   {
    "duration": 9,
    "start_time": "2023-02-20T15:10:28.808Z"
   },
   {
    "duration": 4,
    "start_time": "2023-02-20T15:10:28.840Z"
   },
   {
    "duration": 15,
    "start_time": "2023-02-20T15:10:28.846Z"
   },
   {
    "duration": 1194,
    "start_time": "2023-02-20T15:10:28.863Z"
   },
   {
    "duration": 165,
    "start_time": "2023-02-20T15:10:30.059Z"
   },
   {
    "duration": 3,
    "start_time": "2023-02-20T15:10:30.227Z"
   },
   {
    "duration": 39,
    "start_time": "2023-02-20T15:10:30.239Z"
   },
   {
    "duration": 34,
    "start_time": "2023-02-20T15:10:30.280Z"
   },
   {
    "duration": 4,
    "start_time": "2023-02-20T15:10:47.673Z"
   },
   {
    "duration": 142,
    "start_time": "2023-02-20T15:13:06.857Z"
   },
   {
    "duration": 3,
    "start_time": "2023-02-20T15:14:03.333Z"
   },
   {
    "duration": 5,
    "start_time": "2023-02-20T15:14:05.916Z"
   },
   {
    "duration": 76,
    "start_time": "2023-02-20T15:14:14.725Z"
   },
   {
    "duration": 5,
    "start_time": "2023-02-20T15:14:32.176Z"
   },
   {
    "duration": 5,
    "start_time": "2023-02-20T15:14:51.748Z"
   },
   {
    "duration": 5,
    "start_time": "2023-02-20T15:15:16.681Z"
   },
   {
    "duration": 106,
    "start_time": "2023-02-20T15:16:59.928Z"
   },
   {
    "duration": 4,
    "start_time": "2023-02-20T15:17:35.917Z"
   },
   {
    "duration": 4,
    "start_time": "2023-02-20T15:17:49.973Z"
   },
   {
    "duration": 4,
    "start_time": "2023-02-20T15:19:26.149Z"
   },
   {
    "duration": 5,
    "start_time": "2023-02-20T15:20:10.284Z"
   },
   {
    "duration": 5,
    "start_time": "2023-02-20T15:21:18.564Z"
   },
   {
    "duration": 7,
    "start_time": "2023-02-20T15:21:37.800Z"
   },
   {
    "duration": 12,
    "start_time": "2023-02-20T15:25:09.024Z"
   },
   {
    "duration": 8,
    "start_time": "2023-02-20T15:25:21.253Z"
   },
   {
    "duration": 10,
    "start_time": "2023-02-20T15:25:37.872Z"
   },
   {
    "duration": 5,
    "start_time": "2023-02-20T15:26:04.579Z"
   },
   {
    "duration": 4,
    "start_time": "2023-02-20T15:26:12.513Z"
   },
   {
    "duration": 6,
    "start_time": "2023-02-20T15:26:40.464Z"
   },
   {
    "duration": 5,
    "start_time": "2023-02-20T15:26:50.975Z"
   },
   {
    "duration": 5,
    "start_time": "2023-02-20T15:27:01.836Z"
   },
   {
    "duration": 10,
    "start_time": "2023-02-20T15:27:38.192Z"
   },
   {
    "duration": 12,
    "start_time": "2023-02-20T15:27:55.444Z"
   },
   {
    "duration": 1173,
    "start_time": "2023-02-20T15:28:14.127Z"
   },
   {
    "duration": 171,
    "start_time": "2023-02-20T15:28:35.900Z"
   },
   {
    "duration": 5,
    "start_time": "2023-02-20T15:30:00.674Z"
   },
   {
    "duration": 10,
    "start_time": "2023-02-20T15:30:37.195Z"
   },
   {
    "duration": 4,
    "start_time": "2023-02-20T15:30:59.733Z"
   },
   {
    "duration": 6,
    "start_time": "2023-02-20T15:31:08.457Z"
   },
   {
    "duration": 5,
    "start_time": "2023-02-20T15:31:32.537Z"
   },
   {
    "duration": 4,
    "start_time": "2023-02-20T15:33:40.996Z"
   },
   {
    "duration": 7,
    "start_time": "2023-02-20T15:33:43.933Z"
   },
   {
    "duration": 76,
    "start_time": "2023-02-20T15:34:00.664Z"
   },
   {
    "duration": 75,
    "start_time": "2023-02-20T15:34:08.336Z"
   },
   {
    "duration": 5,
    "start_time": "2023-02-20T15:34:12.364Z"
   },
   {
    "duration": 8,
    "start_time": "2023-02-20T15:34:22.405Z"
   },
   {
    "duration": 5,
    "start_time": "2023-02-20T15:34:47.737Z"
   },
   {
    "duration": 5,
    "start_time": "2023-02-20T15:34:55.480Z"
   },
   {
    "duration": 6,
    "start_time": "2023-02-20T15:36:22.889Z"
   },
   {
    "duration": 6,
    "start_time": "2023-02-20T15:36:38.948Z"
   },
   {
    "duration": 1204,
    "start_time": "2023-02-20T15:37:16.156Z"
   },
   {
    "duration": 1181,
    "start_time": "2023-02-20T15:37:34.388Z"
   },
   {
    "duration": 1146,
    "start_time": "2023-02-20T15:37:49.200Z"
   },
   {
    "duration": 5,
    "start_time": "2023-02-20T15:37:56.652Z"
   },
   {
    "duration": 7,
    "start_time": "2023-02-20T15:38:44.780Z"
   },
   {
    "duration": 19,
    "start_time": "2023-02-20T15:38:48.664Z"
   },
   {
    "duration": 15,
    "start_time": "2023-02-20T15:39:11.852Z"
   },
   {
    "duration": 6,
    "start_time": "2023-02-20T15:39:30.296Z"
   },
   {
    "duration": 7,
    "start_time": "2023-02-20T15:40:49.433Z"
   },
   {
    "duration": 1241,
    "start_time": "2023-02-20T15:41:00.383Z"
   },
   {
    "duration": 6,
    "start_time": "2023-02-20T15:41:07.136Z"
   },
   {
    "duration": 15,
    "start_time": "2023-02-20T15:41:21.383Z"
   },
   {
    "duration": 5,
    "start_time": "2023-02-20T15:41:27.020Z"
   },
   {
    "duration": 8,
    "start_time": "2023-02-20T15:41:54.021Z"
   },
   {
    "duration": 5,
    "start_time": "2023-02-20T15:42:21.588Z"
   },
   {
    "duration": 7,
    "start_time": "2023-02-20T15:42:45.872Z"
   },
   {
    "duration": 6,
    "start_time": "2023-02-20T15:42:53.104Z"
   },
   {
    "duration": 7,
    "start_time": "2023-02-20T15:42:57.631Z"
   },
   {
    "duration": 6,
    "start_time": "2023-02-20T15:43:00.180Z"
   },
   {
    "duration": 6,
    "start_time": "2023-02-20T15:43:13.544Z"
   },
   {
    "duration": 5,
    "start_time": "2023-02-20T15:43:18.328Z"
   },
   {
    "duration": 5,
    "start_time": "2023-02-20T15:43:27.428Z"
   },
   {
    "duration": 6,
    "start_time": "2023-02-20T15:43:42.036Z"
   },
   {
    "duration": 5,
    "start_time": "2023-02-20T15:44:35.772Z"
   },
   {
    "duration": 7,
    "start_time": "2023-02-20T15:44:42.681Z"
   },
   {
    "duration": 6,
    "start_time": "2023-02-20T15:44:54.259Z"
   },
   {
    "duration": 5,
    "start_time": "2023-02-20T15:45:31.803Z"
   },
   {
    "duration": 7,
    "start_time": "2023-02-20T15:46:47.915Z"
   },
   {
    "duration": 5,
    "start_time": "2023-02-20T15:47:31.231Z"
   },
   {
    "duration": 11,
    "start_time": "2023-02-20T15:47:38.164Z"
   },
   {
    "duration": 11,
    "start_time": "2023-02-20T15:47:42.148Z"
   },
   {
    "duration": 6,
    "start_time": "2023-02-20T15:47:45.859Z"
   },
   {
    "duration": 12,
    "start_time": "2023-02-20T15:47:49.048Z"
   },
   {
    "duration": 6,
    "start_time": "2023-02-20T15:47:51.847Z"
   },
   {
    "duration": 11,
    "start_time": "2023-02-20T15:49:51.695Z"
   },
   {
    "duration": 12,
    "start_time": "2023-02-20T15:50:01.723Z"
   },
   {
    "duration": 10,
    "start_time": "2023-02-20T15:50:15.007Z"
   },
   {
    "duration": 10,
    "start_time": "2023-02-20T15:50:30.491Z"
   },
   {
    "duration": 8,
    "start_time": "2023-02-20T15:50:37.551Z"
   },
   {
    "duration": 6,
    "start_time": "2023-02-20T15:50:50.172Z"
   },
   {
    "duration": 1213,
    "start_time": "2023-02-20T15:51:10.075Z"
   },
   {
    "duration": 1100,
    "start_time": "2023-02-20T15:51:16.543Z"
   },
   {
    "duration": 1197,
    "start_time": "2023-02-20T15:51:35.813Z"
   },
   {
    "duration": 1293,
    "start_time": "2023-02-20T15:51:46.423Z"
   },
   {
    "duration": 5,
    "start_time": "2023-02-20T15:51:51.091Z"
   },
   {
    "duration": 5,
    "start_time": "2023-02-20T15:52:00.367Z"
   },
   {
    "duration": 20,
    "start_time": "2023-02-20T15:54:30.530Z"
   },
   {
    "duration": 19,
    "start_time": "2023-02-20T15:54:39.051Z"
   },
   {
    "duration": 16,
    "start_time": "2023-02-20T15:54:42.962Z"
   },
   {
    "duration": 18,
    "start_time": "2023-02-20T15:54:51.508Z"
   },
   {
    "duration": 16,
    "start_time": "2023-02-20T15:55:46.586Z"
   },
   {
    "duration": 19,
    "start_time": "2023-02-20T15:55:54.582Z"
   },
   {
    "duration": 5,
    "start_time": "2023-02-20T15:57:13.294Z"
   },
   {
    "duration": 6,
    "start_time": "2023-02-20T15:57:21.930Z"
   },
   {
    "duration": 5,
    "start_time": "2023-02-20T15:57:44.931Z"
   },
   {
    "duration": 4,
    "start_time": "2023-02-20T15:58:55.582Z"
   },
   {
    "duration": 5,
    "start_time": "2023-02-20T15:59:03.702Z"
   },
   {
    "duration": 75,
    "start_time": "2023-02-20T16:00:33.653Z"
   },
   {
    "duration": 1205,
    "start_time": "2023-02-20T16:00:38.646Z"
   },
   {
    "duration": 1360,
    "start_time": "2023-02-20T16:00:45.269Z"
   },
   {
    "duration": 1138,
    "start_time": "2023-02-20T16:00:49.646Z"
   },
   {
    "duration": 1194,
    "start_time": "2023-02-20T16:00:59.909Z"
   },
   {
    "duration": 1173,
    "start_time": "2023-02-20T16:01:09.067Z"
   },
   {
    "duration": 73,
    "start_time": "2023-02-20T16:01:27.604Z"
   },
   {
    "duration": 1129,
    "start_time": "2023-02-20T16:01:33.001Z"
   },
   {
    "duration": 1157,
    "start_time": "2023-02-20T16:01:46.483Z"
   },
   {
    "duration": 1184,
    "start_time": "2023-02-20T16:01:52.458Z"
   },
   {
    "duration": 1221,
    "start_time": "2023-02-20T16:01:57.421Z"
   },
   {
    "duration": 1156,
    "start_time": "2023-02-20T16:02:15.601Z"
   },
   {
    "duration": 6,
    "start_time": "2023-02-20T16:02:40.985Z"
   },
   {
    "duration": 84,
    "start_time": "2023-02-20T16:06:59.801Z"
   },
   {
    "duration": 4,
    "start_time": "2023-02-20T16:07:09.733Z"
   },
   {
    "duration": 4,
    "start_time": "2023-02-20T16:07:27.101Z"
   },
   {
    "duration": 4,
    "start_time": "2023-02-20T16:09:57.789Z"
   },
   {
    "duration": 5,
    "start_time": "2023-02-20T16:13:14.544Z"
   },
   {
    "duration": 4,
    "start_time": "2023-02-20T16:13:41.789Z"
   },
   {
    "duration": 4,
    "start_time": "2023-02-20T16:13:56.577Z"
   },
   {
    "duration": 4,
    "start_time": "2023-02-20T16:20:13.784Z"
   },
   {
    "duration": 13,
    "start_time": "2023-02-20T16:20:17.120Z"
   },
   {
    "duration": 12,
    "start_time": "2023-02-20T16:20:28.691Z"
   },
   {
    "duration": 12,
    "start_time": "2023-02-20T16:20:49.796Z"
   },
   {
    "duration": 8,
    "start_time": "2023-02-20T16:20:59.879Z"
   },
   {
    "duration": 7,
    "start_time": "2023-02-20T16:21:41.768Z"
   },
   {
    "duration": 14,
    "start_time": "2023-02-20T16:21:53.763Z"
   },
   {
    "duration": 8,
    "start_time": "2023-02-20T16:22:03.767Z"
   },
   {
    "duration": 6,
    "start_time": "2023-02-20T16:22:25.397Z"
   },
   {
    "duration": 6,
    "start_time": "2023-02-20T16:22:52.879Z"
   },
   {
    "duration": 7,
    "start_time": "2023-02-20T16:29:07.802Z"
   },
   {
    "duration": 5,
    "start_time": "2023-02-20T16:30:08.498Z"
   },
   {
    "duration": 149,
    "start_time": "2023-02-20T16:31:12.614Z"
   },
   {
    "duration": 177,
    "start_time": "2023-02-20T16:31:35.838Z"
   },
   {
    "duration": 138,
    "start_time": "2023-02-20T16:32:30.384Z"
   },
   {
    "duration": 242,
    "start_time": "2023-02-20T16:32:45.962Z"
   },
   {
    "duration": 149,
    "start_time": "2023-02-20T16:42:45.529Z"
   },
   {
    "duration": 158,
    "start_time": "2023-02-20T16:44:25.801Z"
   },
   {
    "duration": 163,
    "start_time": "2023-02-20T16:53:17.322Z"
   },
   {
    "duration": 181,
    "start_time": "2023-02-20T16:53:40.415Z"
   },
   {
    "duration": 130,
    "start_time": "2023-02-20T16:55:10.252Z"
   },
   {
    "duration": 7,
    "start_time": "2023-02-20T16:58:47.039Z"
   },
   {
    "duration": 146,
    "start_time": "2023-02-20T16:59:41.455Z"
   },
   {
    "duration": 149,
    "start_time": "2023-02-20T17:00:02.095Z"
   },
   {
    "duration": 155,
    "start_time": "2023-02-20T17:00:36.247Z"
   },
   {
    "duration": 146,
    "start_time": "2023-02-20T17:00:50.399Z"
   },
   {
    "duration": 22,
    "start_time": "2023-02-20T17:08:12.946Z"
   },
   {
    "duration": 157,
    "start_time": "2023-02-20T17:15:03.593Z"
   },
   {
    "duration": 132,
    "start_time": "2023-02-20T17:15:17.285Z"
   },
   {
    "duration": 233,
    "start_time": "2023-02-20T17:22:15.661Z"
   },
   {
    "duration": 141,
    "start_time": "2023-02-20T17:23:45.484Z"
   },
   {
    "duration": 140,
    "start_time": "2023-02-20T17:36:21.916Z"
   },
   {
    "duration": 71,
    "start_time": "2023-02-20T17:46:02.390Z"
   },
   {
    "duration": 43,
    "start_time": "2023-02-20T17:46:19.741Z"
   },
   {
    "duration": 154,
    "start_time": "2023-02-20T17:46:43.289Z"
   },
   {
    "duration": 5,
    "start_time": "2023-02-20T17:47:16.777Z"
   },
   {
    "duration": 4,
    "start_time": "2023-02-20T17:47:42.249Z"
   },
   {
    "duration": 4,
    "start_time": "2023-02-20T17:49:42.810Z"
   },
   {
    "duration": 3,
    "start_time": "2023-02-20T17:49:46.778Z"
   },
   {
    "duration": 4,
    "start_time": "2023-02-20T17:49:50.945Z"
   },
   {
    "duration": 4,
    "start_time": "2023-02-20T17:50:13.607Z"
   },
   {
    "duration": 10,
    "start_time": "2023-02-20T17:50:57.496Z"
   },
   {
    "duration": 9,
    "start_time": "2023-02-20T17:51:03.957Z"
   },
   {
    "duration": 9,
    "start_time": "2023-02-20T17:51:11.753Z"
   },
   {
    "duration": 8,
    "start_time": "2023-02-20T17:51:16.116Z"
   },
   {
    "duration": 4,
    "start_time": "2023-02-20T17:52:11.516Z"
   },
   {
    "duration": 4,
    "start_time": "2023-02-20T17:52:27.400Z"
   },
   {
    "duration": 4,
    "start_time": "2023-02-20T17:53:52.477Z"
   },
   {
    "duration": 4,
    "start_time": "2023-02-20T17:54:00.333Z"
   },
   {
    "duration": 150,
    "start_time": "2023-02-20T18:05:22.904Z"
   },
   {
    "duration": 162,
    "start_time": "2023-02-20T18:07:31.580Z"
   },
   {
    "duration": 45,
    "start_time": "2023-02-20T18:09:17.820Z"
   },
   {
    "duration": 39,
    "start_time": "2023-02-20T18:09:42.358Z"
   },
   {
    "duration": 42,
    "start_time": "2023-02-20T18:10:03.786Z"
   },
   {
    "duration": 161,
    "start_time": "2023-02-20T18:11:28.416Z"
   },
   {
    "duration": 152,
    "start_time": "2023-02-20T18:12:02.918Z"
   },
   {
    "duration": 155,
    "start_time": "2023-02-20T18:12:24.035Z"
   },
   {
    "duration": 26,
    "start_time": "2023-02-20T18:24:17.846Z"
   },
   {
    "duration": 502,
    "start_time": "2023-02-21T14:10:26.427Z"
   },
   {
    "duration": 26,
    "start_time": "2023-02-21T14:10:26.931Z"
   },
   {
    "duration": 15,
    "start_time": "2023-02-21T14:10:26.958Z"
   },
   {
    "duration": 9,
    "start_time": "2023-02-21T14:10:26.975Z"
   },
   {
    "duration": 45,
    "start_time": "2023-02-21T14:10:26.986Z"
   },
   {
    "duration": 3,
    "start_time": "2023-02-21T14:10:27.033Z"
   },
   {
    "duration": 16,
    "start_time": "2023-02-21T14:10:27.038Z"
   },
   {
    "duration": 5,
    "start_time": "2023-02-21T14:10:27.056Z"
   },
   {
    "duration": 10,
    "start_time": "2023-02-21T14:10:27.062Z"
   },
   {
    "duration": 32,
    "start_time": "2023-02-21T14:10:27.073Z"
   },
   {
    "duration": 36,
    "start_time": "2023-02-21T14:10:27.107Z"
   },
   {
    "duration": 9,
    "start_time": "2023-02-21T14:10:27.145Z"
   },
   {
    "duration": 6,
    "start_time": "2023-02-21T14:10:27.155Z"
   },
   {
    "duration": 13,
    "start_time": "2023-02-21T14:10:27.163Z"
   },
   {
    "duration": 41,
    "start_time": "2023-02-21T14:10:27.178Z"
   },
   {
    "duration": 20,
    "start_time": "2023-02-21T14:10:27.221Z"
   },
   {
    "duration": 13,
    "start_time": "2023-02-21T14:10:27.244Z"
   },
   {
    "duration": 19,
    "start_time": "2023-02-21T14:10:27.258Z"
   },
   {
    "duration": 9,
    "start_time": "2023-02-21T14:10:27.279Z"
   },
   {
    "duration": 4,
    "start_time": "2023-02-21T14:10:27.303Z"
   },
   {
    "duration": 12,
    "start_time": "2023-02-21T14:10:27.308Z"
   },
   {
    "duration": 842,
    "start_time": "2023-02-21T14:10:27.321Z"
   },
   {
    "duration": 0,
    "start_time": "2023-02-21T14:10:28.164Z"
   },
   {
    "duration": 0,
    "start_time": "2023-02-21T14:10:28.165Z"
   },
   {
    "duration": 0,
    "start_time": "2023-02-21T14:10:28.167Z"
   },
   {
    "duration": 0,
    "start_time": "2023-02-21T14:10:28.168Z"
   },
   {
    "duration": 1355,
    "start_time": "2023-02-21T19:36:00.423Z"
   },
   {
    "duration": 9,
    "start_time": "2023-02-21T19:37:23.608Z"
   },
   {
    "duration": 672,
    "start_time": "2023-02-21T19:40:10.927Z"
   },
   {
    "duration": 22,
    "start_time": "2023-02-21T19:40:11.601Z"
   },
   {
    "duration": 13,
    "start_time": "2023-02-21T19:40:11.624Z"
   },
   {
    "duration": 8,
    "start_time": "2023-02-21T19:40:11.639Z"
   },
   {
    "duration": 33,
    "start_time": "2023-02-21T19:40:11.649Z"
   },
   {
    "duration": 3,
    "start_time": "2023-02-21T19:40:11.683Z"
   },
   {
    "duration": 10,
    "start_time": "2023-02-21T19:40:11.687Z"
   },
   {
    "duration": 4,
    "start_time": "2023-02-21T19:40:11.699Z"
   },
   {
    "duration": 13,
    "start_time": "2023-02-21T19:40:11.704Z"
   },
   {
    "duration": 9,
    "start_time": "2023-02-21T19:40:11.719Z"
   },
   {
    "duration": 39,
    "start_time": "2023-02-21T19:40:11.729Z"
   },
   {
    "duration": 8,
    "start_time": "2023-02-21T19:40:11.770Z"
   },
   {
    "duration": 14,
    "start_time": "2023-02-21T19:40:11.779Z"
   },
   {
    "duration": 22,
    "start_time": "2023-02-21T19:40:11.795Z"
   },
   {
    "duration": 23,
    "start_time": "2023-02-21T19:40:11.819Z"
   },
   {
    "duration": 19,
    "start_time": "2023-02-21T19:40:11.843Z"
   },
   {
    "duration": 28,
    "start_time": "2023-02-21T19:40:11.864Z"
   },
   {
    "duration": 19,
    "start_time": "2023-02-21T19:40:11.894Z"
   },
   {
    "duration": 12,
    "start_time": "2023-02-21T19:40:11.914Z"
   },
   {
    "duration": 11,
    "start_time": "2023-02-21T19:40:11.928Z"
   },
   {
    "duration": 20,
    "start_time": "2023-02-21T19:40:11.941Z"
   },
   {
    "duration": 808,
    "start_time": "2023-02-21T19:40:11.963Z"
   },
   {
    "duration": 127,
    "start_time": "2023-02-21T19:40:12.773Z"
   },
   {
    "duration": 0,
    "start_time": "2023-02-21T19:40:12.902Z"
   },
   {
    "duration": 0,
    "start_time": "2023-02-21T19:40:12.903Z"
   },
   {
    "duration": 0,
    "start_time": "2023-02-21T19:40:12.904Z"
   },
   {
    "duration": 8,
    "start_time": "2023-02-21T19:41:35.471Z"
   },
   {
    "duration": 455,
    "start_time": "2023-02-21T19:41:46.738Z"
   },
   {
    "duration": 21,
    "start_time": "2023-02-21T19:41:47.195Z"
   },
   {
    "duration": 28,
    "start_time": "2023-02-21T19:41:47.217Z"
   },
   {
    "duration": 8,
    "start_time": "2023-02-21T19:41:47.247Z"
   },
   {
    "duration": 36,
    "start_time": "2023-02-21T19:41:47.257Z"
   },
   {
    "duration": 2,
    "start_time": "2023-02-21T19:41:47.295Z"
   },
   {
    "duration": 12,
    "start_time": "2023-02-21T19:41:47.299Z"
   },
   {
    "duration": 3,
    "start_time": "2023-02-21T19:41:47.312Z"
   },
   {
    "duration": 6,
    "start_time": "2023-02-21T19:41:47.317Z"
   },
   {
    "duration": 4,
    "start_time": "2023-02-21T19:41:47.347Z"
   },
   {
    "duration": 37,
    "start_time": "2023-02-21T19:41:47.352Z"
   },
   {
    "duration": 8,
    "start_time": "2023-02-21T19:41:47.391Z"
   },
   {
    "duration": 5,
    "start_time": "2023-02-21T19:41:47.401Z"
   },
   {
    "duration": 12,
    "start_time": "2023-02-21T19:41:47.407Z"
   },
   {
    "duration": 31,
    "start_time": "2023-02-21T19:41:47.421Z"
   },
   {
    "duration": 17,
    "start_time": "2023-02-21T19:41:47.453Z"
   },
   {
    "duration": 4,
    "start_time": "2023-02-21T19:41:47.471Z"
   },
   {
    "duration": 13,
    "start_time": "2023-02-21T19:41:47.476Z"
   },
   {
    "duration": 10,
    "start_time": "2023-02-21T19:41:47.491Z"
   },
   {
    "duration": 4,
    "start_time": "2023-02-21T19:41:47.503Z"
   },
   {
    "duration": 12,
    "start_time": "2023-02-21T19:41:47.508Z"
   },
   {
    "duration": 904,
    "start_time": "2023-02-21T19:41:47.522Z"
   },
   {
    "duration": 5,
    "start_time": "2023-02-21T19:41:48.428Z"
   },
   {
    "duration": 154,
    "start_time": "2023-02-21T19:41:48.448Z"
   },
   {
    "duration": 147,
    "start_time": "2023-02-21T19:41:48.604Z"
   },
   {
    "duration": 152,
    "start_time": "2023-02-21T19:41:48.753Z"
   },
   {
    "duration": 454,
    "start_time": "2023-02-21T19:44:42.378Z"
   },
   {
    "duration": 27,
    "start_time": "2023-02-21T19:44:42.834Z"
   },
   {
    "duration": 17,
    "start_time": "2023-02-21T19:44:42.862Z"
   },
   {
    "duration": 11,
    "start_time": "2023-02-21T19:44:42.881Z"
   },
   {
    "duration": 38,
    "start_time": "2023-02-21T19:44:42.894Z"
   },
   {
    "duration": 15,
    "start_time": "2023-02-21T19:44:42.934Z"
   },
   {
    "duration": 10,
    "start_time": "2023-02-21T19:44:42.950Z"
   },
   {
    "duration": 17,
    "start_time": "2023-02-21T19:44:42.961Z"
   },
   {
    "duration": 141,
    "start_time": "2023-02-21T19:44:42.979Z"
   },
   {
    "duration": 64,
    "start_time": "2023-02-21T19:44:43.122Z"
   },
   {
    "duration": 70,
    "start_time": "2023-02-21T19:44:43.188Z"
   },
   {
    "duration": 9,
    "start_time": "2023-02-21T19:44:43.260Z"
   },
   {
    "duration": 8,
    "start_time": "2023-02-21T19:44:43.270Z"
   },
   {
    "duration": 18,
    "start_time": "2023-02-21T19:44:43.280Z"
   },
   {
    "duration": 24,
    "start_time": "2023-02-21T19:44:43.299Z"
   },
   {
    "duration": 23,
    "start_time": "2023-02-21T19:44:43.325Z"
   },
   {
    "duration": 3,
    "start_time": "2023-02-21T19:44:43.349Z"
   },
   {
    "duration": 11,
    "start_time": "2023-02-21T19:44:43.354Z"
   },
   {
    "duration": 5,
    "start_time": "2023-02-21T19:44:43.366Z"
   },
   {
    "duration": 9,
    "start_time": "2023-02-21T19:44:43.373Z"
   },
   {
    "duration": 17,
    "start_time": "2023-02-21T19:44:43.383Z"
   },
   {
    "duration": 812,
    "start_time": "2023-02-21T19:44:43.401Z"
   },
   {
    "duration": 6,
    "start_time": "2023-02-21T19:44:44.214Z"
   },
   {
    "duration": 150,
    "start_time": "2023-02-21T19:44:44.222Z"
   },
   {
    "duration": 130,
    "start_time": "2023-02-21T19:44:44.374Z"
   },
   {
    "duration": 128,
    "start_time": "2023-02-21T19:44:44.506Z"
   },
   {
    "duration": 503,
    "start_time": "2023-02-21T19:47:42.527Z"
   },
   {
    "duration": 24,
    "start_time": "2023-02-21T19:47:43.032Z"
   },
   {
    "duration": 15,
    "start_time": "2023-02-21T19:47:43.058Z"
   },
   {
    "duration": 16,
    "start_time": "2023-02-21T19:47:43.075Z"
   },
   {
    "duration": 41,
    "start_time": "2023-02-21T19:47:43.093Z"
   },
   {
    "duration": 13,
    "start_time": "2023-02-21T19:47:43.135Z"
   },
   {
    "duration": 10,
    "start_time": "2023-02-21T19:47:43.150Z"
   },
   {
    "duration": 4,
    "start_time": "2023-02-21T19:47:43.161Z"
   },
   {
    "duration": 10,
    "start_time": "2023-02-21T19:47:43.166Z"
   },
   {
    "duration": 4,
    "start_time": "2023-02-21T19:47:43.178Z"
   },
   {
    "duration": 33,
    "start_time": "2023-02-21T19:47:43.184Z"
   },
   {
    "duration": 32,
    "start_time": "2023-02-21T19:47:43.218Z"
   },
   {
    "duration": 16,
    "start_time": "2023-02-21T19:47:43.251Z"
   },
   {
    "duration": 18,
    "start_time": "2023-02-21T19:47:43.269Z"
   },
   {
    "duration": 25,
    "start_time": "2023-02-21T19:47:43.288Z"
   },
   {
    "duration": 16,
    "start_time": "2023-02-21T19:47:43.314Z"
   },
   {
    "duration": 4,
    "start_time": "2023-02-21T19:47:43.331Z"
   },
   {
    "duration": 18,
    "start_time": "2023-02-21T19:47:43.336Z"
   },
   {
    "duration": 6,
    "start_time": "2023-02-21T19:47:43.355Z"
   },
   {
    "duration": 5,
    "start_time": "2023-02-21T19:47:43.363Z"
   },
   {
    "duration": 12,
    "start_time": "2023-02-21T19:47:43.370Z"
   },
   {
    "duration": 828,
    "start_time": "2023-02-21T19:47:43.383Z"
   },
   {
    "duration": 6,
    "start_time": "2023-02-21T19:47:44.213Z"
   },
   {
    "duration": 145,
    "start_time": "2023-02-21T19:47:44.221Z"
   },
   {
    "duration": 131,
    "start_time": "2023-02-21T19:47:44.368Z"
   },
   {
    "duration": 124,
    "start_time": "2023-02-21T19:47:44.501Z"
   },
   {
    "duration": 463,
    "start_time": "2023-02-21T23:21:35.780Z"
   },
   {
    "duration": 23,
    "start_time": "2023-02-21T23:21:36.245Z"
   },
   {
    "duration": 13,
    "start_time": "2023-02-21T23:21:36.271Z"
   },
   {
    "duration": 20,
    "start_time": "2023-02-21T23:21:36.286Z"
   },
   {
    "duration": 31,
    "start_time": "2023-02-21T23:21:36.308Z"
   },
   {
    "duration": 3,
    "start_time": "2023-02-21T23:21:36.340Z"
   },
   {
    "duration": 16,
    "start_time": "2023-02-21T23:21:36.345Z"
   },
   {
    "duration": 6,
    "start_time": "2023-02-21T23:21:36.362Z"
   },
   {
    "duration": 8,
    "start_time": "2023-02-21T23:21:36.372Z"
   },
   {
    "duration": 23,
    "start_time": "2023-02-21T23:21:36.382Z"
   },
   {
    "duration": 34,
    "start_time": "2023-02-21T23:21:36.407Z"
   },
   {
    "duration": 9,
    "start_time": "2023-02-21T23:21:36.442Z"
   },
   {
    "duration": 5,
    "start_time": "2023-02-21T23:21:36.452Z"
   },
   {
    "duration": 14,
    "start_time": "2023-02-21T23:21:36.458Z"
   },
   {
    "duration": 37,
    "start_time": "2023-02-21T23:21:36.474Z"
   },
   {
    "duration": 15,
    "start_time": "2023-02-21T23:21:36.512Z"
   },
   {
    "duration": 3,
    "start_time": "2023-02-21T23:21:36.529Z"
   },
   {
    "duration": 11,
    "start_time": "2023-02-21T23:21:36.534Z"
   },
   {
    "duration": 6,
    "start_time": "2023-02-21T23:21:36.546Z"
   },
   {
    "duration": 4,
    "start_time": "2023-02-21T23:21:36.553Z"
   },
   {
    "duration": 11,
    "start_time": "2023-02-21T23:21:36.558Z"
   },
   {
    "duration": 916,
    "start_time": "2023-02-21T23:21:36.570Z"
   },
   {
    "duration": 5,
    "start_time": "2023-02-21T23:21:37.488Z"
   },
   {
    "duration": 145,
    "start_time": "2023-02-21T23:21:37.504Z"
   },
   {
    "duration": 137,
    "start_time": "2023-02-21T23:21:37.650Z"
   },
   {
    "duration": 148,
    "start_time": "2023-02-21T23:21:37.788Z"
   },
   {
    "duration": 864,
    "start_time": "2023-09-11T16:00:11.981Z"
   },
   {
    "duration": 28,
    "start_time": "2023-09-11T16:00:12.847Z"
   },
   {
    "duration": 50,
    "start_time": "2023-09-11T16:00:12.877Z"
   },
   {
    "duration": 38,
    "start_time": "2023-09-11T16:00:12.928Z"
   },
   {
    "duration": 82,
    "start_time": "2023-09-11T16:00:12.969Z"
   },
   {
    "duration": 4,
    "start_time": "2023-09-11T16:00:13.053Z"
   },
   {
    "duration": 48,
    "start_time": "2023-09-11T16:00:13.058Z"
   },
   {
    "duration": 30,
    "start_time": "2023-09-11T16:00:13.107Z"
   },
   {
    "duration": 54,
    "start_time": "2023-09-11T16:00:13.139Z"
   },
   {
    "duration": 26,
    "start_time": "2023-09-11T16:00:13.194Z"
   },
   {
    "duration": 83,
    "start_time": "2023-09-11T16:00:13.222Z"
   },
   {
    "duration": 12,
    "start_time": "2023-09-11T16:00:13.306Z"
   },
   {
    "duration": 21,
    "start_time": "2023-09-11T16:00:13.320Z"
   },
   {
    "duration": 88,
    "start_time": "2023-09-11T16:00:13.344Z"
   },
   {
    "duration": 54,
    "start_time": "2023-09-11T16:00:13.434Z"
   },
   {
    "duration": 28,
    "start_time": "2023-09-11T16:00:13.490Z"
   },
   {
    "duration": 18,
    "start_time": "2023-09-11T16:00:13.520Z"
   },
   {
    "duration": 42,
    "start_time": "2023-09-11T16:00:13.540Z"
   },
   {
    "duration": 33,
    "start_time": "2023-09-11T16:00:13.584Z"
   },
   {
    "duration": 30,
    "start_time": "2023-09-11T16:00:13.618Z"
   },
   {
    "duration": 53,
    "start_time": "2023-09-11T16:00:13.650Z"
   },
   {
    "duration": 1152,
    "start_time": "2023-09-11T16:00:13.705Z"
   },
   {
    "duration": 8,
    "start_time": "2023-09-11T16:00:14.859Z"
   },
   {
    "duration": 194,
    "start_time": "2023-09-11T16:00:14.869Z"
   },
   {
    "duration": 171,
    "start_time": "2023-09-11T16:00:15.065Z"
   },
   {
    "duration": 171,
    "start_time": "2023-09-11T16:00:15.238Z"
   },
   {
    "duration": 531,
    "start_time": "2023-09-11T16:03:21.908Z"
   },
   {
    "duration": 37,
    "start_time": "2023-09-11T16:03:22.442Z"
   },
   {
    "duration": 36,
    "start_time": "2023-09-11T16:03:22.481Z"
   },
   {
    "duration": 17,
    "start_time": "2023-09-11T16:03:22.520Z"
   },
   {
    "duration": 78,
    "start_time": "2023-09-11T16:03:22.540Z"
   },
   {
    "duration": 4,
    "start_time": "2023-09-11T16:03:22.621Z"
   },
   {
    "duration": 13,
    "start_time": "2023-09-11T16:03:22.627Z"
   },
   {
    "duration": 4,
    "start_time": "2023-09-11T16:03:22.642Z"
   },
   {
    "duration": 9,
    "start_time": "2023-09-11T16:03:22.647Z"
   },
   {
    "duration": 6,
    "start_time": "2023-09-11T16:03:22.658Z"
   },
   {
    "duration": 73,
    "start_time": "2023-09-11T16:03:22.666Z"
   },
   {
    "duration": 11,
    "start_time": "2023-09-11T16:03:22.741Z"
   },
   {
    "duration": 3,
    "start_time": "2023-09-11T16:03:22.754Z"
   },
   {
    "duration": 13,
    "start_time": "2023-09-11T16:03:22.760Z"
   },
   {
    "duration": 46,
    "start_time": "2023-09-11T16:03:22.774Z"
   },
   {
    "duration": 18,
    "start_time": "2023-09-11T16:03:22.822Z"
   },
   {
    "duration": 3,
    "start_time": "2023-09-11T16:03:22.842Z"
   },
   {
    "duration": 15,
    "start_time": "2023-09-11T16:03:22.847Z"
   },
   {
    "duration": 10,
    "start_time": "2023-09-11T16:03:22.864Z"
   },
   {
    "duration": 35,
    "start_time": "2023-09-11T16:03:22.876Z"
   },
   {
    "duration": 13,
    "start_time": "2023-09-11T16:03:22.913Z"
   },
   {
    "duration": 938,
    "start_time": "2023-09-11T16:03:22.928Z"
   },
   {
    "duration": 7,
    "start_time": "2023-09-11T16:03:23.867Z"
   },
   {
    "duration": 176,
    "start_time": "2023-09-11T16:03:23.875Z"
   },
   {
    "duration": 164,
    "start_time": "2023-09-11T16:03:24.053Z"
   },
   {
    "duration": 159,
    "start_time": "2023-09-11T16:03:24.219Z"
   },
   {
    "duration": 518,
    "start_time": "2023-09-11T16:08:17.627Z"
   },
   {
    "duration": 26,
    "start_time": "2023-09-11T16:08:18.147Z"
   },
   {
    "duration": 34,
    "start_time": "2023-09-11T16:08:18.175Z"
   },
   {
    "duration": 12,
    "start_time": "2023-09-11T16:08:18.212Z"
   },
   {
    "duration": 39,
    "start_time": "2023-09-11T16:08:18.226Z"
   },
   {
    "duration": 4,
    "start_time": "2023-09-11T16:08:18.268Z"
   },
   {
    "duration": 37,
    "start_time": "2023-09-11T16:08:18.273Z"
   },
   {
    "duration": 4,
    "start_time": "2023-09-11T16:08:18.312Z"
   },
   {
    "duration": 9,
    "start_time": "2023-09-11T16:08:18.318Z"
   },
   {
    "duration": 5,
    "start_time": "2023-09-11T16:08:18.330Z"
   },
   {
    "duration": 43,
    "start_time": "2023-09-11T16:08:18.337Z"
   },
   {
    "duration": 36,
    "start_time": "2023-09-11T16:08:18.382Z"
   },
   {
    "duration": 5,
    "start_time": "2023-09-11T16:08:18.420Z"
   },
   {
    "duration": 14,
    "start_time": "2023-09-11T16:08:18.427Z"
   },
   {
    "duration": 22,
    "start_time": "2023-09-11T16:08:18.443Z"
   },
   {
    "duration": 55,
    "start_time": "2023-09-11T16:08:18.467Z"
   },
   {
    "duration": 5,
    "start_time": "2023-09-11T16:08:18.524Z"
   },
   {
    "duration": 49,
    "start_time": "2023-09-11T16:08:18.531Z"
   },
   {
    "duration": 13,
    "start_time": "2023-09-11T16:08:18.582Z"
   },
   {
    "duration": 20,
    "start_time": "2023-09-11T16:08:18.596Z"
   },
   {
    "duration": 16,
    "start_time": "2023-09-11T16:08:18.618Z"
   },
   {
    "duration": 1027,
    "start_time": "2023-09-11T16:08:18.637Z"
   },
   {
    "duration": 7,
    "start_time": "2023-09-11T16:08:19.666Z"
   },
   {
    "duration": 179,
    "start_time": "2023-09-11T16:08:19.674Z"
   },
   {
    "duration": 158,
    "start_time": "2023-09-11T16:08:19.855Z"
   },
   {
    "duration": 159,
    "start_time": "2023-09-11T16:08:20.015Z"
   },
   {
    "duration": 580,
    "start_time": "2023-09-11T16:11:42.099Z"
   },
   {
    "duration": 27,
    "start_time": "2023-09-11T16:11:42.681Z"
   },
   {
    "duration": 16,
    "start_time": "2023-09-11T16:11:42.710Z"
   },
   {
    "duration": 11,
    "start_time": "2023-09-11T16:11:42.728Z"
   },
   {
    "duration": 40,
    "start_time": "2023-09-11T16:11:42.740Z"
   },
   {
    "duration": 29,
    "start_time": "2023-09-11T16:11:42.782Z"
   },
   {
    "duration": 10,
    "start_time": "2023-09-11T16:11:42.813Z"
   },
   {
    "duration": 4,
    "start_time": "2023-09-11T16:11:42.824Z"
   },
   {
    "duration": 11,
    "start_time": "2023-09-11T16:11:42.830Z"
   },
   {
    "duration": 4,
    "start_time": "2023-09-11T16:11:42.844Z"
   },
   {
    "duration": 73,
    "start_time": "2023-09-11T16:11:42.850Z"
   },
   {
    "duration": 10,
    "start_time": "2023-09-11T16:11:42.925Z"
   },
   {
    "duration": 4,
    "start_time": "2023-09-11T16:11:42.937Z"
   },
   {
    "duration": 14,
    "start_time": "2023-09-11T16:11:42.942Z"
   },
   {
    "duration": 21,
    "start_time": "2023-09-11T16:11:42.959Z"
   },
   {
    "duration": 43,
    "start_time": "2023-09-11T16:11:42.982Z"
   },
   {
    "duration": 3,
    "start_time": "2023-09-11T16:11:43.027Z"
   },
   {
    "duration": 16,
    "start_time": "2023-09-11T16:11:43.032Z"
   },
   {
    "duration": 6,
    "start_time": "2023-09-11T16:11:43.049Z"
   },
   {
    "duration": 5,
    "start_time": "2023-09-11T16:11:43.056Z"
   },
   {
    "duration": 11,
    "start_time": "2023-09-11T16:11:43.062Z"
   },
   {
    "duration": 992,
    "start_time": "2023-09-11T16:11:43.075Z"
   },
   {
    "duration": 6,
    "start_time": "2023-09-11T16:11:44.069Z"
   },
   {
    "duration": 182,
    "start_time": "2023-09-11T16:11:44.077Z"
   },
   {
    "duration": 162,
    "start_time": "2023-09-11T16:11:44.261Z"
   },
   {
    "duration": 156,
    "start_time": "2023-09-11T16:11:44.425Z"
   }
  ],
  "celltoolbar": "Вложения",
  "colab": {
   "provenance": []
  },
  "kernelspec": {
   "display_name": "Python 3 (ipykernel)",
   "language": "python",
   "name": "python3"
  },
  "language_info": {
   "codemirror_mode": {
    "name": "ipython",
    "version": 3
   },
   "file_extension": ".py",
   "mimetype": "text/x-python",
   "name": "python",
   "nbconvert_exporter": "python",
   "pygments_lexer": "ipython3",
   "version": "3.9.5"
  },
  "toc": {
   "base_numbering": 1,
   "nav_menu": {},
   "number_sections": false,
   "sideBar": false,
   "skip_h1_title": false,
   "title_cell": "Table of Contents",
   "title_sidebar": "Contents",
   "toc_cell": false,
   "toc_position": {
    "height": "calc(100% - 180px)",
    "left": "10px",
    "top": "150px",
    "width": "402.309px"
   },
   "toc_section_display": false,
   "toc_window_display": false
  }
 },
 "nbformat": 4,
 "nbformat_minor": 5
}
