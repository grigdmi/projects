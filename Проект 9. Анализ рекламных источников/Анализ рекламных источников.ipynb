{
 "cells": [
  {
   "cell_type": "markdown",
   "metadata": {},
   "source": [
    "# Материалы:\n",
    "* [Презентация] https://disk.yandex.ru/i/lzPGT5Fzkve7_w"
   ]
  },
  {
   "cell_type": "markdown",
   "metadata": {},
   "source": [
    "# Игры — Анализ рекламных источников"
   ]
  },
  {
   "cell_type": "markdown",
   "metadata": {},
   "source": [
    "## Описание проекта"
   ]
  },
  {
   "cell_type": "markdown",
   "metadata": {},
   "source": [
    "Мобильная игра «Космические братья». В ней пользователи строят свою космическую программу и пытаются преуспеть в нелегком деле колонизации галактики. Основная монетизация игры — только планируется. Но предполагается, что в приложении будет происходить показ рекламы на экране с выбором типа объекта для постройки."
   ]
  },
  {
   "cell_type": "markdown",
   "metadata": {},
   "source": [
    "### Описание данных"
   ]
  },
  {
   "cell_type": "markdown",
   "metadata": {},
   "source": [
    "В датасете представлены данные по игре пользователей на первом уровне. Завершение первого уровня требует от игрока выполнения одного из двух условий:\n",
    "\n",
    "- Победа над первым врагом\n",
    "\n",
    "- Реализация проекта - разработка орбитальной сборки спутников\n",
    "\n",
    "В датасете содержатся данные первых пользователей приложения — когорты пользователей, которые начали пользоваться приложением в период с 4 по 10 мая включительно.\n",
    "\n",
    "Датасет *game_actions.csv* содержит колонки:\n",
    "\n",
    "- event_datetime — время события;\n",
    "\n",
    "- event — одно из трёх событий:\n",
    "\n",
    "    - building — объект построен,\n",
    "\n",
    "    - finished_stage_1 — первый уровень завершён,\n",
    "\n",
    "    - project — проект завершён;\n",
    "\n",
    "- building_type — один из трёх типов здания:\n",
    "\n",
    "    - assembly_shop — сборочный цех,\n",
    "\n",
    "    - spaceport — космопорт,\n",
    "\n",
    "    - research_center — исследовательский центр;\n",
    "\n",
    "- user_id — идентификатор пользователя;\n",
    "\n",
    "- project_type — тип реализованного проекта;\n",
    "\n",
    "Помимо основного датасета есть два датасета с информацией о рекламных активностях. Они также помогут в решении задачи.\n",
    "\n",
    "Датасет *ad_cost.csv* содержит колонки:\n",
    "\n",
    "- day - день, в который был совершен клик по объявлению\n",
    "- source - источник трафика\n",
    "- cost - стоимость кликов\n",
    "\n",
    "Датасет *user_source.csv* содержит колонки:\n",
    "\n",
    "- user_id - идентификатор пользователя\n",
    "- source - источников, с которого пришёл пользователь, установивший приложение"
   ]
  },
  {
   "cell_type": "markdown",
   "metadata": {},
   "source": [
    "### Цель исследования"
   ]
  },
  {
   "cell_type": "markdown",
   "metadata": {},
   "source": [
    "Проанализируйте поведения игроков в зависимости от источника перехода.\n",
    "\n",
    "- Проведите исследовательский анализ данных;\n",
    "- Проанализируйте влияние источника перехода в игру на поведение пользователя;\n",
    "- Проверьте статистические гипотезы\n",
    "    - Проверьте гипотезу: время завершения уровня различается в зависимости способа прохождения:\n",
    "        - через реализацию проекта,\n",
    "        - через победу над первым игроком.\n",
    "    - Сформулируйте собственную статистическую гипотезу. Дополните её нулевой и альтернативной гипотезами. Проверьте гипотезу с помощью статистического теста."
   ]
  },
  {
   "cell_type": "markdown",
   "metadata": {},
   "source": [
    "### Ход исследования"
   ]
  },
  {
   "cell_type": "markdown",
   "metadata": {},
   "source": [
    "**Шаг 1.** Изучение общей информации\n",
    "\n",
    "- Загрузка данных\n",
    "- Первые выводы\n",
    "\n",
    "**Шаг 2.** Предобработка данных\n",
    "\n",
    "- Обработка пропусков\n",
    "- Обработка типов данных\n",
    "- Обработка дубликатов\n",
    "- Поиск и исправление ошибок в данных\n",
    "\n",
    "\n",
    "**Шаг 3.** Исследовательский анализ данных\n",
    "- Анализ метрик, связанных с пользователями и событиями:\n",
    "    - Количество пользователей\n",
    "    - Количество событий\n",
    "    - Соотношение событий и построек\n",
    "- Анализ временных метрик:\n",
    "    - Распределение событий во времени\n",
    "    - Время прохождения уровня\n",
    "- Анализ источников трафика\n",
    "    - Количество пользователей пришедших с каждого источника трафика\n",
    "    - Затраты на рекламу\n",
    "\n",
    "**Шаг 4.** Статистические гипотезы\n",
    "\n",
    "- Проверка гипотезы: время завершения уровня различается в зависимости способа прохождения:\n",
    "    - через реализацию проекта,\n",
    "    - через победу над первым врагом.\n",
    "- Проверка гипотезы: способ прохождения игры не зависит от источника трафика\n",
    "\n",
    "**Шаг 5.** Подведение итогов по проекту\n",
    "\n",
    "**Шаг 6.** Оформление презентации по проекту\n",
    "\n",
    "**Шаг 7.** Создание дашборда"
   ]
  },
  {
   "cell_type": "markdown",
   "metadata": {},
   "source": [
    "**ШАГ 1. Изучение общей информации**"
   ]
  },
  {
   "cell_type": "code",
   "execution_count": 1,
   "metadata": {},
   "outputs": [],
   "source": [
    "import pandas as pd\n",
    "import numpy as np\n",
    "import datetime as dt\n",
    "import seaborn as sns\n",
    "import matplotlib.pyplot as plt\n",
    "from plotly import graph_objects as go\n",
    "import plotly.express as px\n",
    "from operator import is_not\n",
    "from functools import partial\n",
    "from scipy import stats as st\n",
    "\n",
    "pd.set_option('display.float_format', '{:,.2f}'.format)\n",
    "pd.set_option('display.max_columns', None)\n",
    "pd.options.display.max_colwidth = 150    \n",
    "pd.set_option('display.float_format', '{:,.2f}'.format)"
   ]
  },
  {
   "cell_type": "code",
   "execution_count": 2,
   "metadata": {},
   "outputs": [],
   "source": [
    "# загружаем датасеты\n",
    "game_actions =  pd.read_csv('/datasets/game_actions.csv', sep=',')\n",
    "user_source =  pd.read_csv('/datasets/user_source.csv', sep=',')\n",
    "ad_costs =  pd.read_csv('/datasets/ad_costs.csv', sep=',')"
   ]
  },
  {
   "cell_type": "code",
   "execution_count": 3,
   "metadata": {},
   "outputs": [],
   "source": [
    "# функция выводящая общую информацию по каждому файлу\n",
    "def basic_information(x):\n",
    "    display(x.head(10)),\n",
    "    x.info(),\n",
    "    display(x.describe()),\n",
    "    display(x.value_counts()),\n",
    "    print('Количество дубликатов -',x.duplicated().sum()),\n",
    "    x.columns = x.columns.str.lower()\n",
    "    print('*'*50)"
   ]
  },
  {
   "cell_type": "code",
   "execution_count": 4,
   "metadata": {},
   "outputs": [
    {
     "data": {
      "text/html": [
       "<div>\n",
       "<style scoped>\n",
       "    .dataframe tbody tr th:only-of-type {\n",
       "        vertical-align: middle;\n",
       "    }\n",
       "\n",
       "    .dataframe tbody tr th {\n",
       "        vertical-align: top;\n",
       "    }\n",
       "\n",
       "    .dataframe thead th {\n",
       "        text-align: right;\n",
       "    }\n",
       "</style>\n",
       "<table border=\"1\" class=\"dataframe\">\n",
       "  <thead>\n",
       "    <tr style=\"text-align: right;\">\n",
       "      <th></th>\n",
       "      <th>event_datetime</th>\n",
       "      <th>event</th>\n",
       "      <th>building_type</th>\n",
       "      <th>user_id</th>\n",
       "      <th>project_type</th>\n",
       "    </tr>\n",
       "  </thead>\n",
       "  <tbody>\n",
       "    <tr>\n",
       "      <th>0</th>\n",
       "      <td>2020-05-04 00:00:01</td>\n",
       "      <td>building</td>\n",
       "      <td>assembly_shop</td>\n",
       "      <td>55e92310-cb8e-4754-b622-597e124b03de</td>\n",
       "      <td>NaN</td>\n",
       "    </tr>\n",
       "    <tr>\n",
       "      <th>1</th>\n",
       "      <td>2020-05-04 00:00:03</td>\n",
       "      <td>building</td>\n",
       "      <td>assembly_shop</td>\n",
       "      <td>c07b1c10-f477-44dc-81dc-ec82254b1347</td>\n",
       "      <td>NaN</td>\n",
       "    </tr>\n",
       "    <tr>\n",
       "      <th>2</th>\n",
       "      <td>2020-05-04 00:00:16</td>\n",
       "      <td>building</td>\n",
       "      <td>assembly_shop</td>\n",
       "      <td>6edd42cc-e753-4ff6-a947-2107cd560710</td>\n",
       "      <td>NaN</td>\n",
       "    </tr>\n",
       "    <tr>\n",
       "      <th>3</th>\n",
       "      <td>2020-05-04 00:00:16</td>\n",
       "      <td>building</td>\n",
       "      <td>assembly_shop</td>\n",
       "      <td>92c69003-d60a-444a-827f-8cc51bf6bf4c</td>\n",
       "      <td>NaN</td>\n",
       "    </tr>\n",
       "    <tr>\n",
       "      <th>4</th>\n",
       "      <td>2020-05-04 00:00:35</td>\n",
       "      <td>building</td>\n",
       "      <td>assembly_shop</td>\n",
       "      <td>cdc6bb92-0ccb-4490-9866-ef142f09139d</td>\n",
       "      <td>NaN</td>\n",
       "    </tr>\n",
       "    <tr>\n",
       "      <th>5</th>\n",
       "      <td>2020-05-04 00:00:36</td>\n",
       "      <td>building</td>\n",
       "      <td>assembly_shop</td>\n",
       "      <td>06c592ca-902d-42bb-bac3-75ce84cca159</td>\n",
       "      <td>NaN</td>\n",
       "    </tr>\n",
       "    <tr>\n",
       "      <th>6</th>\n",
       "      <td>2020-05-04 00:00:36</td>\n",
       "      <td>building</td>\n",
       "      <td>assembly_shop</td>\n",
       "      <td>4fe0f101-694b-4e31-9740-d1d87f7208ea</td>\n",
       "      <td>NaN</td>\n",
       "    </tr>\n",
       "    <tr>\n",
       "      <th>7</th>\n",
       "      <td>2020-05-04 00:00:38</td>\n",
       "      <td>building</td>\n",
       "      <td>assembly_shop</td>\n",
       "      <td>beb8ca15-33a9-465d-b47b-89aa96f89c9a</td>\n",
       "      <td>NaN</td>\n",
       "    </tr>\n",
       "    <tr>\n",
       "      <th>8</th>\n",
       "      <td>2020-05-04 00:00:44</td>\n",
       "      <td>building</td>\n",
       "      <td>assembly_shop</td>\n",
       "      <td>65a92713-5969-48b1-8945-bfefa5063887</td>\n",
       "      <td>NaN</td>\n",
       "    </tr>\n",
       "    <tr>\n",
       "      <th>9</th>\n",
       "      <td>2020-05-04 00:01:33</td>\n",
       "      <td>building</td>\n",
       "      <td>assembly_shop</td>\n",
       "      <td>fa352362-d258-472c-b295-2796ccc39fa3</td>\n",
       "      <td>NaN</td>\n",
       "    </tr>\n",
       "  </tbody>\n",
       "</table>\n",
       "</div>"
      ],
      "text/plain": [
       "        event_datetime     event  building_type  \\\n",
       "0  2020-05-04 00:00:01  building  assembly_shop   \n",
       "1  2020-05-04 00:00:03  building  assembly_shop   \n",
       "2  2020-05-04 00:00:16  building  assembly_shop   \n",
       "3  2020-05-04 00:00:16  building  assembly_shop   \n",
       "4  2020-05-04 00:00:35  building  assembly_shop   \n",
       "5  2020-05-04 00:00:36  building  assembly_shop   \n",
       "6  2020-05-04 00:00:36  building  assembly_shop   \n",
       "7  2020-05-04 00:00:38  building  assembly_shop   \n",
       "8  2020-05-04 00:00:44  building  assembly_shop   \n",
       "9  2020-05-04 00:01:33  building  assembly_shop   \n",
       "\n",
       "                                user_id project_type  \n",
       "0  55e92310-cb8e-4754-b622-597e124b03de          NaN  \n",
       "1  c07b1c10-f477-44dc-81dc-ec82254b1347          NaN  \n",
       "2  6edd42cc-e753-4ff6-a947-2107cd560710          NaN  \n",
       "3  92c69003-d60a-444a-827f-8cc51bf6bf4c          NaN  \n",
       "4  cdc6bb92-0ccb-4490-9866-ef142f09139d          NaN  \n",
       "5  06c592ca-902d-42bb-bac3-75ce84cca159          NaN  \n",
       "6  4fe0f101-694b-4e31-9740-d1d87f7208ea          NaN  \n",
       "7  beb8ca15-33a9-465d-b47b-89aa96f89c9a          NaN  \n",
       "8  65a92713-5969-48b1-8945-bfefa5063887          NaN  \n",
       "9  fa352362-d258-472c-b295-2796ccc39fa3          NaN  "
      ]
     },
     "metadata": {},
     "output_type": "display_data"
    },
    {
     "name": "stdout",
     "output_type": "stream",
     "text": [
      "<class 'pandas.core.frame.DataFrame'>\n",
      "RangeIndex: 135640 entries, 0 to 135639\n",
      "Data columns (total 5 columns):\n",
      " #   Column          Non-Null Count   Dtype \n",
      "---  ------          --------------   ----- \n",
      " 0   event_datetime  135640 non-null  object\n",
      " 1   event           135640 non-null  object\n",
      " 2   building_type   127957 non-null  object\n",
      " 3   user_id         135640 non-null  object\n",
      " 4   project_type    1866 non-null    object\n",
      "dtypes: object(5)\n",
      "memory usage: 5.2+ MB\n"
     ]
    },
    {
     "data": {
      "text/html": [
       "<div>\n",
       "<style scoped>\n",
       "    .dataframe tbody tr th:only-of-type {\n",
       "        vertical-align: middle;\n",
       "    }\n",
       "\n",
       "    .dataframe tbody tr th {\n",
       "        vertical-align: top;\n",
       "    }\n",
       "\n",
       "    .dataframe thead th {\n",
       "        text-align: right;\n",
       "    }\n",
       "</style>\n",
       "<table border=\"1\" class=\"dataframe\">\n",
       "  <thead>\n",
       "    <tr style=\"text-align: right;\">\n",
       "      <th></th>\n",
       "      <th>event_datetime</th>\n",
       "      <th>event</th>\n",
       "      <th>building_type</th>\n",
       "      <th>user_id</th>\n",
       "      <th>project_type</th>\n",
       "    </tr>\n",
       "  </thead>\n",
       "  <tbody>\n",
       "    <tr>\n",
       "      <th>count</th>\n",
       "      <td>135640</td>\n",
       "      <td>135640</td>\n",
       "      <td>127957</td>\n",
       "      <td>135640</td>\n",
       "      <td>1866</td>\n",
       "    </tr>\n",
       "    <tr>\n",
       "      <th>unique</th>\n",
       "      <td>128790</td>\n",
       "      <td>3</td>\n",
       "      <td>3</td>\n",
       "      <td>13576</td>\n",
       "      <td>1</td>\n",
       "    </tr>\n",
       "    <tr>\n",
       "      <th>top</th>\n",
       "      <td>2020-05-09 12:35:56</td>\n",
       "      <td>building</td>\n",
       "      <td>spaceport</td>\n",
       "      <td>bf542075-e3a2-4e79-82d8-3838e86d2a25</td>\n",
       "      <td>satellite_orbital_assembly</td>\n",
       "    </tr>\n",
       "    <tr>\n",
       "      <th>freq</th>\n",
       "      <td>4</td>\n",
       "      <td>127957</td>\n",
       "      <td>59325</td>\n",
       "      <td>22</td>\n",
       "      <td>1866</td>\n",
       "    </tr>\n",
       "  </tbody>\n",
       "</table>\n",
       "</div>"
      ],
      "text/plain": [
       "             event_datetime     event building_type  \\\n",
       "count                135640    135640        127957   \n",
       "unique               128790         3             3   \n",
       "top     2020-05-09 12:35:56  building     spaceport   \n",
       "freq                      4    127957         59325   \n",
       "\n",
       "                                     user_id                project_type  \n",
       "count                                 135640                        1866  \n",
       "unique                                 13576                           1  \n",
       "top     bf542075-e3a2-4e79-82d8-3838e86d2a25  satellite_orbital_assembly  \n",
       "freq                                      22                        1866  "
      ]
     },
     "metadata": {},
     "output_type": "display_data"
    },
    {
     "data": {
      "text/plain": [
       "Series([], dtype: int64)"
      ]
     },
     "metadata": {},
     "output_type": "display_data"
    },
    {
     "name": "stdout",
     "output_type": "stream",
     "text": [
      "Количество дубликатов - 1\n",
      "**************************************************\n"
     ]
    }
   ],
   "source": [
    "basic_information(game_actions)"
   ]
  },
  {
   "cell_type": "code",
   "execution_count": 5,
   "metadata": {},
   "outputs": [
    {
     "data": {
      "text/html": [
       "<div>\n",
       "<style scoped>\n",
       "    .dataframe tbody tr th:only-of-type {\n",
       "        vertical-align: middle;\n",
       "    }\n",
       "\n",
       "    .dataframe tbody tr th {\n",
       "        vertical-align: top;\n",
       "    }\n",
       "\n",
       "    .dataframe thead th {\n",
       "        text-align: right;\n",
       "    }\n",
       "</style>\n",
       "<table border=\"1\" class=\"dataframe\">\n",
       "  <thead>\n",
       "    <tr style=\"text-align: right;\">\n",
       "      <th></th>\n",
       "      <th>user_id</th>\n",
       "      <th>source</th>\n",
       "    </tr>\n",
       "  </thead>\n",
       "  <tbody>\n",
       "    <tr>\n",
       "      <th>0</th>\n",
       "      <td>0001f83c-c6ac-4621-b7f0-8a28b283ac30</td>\n",
       "      <td>facebook_ads</td>\n",
       "    </tr>\n",
       "    <tr>\n",
       "      <th>1</th>\n",
       "      <td>00151b4f-ba38-44a8-a650-d7cf130a0105</td>\n",
       "      <td>yandex_direct</td>\n",
       "    </tr>\n",
       "    <tr>\n",
       "      <th>2</th>\n",
       "      <td>001aaea6-3d14-43f1-8ca8-7f48820f17aa</td>\n",
       "      <td>youtube_channel_reklama</td>\n",
       "    </tr>\n",
       "    <tr>\n",
       "      <th>3</th>\n",
       "      <td>001d39dc-366c-4021-9604-6a3b9ff01e25</td>\n",
       "      <td>instagram_new_adverts</td>\n",
       "    </tr>\n",
       "    <tr>\n",
       "      <th>4</th>\n",
       "      <td>002f508f-67b6-479f-814b-b05f00d4e995</td>\n",
       "      <td>facebook_ads</td>\n",
       "    </tr>\n",
       "    <tr>\n",
       "      <th>5</th>\n",
       "      <td>003b80c6-4164-4157-bb2a-03d0181d39c4</td>\n",
       "      <td>yandex_direct</td>\n",
       "    </tr>\n",
       "    <tr>\n",
       "      <th>6</th>\n",
       "      <td>003ee7e8-6356-4286-a715-62f22a18d2a1</td>\n",
       "      <td>instagram_new_adverts</td>\n",
       "    </tr>\n",
       "    <tr>\n",
       "      <th>7</th>\n",
       "      <td>004074f8-251a-4776-922c-8348dca1a2f6</td>\n",
       "      <td>facebook_ads</td>\n",
       "    </tr>\n",
       "    <tr>\n",
       "      <th>8</th>\n",
       "      <td>00440efd-aa50-4b4b-aae8-ffcd1782729d</td>\n",
       "      <td>facebook_ads</td>\n",
       "    </tr>\n",
       "    <tr>\n",
       "      <th>9</th>\n",
       "      <td>00464e5e-28ed-4be6-bf44-517ef7b3937b</td>\n",
       "      <td>yandex_direct</td>\n",
       "    </tr>\n",
       "  </tbody>\n",
       "</table>\n",
       "</div>"
      ],
      "text/plain": [
       "                                user_id                   source\n",
       "0  0001f83c-c6ac-4621-b7f0-8a28b283ac30             facebook_ads\n",
       "1  00151b4f-ba38-44a8-a650-d7cf130a0105            yandex_direct\n",
       "2  001aaea6-3d14-43f1-8ca8-7f48820f17aa  youtube_channel_reklama\n",
       "3  001d39dc-366c-4021-9604-6a3b9ff01e25    instagram_new_adverts\n",
       "4  002f508f-67b6-479f-814b-b05f00d4e995             facebook_ads\n",
       "5  003b80c6-4164-4157-bb2a-03d0181d39c4            yandex_direct\n",
       "6  003ee7e8-6356-4286-a715-62f22a18d2a1    instagram_new_adverts\n",
       "7  004074f8-251a-4776-922c-8348dca1a2f6             facebook_ads\n",
       "8  00440efd-aa50-4b4b-aae8-ffcd1782729d             facebook_ads\n",
       "9  00464e5e-28ed-4be6-bf44-517ef7b3937b            yandex_direct"
      ]
     },
     "metadata": {},
     "output_type": "display_data"
    },
    {
     "name": "stdout",
     "output_type": "stream",
     "text": [
      "<class 'pandas.core.frame.DataFrame'>\n",
      "RangeIndex: 13576 entries, 0 to 13575\n",
      "Data columns (total 2 columns):\n",
      " #   Column   Non-Null Count  Dtype \n",
      "---  ------   --------------  ----- \n",
      " 0   user_id  13576 non-null  object\n",
      " 1   source   13576 non-null  object\n",
      "dtypes: object(2)\n",
      "memory usage: 212.2+ KB\n"
     ]
    },
    {
     "data": {
      "text/html": [
       "<div>\n",
       "<style scoped>\n",
       "    .dataframe tbody tr th:only-of-type {\n",
       "        vertical-align: middle;\n",
       "    }\n",
       "\n",
       "    .dataframe tbody tr th {\n",
       "        vertical-align: top;\n",
       "    }\n",
       "\n",
       "    .dataframe thead th {\n",
       "        text-align: right;\n",
       "    }\n",
       "</style>\n",
       "<table border=\"1\" class=\"dataframe\">\n",
       "  <thead>\n",
       "    <tr style=\"text-align: right;\">\n",
       "      <th></th>\n",
       "      <th>user_id</th>\n",
       "      <th>source</th>\n",
       "    </tr>\n",
       "  </thead>\n",
       "  <tbody>\n",
       "    <tr>\n",
       "      <th>count</th>\n",
       "      <td>13576</td>\n",
       "      <td>13576</td>\n",
       "    </tr>\n",
       "    <tr>\n",
       "      <th>unique</th>\n",
       "      <td>13576</td>\n",
       "      <td>4</td>\n",
       "    </tr>\n",
       "    <tr>\n",
       "      <th>top</th>\n",
       "      <td>162bf61d-83ad-49f0-9dad-086c911dff6f</td>\n",
       "      <td>yandex_direct</td>\n",
       "    </tr>\n",
       "    <tr>\n",
       "      <th>freq</th>\n",
       "      <td>1</td>\n",
       "      <td>4817</td>\n",
       "    </tr>\n",
       "  </tbody>\n",
       "</table>\n",
       "</div>"
      ],
      "text/plain": [
       "                                     user_id         source\n",
       "count                                  13576          13576\n",
       "unique                                 13576              4\n",
       "top     162bf61d-83ad-49f0-9dad-086c911dff6f  yandex_direct\n",
       "freq                                       1           4817"
      ]
     },
     "metadata": {},
     "output_type": "display_data"
    },
    {
     "data": {
      "text/plain": [
       "user_id                               source                 \n",
       "0001f83c-c6ac-4621-b7f0-8a28b283ac30  facebook_ads               1\n",
       "a9ff93bd-0b96-4e89-bef7-c29326643faf  youtube_channel_reklama    1\n",
       "aa08dc9a-f199-483d-aa43-2781abb889fc  instagram_new_adverts      1\n",
       "aa0d0a62-0ba5-4d87-9467-4eb39d6b2d17  facebook_ads               1\n",
       "aa122ae2-5e98-4d93-96dc-fdcf7016398e  facebook_ads               1\n",
       "                                                                ..\n",
       "53c5f5cc-975b-4be6-9a60-2a8fe0fc226f  instagram_new_adverts      1\n",
       "53d146cf-1b2a-4038-8326-7900b021f418  yandex_direct              1\n",
       "53d59f09-9745-4bdd-b6e5-56f98a5228d4  instagram_new_adverts      1\n",
       "53d8dfd2-d601-461b-a4fd-890be5b45d27  yandex_direct              1\n",
       "ffff69cc-fec1-4fd3-9f98-93be1112a6b8  facebook_ads               1\n",
       "Length: 13576, dtype: int64"
      ]
     },
     "metadata": {},
     "output_type": "display_data"
    },
    {
     "name": "stdout",
     "output_type": "stream",
     "text": [
      "Количество дубликатов - 0\n",
      "**************************************************\n"
     ]
    }
   ],
   "source": [
    "basic_information(user_source)"
   ]
  },
  {
   "cell_type": "code",
   "execution_count": 6,
   "metadata": {},
   "outputs": [
    {
     "data": {
      "text/html": [
       "<div>\n",
       "<style scoped>\n",
       "    .dataframe tbody tr th:only-of-type {\n",
       "        vertical-align: middle;\n",
       "    }\n",
       "\n",
       "    .dataframe tbody tr th {\n",
       "        vertical-align: top;\n",
       "    }\n",
       "\n",
       "    .dataframe thead th {\n",
       "        text-align: right;\n",
       "    }\n",
       "</style>\n",
       "<table border=\"1\" class=\"dataframe\">\n",
       "  <thead>\n",
       "    <tr style=\"text-align: right;\">\n",
       "      <th></th>\n",
       "      <th>source</th>\n",
       "      <th>day</th>\n",
       "      <th>cost</th>\n",
       "    </tr>\n",
       "  </thead>\n",
       "  <tbody>\n",
       "    <tr>\n",
       "      <th>0</th>\n",
       "      <td>facebook_ads</td>\n",
       "      <td>2020-05-03</td>\n",
       "      <td>935.88</td>\n",
       "    </tr>\n",
       "    <tr>\n",
       "      <th>1</th>\n",
       "      <td>facebook_ads</td>\n",
       "      <td>2020-05-04</td>\n",
       "      <td>548.35</td>\n",
       "    </tr>\n",
       "    <tr>\n",
       "      <th>2</th>\n",
       "      <td>facebook_ads</td>\n",
       "      <td>2020-05-05</td>\n",
       "      <td>260.19</td>\n",
       "    </tr>\n",
       "    <tr>\n",
       "      <th>3</th>\n",
       "      <td>facebook_ads</td>\n",
       "      <td>2020-05-06</td>\n",
       "      <td>177.98</td>\n",
       "    </tr>\n",
       "    <tr>\n",
       "      <th>4</th>\n",
       "      <td>facebook_ads</td>\n",
       "      <td>2020-05-07</td>\n",
       "      <td>111.77</td>\n",
       "    </tr>\n",
       "    <tr>\n",
       "      <th>5</th>\n",
       "      <td>facebook_ads</td>\n",
       "      <td>2020-05-08</td>\n",
       "      <td>68.01</td>\n",
       "    </tr>\n",
       "    <tr>\n",
       "      <th>6</th>\n",
       "      <td>facebook_ads</td>\n",
       "      <td>2020-05-09</td>\n",
       "      <td>38.72</td>\n",
       "    </tr>\n",
       "    <tr>\n",
       "      <th>7</th>\n",
       "      <td>instagram_new_adverts</td>\n",
       "      <td>2020-05-03</td>\n",
       "      <td>943.20</td>\n",
       "    </tr>\n",
       "    <tr>\n",
       "      <th>8</th>\n",
       "      <td>instagram_new_adverts</td>\n",
       "      <td>2020-05-04</td>\n",
       "      <td>502.93</td>\n",
       "    </tr>\n",
       "    <tr>\n",
       "      <th>9</th>\n",
       "      <td>instagram_new_adverts</td>\n",
       "      <td>2020-05-05</td>\n",
       "      <td>313.97</td>\n",
       "    </tr>\n",
       "  </tbody>\n",
       "</table>\n",
       "</div>"
      ],
      "text/plain": [
       "                  source         day   cost\n",
       "0           facebook_ads  2020-05-03 935.88\n",
       "1           facebook_ads  2020-05-04 548.35\n",
       "2           facebook_ads  2020-05-05 260.19\n",
       "3           facebook_ads  2020-05-06 177.98\n",
       "4           facebook_ads  2020-05-07 111.77\n",
       "5           facebook_ads  2020-05-08  68.01\n",
       "6           facebook_ads  2020-05-09  38.72\n",
       "7  instagram_new_adverts  2020-05-03 943.20\n",
       "8  instagram_new_adverts  2020-05-04 502.93\n",
       "9  instagram_new_adverts  2020-05-05 313.97"
      ]
     },
     "metadata": {},
     "output_type": "display_data"
    },
    {
     "name": "stdout",
     "output_type": "stream",
     "text": [
      "<class 'pandas.core.frame.DataFrame'>\n",
      "RangeIndex: 28 entries, 0 to 27\n",
      "Data columns (total 3 columns):\n",
      " #   Column  Non-Null Count  Dtype  \n",
      "---  ------  --------------  -----  \n",
      " 0   source  28 non-null     object \n",
      " 1   day     28 non-null     object \n",
      " 2   cost    28 non-null     float64\n",
      "dtypes: float64(1), object(2)\n",
      "memory usage: 800.0+ bytes\n"
     ]
    },
    {
     "data": {
      "text/html": [
       "<div>\n",
       "<style scoped>\n",
       "    .dataframe tbody tr th:only-of-type {\n",
       "        vertical-align: middle;\n",
       "    }\n",
       "\n",
       "    .dataframe tbody tr th {\n",
       "        vertical-align: top;\n",
       "    }\n",
       "\n",
       "    .dataframe thead th {\n",
       "        text-align: right;\n",
       "    }\n",
       "</style>\n",
       "<table border=\"1\" class=\"dataframe\">\n",
       "  <thead>\n",
       "    <tr style=\"text-align: right;\">\n",
       "      <th></th>\n",
       "      <th>cost</th>\n",
       "    </tr>\n",
       "  </thead>\n",
       "  <tbody>\n",
       "    <tr>\n",
       "      <th>count</th>\n",
       "      <td>28.00</td>\n",
       "    </tr>\n",
       "    <tr>\n",
       "      <th>mean</th>\n",
       "      <td>271.56</td>\n",
       "    </tr>\n",
       "    <tr>\n",
       "      <th>std</th>\n",
       "      <td>286.87</td>\n",
       "    </tr>\n",
       "    <tr>\n",
       "      <th>min</th>\n",
       "      <td>23.31</td>\n",
       "    </tr>\n",
       "    <tr>\n",
       "      <th>25%</th>\n",
       "      <td>66.75</td>\n",
       "    </tr>\n",
       "    <tr>\n",
       "      <th>50%</th>\n",
       "      <td>160.06</td>\n",
       "    </tr>\n",
       "    <tr>\n",
       "      <th>75%</th>\n",
       "      <td>349.03</td>\n",
       "    </tr>\n",
       "    <tr>\n",
       "      <th>max</th>\n",
       "      <td>969.14</td>\n",
       "    </tr>\n",
       "  </tbody>\n",
       "</table>\n",
       "</div>"
      ],
      "text/plain": [
       "        cost\n",
       "count  28.00\n",
       "mean  271.56\n",
       "std   286.87\n",
       "min    23.31\n",
       "25%    66.75\n",
       "50%   160.06\n",
       "75%   349.03\n",
       "max   969.14"
      ]
     },
     "metadata": {},
     "output_type": "display_data"
    },
    {
     "data": {
      "text/plain": [
       "source                   day         cost  \n",
       "facebook_ads             2020-05-03  935.88    1\n",
       "                         2020-05-04  548.35    1\n",
       "youtube_channel_reklama  2020-05-08  40.22     1\n",
       "                         2020-05-07  55.74     1\n",
       "                         2020-05-06  88.51     1\n",
       "                         2020-05-05  147.04    1\n",
       "                         2020-05-04  259.07    1\n",
       "                         2020-05-03  454.22    1\n",
       "yandex_direct            2020-05-09  42.78     1\n",
       "                         2020-05-08  62.96     1\n",
       "                         2020-05-07  114.43    1\n",
       "                         2020-05-06  180.92    1\n",
       "                         2020-05-05  308.23    1\n",
       "                         2020-05-04  554.65    1\n",
       "                         2020-05-03  969.14    1\n",
       "instagram_new_adverts    2020-05-09  46.78     1\n",
       "                         2020-05-08  71.58     1\n",
       "                         2020-05-07  109.92    1\n",
       "                         2020-05-06  173.07    1\n",
       "                         2020-05-05  313.97    1\n",
       "                         2020-05-04  502.93    1\n",
       "                         2020-05-03  943.20    1\n",
       "facebook_ads             2020-05-09  38.72     1\n",
       "                         2020-05-08  68.01     1\n",
       "                         2020-05-07  111.77    1\n",
       "                         2020-05-06  177.98    1\n",
       "                         2020-05-05  260.19    1\n",
       "youtube_channel_reklama  2020-05-09  23.31     1\n",
       "dtype: int64"
      ]
     },
     "metadata": {},
     "output_type": "display_data"
    },
    {
     "name": "stdout",
     "output_type": "stream",
     "text": [
      "Количество дубликатов - 0\n",
      "**************************************************\n"
     ]
    }
   ],
   "source": [
    "basic_information(ad_costs)"
   ]
  },
  {
   "cell_type": "markdown",
   "metadata": {},
   "source": [
    "**Выводы:**"
   ]
  },
  {
   "cell_type": "markdown",
   "metadata": {},
   "source": [
    "- В датафрейме game_actions обнаружены пропуски в колонках : building_type и project_type (возможно это связано с тем, что эти пользователи прошли уровень путем ПВП)\n",
    "- У дат неправильный тип данных\n",
    "- В первом датафрейме имеется один дубликат\n",
    "- С названиями столбцов всё в порядке"
   ]
  },
  {
   "cell_type": "markdown",
   "metadata": {},
   "source": [
    "**Шаг 2. Предобработка данных**"
   ]
  },
  {
   "cell_type": "markdown",
   "metadata": {},
   "source": [
    "**Замена типа данных**"
   ]
  },
  {
   "cell_type": "code",
   "execution_count": 7,
   "metadata": {},
   "outputs": [
    {
     "name": "stdout",
     "output_type": "stream",
     "text": [
      "datetime64[ns]\n",
      "datetime64[ns]\n"
     ]
    }
   ],
   "source": [
    "game_actions['event_datetime'] = pd.to_datetime(game_actions['event_datetime'])\n",
    "game_actions['date'] = game_actions['event_datetime'].dt.strftime('%Y-%m-%d')\n",
    "ad_costs['day'] = pd.to_datetime(ad_costs['day'])\n",
    "\n",
    "print(game_actions['event_datetime'].dtypes)\n",
    "print(ad_costs['day'].dtypes)"
   ]
  },
  {
   "cell_type": "markdown",
   "metadata": {},
   "source": [
    "**Обработка пропусков**"
   ]
  },
  {
   "cell_type": "code",
   "execution_count": 8,
   "metadata": {},
   "outputs": [
    {
     "data": {
      "text/plain": [
       "event_datetime         0\n",
       "event                  0\n",
       "building_type       7683\n",
       "user_id                0\n",
       "project_type      133774\n",
       "date                   0\n",
       "dtype: int64"
      ]
     },
     "execution_count": 8,
     "metadata": {},
     "output_type": "execute_result"
    }
   ],
   "source": [
    "game_actions.isna().sum()"
   ]
  },
  {
   "cell_type": "code",
   "execution_count": 9,
   "metadata": {},
   "outputs": [
    {
     "data": {
      "text/plain": [
       "spaceport          59325\n",
       "assembly_shop      54494\n",
       "research_center    14138\n",
       "Name: building_type, dtype: int64"
      ]
     },
     "execution_count": 9,
     "metadata": {},
     "output_type": "execute_result"
    }
   ],
   "source": [
    "game_actions['building_type'].value_counts()"
   ]
  },
  {
   "cell_type": "code",
   "execution_count": 10,
   "metadata": {},
   "outputs": [
    {
     "data": {
      "text/plain": [
       "satellite_orbital_assembly    1866\n",
       "Name: project_type, dtype: int64"
      ]
     },
     "execution_count": 10,
     "metadata": {},
     "output_type": "execute_result"
    }
   ],
   "source": [
    "game_actions['project_type'].value_counts()"
   ]
  },
  {
   "cell_type": "markdown",
   "metadata": {},
   "source": [
    "Обработка пропусков в колонке **project_type**"
   ]
  },
  {
   "cell_type": "code",
   "execution_count": 11,
   "metadata": {},
   "outputs": [
    {
     "data": {
      "text/plain": [
       "array([nan, 'satellite_orbital_assembly'], dtype=object)"
      ]
     },
     "execution_count": 11,
     "metadata": {},
     "output_type": "execute_result"
    }
   ],
   "source": [
    "game_actions['project_type'].unique()"
   ]
  },
  {
   "cell_type": "markdown",
   "metadata": {},
   "source": [
    "В типах построек мы наблюдаем три вида: космодром, сборочный цех и исследовательский центр. В типах проекта видим \"пропуски\" и спутниковая орбитальная сборка.\n",
    "\n",
    "По условиям задачи у нас существует 2 типа реализации проекта - победа над первым врагом либо разработка орбитальной сборки спутников. \n",
    "Значит пропущенные значения в столбце project_type - это как раз победа над врагом."
   ]
  },
  {
   "cell_type": "markdown",
   "metadata": {},
   "source": [
    "Заменим nan на \"victory in pvp\" (только для прошедших уровень)"
   ]
  },
  {
   "cell_type": "code",
   "execution_count": 12,
   "metadata": {},
   "outputs": [
    {
     "data": {
      "text/plain": [
       "array(['building', 'finished_stage_1', 'project'], dtype=object)"
      ]
     },
     "execution_count": 12,
     "metadata": {},
     "output_type": "execute_result"
    }
   ],
   "source": [
    "game_actions['event'].unique()"
   ]
  },
  {
   "cell_type": "code",
   "execution_count": 13,
   "metadata": {},
   "outputs": [],
   "source": [
    "game_actions.loc[game_actions['project_type'].isna() & (game_actions['event'] == 'finished_stage_1'),\n",
    "                                                                                  'project_type'] = 'victory_in_pvp'"
   ]
  },
  {
   "cell_type": "code",
   "execution_count": 14,
   "metadata": {},
   "outputs": [
    {
     "data": {
      "text/plain": [
       "127957"
      ]
     },
     "execution_count": 14,
     "metadata": {},
     "output_type": "execute_result"
    }
   ],
   "source": [
    "game_actions['project_type'].isna().sum()"
   ]
  },
  {
   "cell_type": "markdown",
   "metadata": {},
   "source": [
    "127957 игроков не завершили уровень (заменим nan на \"level_is not_passed\")"
   ]
  },
  {
   "cell_type": "code",
   "execution_count": 15,
   "metadata": {},
   "outputs": [],
   "source": [
    "game_actions.loc[game_actions['project_type'].isna(), 'project_type'] = 'level_is_not_passed'"
   ]
  },
  {
   "cell_type": "code",
   "execution_count": 16,
   "metadata": {},
   "outputs": [
    {
     "data": {
      "text/plain": [
       "0"
      ]
     },
     "execution_count": 16,
     "metadata": {},
     "output_type": "execute_result"
    }
   ],
   "source": [
    "game_actions['project_type'].isna().sum()"
   ]
  },
  {
   "cell_type": "code",
   "execution_count": 17,
   "metadata": {},
   "outputs": [
    {
     "data": {
      "text/plain": [
       "level_is_not_passed           127957\n",
       "victory_in_pvp                  5817\n",
       "satellite_orbital_assembly      1866\n",
       "Name: project_type, dtype: int64"
      ]
     },
     "execution_count": 17,
     "metadata": {},
     "output_type": "execute_result"
    }
   ],
   "source": [
    "game_actions['project_type'].value_counts()"
   ]
  },
  {
   "cell_type": "markdown",
   "metadata": {},
   "source": [
    "Обработка пропусков в колонке **building_type**"
   ]
  },
  {
   "cell_type": "code",
   "execution_count": 18,
   "metadata": {},
   "outputs": [
    {
     "data": {
      "text/plain": [
       "array(['finished_stage_1', 'project'], dtype=object)"
      ]
     },
     "execution_count": 18,
     "metadata": {},
     "output_type": "execute_result"
    }
   ],
   "source": [
    "# Посмотрим что стоит в графе событий напротив пропущенных значений\n",
    "game_actions[game_actions['building_type'].isna()]['event'].unique() "
   ]
  },
  {
   "cell_type": "code",
   "execution_count": 19,
   "metadata": {},
   "outputs": [
    {
     "data": {
      "text/html": [
       "<div>\n",
       "<style scoped>\n",
       "    .dataframe tbody tr th:only-of-type {\n",
       "        vertical-align: middle;\n",
       "    }\n",
       "\n",
       "    .dataframe tbody tr th {\n",
       "        vertical-align: top;\n",
       "    }\n",
       "\n",
       "    .dataframe thead th {\n",
       "        text-align: right;\n",
       "    }\n",
       "</style>\n",
       "<table border=\"1\" class=\"dataframe\">\n",
       "  <thead>\n",
       "    <tr style=\"text-align: right;\">\n",
       "      <th></th>\n",
       "      <th>event_datetime</th>\n",
       "      <th>event</th>\n",
       "      <th>building_type</th>\n",
       "      <th>user_id</th>\n",
       "      <th>project_type</th>\n",
       "      <th>date</th>\n",
       "    </tr>\n",
       "  </thead>\n",
       "  <tbody>\n",
       "    <tr>\n",
       "      <th>135630</th>\n",
       "      <td>2020-06-04 08:29:42</td>\n",
       "      <td>project</td>\n",
       "      <td>NaN</td>\n",
       "      <td>d477dde8-7c22-4f23-9c4f-4ec31a1aa4c8</td>\n",
       "      <td>satellite_orbital_assembly</td>\n",
       "      <td>2020-06-04</td>\n",
       "    </tr>\n",
       "    <tr>\n",
       "      <th>135631</th>\n",
       "      <td>2020-06-04 13:26:25</td>\n",
       "      <td>building</td>\n",
       "      <td>research_center</td>\n",
       "      <td>32572adb-900f-4b5d-a453-1eb1e6d88d8b</td>\n",
       "      <td>level_is_not_passed</td>\n",
       "      <td>2020-06-04</td>\n",
       "    </tr>\n",
       "    <tr>\n",
       "      <th>135632</th>\n",
       "      <td>2020-06-04 15:50:38</td>\n",
       "      <td>finished_stage_1</td>\n",
       "      <td>NaN</td>\n",
       "      <td>22cce310-fe10-41a2-941b-9c3d63327fea</td>\n",
       "      <td>victory_in_pvp</td>\n",
       "      <td>2020-06-04</td>\n",
       "    </tr>\n",
       "    <tr>\n",
       "      <th>135633</th>\n",
       "      <td>2020-06-04 17:56:14</td>\n",
       "      <td>finished_stage_1</td>\n",
       "      <td>NaN</td>\n",
       "      <td>d477dde8-7c22-4f23-9c4f-4ec31a1aa4c8</td>\n",
       "      <td>victory_in_pvp</td>\n",
       "      <td>2020-06-04</td>\n",
       "    </tr>\n",
       "    <tr>\n",
       "      <th>135634</th>\n",
       "      <td>2020-06-04 18:14:33</td>\n",
       "      <td>building</td>\n",
       "      <td>research_center</td>\n",
       "      <td>515c1952-99aa-4bca-a7ea-d0449eb5385a</td>\n",
       "      <td>level_is_not_passed</td>\n",
       "      <td>2020-06-04</td>\n",
       "    </tr>\n",
       "    <tr>\n",
       "      <th>135635</th>\n",
       "      <td>2020-06-05 00:08:06</td>\n",
       "      <td>building</td>\n",
       "      <td>research_center</td>\n",
       "      <td>f21d179f-1c4b-437e-b9c6-ab1976907195</td>\n",
       "      <td>level_is_not_passed</td>\n",
       "      <td>2020-06-05</td>\n",
       "    </tr>\n",
       "    <tr>\n",
       "      <th>135636</th>\n",
       "      <td>2020-06-05 02:25:12</td>\n",
       "      <td>finished_stage_1</td>\n",
       "      <td>NaN</td>\n",
       "      <td>515c1952-99aa-4bca-a7ea-d0449eb5385a</td>\n",
       "      <td>victory_in_pvp</td>\n",
       "      <td>2020-06-05</td>\n",
       "    </tr>\n",
       "    <tr>\n",
       "      <th>135637</th>\n",
       "      <td>2020-06-05 08:57:52</td>\n",
       "      <td>building</td>\n",
       "      <td>research_center</td>\n",
       "      <td>ed3e7d02-8a96-4be7-9998-e9813ff9c316</td>\n",
       "      <td>level_is_not_passed</td>\n",
       "      <td>2020-06-05</td>\n",
       "    </tr>\n",
       "    <tr>\n",
       "      <th>135638</th>\n",
       "      <td>2020-06-05 12:12:27</td>\n",
       "      <td>finished_stage_1</td>\n",
       "      <td>NaN</td>\n",
       "      <td>32572adb-900f-4b5d-a453-1eb1e6d88d8b</td>\n",
       "      <td>victory_in_pvp</td>\n",
       "      <td>2020-06-05</td>\n",
       "    </tr>\n",
       "    <tr>\n",
       "      <th>135639</th>\n",
       "      <td>2020-06-05 12:32:49</td>\n",
       "      <td>finished_stage_1</td>\n",
       "      <td>NaN</td>\n",
       "      <td>f21d179f-1c4b-437e-b9c6-ab1976907195</td>\n",
       "      <td>victory_in_pvp</td>\n",
       "      <td>2020-06-05</td>\n",
       "    </tr>\n",
       "  </tbody>\n",
       "</table>\n",
       "</div>"
      ],
      "text/plain": [
       "            event_datetime             event    building_type  \\\n",
       "135630 2020-06-04 08:29:42           project              NaN   \n",
       "135631 2020-06-04 13:26:25          building  research_center   \n",
       "135632 2020-06-04 15:50:38  finished_stage_1              NaN   \n",
       "135633 2020-06-04 17:56:14  finished_stage_1              NaN   \n",
       "135634 2020-06-04 18:14:33          building  research_center   \n",
       "135635 2020-06-05 00:08:06          building  research_center   \n",
       "135636 2020-06-05 02:25:12  finished_stage_1              NaN   \n",
       "135637 2020-06-05 08:57:52          building  research_center   \n",
       "135638 2020-06-05 12:12:27  finished_stage_1              NaN   \n",
       "135639 2020-06-05 12:32:49  finished_stage_1              NaN   \n",
       "\n",
       "                                     user_id                project_type  \\\n",
       "135630  d477dde8-7c22-4f23-9c4f-4ec31a1aa4c8  satellite_orbital_assembly   \n",
       "135631  32572adb-900f-4b5d-a453-1eb1e6d88d8b         level_is_not_passed   \n",
       "135632  22cce310-fe10-41a2-941b-9c3d63327fea              victory_in_pvp   \n",
       "135633  d477dde8-7c22-4f23-9c4f-4ec31a1aa4c8              victory_in_pvp   \n",
       "135634  515c1952-99aa-4bca-a7ea-d0449eb5385a         level_is_not_passed   \n",
       "135635  f21d179f-1c4b-437e-b9c6-ab1976907195         level_is_not_passed   \n",
       "135636  515c1952-99aa-4bca-a7ea-d0449eb5385a              victory_in_pvp   \n",
       "135637  ed3e7d02-8a96-4be7-9998-e9813ff9c316         level_is_not_passed   \n",
       "135638  32572adb-900f-4b5d-a453-1eb1e6d88d8b              victory_in_pvp   \n",
       "135639  f21d179f-1c4b-437e-b9c6-ab1976907195              victory_in_pvp   \n",
       "\n",
       "              date  \n",
       "135630  2020-06-04  \n",
       "135631  2020-06-04  \n",
       "135632  2020-06-04  \n",
       "135633  2020-06-04  \n",
       "135634  2020-06-04  \n",
       "135635  2020-06-05  \n",
       "135636  2020-06-05  \n",
       "135637  2020-06-05  \n",
       "135638  2020-06-05  \n",
       "135639  2020-06-05  "
      ]
     },
     "execution_count": 19,
     "metadata": {},
     "output_type": "execute_result"
    }
   ],
   "source": [
    "game_actions.tail(10)"
   ]
  },
  {
   "cell_type": "markdown",
   "metadata": {},
   "source": [
    "Судя по имеющимся данным можно сделать вывод, что пропуски в колонке building_type - это те, кто перешли на следующий уровень(выполнив одно из 2 условий). Либо игрок победил в ПВП - т.е постройки не было, либо проект завершен полностью, в обоих случаях постройка уже не ведется, поэтому можно заменить nan на without_buildings"
   ]
  },
  {
   "cell_type": "code",
   "execution_count": 20,
   "metadata": {},
   "outputs": [],
   "source": [
    "game_actions['building_type'] = game_actions['building_type'].fillna('without_buildings')"
   ]
  },
  {
   "cell_type": "code",
   "execution_count": 21,
   "metadata": {},
   "outputs": [
    {
     "data": {
      "text/plain": [
       "event_datetime    0\n",
       "event             0\n",
       "building_type     0\n",
       "user_id           0\n",
       "project_type      0\n",
       "date              0\n",
       "dtype: int64"
      ]
     },
     "execution_count": 21,
     "metadata": {},
     "output_type": "execute_result"
    }
   ],
   "source": [
    "game_actions.isna().sum()"
   ]
  },
  {
   "cell_type": "markdown",
   "metadata": {},
   "source": [
    "**Обработка дубликатов**"
   ]
  },
  {
   "cell_type": "code",
   "execution_count": 22,
   "metadata": {},
   "outputs": [
    {
     "data": {
      "text/plain": [
       "1"
      ]
     },
     "execution_count": 22,
     "metadata": {},
     "output_type": "execute_result"
    }
   ],
   "source": [
    "game_actions.duplicated().sum()"
   ]
  },
  {
   "cell_type": "code",
   "execution_count": 23,
   "metadata": {},
   "outputs": [
    {
     "data": {
      "text/html": [
       "<div>\n",
       "<style scoped>\n",
       "    .dataframe tbody tr th:only-of-type {\n",
       "        vertical-align: middle;\n",
       "    }\n",
       "\n",
       "    .dataframe tbody tr th {\n",
       "        vertical-align: top;\n",
       "    }\n",
       "\n",
       "    .dataframe thead th {\n",
       "        text-align: right;\n",
       "    }\n",
       "</style>\n",
       "<table border=\"1\" class=\"dataframe\">\n",
       "  <thead>\n",
       "    <tr style=\"text-align: right;\">\n",
       "      <th></th>\n",
       "      <th>event_datetime</th>\n",
       "      <th>event</th>\n",
       "      <th>building_type</th>\n",
       "      <th>user_id</th>\n",
       "      <th>project_type</th>\n",
       "      <th>date</th>\n",
       "    </tr>\n",
       "  </thead>\n",
       "  <tbody>\n",
       "    <tr>\n",
       "      <th>74891</th>\n",
       "      <td>2020-05-10 18:41:56</td>\n",
       "      <td>building</td>\n",
       "      <td>research_center</td>\n",
       "      <td>c9af55d2-b0ae-4bb4-b3d5-f32aa9ac03af</td>\n",
       "      <td>level_is_not_passed</td>\n",
       "      <td>2020-05-10</td>\n",
       "    </tr>\n",
       "  </tbody>\n",
       "</table>\n",
       "</div>"
      ],
      "text/plain": [
       "           event_datetime     event    building_type  \\\n",
       "74891 2020-05-10 18:41:56  building  research_center   \n",
       "\n",
       "                                    user_id         project_type        date  \n",
       "74891  c9af55d2-b0ae-4bb4-b3d5-f32aa9ac03af  level_is_not_passed  2020-05-10  "
      ]
     },
     "execution_count": 23,
     "metadata": {},
     "output_type": "execute_result"
    }
   ],
   "source": [
    "# Найдем дубликат\n",
    "game_actions[game_actions.duplicated()]"
   ]
  },
  {
   "cell_type": "code",
   "execution_count": 24,
   "metadata": {},
   "outputs": [],
   "source": [
    "# Удалим дубликат\n",
    "game_actions = game_actions.drop_duplicates()"
   ]
  },
  {
   "cell_type": "code",
   "execution_count": 25,
   "metadata": {},
   "outputs": [
    {
     "data": {
      "text/plain": [
       "0"
      ]
     },
     "execution_count": 25,
     "metadata": {},
     "output_type": "execute_result"
    }
   ],
   "source": [
    "# Проверяем удаление дубликата\n",
    "game_actions.duplicated().sum()"
   ]
  },
  {
   "cell_type": "markdown",
   "metadata": {},
   "source": [
    "**Шаг 3. Исследовательский анализ данных**"
   ]
  },
  {
   "cell_type": "markdown",
   "metadata": {},
   "source": [
    "**Анализ метрик, связанных с пользователями и событиями:**"
   ]
  },
  {
   "cell_type": "code",
   "execution_count": 26,
   "metadata": {},
   "outputs": [
    {
     "name": "stdout",
     "output_type": "stream",
     "text": [
      "Количество пользователей = 13576\n",
      "Количество событий = 135639\n"
     ]
    }
   ],
   "source": [
    "print(\"Количество пользователей =\", game_actions['user_id'].nunique())\n",
    "print(\"Количество событий =\", game_actions['event'].count())"
   ]
  },
  {
   "cell_type": "markdown",
   "metadata": {},
   "source": [
    "Т.е в среднем 10 событий на 1 пользователя"
   ]
  },
  {
   "cell_type": "markdown",
   "metadata": {},
   "source": [
    "Теперь посчитаем количество событий по группам"
   ]
  },
  {
   "cell_type": "code",
   "execution_count": 27,
   "metadata": {},
   "outputs": [
    {
     "data": {
      "text/html": [
       "<div>\n",
       "<style scoped>\n",
       "    .dataframe tbody tr th:only-of-type {\n",
       "        vertical-align: middle;\n",
       "    }\n",
       "\n",
       "    .dataframe tbody tr th {\n",
       "        vertical-align: top;\n",
       "    }\n",
       "\n",
       "    .dataframe thead th {\n",
       "        text-align: right;\n",
       "    }\n",
       "</style>\n",
       "<table border=\"1\" class=\"dataframe\">\n",
       "  <thead>\n",
       "    <tr style=\"text-align: right;\">\n",
       "      <th></th>\n",
       "      <th>event</th>\n",
       "      <th>count</th>\n",
       "      <th>percent</th>\n",
       "    </tr>\n",
       "  </thead>\n",
       "  <tbody>\n",
       "    <tr>\n",
       "      <th>0</th>\n",
       "      <td>building</td>\n",
       "      <td>127956</td>\n",
       "      <td>94.34</td>\n",
       "    </tr>\n",
       "    <tr>\n",
       "      <th>1</th>\n",
       "      <td>finished_stage_1</td>\n",
       "      <td>5817</td>\n",
       "      <td>4.29</td>\n",
       "    </tr>\n",
       "    <tr>\n",
       "      <th>2</th>\n",
       "      <td>project</td>\n",
       "      <td>1866</td>\n",
       "      <td>1.38</td>\n",
       "    </tr>\n",
       "  </tbody>\n",
       "</table>\n",
       "</div>"
      ],
      "text/plain": [
       "              event   count  percent\n",
       "0          building  127956    94.34\n",
       "1  finished_stage_1    5817     4.29\n",
       "2           project    1866     1.38"
      ]
     },
     "execution_count": 27,
     "metadata": {},
     "output_type": "execute_result"
    }
   ],
   "source": [
    "events = game_actions.groupby('event').agg({'building_type':'count'}).reset_index().rename(columns={'building_type':'count'})\n",
    "events['percent'] = round(events['count'] / events['count'].sum(),4) * 100\n",
    "events"
   ]
  },
  {
   "cell_type": "code",
   "execution_count": 28,
   "metadata": {},
   "outputs": [
    {
     "data": {
      "image/png": "[encoded data removed]",
      "text/plain": [
       "<Figure size 432x288 with 1 Axes>"
      ]
     },
     "metadata": {},
     "output_type": "display_data"
    }
   ],
   "source": [
    "# построим диаграмму соотношения событий\n",
    "fig, ax = plt.subplots()\n",
    "ax.pie(events['count'],\n",
    "       labels=events['event'],\n",
    "       autopct='%1.1f%%',\n",
    "       shadow=True)\n",
    "ax.axis(\"equal\")\n",
    "plt.title(\"Соотношение событий\")\n",
    "plt.show()"
   ]
  },
  {
   "cell_type": "markdown",
   "metadata": {},
   "source": [
    "Судя по диаграмме видим, что уровень прошли только 5.7% пользователей"
   ]
  },
  {
   "cell_type": "markdown",
   "metadata": {},
   "source": [
    "**Группы завершивших и незавершивших уровень**"
   ]
  },
  {
   "cell_type": "code",
   "execution_count": 29,
   "metadata": {},
   "outputs": [],
   "source": [
    "game_actions_df = game_actions.merge(user_source, how='inner')"
   ]
  },
  {
   "cell_type": "code",
   "execution_count": 30,
   "metadata": {},
   "outputs": [
    {
     "data": {
      "text/html": [
       "<div>\n",
       "<style scoped>\n",
       "    .dataframe tbody tr th:only-of-type {\n",
       "        vertical-align: middle;\n",
       "    }\n",
       "\n",
       "    .dataframe tbody tr th {\n",
       "        vertical-align: top;\n",
       "    }\n",
       "\n",
       "    .dataframe thead th {\n",
       "        text-align: right;\n",
       "    }\n",
       "</style>\n",
       "<table border=\"1\" class=\"dataframe\">\n",
       "  <thead>\n",
       "    <tr style=\"text-align: right;\">\n",
       "      <th></th>\n",
       "      <th>event_datetime</th>\n",
       "      <th>event</th>\n",
       "      <th>building_type</th>\n",
       "      <th>user_id</th>\n",
       "      <th>project_type</th>\n",
       "      <th>date</th>\n",
       "      <th>source</th>\n",
       "    </tr>\n",
       "  </thead>\n",
       "  <tbody>\n",
       "    <tr>\n",
       "      <th>0</th>\n",
       "      <td>2020-05-04 00:00:03</td>\n",
       "      <td>building</td>\n",
       "      <td>assembly_shop</td>\n",
       "      <td>c07b1c10-f477-44dc-81dc-ec82254b1347</td>\n",
       "      <td>level_is_not_passed</td>\n",
       "      <td>2020-05-04</td>\n",
       "      <td>facebook_ads</td>\n",
       "    </tr>\n",
       "    <tr>\n",
       "      <th>1</th>\n",
       "      <td>2020-05-06 23:49:25</td>\n",
       "      <td>building</td>\n",
       "      <td>assembly_shop</td>\n",
       "      <td>c07b1c10-f477-44dc-81dc-ec82254b1347</td>\n",
       "      <td>level_is_not_passed</td>\n",
       "      <td>2020-05-06</td>\n",
       "      <td>facebook_ads</td>\n",
       "    </tr>\n",
       "    <tr>\n",
       "      <th>2</th>\n",
       "      <td>2020-05-07 03:56:30</td>\n",
       "      <td>building</td>\n",
       "      <td>spaceport</td>\n",
       "      <td>c07b1c10-f477-44dc-81dc-ec82254b1347</td>\n",
       "      <td>level_is_not_passed</td>\n",
       "      <td>2020-05-07</td>\n",
       "      <td>facebook_ads</td>\n",
       "    </tr>\n",
       "    <tr>\n",
       "      <th>3</th>\n",
       "      <td>2020-05-07 07:58:20</td>\n",
       "      <td>building</td>\n",
       "      <td>assembly_shop</td>\n",
       "      <td>c07b1c10-f477-44dc-81dc-ec82254b1347</td>\n",
       "      <td>level_is_not_passed</td>\n",
       "      <td>2020-05-07</td>\n",
       "      <td>facebook_ads</td>\n",
       "    </tr>\n",
       "    <tr>\n",
       "      <th>4</th>\n",
       "      <td>2020-05-07 08:30:13</td>\n",
       "      <td>building</td>\n",
       "      <td>assembly_shop</td>\n",
       "      <td>c07b1c10-f477-44dc-81dc-ec82254b1347</td>\n",
       "      <td>level_is_not_passed</td>\n",
       "      <td>2020-05-07</td>\n",
       "      <td>facebook_ads</td>\n",
       "    </tr>\n",
       "    <tr>\n",
       "      <th>...</th>\n",
       "      <td>...</td>\n",
       "      <td>...</td>\n",
       "      <td>...</td>\n",
       "      <td>...</td>\n",
       "      <td>...</td>\n",
       "      <td>...</td>\n",
       "      <td>...</td>\n",
       "    </tr>\n",
       "    <tr>\n",
       "      <th>68464</th>\n",
       "      <td>2020-05-17 04:55:13</td>\n",
       "      <td>building</td>\n",
       "      <td>spaceport</td>\n",
       "      <td>20bc9d79-10c4-4f2d-862e-4a6dece3b4ec</td>\n",
       "      <td>level_is_not_passed</td>\n",
       "      <td>2020-05-17</td>\n",
       "      <td>youtube_channel_reklama</td>\n",
       "    </tr>\n",
       "    <tr>\n",
       "      <th>68465</th>\n",
       "      <td>2020-05-23 00:23:04</td>\n",
       "      <td>building</td>\n",
       "      <td>spaceport</td>\n",
       "      <td>20bc9d79-10c4-4f2d-862e-4a6dece3b4ec</td>\n",
       "      <td>level_is_not_passed</td>\n",
       "      <td>2020-05-23</td>\n",
       "      <td>youtube_channel_reklama</td>\n",
       "    </tr>\n",
       "    <tr>\n",
       "      <th>68466</th>\n",
       "      <td>2020-05-26 14:36:17</td>\n",
       "      <td>building</td>\n",
       "      <td>spaceport</td>\n",
       "      <td>20bc9d79-10c4-4f2d-862e-4a6dece3b4ec</td>\n",
       "      <td>level_is_not_passed</td>\n",
       "      <td>2020-05-26</td>\n",
       "      <td>youtube_channel_reklama</td>\n",
       "    </tr>\n",
       "    <tr>\n",
       "      <th>68467</th>\n",
       "      <td>2020-05-30 16:04:33</td>\n",
       "      <td>building</td>\n",
       "      <td>spaceport</td>\n",
       "      <td>20bc9d79-10c4-4f2d-862e-4a6dece3b4ec</td>\n",
       "      <td>level_is_not_passed</td>\n",
       "      <td>2020-05-30</td>\n",
       "      <td>youtube_channel_reklama</td>\n",
       "    </tr>\n",
       "    <tr>\n",
       "      <th>68468</th>\n",
       "      <td>2020-05-31 10:28:30</td>\n",
       "      <td>finished_stage_1</td>\n",
       "      <td>without_buildings</td>\n",
       "      <td>20bc9d79-10c4-4f2d-862e-4a6dece3b4ec</td>\n",
       "      <td>victory_in_pvp</td>\n",
       "      <td>2020-05-31</td>\n",
       "      <td>youtube_channel_reklama</td>\n",
       "    </tr>\n",
       "  </tbody>\n",
       "</table>\n",
       "<p>68469 rows × 7 columns</p>\n",
       "</div>"
      ],
      "text/plain": [
       "           event_datetime             event      building_type  \\\n",
       "0     2020-05-04 00:00:03          building      assembly_shop   \n",
       "1     2020-05-06 23:49:25          building      assembly_shop   \n",
       "2     2020-05-07 03:56:30          building          spaceport   \n",
       "3     2020-05-07 07:58:20          building      assembly_shop   \n",
       "4     2020-05-07 08:30:13          building      assembly_shop   \n",
       "...                   ...               ...                ...   \n",
       "68464 2020-05-17 04:55:13          building          spaceport   \n",
       "68465 2020-05-23 00:23:04          building          spaceport   \n",
       "68466 2020-05-26 14:36:17          building          spaceport   \n",
       "68467 2020-05-30 16:04:33          building          spaceport   \n",
       "68468 2020-05-31 10:28:30  finished_stage_1  without_buildings   \n",
       "\n",
       "                                    user_id         project_type        date  \\\n",
       "0      c07b1c10-f477-44dc-81dc-ec82254b1347  level_is_not_passed  2020-05-04   \n",
       "1      c07b1c10-f477-44dc-81dc-ec82254b1347  level_is_not_passed  2020-05-06   \n",
       "2      c07b1c10-f477-44dc-81dc-ec82254b1347  level_is_not_passed  2020-05-07   \n",
       "3      c07b1c10-f477-44dc-81dc-ec82254b1347  level_is_not_passed  2020-05-07   \n",
       "4      c07b1c10-f477-44dc-81dc-ec82254b1347  level_is_not_passed  2020-05-07   \n",
       "...                                     ...                  ...         ...   \n",
       "68464  20bc9d79-10c4-4f2d-862e-4a6dece3b4ec  level_is_not_passed  2020-05-17   \n",
       "68465  20bc9d79-10c4-4f2d-862e-4a6dece3b4ec  level_is_not_passed  2020-05-23   \n",
       "68466  20bc9d79-10c4-4f2d-862e-4a6dece3b4ec  level_is_not_passed  2020-05-26   \n",
       "68467  20bc9d79-10c4-4f2d-862e-4a6dece3b4ec  level_is_not_passed  2020-05-30   \n",
       "68468  20bc9d79-10c4-4f2d-862e-4a6dece3b4ec       victory_in_pvp  2020-05-31   \n",
       "\n",
       "                        source  \n",
       "0                 facebook_ads  \n",
       "1                 facebook_ads  \n",
       "2                 facebook_ads  \n",
       "3                 facebook_ads  \n",
       "4                 facebook_ads  \n",
       "...                        ...  \n",
       "68464  youtube_channel_reklama  \n",
       "68465  youtube_channel_reklama  \n",
       "68466  youtube_channel_reklama  \n",
       "68467  youtube_channel_reklama  \n",
       "68468  youtube_channel_reklama  \n",
       "\n",
       "[68469 rows x 7 columns]"
      ]
     },
     "execution_count": 30,
     "metadata": {},
     "output_type": "execute_result"
    }
   ],
   "source": [
    "ss = game_actions_df[game_actions_df['event'] == 'finished_stage_1']['user_id']\n",
    "# соединяем таблицы по пользоватеям\n",
    "mission_complete = game_actions_df.merge(ss, how='inner')#.reset_index(drop = True)\n",
    "mission_complete # таблица прошедших уровень"
   ]
  },
  {
   "cell_type": "code",
   "execution_count": 31,
   "metadata": {},
   "outputs": [
    {
     "data": {
      "text/html": [
       "<div>\n",
       "<style scoped>\n",
       "    .dataframe tbody tr th:only-of-type {\n",
       "        vertical-align: middle;\n",
       "    }\n",
       "\n",
       "    .dataframe tbody tr th {\n",
       "        vertical-align: top;\n",
       "    }\n",
       "\n",
       "    .dataframe thead th {\n",
       "        text-align: right;\n",
       "    }\n",
       "</style>\n",
       "<table border=\"1\" class=\"dataframe\">\n",
       "  <thead>\n",
       "    <tr style=\"text-align: right;\">\n",
       "      <th></th>\n",
       "      <th>event_datetime</th>\n",
       "      <th>event</th>\n",
       "      <th>building_type</th>\n",
       "      <th>user_id</th>\n",
       "      <th>source</th>\n",
       "      <th>date</th>\n",
       "    </tr>\n",
       "  </thead>\n",
       "  <tbody>\n",
       "    <tr>\n",
       "      <th>0</th>\n",
       "      <td>2020-05-04 00:00:01</td>\n",
       "      <td>building</td>\n",
       "      <td>assembly_shop</td>\n",
       "      <td>55e92310-cb8e-4754-b622-597e124b03de</td>\n",
       "      <td>youtube_channel_reklama</td>\n",
       "      <td>2020-05-04</td>\n",
       "    </tr>\n",
       "    <tr>\n",
       "      <th>1</th>\n",
       "      <td>2020-05-05 05:20:15</td>\n",
       "      <td>building</td>\n",
       "      <td>assembly_shop</td>\n",
       "      <td>55e92310-cb8e-4754-b622-597e124b03de</td>\n",
       "      <td>youtube_channel_reklama</td>\n",
       "      <td>2020-05-05</td>\n",
       "    </tr>\n",
       "    <tr>\n",
       "      <th>2</th>\n",
       "      <td>2020-05-05 19:24:02</td>\n",
       "      <td>building</td>\n",
       "      <td>assembly_shop</td>\n",
       "      <td>55e92310-cb8e-4754-b622-597e124b03de</td>\n",
       "      <td>youtube_channel_reklama</td>\n",
       "      <td>2020-05-05</td>\n",
       "    </tr>\n",
       "    <tr>\n",
       "      <th>3</th>\n",
       "      <td>2020-05-05 20:59:19</td>\n",
       "      <td>building</td>\n",
       "      <td>assembly_shop</td>\n",
       "      <td>55e92310-cb8e-4754-b622-597e124b03de</td>\n",
       "      <td>youtube_channel_reklama</td>\n",
       "      <td>2020-05-05</td>\n",
       "    </tr>\n",
       "    <tr>\n",
       "      <th>4</th>\n",
       "      <td>2020-05-06 00:52:56</td>\n",
       "      <td>building</td>\n",
       "      <td>assembly_shop</td>\n",
       "      <td>55e92310-cb8e-4754-b622-597e124b03de</td>\n",
       "      <td>youtube_channel_reklama</td>\n",
       "      <td>2020-05-06</td>\n",
       "    </tr>\n",
       "    <tr>\n",
       "      <th>...</th>\n",
       "      <td>...</td>\n",
       "      <td>...</td>\n",
       "      <td>...</td>\n",
       "      <td>...</td>\n",
       "      <td>...</td>\n",
       "      <td>...</td>\n",
       "    </tr>\n",
       "    <tr>\n",
       "      <th>67165</th>\n",
       "      <td>2020-05-13 23:56:39</td>\n",
       "      <td>building</td>\n",
       "      <td>spaceport</td>\n",
       "      <td>cafd1b8b-507b-49ae-abf0-89fe863a8b03</td>\n",
       "      <td>facebook_ads</td>\n",
       "      <td>2020-05-13</td>\n",
       "    </tr>\n",
       "    <tr>\n",
       "      <th>67166</th>\n",
       "      <td>2020-05-18 00:23:28</td>\n",
       "      <td>building</td>\n",
       "      <td>spaceport</td>\n",
       "      <td>cafd1b8b-507b-49ae-abf0-89fe863a8b03</td>\n",
       "      <td>facebook_ads</td>\n",
       "      <td>2020-05-18</td>\n",
       "    </tr>\n",
       "    <tr>\n",
       "      <th>67167</th>\n",
       "      <td>2020-05-10 23:59:52</td>\n",
       "      <td>building</td>\n",
       "      <td>assembly_shop</td>\n",
       "      <td>bdc53e19-462a-4dc3-8b55-b4a34278af6a</td>\n",
       "      <td>youtube_channel_reklama</td>\n",
       "      <td>2020-05-10</td>\n",
       "    </tr>\n",
       "    <tr>\n",
       "      <th>67168</th>\n",
       "      <td>2020-05-13 08:11:19</td>\n",
       "      <td>building</td>\n",
       "      <td>spaceport</td>\n",
       "      <td>bdc53e19-462a-4dc3-8b55-b4a34278af6a</td>\n",
       "      <td>youtube_channel_reklama</td>\n",
       "      <td>2020-05-13</td>\n",
       "    </tr>\n",
       "    <tr>\n",
       "      <th>67169</th>\n",
       "      <td>2020-05-18 11:11:11</td>\n",
       "      <td>building</td>\n",
       "      <td>spaceport</td>\n",
       "      <td>bdc53e19-462a-4dc3-8b55-b4a34278af6a</td>\n",
       "      <td>youtube_channel_reklama</td>\n",
       "      <td>2020-05-18</td>\n",
       "    </tr>\n",
       "  </tbody>\n",
       "</table>\n",
       "<p>67170 rows × 6 columns</p>\n",
       "</div>"
      ],
      "text/plain": [
       "           event_datetime     event  building_type  \\\n",
       "0     2020-05-04 00:00:01  building  assembly_shop   \n",
       "1     2020-05-05 05:20:15  building  assembly_shop   \n",
       "2     2020-05-05 19:24:02  building  assembly_shop   \n",
       "3     2020-05-05 20:59:19  building  assembly_shop   \n",
       "4     2020-05-06 00:52:56  building  assembly_shop   \n",
       "...                   ...       ...            ...   \n",
       "67165 2020-05-13 23:56:39  building      spaceport   \n",
       "67166 2020-05-18 00:23:28  building      spaceport   \n",
       "67167 2020-05-10 23:59:52  building  assembly_shop   \n",
       "67168 2020-05-13 08:11:19  building      spaceport   \n",
       "67169 2020-05-18 11:11:11  building      spaceport   \n",
       "\n",
       "                                    user_id                   source  \\\n",
       "0      55e92310-cb8e-4754-b622-597e124b03de  youtube_channel_reklama   \n",
       "1      55e92310-cb8e-4754-b622-597e124b03de  youtube_channel_reklama   \n",
       "2      55e92310-cb8e-4754-b622-597e124b03de  youtube_channel_reklama   \n",
       "3      55e92310-cb8e-4754-b622-597e124b03de  youtube_channel_reklama   \n",
       "4      55e92310-cb8e-4754-b622-597e124b03de  youtube_channel_reklama   \n",
       "...                                     ...                      ...   \n",
       "67165  cafd1b8b-507b-49ae-abf0-89fe863a8b03             facebook_ads   \n",
       "67166  cafd1b8b-507b-49ae-abf0-89fe863a8b03             facebook_ads   \n",
       "67167  bdc53e19-462a-4dc3-8b55-b4a34278af6a  youtube_channel_reklama   \n",
       "67168  bdc53e19-462a-4dc3-8b55-b4a34278af6a  youtube_channel_reklama   \n",
       "67169  bdc53e19-462a-4dc3-8b55-b4a34278af6a  youtube_channel_reklama   \n",
       "\n",
       "             date  \n",
       "0      2020-05-04  \n",
       "1      2020-05-05  \n",
       "2      2020-05-05  \n",
       "3      2020-05-05  \n",
       "4      2020-05-06  \n",
       "...           ...  \n",
       "67165  2020-05-13  \n",
       "67166  2020-05-18  \n",
       "67167  2020-05-10  \n",
       "67168  2020-05-13  \n",
       "67169  2020-05-18  \n",
       "\n",
       "[67170 rows x 6 columns]"
      ]
     },
     "execution_count": 31,
     "metadata": {},
     "output_type": "execute_result"
    }
   ],
   "source": [
    "failed_df = game_actions_df\n",
    "failed_df = failed_df.set_index('user_id') # переносим пользователей в индекс для drop\n",
    "failed_df = failed_df.drop(ss,axis = 0) # drop, с испоьзованием списка прошедших уровень\n",
    "failed_df['user_id'] = failed_df.index\n",
    "failed_df = failed_df.reset_index(drop=True) # перезначаем индекс\n",
    "failed_df = failed_df[['event_datetime', 'event', 'building_type', 'user_id', 'source',\n",
    "       'date']] # порядок столбцам\n",
    "failed_df # таблица не прошедших"
   ]
  },
  {
   "cell_type": "code",
   "execution_count": 32,
   "metadata": {},
   "outputs": [],
   "source": [
    "#Добавляем к признак прохождения\n",
    "mission_complete['passed'] = 1\n",
    "failed_df['passed'] = 0"
   ]
  },
  {
   "cell_type": "code",
   "execution_count": 33,
   "metadata": {},
   "outputs": [],
   "source": [
    "# объединяем таблицы\n",
    "complete_df = mission_complete.merge(failed_df, how='outer')"
   ]
  },
  {
   "cell_type": "code",
   "execution_count": 34,
   "metadata": {},
   "outputs": [
    {
     "data": {
      "text/html": [
       "<div>\n",
       "<style scoped>\n",
       "    .dataframe tbody tr th:only-of-type {\n",
       "        vertical-align: middle;\n",
       "    }\n",
       "\n",
       "    .dataframe tbody tr th {\n",
       "        vertical-align: top;\n",
       "    }\n",
       "\n",
       "    .dataframe thead th {\n",
       "        text-align: right;\n",
       "    }\n",
       "</style>\n",
       "<table border=\"1\" class=\"dataframe\">\n",
       "  <thead>\n",
       "    <tr style=\"text-align: right;\">\n",
       "      <th></th>\n",
       "      <th>event_datetime</th>\n",
       "      <th>event</th>\n",
       "      <th>building_type</th>\n",
       "      <th>user_id</th>\n",
       "      <th>project_type</th>\n",
       "      <th>date</th>\n",
       "      <th>source</th>\n",
       "      <th>passed</th>\n",
       "    </tr>\n",
       "  </thead>\n",
       "  <tbody>\n",
       "    <tr>\n",
       "      <th>0</th>\n",
       "      <td>2020-05-04 00:00:03</td>\n",
       "      <td>building</td>\n",
       "      <td>assembly_shop</td>\n",
       "      <td>c07b1c10-f477-44dc-81dc-ec82254b1347</td>\n",
       "      <td>level_is_not_passed</td>\n",
       "      <td>2020-05-04</td>\n",
       "      <td>facebook_ads</td>\n",
       "      <td>1</td>\n",
       "    </tr>\n",
       "    <tr>\n",
       "      <th>1</th>\n",
       "      <td>2020-05-06 23:49:25</td>\n",
       "      <td>building</td>\n",
       "      <td>assembly_shop</td>\n",
       "      <td>c07b1c10-f477-44dc-81dc-ec82254b1347</td>\n",
       "      <td>level_is_not_passed</td>\n",
       "      <td>2020-05-06</td>\n",
       "      <td>facebook_ads</td>\n",
       "      <td>1</td>\n",
       "    </tr>\n",
       "    <tr>\n",
       "      <th>2</th>\n",
       "      <td>2020-05-07 03:56:30</td>\n",
       "      <td>building</td>\n",
       "      <td>spaceport</td>\n",
       "      <td>c07b1c10-f477-44dc-81dc-ec82254b1347</td>\n",
       "      <td>level_is_not_passed</td>\n",
       "      <td>2020-05-07</td>\n",
       "      <td>facebook_ads</td>\n",
       "      <td>1</td>\n",
       "    </tr>\n",
       "    <tr>\n",
       "      <th>3</th>\n",
       "      <td>2020-05-07 07:58:20</td>\n",
       "      <td>building</td>\n",
       "      <td>assembly_shop</td>\n",
       "      <td>c07b1c10-f477-44dc-81dc-ec82254b1347</td>\n",
       "      <td>level_is_not_passed</td>\n",
       "      <td>2020-05-07</td>\n",
       "      <td>facebook_ads</td>\n",
       "      <td>1</td>\n",
       "    </tr>\n",
       "    <tr>\n",
       "      <th>4</th>\n",
       "      <td>2020-05-07 08:30:13</td>\n",
       "      <td>building</td>\n",
       "      <td>assembly_shop</td>\n",
       "      <td>c07b1c10-f477-44dc-81dc-ec82254b1347</td>\n",
       "      <td>level_is_not_passed</td>\n",
       "      <td>2020-05-07</td>\n",
       "      <td>facebook_ads</td>\n",
       "      <td>1</td>\n",
       "    </tr>\n",
       "  </tbody>\n",
       "</table>\n",
       "</div>"
      ],
      "text/plain": [
       "       event_datetime     event  building_type  \\\n",
       "0 2020-05-04 00:00:03  building  assembly_shop   \n",
       "1 2020-05-06 23:49:25  building  assembly_shop   \n",
       "2 2020-05-07 03:56:30  building      spaceport   \n",
       "3 2020-05-07 07:58:20  building  assembly_shop   \n",
       "4 2020-05-07 08:30:13  building  assembly_shop   \n",
       "\n",
       "                                user_id         project_type        date  \\\n",
       "0  c07b1c10-f477-44dc-81dc-ec82254b1347  level_is_not_passed  2020-05-04   \n",
       "1  c07b1c10-f477-44dc-81dc-ec82254b1347  level_is_not_passed  2020-05-06   \n",
       "2  c07b1c10-f477-44dc-81dc-ec82254b1347  level_is_not_passed  2020-05-07   \n",
       "3  c07b1c10-f477-44dc-81dc-ec82254b1347  level_is_not_passed  2020-05-07   \n",
       "4  c07b1c10-f477-44dc-81dc-ec82254b1347  level_is_not_passed  2020-05-07   \n",
       "\n",
       "         source  passed  \n",
       "0  facebook_ads       1  \n",
       "1  facebook_ads       1  \n",
       "2  facebook_ads       1  \n",
       "3  facebook_ads       1  \n",
       "4  facebook_ads       1  "
      ]
     },
     "execution_count": 34,
     "metadata": {},
     "output_type": "execute_result"
    }
   ],
   "source": [
    "complete_df.head()"
   ]
  },
  {
   "cell_type": "markdown",
   "metadata": {},
   "source": [
    "Посчитаем соотношение построек:"
   ]
  },
  {
   "cell_type": "code",
   "execution_count": 35,
   "metadata": {},
   "outputs": [],
   "source": [
    "builds = (game_actions[game_actions['building_type'] != 'without_buildings']\n",
    "          .groupby('building_type')\n",
    "          .agg({'event':'count'})\n",
    "          .reset_index()\n",
    "          .rename(columns={'event':'count'}))"
   ]
  },
  {
   "cell_type": "code",
   "execution_count": 36,
   "metadata": {},
   "outputs": [
    {
     "data": {
      "image/png": "[encoded data removed]",
      "text/plain": [
       "<Figure size 432x288 with 1 Axes>"
      ]
     },
     "metadata": {},
     "output_type": "display_data"
    }
   ],
   "source": [
    "# построим диаграмму соотношения построек\n",
    "fig, ax = plt.subplots()\n",
    "ax.pie(builds['count'],\n",
    "       labels=builds['building_type'],\n",
    "       autopct='%1.1f%%',\n",
    "       shadow=True)\n",
    "ax.axis(\"equal\")\n",
    "plt.title(\"Соотношение построек\")\n",
    "plt.show()"
   ]
  },
  {
   "cell_type": "markdown",
   "metadata": {},
   "source": [
    "Типы построек: assembly_shop — сборочный цех - 42.6%, spaceport — космопорт - 46.4%, research_center — исследовательский центр - 11%"
   ]
  },
  {
   "cell_type": "markdown",
   "metadata": {},
   "source": [
    "**Рассмотрим динамику событий по их типу**"
   ]
  },
  {
   "cell_type": "code",
   "execution_count": 37,
   "metadata": {},
   "outputs": [
    {
     "data": {
      "image/png": "[encoded data removed]",
      "text/plain": [
       "<Figure size 864x360 with 1 Axes>"
      ]
     },
     "metadata": {
      "needs_background": "light"
     },
     "output_type": "display_data"
    },
    {
     "data": {
      "image/png": "[encoded data removed]",
      "text/plain": [
       "<Figure size 864x360 with 1 Axes>"
      ]
     },
     "metadata": {
      "needs_background": "light"
     },
     "output_type": "display_data"
    },
    {
     "data": {
      "image/png": "[encoded data removed]",
      "text/plain": [
       "<Figure size 864x360 with 1 Axes>"
      ]
     },
     "metadata": {
      "needs_background": "light"
     },
     "output_type": "display_data"
    }
   ],
   "source": [
    "for i in game_actions['event'].unique():\n",
    "    fig = plt.figure(figsize=(12, 5))\n",
    "    sns.set_color_codes('pastel')\n",
    "    splot_na = sns.barplot(x = game_actions[game_actions['event'] == i].pivot_table(index='date', values='user_id', aggfunc='count').index,\n",
    "                       y = 'user_id',\n",
    "                       data = game_actions[game_actions['event'] == i].pivot_table(index='date', values='user_id', aggfunc='count') ,\n",
    "                       alpha = 0.9,\n",
    "                       color = 'g')\n",
    "    \n",
    "    plt.title('Гистограмма количества событий {}'.format(i), fontsize=(18))\n",
    "    plt.xlabel('', fontsize=(12))\n",
    "    plt.ylabel('Количество событий {}'.format(i), fontsize=12)\n",
    "    plt.xticks(fontsize=(12),rotation=90)\n",
    "    plt.yticks(fontsize=(12))\n",
    "    plt.xlabel('', size=(14))\n",
    "    plt.show()"
   ]
  },
  {
   "cell_type": "markdown",
   "metadata": {},
   "source": [
    "Динамика события building очевидно повторяет динамику общих событий (тоже с пиком 10го числа), так как тут происходит абсолютное большинство событий - 94 %. У события project пик событий приходится на 15е число. У события finished_stage_1 пик событий приходится на 16е число и занимают 4.3 % от всех событий."
   ]
  },
  {
   "cell_type": "markdown",
   "metadata": {},
   "source": [
    "Посмотрим типы построек события building , которые хранятся в building_type."
   ]
  },
  {
   "cell_type": "code",
   "execution_count": 38,
   "metadata": {},
   "outputs": [],
   "source": [
    "# фильтруем список\n",
    "f = partial(is_not, np.nan)\n",
    "x = game_actions['building_type'].unique()"
   ]
  },
  {
   "cell_type": "code",
   "execution_count": 39,
   "metadata": {},
   "outputs": [
    {
     "data": {
      "image/png": "[encoded data removed]",
      "text/plain": [
       "<Figure size 864x360 with 1 Axes>"
      ]
     },
     "metadata": {
      "needs_background": "light"
     },
     "output_type": "display_data"
    },
    {
     "data": {
      "image/png": "[encoded data removed]",
      "text/plain": [
       "<Figure size 864x360 with 1 Axes>"
      ]
     },
     "metadata": {
      "needs_background": "light"
     },
     "output_type": "display_data"
    },
    {
     "data": {
      "image/png": "[encoded data removed]",
      "text/plain": [
       "<Figure size 864x360 with 1 Axes>"
      ]
     },
     "metadata": {
      "needs_background": "light"
     },
     "output_type": "display_data"
    },
    {
     "data": {
      "image/png": "[encoded data removed]",
      "text/plain": [
       "<Figure size 864x360 with 1 Axes>"
      ]
     },
     "metadata": {
      "needs_background": "light"
     },
     "output_type": "display_data"
    }
   ],
   "source": [
    "for i in list(filter(f, x)): # добавляем отфильтрованный список\n",
    "    fig = plt.figure(figsize=(12, 5))\n",
    "    sns.set_color_codes('pastel')\n",
    "    splot_na = sns.barplot(x = game_actions[game_actions['building_type'] == i].pivot_table(index='date', values='user_id', aggfunc='count').index,\n",
    "                       y = 'user_id',\n",
    "                       data = game_actions[game_actions['building_type'] == i].pivot_table(index='date', values='user_id', aggfunc='count') ,\n",
    "                       alpha = 0.9,\n",
    "                       color = 'r')\n",
    "\n",
    "    plt.title('Динамика типа события {}'.format(i), fontsize=(18))\n",
    "    plt.xlabel('', fontsize=(12))\n",
    "    plt.ylabel('Количество событий {}'.format(i), fontsize=12)\n",
    "    plt.xticks(fontsize=(12),rotation=90)\n",
    "    plt.yticks(fontsize=(12))\n",
    "    plt.xlabel('', size=(14))\n",
    "    plt.show()"
   ]
  },
  {
   "cell_type": "markdown",
   "metadata": {},
   "source": [
    "Скорее всего assembly_shop(сборочный цех) это 1я необходимая постройка в игре, к т.к. каждый день количество было одинаковым. Тип события spaceport(космопорт) имеет нормальное распределение, пик которого 11го числа, скорее эта постройка открывается после assembly_shop. Событие research_center(исследовательский центр) начинается с 6го мая с пиком распределения 12го и 13го числа, не самая популярная постройка, так как на пике 1500 событий в день, предположительно оно идет после spaceport у которого число событий более 6000 на пике."
   ]
  },
  {
   "cell_type": "markdown",
   "metadata": {},
   "source": [
    "**Анализ временных метрик:**"
   ]
  },
  {
   "cell_type": "code",
   "execution_count": 40,
   "metadata": {},
   "outputs": [
    {
     "data": {
      "image/png": "[encoded data removed]",
      "text/plain": [
       "<Figure size 1080x1080 with 1 Axes>"
      ]
     },
     "metadata": {
      "needs_background": "light"
     },
     "output_type": "display_data"
    }
   ],
   "source": [
    "plt.figure(figsize=(15,15))\n",
    "ax = sns.countplot(y=game_actions['event_datetime'].dt.strftime('%Y-%m-%d'), hue='event', data=game_actions, dodge=False)\n",
    "ax.set_title('Распределение событий во времени')\n",
    "plt.show()"
   ]
  },
  {
   "cell_type": "markdown",
   "metadata": {},
   "source": [
    "По графику видно, что основной рост числа пользователей был с 4 по 10 мая, как и говорилось в условии. Начиная с 9 мая начали появляться те кто прошел уровень. Но также с 11 мая начал резко падать поток играющих пользователей."
   ]
  },
  {
   "cell_type": "markdown",
   "metadata": {},
   "source": [
    "Рассчитаем время прохождения уровня:"
   ]
  },
  {
   "cell_type": "code",
   "execution_count": 41,
   "metadata": {},
   "outputs": [
    {
     "data": {
      "text/html": [
       "<div>\n",
       "<style scoped>\n",
       "    .dataframe tbody tr th:only-of-type {\n",
       "        vertical-align: middle;\n",
       "    }\n",
       "\n",
       "    .dataframe tbody tr th {\n",
       "        vertical-align: top;\n",
       "    }\n",
       "\n",
       "    .dataframe thead th {\n",
       "        text-align: right;\n",
       "    }\n",
       "</style>\n",
       "<table border=\"1\" class=\"dataframe\">\n",
       "  <thead>\n",
       "    <tr style=\"text-align: right;\">\n",
       "      <th></th>\n",
       "      <th>user_id</th>\n",
       "      <th>event_datetime</th>\n",
       "      <th>event_datetime</th>\n",
       "      <th>level_time</th>\n",
       "    </tr>\n",
       "  </thead>\n",
       "  <tbody>\n",
       "    <tr>\n",
       "      <th>91</th>\n",
       "      <td>03990bc0-47b6-44ce-9f8b-3afb1a97d0e7</td>\n",
       "      <td>2020-05-07 16:40:32</td>\n",
       "      <td>2020-05-08 02:19:33</td>\n",
       "      <td>0 days 09:39:01</td>\n",
       "    </tr>\n",
       "    <tr>\n",
       "      <th>4687</th>\n",
       "      <td>ced7b368-818f-48f6-9461-2346de0892c5</td>\n",
       "      <td>2020-05-04 00:13:21</td>\n",
       "      <td>2020-05-04 19:47:29</td>\n",
       "      <td>0 days 19:34:08</td>\n",
       "    </tr>\n",
       "    <tr>\n",
       "      <th>4547</th>\n",
       "      <td>c8180f71-68dc-4fd5-ba6e-ba5f5d0d28f7</td>\n",
       "      <td>2020-05-08 16:08:29</td>\n",
       "      <td>2020-05-09 11:52:33</td>\n",
       "      <td>0 days 19:44:04</td>\n",
       "    </tr>\n",
       "    <tr>\n",
       "      <th>825</th>\n",
       "      <td>2204ae7f-892b-494d-bd58-28816ff35eb5</td>\n",
       "      <td>2020-05-07 02:25:27</td>\n",
       "      <td>2020-05-08 01:02:51</td>\n",
       "      <td>0 days 22:37:24</td>\n",
       "    </tr>\n",
       "    <tr>\n",
       "      <th>1032</th>\n",
       "      <td>2ab1cc5a-413a-408e-ba76-01de8e12bead</td>\n",
       "      <td>2020-05-05 13:25:04</td>\n",
       "      <td>2020-05-06 13:43:12</td>\n",
       "      <td>1 days 00:18:08</td>\n",
       "    </tr>\n",
       "    <tr>\n",
       "      <th>...</th>\n",
       "      <td>...</td>\n",
       "      <td>...</td>\n",
       "      <td>...</td>\n",
       "      <td>...</td>\n",
       "    </tr>\n",
       "    <tr>\n",
       "      <th>1205</th>\n",
       "      <td>32572adb-900f-4b5d-a453-1eb1e6d88d8b</td>\n",
       "      <td>2020-05-07 05:43:45</td>\n",
       "      <td>2020-06-05 12:12:27</td>\n",
       "      <td>29 days 06:28:42</td>\n",
       "    </tr>\n",
       "    <tr>\n",
       "      <th>3753</th>\n",
       "      <td>a4f54b34-299f-495f-b29f-745465741366</td>\n",
       "      <td>2020-05-04 05:00:48</td>\n",
       "      <td>2020-06-03 12:47:09</td>\n",
       "      <td>30 days 07:46:21</td>\n",
       "    </tr>\n",
       "    <tr>\n",
       "      <th>5497</th>\n",
       "      <td>f21d179f-1c4b-437e-b9c6-ab1976907195</td>\n",
       "      <td>2020-05-06 02:56:25</td>\n",
       "      <td>2020-06-05 12:32:49</td>\n",
       "      <td>30 days 09:36:24</td>\n",
       "    </tr>\n",
       "    <tr>\n",
       "      <th>843</th>\n",
       "      <td>22cce310-fe10-41a2-941b-9c3d63327fea</td>\n",
       "      <td>2020-05-04 18:38:25</td>\n",
       "      <td>2020-06-04 15:50:38</td>\n",
       "      <td>30 days 21:12:13</td>\n",
       "    </tr>\n",
       "    <tr>\n",
       "      <th>603</th>\n",
       "      <td>18fc6a86-00e7-4f3e-96da-bdb6d550415c</td>\n",
       "      <td>2020-05-04 08:45:09</td>\n",
       "      <td>2020-06-04 06:44:02</td>\n",
       "      <td>30 days 21:58:53</td>\n",
       "    </tr>\n",
       "  </tbody>\n",
       "</table>\n",
       "<p>5817 rows × 4 columns</p>\n",
       "</div>"
      ],
      "text/plain": [
       "                                   user_id      event_datetime  \\\n",
       "91    03990bc0-47b6-44ce-9f8b-3afb1a97d0e7 2020-05-07 16:40:32   \n",
       "4687  ced7b368-818f-48f6-9461-2346de0892c5 2020-05-04 00:13:21   \n",
       "4547  c8180f71-68dc-4fd5-ba6e-ba5f5d0d28f7 2020-05-08 16:08:29   \n",
       "825   2204ae7f-892b-494d-bd58-28816ff35eb5 2020-05-07 02:25:27   \n",
       "1032  2ab1cc5a-413a-408e-ba76-01de8e12bead 2020-05-05 13:25:04   \n",
       "...                                    ...                 ...   \n",
       "1205  32572adb-900f-4b5d-a453-1eb1e6d88d8b 2020-05-07 05:43:45   \n",
       "3753  a4f54b34-299f-495f-b29f-745465741366 2020-05-04 05:00:48   \n",
       "5497  f21d179f-1c4b-437e-b9c6-ab1976907195 2020-05-06 02:56:25   \n",
       "843   22cce310-fe10-41a2-941b-9c3d63327fea 2020-05-04 18:38:25   \n",
       "603   18fc6a86-00e7-4f3e-96da-bdb6d550415c 2020-05-04 08:45:09   \n",
       "\n",
       "          event_datetime       level_time  \n",
       "91   2020-05-08 02:19:33  0 days 09:39:01  \n",
       "4687 2020-05-04 19:47:29  0 days 19:34:08  \n",
       "4547 2020-05-09 11:52:33  0 days 19:44:04  \n",
       "825  2020-05-08 01:02:51  0 days 22:37:24  \n",
       "1032 2020-05-06 13:43:12  1 days 00:18:08  \n",
       "...                  ...              ...  \n",
       "1205 2020-06-05 12:12:27 29 days 06:28:42  \n",
       "3753 2020-06-03 12:47:09 30 days 07:46:21  \n",
       "5497 2020-06-05 12:32:49 30 days 09:36:24  \n",
       "843  2020-06-04 15:50:38 30 days 21:12:13  \n",
       "603  2020-06-04 06:44:02 30 days 21:58:53  \n",
       "\n",
       "[5817 rows x 4 columns]"
      ]
     },
     "execution_count": 41,
     "metadata": {},
     "output_type": "execute_result"
    }
   ],
   "source": [
    "past_players = game_actions[game_actions['project_type'] != 'level_is_not_passed']['user_id']\n",
    "passed_time = (game_actions\n",
    "              .query('user_id in @past_players')\n",
    "              .groupby('user_id')\n",
    "              .agg({'event_datetime':['min','max']}))\n",
    "passed_time['level_time'] = passed_time[('event_datetime', 'max')] - passed_time[('event_datetime', 'min')]\n",
    "passed_time.columns = passed_time.columns.droplevel(1)\n",
    "passed_time = passed_time.reset_index().sort_values(by='level_time')\n",
    "passed_time"
   ]
  },
  {
   "cell_type": "markdown",
   "metadata": {},
   "source": [
    "Самое быстрое прохождение уровня - 9ч 39м, далее - 19ч 34м. Максимального значения по времени прохождения нет (т.к. большая часть пользователей не прошла уровень и может не собирается его проходить)"
   ]
  },
  {
   "cell_type": "markdown",
   "metadata": {},
   "source": [
    "**Анализ источников трафика**"
   ]
  },
  {
   "cell_type": "code",
   "execution_count": 42,
   "metadata": {},
   "outputs": [
    {
     "data": {
      "text/html": [
       "<div>\n",
       "<style scoped>\n",
       "    .dataframe tbody tr th:only-of-type {\n",
       "        vertical-align: middle;\n",
       "    }\n",
       "\n",
       "    .dataframe tbody tr th {\n",
       "        vertical-align: top;\n",
       "    }\n",
       "\n",
       "    .dataframe thead th {\n",
       "        text-align: right;\n",
       "    }\n",
       "</style>\n",
       "<table border=\"1\" class=\"dataframe\">\n",
       "  <thead>\n",
       "    <tr style=\"text-align: right;\">\n",
       "      <th></th>\n",
       "      <th>user_id</th>\n",
       "      <th>source</th>\n",
       "    </tr>\n",
       "  </thead>\n",
       "  <tbody>\n",
       "    <tr>\n",
       "      <th>0</th>\n",
       "      <td>0001f83c-c6ac-4621-b7f0-8a28b283ac30</td>\n",
       "      <td>facebook_ads</td>\n",
       "    </tr>\n",
       "    <tr>\n",
       "      <th>1</th>\n",
       "      <td>00151b4f-ba38-44a8-a650-d7cf130a0105</td>\n",
       "      <td>yandex_direct</td>\n",
       "    </tr>\n",
       "    <tr>\n",
       "      <th>2</th>\n",
       "      <td>001aaea6-3d14-43f1-8ca8-7f48820f17aa</td>\n",
       "      <td>youtube_channel_reklama</td>\n",
       "    </tr>\n",
       "    <tr>\n",
       "      <th>3</th>\n",
       "      <td>001d39dc-366c-4021-9604-6a3b9ff01e25</td>\n",
       "      <td>instagram_new_adverts</td>\n",
       "    </tr>\n",
       "    <tr>\n",
       "      <th>4</th>\n",
       "      <td>002f508f-67b6-479f-814b-b05f00d4e995</td>\n",
       "      <td>facebook_ads</td>\n",
       "    </tr>\n",
       "    <tr>\n",
       "      <th>...</th>\n",
       "      <td>...</td>\n",
       "      <td>...</td>\n",
       "    </tr>\n",
       "    <tr>\n",
       "      <th>13571</th>\n",
       "      <td>ffef4fed-164c-40e1-bde1-3980f76d0fb5</td>\n",
       "      <td>instagram_new_adverts</td>\n",
       "    </tr>\n",
       "    <tr>\n",
       "      <th>13572</th>\n",
       "      <td>fffab3da-da0e-4e30-ae62-10d0a2e24a4e</td>\n",
       "      <td>facebook_ads</td>\n",
       "    </tr>\n",
       "    <tr>\n",
       "      <th>13573</th>\n",
       "      <td>fffb626c-5ab6-47c9-8113-2062a2f18494</td>\n",
       "      <td>yandex_direct</td>\n",
       "    </tr>\n",
       "    <tr>\n",
       "      <th>13574</th>\n",
       "      <td>ffff194a-56b7-4c12-860d-3485242ae7f5</td>\n",
       "      <td>instagram_new_adverts</td>\n",
       "    </tr>\n",
       "    <tr>\n",
       "      <th>13575</th>\n",
       "      <td>ffff69cc-fec1-4fd3-9f98-93be1112a6b8</td>\n",
       "      <td>facebook_ads</td>\n",
       "    </tr>\n",
       "  </tbody>\n",
       "</table>\n",
       "<p>13576 rows × 2 columns</p>\n",
       "</div>"
      ],
      "text/plain": [
       "                                    user_id                   source\n",
       "0      0001f83c-c6ac-4621-b7f0-8a28b283ac30             facebook_ads\n",
       "1      00151b4f-ba38-44a8-a650-d7cf130a0105            yandex_direct\n",
       "2      001aaea6-3d14-43f1-8ca8-7f48820f17aa  youtube_channel_reklama\n",
       "3      001d39dc-366c-4021-9604-6a3b9ff01e25    instagram_new_adverts\n",
       "4      002f508f-67b6-479f-814b-b05f00d4e995             facebook_ads\n",
       "...                                     ...                      ...\n",
       "13571  ffef4fed-164c-40e1-bde1-3980f76d0fb5    instagram_new_adverts\n",
       "13572  fffab3da-da0e-4e30-ae62-10d0a2e24a4e             facebook_ads\n",
       "13573  fffb626c-5ab6-47c9-8113-2062a2f18494            yandex_direct\n",
       "13574  ffff194a-56b7-4c12-860d-3485242ae7f5    instagram_new_adverts\n",
       "13575  ffff69cc-fec1-4fd3-9f98-93be1112a6b8             facebook_ads\n",
       "\n",
       "[13576 rows x 2 columns]"
      ]
     },
     "execution_count": 42,
     "metadata": {},
     "output_type": "execute_result"
    }
   ],
   "source": [
    "user_source"
   ]
  },
  {
   "cell_type": "code",
   "execution_count": 43,
   "metadata": {},
   "outputs": [
    {
     "data": {
      "text/plain": [
       "yandex_direct              4817\n",
       "instagram_new_adverts      3347\n",
       "facebook_ads               2726\n",
       "youtube_channel_reklama    2686\n",
       "Name: source, dtype: int64"
      ]
     },
     "execution_count": 43,
     "metadata": {},
     "output_type": "execute_result"
    }
   ],
   "source": [
    "user_source['source'].value_counts()"
   ]
  },
  {
   "cell_type": "code",
   "execution_count": 44,
   "metadata": {},
   "outputs": [
    {
     "data": {
      "image/png": "[encoded data removed]",
      "text/plain": [
       "<Figure size 432x288 with 1 Axes>"
      ]
     },
     "metadata": {
      "needs_background": "light"
     },
     "output_type": "display_data"
    }
   ],
   "source": [
    "user_source['source'].value_counts().plot.bar(rot=15, grid=True)\n",
    "plt.show()"
   ]
  },
  {
   "cell_type": "markdown",
   "metadata": {},
   "source": [
    "Всего 4 источника трафика - Яндекс.Директ, Instagram, Facebook, Youtube. Больше всего пользователей пришло из Яндекс.Директ, меньше всего - из Youtube."
   ]
  },
  {
   "cell_type": "markdown",
   "metadata": {},
   "source": [
    "Посмотрим распределение суммарной стоимости кликов по источникам"
   ]
  },
  {
   "cell_type": "code",
   "execution_count": 45,
   "metadata": {},
   "outputs": [
    {
     "data": {
      "text/html": [
       "<div>\n",
       "<style scoped>\n",
       "    .dataframe tbody tr th:only-of-type {\n",
       "        vertical-align: middle;\n",
       "    }\n",
       "\n",
       "    .dataframe tbody tr th {\n",
       "        vertical-align: top;\n",
       "    }\n",
       "\n",
       "    .dataframe thead th {\n",
       "        text-align: right;\n",
       "    }\n",
       "</style>\n",
       "<table border=\"1\" class=\"dataframe\">\n",
       "  <thead>\n",
       "    <tr style=\"text-align: right;\">\n",
       "      <th></th>\n",
       "      <th>source</th>\n",
       "      <th>users</th>\n",
       "    </tr>\n",
       "  </thead>\n",
       "  <tbody>\n",
       "    <tr>\n",
       "      <th>0</th>\n",
       "      <td>facebook_ads</td>\n",
       "      <td>2726</td>\n",
       "    </tr>\n",
       "    <tr>\n",
       "      <th>1</th>\n",
       "      <td>instagram_new_adverts</td>\n",
       "      <td>3347</td>\n",
       "    </tr>\n",
       "    <tr>\n",
       "      <th>2</th>\n",
       "      <td>yandex_direct</td>\n",
       "      <td>4817</td>\n",
       "    </tr>\n",
       "    <tr>\n",
       "      <th>3</th>\n",
       "      <td>youtube_channel_reklama</td>\n",
       "      <td>2686</td>\n",
       "    </tr>\n",
       "  </tbody>\n",
       "</table>\n",
       "</div>"
      ],
      "text/plain": [
       "                    source  users\n",
       "0             facebook_ads   2726\n",
       "1    instagram_new_adverts   3347\n",
       "2            yandex_direct   4817\n",
       "3  youtube_channel_reklama   2686"
      ]
     },
     "execution_count": 45,
     "metadata": {},
     "output_type": "execute_result"
    }
   ],
   "source": [
    "users_and_sources = (user_source\n",
    "              .groupby('source')\n",
    "              .agg({'user_id':'nunique'})\n",
    "              .rename(columns={'user_id':'users'})\n",
    "              .reset_index())\n",
    "users_and_sources"
   ]
  },
  {
   "cell_type": "code",
   "execution_count": 46,
   "metadata": {},
   "outputs": [
    {
     "data": {
      "text/html": [
       "<div>\n",
       "<style scoped>\n",
       "    .dataframe tbody tr th:only-of-type {\n",
       "        vertical-align: middle;\n",
       "    }\n",
       "\n",
       "    .dataframe tbody tr th {\n",
       "        vertical-align: top;\n",
       "    }\n",
       "\n",
       "    .dataframe thead th {\n",
       "        text-align: right;\n",
       "    }\n",
       "</style>\n",
       "<table border=\"1\" class=\"dataframe\">\n",
       "  <thead>\n",
       "    <tr style=\"text-align: right;\">\n",
       "      <th></th>\n",
       "      <th>source</th>\n",
       "      <th>sum</th>\n",
       "    </tr>\n",
       "  </thead>\n",
       "  <tbody>\n",
       "    <tr>\n",
       "      <th>0</th>\n",
       "      <td>facebook_ads</td>\n",
       "      <td>2,140.90</td>\n",
       "    </tr>\n",
       "    <tr>\n",
       "      <th>1</th>\n",
       "      <td>instagram_new_adverts</td>\n",
       "      <td>2,161.44</td>\n",
       "    </tr>\n",
       "    <tr>\n",
       "      <th>2</th>\n",
       "      <td>yandex_direct</td>\n",
       "      <td>2,233.11</td>\n",
       "    </tr>\n",
       "    <tr>\n",
       "      <th>3</th>\n",
       "      <td>youtube_channel_reklama</td>\n",
       "      <td>1,068.12</td>\n",
       "    </tr>\n",
       "  </tbody>\n",
       "</table>\n",
       "</div>"
      ],
      "text/plain": [
       "                    source      sum\n",
       "0             facebook_ads 2,140.90\n",
       "1    instagram_new_adverts 2,161.44\n",
       "2            yandex_direct 2,233.11\n",
       "3  youtube_channel_reklama 1,068.12"
      ]
     },
     "execution_count": 46,
     "metadata": {},
     "output_type": "execute_result"
    }
   ],
   "source": [
    "traffic_sources = (ad_costs\n",
    "       .groupby('source')\n",
    "       .agg({'cost':'sum'})         \n",
    "       .reset_index()\n",
    "       .rename(columns={'cost':'sum'}))\n",
    "traffic_sources"
   ]
  },
  {
   "cell_type": "markdown",
   "metadata": {},
   "source": [
    "Посчитаем соотношение стоимости кликов в зависимости от источника"
   ]
  },
  {
   "cell_type": "code",
   "execution_count": 47,
   "metadata": {},
   "outputs": [
    {
     "data": {
      "text/html": [
       "<div>\n",
       "<style scoped>\n",
       "    .dataframe tbody tr th:only-of-type {\n",
       "        vertical-align: middle;\n",
       "    }\n",
       "\n",
       "    .dataframe tbody tr th {\n",
       "        vertical-align: top;\n",
       "    }\n",
       "\n",
       "    .dataframe thead th {\n",
       "        text-align: right;\n",
       "    }\n",
       "</style>\n",
       "<table border=\"1\" class=\"dataframe\">\n",
       "  <thead>\n",
       "    <tr style=\"text-align: right;\">\n",
       "      <th></th>\n",
       "      <th>source</th>\n",
       "      <th>sum</th>\n",
       "      <th>users</th>\n",
       "      <th>one_click</th>\n",
       "    </tr>\n",
       "  </thead>\n",
       "  <tbody>\n",
       "    <tr>\n",
       "      <th>0</th>\n",
       "      <td>facebook_ads</td>\n",
       "      <td>2,140.90</td>\n",
       "      <td>2726</td>\n",
       "      <td>0.79</td>\n",
       "    </tr>\n",
       "    <tr>\n",
       "      <th>1</th>\n",
       "      <td>instagram_new_adverts</td>\n",
       "      <td>2,161.44</td>\n",
       "      <td>3347</td>\n",
       "      <td>0.65</td>\n",
       "    </tr>\n",
       "    <tr>\n",
       "      <th>2</th>\n",
       "      <td>yandex_direct</td>\n",
       "      <td>2,233.11</td>\n",
       "      <td>4817</td>\n",
       "      <td>0.46</td>\n",
       "    </tr>\n",
       "    <tr>\n",
       "      <th>3</th>\n",
       "      <td>youtube_channel_reklama</td>\n",
       "      <td>1,068.12</td>\n",
       "      <td>2686</td>\n",
       "      <td>0.40</td>\n",
       "    </tr>\n",
       "  </tbody>\n",
       "</table>\n",
       "</div>"
      ],
      "text/plain": [
       "                    source      sum  users  one_click\n",
       "0             facebook_ads 2,140.90   2726       0.79\n",
       "1    instagram_new_adverts 2,161.44   3347       0.65\n",
       "2            yandex_direct 2,233.11   4817       0.46\n",
       "3  youtube_channel_reklama 1,068.12   2686       0.40"
      ]
     },
     "execution_count": 47,
     "metadata": {},
     "output_type": "execute_result"
    }
   ],
   "source": [
    "counting_clicks = traffic_sources[['source','sum']].merge(users_and_sources, how='left', on='source')\n",
    "counting_clicks['one_click'] = counting_clicks['sum']/counting_clicks['users']\n",
    "counting_clicks"
   ]
  },
  {
   "cell_type": "code",
   "execution_count": 48,
   "metadata": {},
   "outputs": [
    {
     "data": {
      "image/png": "[encoded data removed]",
      "text/plain": [
       "<Figure size 432x288 with 1 Axes>"
      ]
     },
     "metadata": {},
     "output_type": "display_data"
    }
   ],
   "source": [
    "# Построим диаграмму соотношения стоимости кликов в зависимости от источника\n",
    "fig, ax = plt.subplots()\n",
    "ax.pie(counting_clicks['one_click'], labels=counting_clicks['source'], autopct='%1.1f%%', shadow=True)\n",
    "ax.axis(\"equal\")\n",
    "plt.title(\"Соотношение стоимости кликов в зависимости от источника\")\n",
    "plt.show()"
   ]
  },
  {
   "cell_type": "markdown",
   "metadata": {},
   "source": [
    "Судя по полученным данным можнл сделать вывод, что реклама на facebook самая дорогая - 0.79, она помогла привлечь 2726 пользователя. А на youtube самая дешевая - 0.40, и это привлекло почти столько же пользователей как и facebook - 2686. У Yandex.direct реклама чуть дороже - 0.46, хотя поток пользователей самый большой - 4817. Стоимость клика в instagram - 0.46, что дало 3347 пользователй."
   ]
  },
  {
   "cell_type": "markdown",
   "metadata": {},
   "source": [
    "**Прогноз окупаемости рекламы**"
   ]
  },
  {
   "cell_type": "code",
   "execution_count": 49,
   "metadata": {},
   "outputs": [
    {
     "name": "stdout",
     "output_type": "stream",
     "text": [
      "Общие затраты на источники: 7603.58\n"
     ]
    }
   ],
   "source": [
    "print('Общие затраты на источники:', round(ad_costs['cost'].sum(),2))"
   ]
  },
  {
   "cell_type": "code",
   "execution_count": 50,
   "metadata": {},
   "outputs": [
    {
     "name": "stdout",
     "output_type": "stream",
     "text": [
      "Количество построек: 127956\n"
     ]
    }
   ],
   "source": [
    "print('Количество построек:',game_actions_df[game_actions_df['event'] == 'building']['event'].count())"
   ]
  },
  {
   "cell_type": "code",
   "execution_count": 51,
   "metadata": {},
   "outputs": [
    {
     "name": "stdout",
     "output_type": "stream",
     "text": [
      "Что бы выйти в 0, нужно будет осуществлять показ рекламы стоимостью минимум 0.06\n"
     ]
    }
   ],
   "source": [
    "print('Что бы выйти в 0, нужно будет осуществлять показ рекламы стоимостью минимум',round(ad_costs['cost'].sum() / game_actions_df[game_actions_df['event'] == 'building']['event'].count(),2))\n"
   ]
  },
  {
   "cell_type": "markdown",
   "metadata": {},
   "source": [
    "**Окупаемость рекламы с разбивкой по источникам**"
   ]
  },
  {
   "cell_type": "code",
   "execution_count": 52,
   "metadata": {},
   "outputs": [],
   "source": [
    "payback = complete_df[complete_df['event']=='building'].pivot_table(index = 'source', values = 'event', aggfunc = 'count')\n",
    "payback['$'] = payback['event'] * round(ad_costs['cost'].sum() / complete_df[complete_df['event'] == 'building']['event'].count(),2)\n",
    "payback['cost'] = round(ad_costs.pivot_table(index = 'source', values = 'cost', aggfunc = 'sum')['cost'],2)\n",
    "payback['payback'] = payback['$'] - payback['cost']"
   ]
  },
  {
   "cell_type": "code",
   "execution_count": 53,
   "metadata": {},
   "outputs": [
    {
     "data": {
      "text/html": [
       "<div>\n",
       "<style scoped>\n",
       "    .dataframe tbody tr th:only-of-type {\n",
       "        vertical-align: middle;\n",
       "    }\n",
       "\n",
       "    .dataframe tbody tr th {\n",
       "        vertical-align: top;\n",
       "    }\n",
       "\n",
       "    .dataframe thead th {\n",
       "        text-align: right;\n",
       "    }\n",
       "</style>\n",
       "<table border=\"1\" class=\"dataframe\">\n",
       "  <thead>\n",
       "    <tr style=\"text-align: right;\">\n",
       "      <th></th>\n",
       "      <th>event</th>\n",
       "      <th>$</th>\n",
       "      <th>cost</th>\n",
       "      <th>payback</th>\n",
       "    </tr>\n",
       "    <tr>\n",
       "      <th>source</th>\n",
       "      <th></th>\n",
       "      <th></th>\n",
       "      <th></th>\n",
       "      <th></th>\n",
       "    </tr>\n",
       "  </thead>\n",
       "  <tbody>\n",
       "    <tr>\n",
       "      <th>facebook_ads</th>\n",
       "      <td>26131</td>\n",
       "      <td>1,567.86</td>\n",
       "      <td>2,140.90</td>\n",
       "      <td>-573.04</td>\n",
       "    </tr>\n",
       "    <tr>\n",
       "      <th>instagram_new_adverts</th>\n",
       "      <td>31815</td>\n",
       "      <td>1,908.90</td>\n",
       "      <td>2,161.44</td>\n",
       "      <td>-252.54</td>\n",
       "    </tr>\n",
       "    <tr>\n",
       "      <th>yandex_direct</th>\n",
       "      <td>45032</td>\n",
       "      <td>2,701.92</td>\n",
       "      <td>2,233.11</td>\n",
       "      <td>468.81</td>\n",
       "    </tr>\n",
       "    <tr>\n",
       "      <th>youtube_channel_reklama</th>\n",
       "      <td>24978</td>\n",
       "      <td>1,498.68</td>\n",
       "      <td>1,068.12</td>\n",
       "      <td>430.56</td>\n",
       "    </tr>\n",
       "  </tbody>\n",
       "</table>\n",
       "</div>"
      ],
      "text/plain": [
       "                         event        $     cost  payback\n",
       "source                                                   \n",
       "facebook_ads             26131 1,567.86 2,140.90  -573.04\n",
       "instagram_new_adverts    31815 1,908.90 2,161.44  -252.54\n",
       "yandex_direct            45032 2,701.92 2,233.11   468.81\n",
       "youtube_channel_reklama  24978 1,498.68 1,068.12   430.56"
      ]
     },
     "execution_count": 53,
     "metadata": {},
     "output_type": "execute_result"
    }
   ],
   "source": [
    "payback"
   ]
  },
  {
   "cell_type": "markdown",
   "metadata": {},
   "source": [
    "Пользователи пришедшие из Яндекса, окупаются лучше всего - 468.81. С небольшим разрывом отстают пользователи с Ютюба - 430.56. Пользователи с Инстаграмм и Фэйсбук имеют убытки в размере 252.54 и 573.04."
   ]
  },
  {
   "cell_type": "markdown",
   "metadata": {},
   "source": [
    "**Выводы по Шагу 3**"
   ]
  },
  {
   "cell_type": "markdown",
   "metadata": {},
   "source": [
    "- Количество пользователей - 13576\n",
    "- Количество событий - 135639\n",
    "- На одного пользователя в среднем 10 событий.\n",
    "- В игре возможно построить 3 типа зданий, среди игроков они распределены так: assembly_shop — сборочный цех - 42.6%, spaceport — космопорт - 46.4%, research_center — исследовательский центр - 11%\n",
    "- Самое быстрое время прохождения игры -  9ч 39м, максимального времени нет. Не все пользователи проходят игру.\n",
    "- Всего 4 источника трафика - Яндекс.Директ, Instagram, Facebook, Youtube.\n",
    "- Реклама на facebook самая дорогая - 0.79, (2726 пользователя). А на youtube самая дешевая - 0.40, (2686 пользователя), Yandex.direct - 0.46, поток пользователей самый большой - 4817.\n",
    "- Пользователи пришедшие из Яндекса, окупаются лучше всего - 468.81. С небольшим разрывом отстают пользователи с Youtube - 430.56.\n",
    "- Реклама на Youtube и Яндекс.Директ выглядит гораздо лучше, по сравнению с facebook. Поэтому рекомендуется сократить инвестиции на рекламу на facebook и перенаправить их на Яндекс.Директ и Youtube."
   ]
  },
  {
   "cell_type": "markdown",
   "metadata": {},
   "source": [
    "**Шаг 4. Статистические гипотезы**"
   ]
  },
  {
   "cell_type": "markdown",
   "metadata": {},
   "source": [
    "- **Проверка гипотезы №1: время завершения уровня различается в зависимости способа прохождения:**\n",
    "    - через реализацию проекта,\n",
    "    - через победу над первым врагом."
   ]
  },
  {
   "cell_type": "code",
   "execution_count": 54,
   "metadata": {},
   "outputs": [
    {
     "data": {
      "image/png": "[encoded data removed]",
      "text/plain": [
       "<Figure size 360x360 with 1 Axes>"
      ]
     },
     "metadata": {
      "needs_background": "light"
     },
     "output_type": "display_data"
    },
    {
     "data": {
      "text/html": [
       "<div>\n",
       "<style scoped>\n",
       "    .dataframe tbody tr th:only-of-type {\n",
       "        vertical-align: middle;\n",
       "    }\n",
       "\n",
       "    .dataframe tbody tr th {\n",
       "        vertical-align: top;\n",
       "    }\n",
       "\n",
       "    .dataframe thead th {\n",
       "        text-align: right;\n",
       "    }\n",
       "</style>\n",
       "<table border=\"1\" class=\"dataframe\">\n",
       "  <thead>\n",
       "    <tr style=\"text-align: right;\">\n",
       "      <th></th>\n",
       "      <th>user_id</th>\n",
       "      <th>event_datetime</th>\n",
       "      <th>event_datetime</th>\n",
       "      <th>level_time</th>\n",
       "      <th>time_in_h</th>\n",
       "    </tr>\n",
       "  </thead>\n",
       "  <tbody>\n",
       "    <tr>\n",
       "      <th>91</th>\n",
       "      <td>03990bc0-47b6-44ce-9f8b-3afb1a97d0e7</td>\n",
       "      <td>2020-05-07 16:40:32</td>\n",
       "      <td>2020-05-08 02:19:33</td>\n",
       "      <td>0 days 09:39:01</td>\n",
       "      <td>9.65</td>\n",
       "    </tr>\n",
       "    <tr>\n",
       "      <th>4687</th>\n",
       "      <td>ced7b368-818f-48f6-9461-2346de0892c5</td>\n",
       "      <td>2020-05-04 00:13:21</td>\n",
       "      <td>2020-05-04 19:47:29</td>\n",
       "      <td>0 days 19:34:08</td>\n",
       "      <td>19.57</td>\n",
       "    </tr>\n",
       "    <tr>\n",
       "      <th>4547</th>\n",
       "      <td>c8180f71-68dc-4fd5-ba6e-ba5f5d0d28f7</td>\n",
       "      <td>2020-05-08 16:08:29</td>\n",
       "      <td>2020-05-09 11:52:33</td>\n",
       "      <td>0 days 19:44:04</td>\n",
       "      <td>19.73</td>\n",
       "    </tr>\n",
       "    <tr>\n",
       "      <th>825</th>\n",
       "      <td>2204ae7f-892b-494d-bd58-28816ff35eb5</td>\n",
       "      <td>2020-05-07 02:25:27</td>\n",
       "      <td>2020-05-08 01:02:51</td>\n",
       "      <td>0 days 22:37:24</td>\n",
       "      <td>22.62</td>\n",
       "    </tr>\n",
       "    <tr>\n",
       "      <th>1032</th>\n",
       "      <td>2ab1cc5a-413a-408e-ba76-01de8e12bead</td>\n",
       "      <td>2020-05-05 13:25:04</td>\n",
       "      <td>2020-05-06 13:43:12</td>\n",
       "      <td>1 days 00:18:08</td>\n",
       "      <td>24.30</td>\n",
       "    </tr>\n",
       "  </tbody>\n",
       "</table>\n",
       "</div>"
      ],
      "text/plain": [
       "                                   user_id      event_datetime  \\\n",
       "91    03990bc0-47b6-44ce-9f8b-3afb1a97d0e7 2020-05-07 16:40:32   \n",
       "4687  ced7b368-818f-48f6-9461-2346de0892c5 2020-05-04 00:13:21   \n",
       "4547  c8180f71-68dc-4fd5-ba6e-ba5f5d0d28f7 2020-05-08 16:08:29   \n",
       "825   2204ae7f-892b-494d-bd58-28816ff35eb5 2020-05-07 02:25:27   \n",
       "1032  2ab1cc5a-413a-408e-ba76-01de8e12bead 2020-05-05 13:25:04   \n",
       "\n",
       "          event_datetime      level_time  time_in_h  \n",
       "91   2020-05-08 02:19:33 0 days 09:39:01       9.65  \n",
       "4687 2020-05-04 19:47:29 0 days 19:34:08      19.57  \n",
       "4547 2020-05-09 11:52:33 0 days 19:44:04      19.73  \n",
       "825  2020-05-08 01:02:51 0 days 22:37:24      22.62  \n",
       "1032 2020-05-06 13:43:12 1 days 00:18:08      24.30  "
      ]
     },
     "execution_count": 54,
     "metadata": {},
     "output_type": "execute_result"
    }
   ],
   "source": [
    "# Использую ранее созданную таблицу passed_time\n",
    "passed_time['time_in_h'] = passed_time['level_time'] / np.timedelta64(1, 'h') #переводим затраченное время в часы\n",
    "sns.displot(passed_time['time_in_h'])\n",
    "plt.title(\"Распределение времени прохождения уровня в часах\")\n",
    "plt.show()\n",
    "passed_time.head()"
   ]
  },
  {
   "cell_type": "code",
   "execution_count": 55,
   "metadata": {},
   "outputs": [
    {
     "data": {
      "image/png": "[encoded data removed]",
      "text/plain": [
       "<Figure size 432x288 with 1 Axes>"
      ]
     },
     "metadata": {
      "needs_background": "light"
     },
     "output_type": "display_data"
    }
   ],
   "source": [
    "sns.boxplot(x=passed_time['time_in_h'])\n",
    "plt.title(\"Распределение времени прохождения уровня в часах\")\n",
    "plt.show()"
   ]
  },
  {
   "cell_type": "markdown",
   "metadata": {},
   "source": [
    "Наблюдаем выбросы, нужно избавиться от них"
   ]
  },
  {
   "cell_type": "code",
   "execution_count": 56,
   "metadata": {},
   "outputs": [],
   "source": [
    "before = passed_time['time_in_h'].count()"
   ]
  },
  {
   "cell_type": "code",
   "execution_count": 57,
   "metadata": {},
   "outputs": [],
   "source": [
    "passed_time = passed_time[passed_time['time_in_h'] < passed_time['time_in_h'].quantile(0.98)]\n",
    "passed_time = passed_time[passed_time['time_in_h'] > passed_time['time_in_h'].quantile(0.004)]"
   ]
  },
  {
   "cell_type": "code",
   "execution_count": 58,
   "metadata": {},
   "outputs": [
    {
     "data": {
      "image/png": "[encoded data removed]",
      "text/plain": [
       "<Figure size 360x360 with 1 Axes>"
      ]
     },
     "metadata": {
      "needs_background": "light"
     },
     "output_type": "display_data"
    }
   ],
   "source": [
    "sns.displot(passed_time['time_in_h'])\n",
    "plt.title(\"Распределение времени прохождения уровня в часах\")\n",
    "plt.show()"
   ]
  },
  {
   "cell_type": "code",
   "execution_count": 59,
   "metadata": {},
   "outputs": [
    {
     "data": {
      "image/png": "[encoded data removed]",
      "text/plain": [
       "<Figure size 432x288 with 1 Axes>"
      ]
     },
     "metadata": {
      "needs_background": "light"
     },
     "output_type": "display_data"
    }
   ],
   "source": [
    "sns.boxplot(x=passed_time['time_in_h'])\n",
    "plt.title(\"Распределение времени прохождения уровня в часах\")\n",
    "plt.show()"
   ]
  },
  {
   "cell_type": "code",
   "execution_count": 60,
   "metadata": {},
   "outputs": [],
   "source": [
    "after = passed_time['time_in_h'].count()"
   ]
  },
  {
   "cell_type": "code",
   "execution_count": 61,
   "metadata": {},
   "outputs": [
    {
     "name": "stdout",
     "output_type": "stream",
     "text": [
      "Выбросы составили: -2.41%\n"
     ]
    }
   ],
   "source": [
    "print('Выбросы составили: {:.2%}'.format((after / before - 1)))"
   ]
  },
  {
   "cell_type": "markdown",
   "metadata": {},
   "source": [
    "- **H0: Время завершения уровня не различается независимо от способа прохождения:**\n",
    "\n",
    "    - через реализацию проекта\n",
    "    - через победу над первым игроком\n",
    "\n",
    "- **H1: Время завершения уровня различается в зависимости от способа прохождения:**\n",
    "\n",
    "    - через реализацию проекта\n",
    "    - через победу над первым игроком"
   ]
  },
  {
   "cell_type": "code",
   "execution_count": 62,
   "metadata": {},
   "outputs": [],
   "source": [
    "# получим пользователей одержавших победу\n",
    "user_finish = game_actions[(game_actions['project_type'] != 'level_is_not_passed')][['user_id', 'project_type']]"
   ]
  },
  {
   "cell_type": "code",
   "execution_count": 63,
   "metadata": {},
   "outputs": [],
   "source": [
    "# получим пользователей одержавших победу через строительство\n",
    "user_project = game_actions[game_actions['project_type'] == 'satellite_orbital_assembly'][['user_id', 'project_type']]"
   ]
  },
  {
   "cell_type": "code",
   "execution_count": 64,
   "metadata": {},
   "outputs": [],
   "source": [
    "# получим пользователей одержавших победу над игроком\n",
    "user_fight = user_finish[~user_finish.isin(user_project['user_id'].unique())].dropna()"
   ]
  },
  {
   "cell_type": "code",
   "execution_count": 65,
   "metadata": {},
   "outputs": [],
   "source": [
    "# добавим данные c бойцами и строителями к таблице\n",
    "level_passing_time_project = passed_time[['user_id', 'time_in_h']].merge(user_project, how='left', on='user_id').dropna()\n",
    "level_passing_time_user_fight = passed_time[['user_id', 'time_in_h']].merge(user_fight, how='left', on='user_id').dropna()"
   ]
  },
  {
   "cell_type": "code",
   "execution_count": 66,
   "metadata": {},
   "outputs": [],
   "source": [
    "# разделим таблицу на 2 по типу проекта\n",
    "victory_over_enemy = level_passing_time_user_fight['time_in_h']\n",
    "satellite_orbital_assembly = level_passing_time_project['time_in_h']"
   ]
  },
  {
   "cell_type": "code",
   "execution_count": 67,
   "metadata": {},
   "outputs": [
    {
     "data": {
      "text/plain": [
       "187    123.37\n",
       "205    127.37\n",
       "251    134.27\n",
       "253    134.40\n",
       "291    139.48\n",
       "        ...  \n",
       "5670   503.27\n",
       "5671   503.45\n",
       "5672   504.30\n",
       "5675   505.26\n",
       "5676   505.42\n",
       "Name: time_in_h, Length: 1810, dtype: float64"
      ]
     },
     "execution_count": 67,
     "metadata": {},
     "output_type": "execute_result"
    }
   ],
   "source": [
    "satellite_orbital_assembly"
   ]
  },
  {
   "cell_type": "code",
   "execution_count": 68,
   "metadata": {},
   "outputs": [
    {
     "name": "stdout",
     "output_type": "stream",
     "text": [
      "p-значение: 1.7618154591760238e-101\n",
      "Отвергаем нулевую гипотезу\n",
      "\n",
      "Среднее значения времени прохождения уровня \n",
      "ПвП - 263.05\n",
      "Строительство орбитальной станции - 315.69\n",
      "Разница - 52.64\n"
     ]
    }
   ],
   "source": [
    "# задаем уровень статистической значимости\n",
    "alpha = .05\n",
    "\n",
    "results = st.ttest_ind(\n",
    "    satellite_orbital_assembly, \n",
    "    victory_over_enemy)\n",
    "\n",
    "print('p-значение:', results.pvalue)\n",
    "\n",
    "if (results.pvalue < alpha):\n",
    "    print(\"Отвергаем нулевую гипотезу\")\n",
    "else:\n",
    "    print(\"Не получилось отвергнуть нулевую гипотезу\")\n",
    "\n",
    "print('\\nСреднее значения времени прохождения уровня \\nПвП - {}\\nСтроительство орбитальной станции - {}\\nРазница - {}'\n",
    "      .format(level_passing_time_user_fight['time_in_h'].mean().round(2),\n",
    "              level_passing_time_project['time_in_h'].mean().round(2),\n",
    "              (level_passing_time_project['time_in_h'].mean() -\n",
    "              level_passing_time_user_fight['time_in_h'].mean()).round(2)))"
   ]
  },
  {
   "cell_type": "code",
   "execution_count": 69,
   "metadata": {},
   "outputs": [
    {
     "name": "stdout",
     "output_type": "stream",
     "text": [
      "Среднее время прохождения уровня через бой - time_in_h   263.05\n",
      "dtype: float64\n",
      "Среднее время прохождения уровня через строительство - time_in_h   315.69\n",
      "dtype: float64\n"
     ]
    }
   ],
   "source": [
    "print('Среднее время прохождения уровня через бой -', level_passing_time_user_fight.mean())\n",
    "print('Среднее время прохождения уровня через строительство -', level_passing_time_project.mean())"
   ]
  },
  {
   "cell_type": "code",
   "execution_count": 78,
   "metadata": {},
   "outputs": [
    {
     "data": {
      "image/png": "[encoded data removed]",
      "text/plain": [
       "<Figure size 525.5x360 with 1 Axes>"
      ]
     },
     "metadata": {
      "needs_background": "light"
     },
     "output_type": "display_data"
    }
   ],
   "source": [
    "# Посмотрим распределение времени для завершения уровня по стратегиям\n",
    "distribution_of_strategies = game_actions[['user_id','project_type']].merge(passed_time, how='left', on='user_id').dropna()\n",
    "distribution_of_strategies  = distribution_of_strategies.drop(columns='event_datetime') \n",
    "distribution_of_strategies = distribution_of_strategies.query('project_type!=\"level_is_not_passed\"')\n",
    "sns.displot(x='time_in_h',\n",
    "            hue='project_type',\n",
    "            kind=\"kde\",\n",
    "            fill=True,\n",
    "            data=distribution_of_strategies);"
   ]
  },
  {
   "cell_type": "markdown",
   "metadata": {},
   "source": [
    "Получается, пока часть игроков ждала окончания постройки, остальная часть вовсю проходила уровень через пвп"
   ]
  },
  {
   "cell_type": "markdown",
   "metadata": {},
   "source": [
    "**Вывод:**"
   ]
  },
  {
   "cell_type": "markdown",
   "metadata": {},
   "source": [
    " Отвергаем нулевую гипотезу, время завершения уровня зависит от способа прохождения"
   ]
  },
  {
   "cell_type": "markdown",
   "metadata": {},
   "source": [
    "**Проверка гипотезы №2: способ прохождения игры не зависит от источника трафика**"
   ]
  },
  {
   "cell_type": "markdown",
   "metadata": {},
   "source": [
    "- H0: Способ прохождения уровня не зависит от источника трафика\n",
    "- H1: Способ прохождения уровня зависит от источника трафика\n",
    "- Критический уровень значимости = 0.05"
   ]
  },
  {
   "cell_type": "code",
   "execution_count": 71,
   "metadata": {},
   "outputs": [
    {
     "data": {
      "text/html": [
       "<div>\n",
       "<style scoped>\n",
       "    .dataframe tbody tr th:only-of-type {\n",
       "        vertical-align: middle;\n",
       "    }\n",
       "\n",
       "    .dataframe tbody tr th {\n",
       "        vertical-align: top;\n",
       "    }\n",
       "\n",
       "    .dataframe thead th {\n",
       "        text-align: right;\n",
       "    }\n",
       "</style>\n",
       "<table border=\"1\" class=\"dataframe\">\n",
       "  <thead>\n",
       "    <tr style=\"text-align: right;\">\n",
       "      <th></th>\n",
       "      <th>event_datetime</th>\n",
       "      <th>event</th>\n",
       "      <th>building_type</th>\n",
       "      <th>user_id</th>\n",
       "      <th>project_type</th>\n",
       "      <th>date</th>\n",
       "      <th>source</th>\n",
       "    </tr>\n",
       "  </thead>\n",
       "  <tbody>\n",
       "    <tr>\n",
       "      <th>0</th>\n",
       "      <td>2020-05-04 00:00:01</td>\n",
       "      <td>building</td>\n",
       "      <td>assembly_shop</td>\n",
       "      <td>55e92310-cb8e-4754-b622-597e124b03de</td>\n",
       "      <td>level_is_not_passed</td>\n",
       "      <td>2020-05-04</td>\n",
       "      <td>youtube_channel_reklama</td>\n",
       "    </tr>\n",
       "    <tr>\n",
       "      <th>1</th>\n",
       "      <td>2020-05-05 05:20:15</td>\n",
       "      <td>building</td>\n",
       "      <td>assembly_shop</td>\n",
       "      <td>55e92310-cb8e-4754-b622-597e124b03de</td>\n",
       "      <td>level_is_not_passed</td>\n",
       "      <td>2020-05-05</td>\n",
       "      <td>youtube_channel_reklama</td>\n",
       "    </tr>\n",
       "    <tr>\n",
       "      <th>2</th>\n",
       "      <td>2020-05-05 19:24:02</td>\n",
       "      <td>building</td>\n",
       "      <td>assembly_shop</td>\n",
       "      <td>55e92310-cb8e-4754-b622-597e124b03de</td>\n",
       "      <td>level_is_not_passed</td>\n",
       "      <td>2020-05-05</td>\n",
       "      <td>youtube_channel_reklama</td>\n",
       "    </tr>\n",
       "    <tr>\n",
       "      <th>3</th>\n",
       "      <td>2020-05-05 20:59:19</td>\n",
       "      <td>building</td>\n",
       "      <td>assembly_shop</td>\n",
       "      <td>55e92310-cb8e-4754-b622-597e124b03de</td>\n",
       "      <td>level_is_not_passed</td>\n",
       "      <td>2020-05-05</td>\n",
       "      <td>youtube_channel_reklama</td>\n",
       "    </tr>\n",
       "    <tr>\n",
       "      <th>4</th>\n",
       "      <td>2020-05-06 00:52:56</td>\n",
       "      <td>building</td>\n",
       "      <td>assembly_shop</td>\n",
       "      <td>55e92310-cb8e-4754-b622-597e124b03de</td>\n",
       "      <td>level_is_not_passed</td>\n",
       "      <td>2020-05-06</td>\n",
       "      <td>youtube_channel_reklama</td>\n",
       "    </tr>\n",
       "    <tr>\n",
       "      <th>...</th>\n",
       "      <td>...</td>\n",
       "      <td>...</td>\n",
       "      <td>...</td>\n",
       "      <td>...</td>\n",
       "      <td>...</td>\n",
       "      <td>...</td>\n",
       "      <td>...</td>\n",
       "    </tr>\n",
       "    <tr>\n",
       "      <th>135634</th>\n",
       "      <td>2020-05-13 23:56:39</td>\n",
       "      <td>building</td>\n",
       "      <td>spaceport</td>\n",
       "      <td>cafd1b8b-507b-49ae-abf0-89fe863a8b03</td>\n",
       "      <td>level_is_not_passed</td>\n",
       "      <td>2020-05-13</td>\n",
       "      <td>facebook_ads</td>\n",
       "    </tr>\n",
       "    <tr>\n",
       "      <th>135635</th>\n",
       "      <td>2020-05-18 00:23:28</td>\n",
       "      <td>building</td>\n",
       "      <td>spaceport</td>\n",
       "      <td>cafd1b8b-507b-49ae-abf0-89fe863a8b03</td>\n",
       "      <td>level_is_not_passed</td>\n",
       "      <td>2020-05-18</td>\n",
       "      <td>facebook_ads</td>\n",
       "    </tr>\n",
       "    <tr>\n",
       "      <th>135636</th>\n",
       "      <td>2020-05-10 23:59:52</td>\n",
       "      <td>building</td>\n",
       "      <td>assembly_shop</td>\n",
       "      <td>bdc53e19-462a-4dc3-8b55-b4a34278af6a</td>\n",
       "      <td>level_is_not_passed</td>\n",
       "      <td>2020-05-10</td>\n",
       "      <td>youtube_channel_reklama</td>\n",
       "    </tr>\n",
       "    <tr>\n",
       "      <th>135637</th>\n",
       "      <td>2020-05-13 08:11:19</td>\n",
       "      <td>building</td>\n",
       "      <td>spaceport</td>\n",
       "      <td>bdc53e19-462a-4dc3-8b55-b4a34278af6a</td>\n",
       "      <td>level_is_not_passed</td>\n",
       "      <td>2020-05-13</td>\n",
       "      <td>youtube_channel_reklama</td>\n",
       "    </tr>\n",
       "    <tr>\n",
       "      <th>135638</th>\n",
       "      <td>2020-05-18 11:11:11</td>\n",
       "      <td>building</td>\n",
       "      <td>spaceport</td>\n",
       "      <td>bdc53e19-462a-4dc3-8b55-b4a34278af6a</td>\n",
       "      <td>level_is_not_passed</td>\n",
       "      <td>2020-05-18</td>\n",
       "      <td>youtube_channel_reklama</td>\n",
       "    </tr>\n",
       "  </tbody>\n",
       "</table>\n",
       "<p>135639 rows × 7 columns</p>\n",
       "</div>"
      ],
      "text/plain": [
       "            event_datetime     event  building_type  \\\n",
       "0      2020-05-04 00:00:01  building  assembly_shop   \n",
       "1      2020-05-05 05:20:15  building  assembly_shop   \n",
       "2      2020-05-05 19:24:02  building  assembly_shop   \n",
       "3      2020-05-05 20:59:19  building  assembly_shop   \n",
       "4      2020-05-06 00:52:56  building  assembly_shop   \n",
       "...                    ...       ...            ...   \n",
       "135634 2020-05-13 23:56:39  building      spaceport   \n",
       "135635 2020-05-18 00:23:28  building      spaceport   \n",
       "135636 2020-05-10 23:59:52  building  assembly_shop   \n",
       "135637 2020-05-13 08:11:19  building      spaceport   \n",
       "135638 2020-05-18 11:11:11  building      spaceport   \n",
       "\n",
       "                                     user_id         project_type        date  \\\n",
       "0       55e92310-cb8e-4754-b622-597e124b03de  level_is_not_passed  2020-05-04   \n",
       "1       55e92310-cb8e-4754-b622-597e124b03de  level_is_not_passed  2020-05-05   \n",
       "2       55e92310-cb8e-4754-b622-597e124b03de  level_is_not_passed  2020-05-05   \n",
       "3       55e92310-cb8e-4754-b622-597e124b03de  level_is_not_passed  2020-05-05   \n",
       "4       55e92310-cb8e-4754-b622-597e124b03de  level_is_not_passed  2020-05-06   \n",
       "...                                      ...                  ...         ...   \n",
       "135634  cafd1b8b-507b-49ae-abf0-89fe863a8b03  level_is_not_passed  2020-05-13   \n",
       "135635  cafd1b8b-507b-49ae-abf0-89fe863a8b03  level_is_not_passed  2020-05-18   \n",
       "135636  bdc53e19-462a-4dc3-8b55-b4a34278af6a  level_is_not_passed  2020-05-10   \n",
       "135637  bdc53e19-462a-4dc3-8b55-b4a34278af6a  level_is_not_passed  2020-05-13   \n",
       "135638  bdc53e19-462a-4dc3-8b55-b4a34278af6a  level_is_not_passed  2020-05-18   \n",
       "\n",
       "                         source  \n",
       "0       youtube_channel_reklama  \n",
       "1       youtube_channel_reklama  \n",
       "2       youtube_channel_reklama  \n",
       "3       youtube_channel_reklama  \n",
       "4       youtube_channel_reklama  \n",
       "...                         ...  \n",
       "135634             facebook_ads  \n",
       "135635             facebook_ads  \n",
       "135636  youtube_channel_reklama  \n",
       "135637  youtube_channel_reklama  \n",
       "135638  youtube_channel_reklama  \n",
       "\n",
       "[135639 rows x 7 columns]"
      ]
     },
     "execution_count": 71,
     "metadata": {},
     "output_type": "execute_result"
    }
   ],
   "source": [
    "# для дальнейшей работы нам понадобится объединенная таблица\n",
    "game_actions = pd.merge(game_actions, user_source, on='user_id') \n",
    "game_actions"
   ]
  },
  {
   "cell_type": "markdown",
   "metadata": {},
   "source": [
    "Для проверки гипотезы восползуемся критерием Уилкоксона-Манна-Уитни"
   ]
  },
  {
   "cell_type": "code",
   "execution_count": 72,
   "metadata": {},
   "outputs": [
    {
     "name": "stderr",
     "output_type": "stream",
     "text": [
      "/tmp/ipykernel_297/107211441.py:5: SettingWithCopyWarning: \n",
      "A value is trying to be set on a copy of a slice from a DataFrame.\n",
      "Try using .loc[row_indexer,col_indexer] = value instead\n",
      "\n",
      "See the caveats in the documentation: https://pandas.pydata.org/pandas-docs/stable/user_guide/indexing.html#returning-a-view-versus-a-copy\n",
      "  project2['test_id'] = 0\n"
     ]
    }
   ],
   "source": [
    "passed_users2 = game_actions.loc[(game_actions['project_type'] != 'level_is_not_passed')] \n",
    "project2 = game_actions.loc[game_actions['project_type'] == 'satellite_orbital_assembly']\n",
    "finished_stage = passed_users2[~passed_users2.isin(project2['user_id'].unique())].dropna()\n",
    "finished_stage['test_id'] = 1\n",
    "project2['test_id'] = 0\n",
    "\n",
    "table= pd.concat([project2, finished_stage])\n",
    "\n",
    "instagram_new_adverts = table[table['source'] == 'instagram_new_adverts']['test_id']\n",
    "facebook_ads = table[table['source'] == 'facebook_ads']['test_id']\n",
    "youtube_channel_reklama = table[table['source'] == 'youtube_channel_reklama']['test_id'] \n",
    "yandex_direct = table[table['source'] == 'yandex_direct']['test_id']"
   ]
  },
  {
   "cell_type": "code",
   "execution_count": 73,
   "metadata": {},
   "outputs": [],
   "source": [
    "# Во избежание ложноположительных результатов, используем поправку Бонферрони\n",
    "alpha_2 = .05 / 6 "
   ]
  },
  {
   "cell_type": "code",
   "execution_count": 74,
   "metadata": {},
   "outputs": [],
   "source": [
    "def test_mw(H0, H1, title):\n",
    "    print(title)\n",
    "\n",
    "    results = st.mannwhitneyu(H0, H1)\n",
    "\n",
    "    print('p-значение: ', results.pvalue)\n",
    "\n",
    "    if results.pvalue < alpha_2:\n",
    "        print('Отвергаем нулевую гипотезу: разница статистически значима')\n",
    "    else:\n",
    "        print(\n",
    "            'Не получилось отвергнуть нулевую гипотезу, вывод о различии сделать нельзя'\n",
    "        )"
   ]
  },
  {
   "cell_type": "code",
   "execution_count": 75,
   "metadata": {},
   "outputs": [
    {
     "name": "stdout",
     "output_type": "stream",
     "text": [
      "instagram_new_adverts/facebook_ads\n",
      "p-значение:  0.40919319567631285\n",
      "Не получилось отвергнуть нулевую гипотезу, вывод о различии сделать нельзя\n",
      "instagram_new_adverts/youtube_channel_reklama\n",
      "p-значение:  0.9001181567908461\n",
      "Не получилось отвергнуть нулевую гипотезу, вывод о различии сделать нельзя\n",
      "instagram_new_adverts/yandex_direct\n",
      "p-значение:  0.18426828022587327\n",
      "Не получилось отвергнуть нулевую гипотезу, вывод о различии сделать нельзя\n",
      "facebook_ads/youtube_channel_reklama\n",
      "p-значение:  0.5079689382321106\n",
      "Не получилось отвергнуть нулевую гипотезу, вывод о различии сделать нельзя\n",
      "facebook_ads/yandex_direct\n",
      "p-значение:  0.033959962425478496\n",
      "Не получилось отвергнуть нулевую гипотезу, вывод о различии сделать нельзя\n",
      "youtube_channel_reklama/yandex_direct\n",
      "p-значение:  0.17008753269777588\n",
      "Не получилось отвергнуть нулевую гипотезу, вывод о различии сделать нельзя\n"
     ]
    }
   ],
   "source": [
    "test_mw(instagram_new_adverts, facebook_ads, 'instagram_new_adverts/facebook_ads')\n",
    "test_mw(instagram_new_adverts, youtube_channel_reklama, 'instagram_new_adverts/youtube_channel_reklama')\n",
    "test_mw(instagram_new_adverts, yandex_direct, 'instagram_new_adverts/yandex_direct')\n",
    "test_mw(facebook_ads, youtube_channel_reklama, 'facebook_ads/youtube_channel_reklama')\n",
    "test_mw(facebook_ads, yandex_direct, 'facebook_ads/yandex_direct')\n",
    "test_mw(youtube_channel_reklama, yandex_direct, 'youtube_channel_reklama/yandex_direct')"
   ]
  },
  {
   "cell_type": "markdown",
   "metadata": {},
   "source": [
    "Распределение нормальное, посмотрим распределение между способами прохождения уровня."
   ]
  },
  {
   "cell_type": "code",
   "execution_count": 76,
   "metadata": {},
   "outputs": [
    {
     "name": "stdout",
     "output_type": "stream",
     "text": [
      "instagram_new_adverts\n",
      "1    990\n",
      "0    476\n",
      "Name: test_id, dtype: int64\n",
      "facebook_ads\n",
      "1    759\n",
      "0    391\n",
      "Name: test_id, dtype: int64\n",
      "youtube_channel_reklama\n",
      "1    780\n",
      "0    379\n",
      "Name: test_id, dtype: int64\n",
      "yandex_direct\n",
      "1    1422\n",
      "0     620\n",
      "Name: test_id, dtype: int64\n"
     ]
    }
   ],
   "source": [
    "print('instagram_new_adverts')\n",
    "print(instagram_new_adverts.value_counts())\n",
    "print('facebook_ads')\n",
    "print(facebook_ads.value_counts())\n",
    "print('youtube_channel_reklama')\n",
    "print(youtube_channel_reklama.value_counts())\n",
    "print('yandex_direct')\n",
    "print(yandex_direct.value_counts())"
   ]
  },
  {
   "cell_type": "code",
   "execution_count": 77,
   "metadata": {},
   "outputs": [
    {
     "data": {
      "image/png": "[encoded data removed]",
      "text/plain": [
       "<Figure size 527.125x360 with 1 Axes>"
      ]
     },
     "metadata": {
      "needs_background": "light"
     },
     "output_type": "display_data"
    }
   ],
   "source": [
    "# построим график распределения\n",
    "game_actions_win = game_actions.query('project_type!=\"level_is_not_passed\"')\n",
    "sns.displot(x='project_type',\n",
    "            hue='source',\n",
    "            multiple='dodge',\n",
    "            data=game_actions_win);"
   ]
  },
  {
   "cell_type": "markdown",
   "metadata": {},
   "source": [
    "По графику видно совмещение, по которому понятно, откуда приходит больше игроков и что путем ПвП прохождений первого уровня больше"
   ]
  },
  {
   "cell_type": "markdown",
   "metadata": {},
   "source": [
    "**Вывод**"
   ]
  },
  {
   "cell_type": "markdown",
   "metadata": {},
   "source": [
    "Способ прохождения игры не зависит от источника трафика"
   ]
  },
  {
   "cell_type": "markdown",
   "metadata": {},
   "source": [
    "**Шаг 5. Подведение итогов по проекту**"
   ]
  },
  {
   "cell_type": "markdown",
   "metadata": {},
   "source": [
    "В ходе проекта был проведен анализ данных о событиях, совершенных в мобильной игре «Космические братья». В результате предобработки был изменен тип данных у стобцов с датами, обработаны пропуски путем замены их на новые значения, обработаны дубликаты, после этого данные были готовы к анализу."
   ]
  },
  {
   "cell_type": "markdown",
   "metadata": {},
   "source": [
    "После этого был проведен исследовательский анализ данных, по результатам которого было выявлено:\n",
    "\n",
    "- Количество пользователей - 13576\n",
    "- Количество событий - 135639\n",
    "- На одного пользователя в среднем приходится 10 событий.\n",
    "- В игре возможно построить 3 типа зданий, среди игроков они распределены так: assembly_shop — сборочный цех - 42.6%, spaceport — космопорт - 46.4%, research_center — исследовательский центр - 11%\n",
    "- Самое быстрое время прохождения игры -  9ч 39м, максимального времени нет. Не все пользователи проходят игру.\n",
    "- Всего 4 источника трафика - Яндекс.Директ, Instagram, Facebook, Youtube.\n",
    "- Реклама на facebook самая дорогая - 0.79, (2726 пользователя). А на youtube самая дешевая - 0.40, (2686 пользователя), Yandex.direct - 0.46, поток пользователей самый большой - 4817."
   ]
  },
  {
   "cell_type": "markdown",
   "metadata": {},
   "source": [
    "Далее были проверены 2 гипотезы, в результате проверки первой была отвергнута нулевая гипотеза, это означало, что способ прохождения игры влияет на время прохождения уровня.\n",
    "\n",
    "Также была выдвинута собственная гипотеза, в результате проверки которой было выяснено, что способ прохождения игры не зависит от источника трафика."
   ]
  }
 ],
 "metadata": {
  "ExecuteTimeLog": [
   {
    "duration": 98,
    "start_time": "2023-07-31T21:40:15.642Z"
   },
   {
    "duration": 89,
    "start_time": "2023-07-31T21:40:33.238Z"
   },
   {
    "duration": 1804,
    "start_time": "2023-07-31T21:45:38.225Z"
   },
   {
    "duration": 684,
    "start_time": "2023-07-31T21:45:49.841Z"
   },
   {
    "duration": 4,
    "start_time": "2023-07-31T21:46:18.108Z"
   },
   {
    "duration": 498,
    "start_time": "2023-07-31T21:46:26.037Z"
   },
   {
    "duration": 292,
    "start_time": "2023-07-31T21:47:20.069Z"
   },
   {
    "duration": 4,
    "start_time": "2023-07-31T21:55:00.933Z"
   },
   {
    "duration": 510,
    "start_time": "2023-07-31T21:55:05.299Z"
   },
   {
    "duration": 4,
    "start_time": "2023-07-31T21:55:36.819Z"
   },
   {
    "duration": 585,
    "start_time": "2023-07-31T21:55:37.440Z"
   },
   {
    "duration": 60,
    "start_time": "2023-07-31T21:55:54.908Z"
   },
   {
    "duration": 29,
    "start_time": "2023-07-31T21:56:10.241Z"
   },
   {
    "duration": 31,
    "start_time": "2023-07-31T22:05:21.705Z"
   },
   {
    "duration": 13,
    "start_time": "2023-07-31T22:09:11.043Z"
   },
   {
    "duration": 39,
    "start_time": "2023-07-31T22:09:39.663Z"
   },
   {
    "duration": 25,
    "start_time": "2023-07-31T22:09:48.703Z"
   },
   {
    "duration": 16,
    "start_time": "2023-07-31T22:10:11.129Z"
   },
   {
    "duration": 18,
    "start_time": "2023-07-31T22:10:55.958Z"
   },
   {
    "duration": 28,
    "start_time": "2023-07-31T22:18:01.481Z"
   },
   {
    "duration": 15,
    "start_time": "2023-07-31T22:20:19.282Z"
   },
   {
    "duration": 12,
    "start_time": "2023-07-31T22:29:31.182Z"
   },
   {
    "duration": 11,
    "start_time": "2023-07-31T22:31:58.818Z"
   },
   {
    "duration": 9,
    "start_time": "2023-07-31T22:32:08.530Z"
   },
   {
    "duration": 16,
    "start_time": "2023-07-31T22:32:20.613Z"
   },
   {
    "duration": 12,
    "start_time": "2023-07-31T22:42:27.836Z"
   },
   {
    "duration": 11,
    "start_time": "2023-07-31T22:42:43.303Z"
   },
   {
    "duration": 10,
    "start_time": "2023-07-31T22:43:11.448Z"
   },
   {
    "duration": 11,
    "start_time": "2023-07-31T22:45:51.856Z"
   },
   {
    "duration": 27,
    "start_time": "2023-07-31T22:46:04.131Z"
   },
   {
    "duration": 10,
    "start_time": "2023-07-31T22:47:36.131Z"
   },
   {
    "duration": 1218,
    "start_time": "2023-07-31T22:47:49.643Z"
   },
   {
    "duration": 277,
    "start_time": "2023-07-31T22:47:50.863Z"
   },
   {
    "duration": 3,
    "start_time": "2023-07-31T22:47:51.142Z"
   },
   {
    "duration": 480,
    "start_time": "2023-07-31T22:47:51.147Z"
   },
   {
    "duration": 78,
    "start_time": "2023-07-31T22:47:51.629Z"
   },
   {
    "duration": 31,
    "start_time": "2023-07-31T22:47:51.709Z"
   },
   {
    "duration": 74,
    "start_time": "2023-07-31T22:47:51.742Z"
   },
   {
    "duration": 28,
    "start_time": "2023-07-31T22:47:51.818Z"
   },
   {
    "duration": 16,
    "start_time": "2023-07-31T22:47:51.848Z"
   },
   {
    "duration": 42,
    "start_time": "2023-07-31T22:47:51.866Z"
   },
   {
    "duration": 13,
    "start_time": "2023-07-31T22:47:51.910Z"
   },
   {
    "duration": 21,
    "start_time": "2023-07-31T22:47:51.924Z"
   },
   {
    "duration": 18,
    "start_time": "2023-07-31T22:47:51.947Z"
   },
   {
    "duration": 13,
    "start_time": "2023-07-31T22:47:51.987Z"
   },
   {
    "duration": 29,
    "start_time": "2023-07-31T22:47:52.002Z"
   },
   {
    "duration": 25,
    "start_time": "2023-07-31T22:47:52.033Z"
   },
   {
    "duration": 47,
    "start_time": "2023-07-31T22:47:52.060Z"
   },
   {
    "duration": 13,
    "start_time": "2023-07-31T22:47:52.108Z"
   },
   {
    "duration": 16,
    "start_time": "2023-07-31T22:47:52.122Z"
   },
   {
    "duration": 13,
    "start_time": "2023-07-31T22:47:52.140Z"
   },
   {
    "duration": 44,
    "start_time": "2023-07-31T22:47:52.155Z"
   },
   {
    "duration": 63,
    "start_time": "2023-07-31T22:49:53.799Z"
   },
   {
    "duration": 79,
    "start_time": "2023-07-31T22:52:35.269Z"
   },
   {
    "duration": 73,
    "start_time": "2023-07-31T22:52:52.439Z"
   },
   {
    "duration": 34,
    "start_time": "2023-07-31T22:53:33.723Z"
   },
   {
    "duration": 90,
    "start_time": "2023-07-31T22:53:52.562Z"
   },
   {
    "duration": 68,
    "start_time": "2023-07-31T22:54:05.799Z"
   },
   {
    "duration": 65,
    "start_time": "2023-07-31T22:54:26.143Z"
   },
   {
    "duration": 32,
    "start_time": "2023-07-31T22:57:12.443Z"
   },
   {
    "duration": 44,
    "start_time": "2023-07-31T22:58:13.767Z"
   },
   {
    "duration": 27,
    "start_time": "2023-07-31T23:00:05.793Z"
   },
   {
    "duration": 29,
    "start_time": "2023-07-31T23:00:23.084Z"
   },
   {
    "duration": 21,
    "start_time": "2023-07-31T23:00:47.966Z"
   },
   {
    "duration": 16,
    "start_time": "2023-07-31T23:01:36.208Z"
   },
   {
    "duration": 138,
    "start_time": "2023-07-31T23:02:36.384Z"
   },
   {
    "duration": 126,
    "start_time": "2023-07-31T23:02:58.753Z"
   },
   {
    "duration": 116,
    "start_time": "2023-07-31T23:03:15.203Z"
   },
   {
    "duration": 117,
    "start_time": "2023-07-31T23:03:28.529Z"
   },
   {
    "duration": 117,
    "start_time": "2023-07-31T23:05:41.010Z"
   },
   {
    "duration": 39,
    "start_time": "2023-07-31T23:05:53.989Z"
   },
   {
    "duration": 105,
    "start_time": "2023-07-31T23:06:06.626Z"
   },
   {
    "duration": 105,
    "start_time": "2023-07-31T23:06:12.829Z"
   },
   {
    "duration": 107,
    "start_time": "2023-07-31T23:07:03.784Z"
   },
   {
    "duration": 1421,
    "start_time": "2023-07-31T23:51:27.301Z"
   },
   {
    "duration": 548,
    "start_time": "2023-07-31T23:57:42.211Z"
   },
   {
    "duration": 55,
    "start_time": "2023-07-31T23:58:11.519Z"
   },
   {
    "duration": 12,
    "start_time": "2023-07-31T23:58:30.615Z"
   },
   {
    "duration": 10,
    "start_time": "2023-07-31T23:58:41.347Z"
   },
   {
    "duration": 21,
    "start_time": "2023-08-01T00:01:34.876Z"
   },
   {
    "duration": 9,
    "start_time": "2023-08-01T00:02:03.147Z"
   },
   {
    "duration": 6,
    "start_time": "2023-08-01T00:02:16.235Z"
   },
   {
    "duration": 149,
    "start_time": "2023-08-01T00:02:59.051Z"
   },
   {
    "duration": 17,
    "start_time": "2023-08-01T00:05:43.258Z"
   },
   {
    "duration": 14,
    "start_time": "2023-08-01T00:07:18.745Z"
   },
   {
    "duration": 148,
    "start_time": "2023-08-01T00:07:57.512Z"
   },
   {
    "duration": 23,
    "start_time": "2023-08-01T00:08:31.882Z"
   },
   {
    "duration": 10,
    "start_time": "2023-08-01T00:08:49.987Z"
   },
   {
    "duration": 147,
    "start_time": "2023-08-01T00:10:23.974Z"
   },
   {
    "duration": 124,
    "start_time": "2023-08-01T00:10:38.210Z"
   },
   {
    "duration": 8,
    "start_time": "2023-08-01T00:10:49.212Z"
   },
   {
    "duration": 126,
    "start_time": "2023-08-01T00:12:02.446Z"
   },
   {
    "duration": 13,
    "start_time": "2023-08-01T00:12:13.134Z"
   },
   {
    "duration": 128,
    "start_time": "2023-08-01T00:12:59.322Z"
   },
   {
    "duration": 8,
    "start_time": "2023-08-01T00:13:22.714Z"
   },
   {
    "duration": 11,
    "start_time": "2023-08-01T00:13:35.634Z"
   },
   {
    "duration": 377,
    "start_time": "2023-08-01T00:43:27.399Z"
   },
   {
    "duration": 481,
    "start_time": "2023-08-01T00:43:50.299Z"
   },
   {
    "duration": 114,
    "start_time": "2023-08-01T01:09:58.658Z"
   },
   {
    "duration": 114,
    "start_time": "2023-08-01T01:10:04.434Z"
   },
   {
    "duration": 12,
    "start_time": "2023-08-01T01:12:44.850Z"
   },
   {
    "duration": 217,
    "start_time": "2023-08-01T01:13:55.854Z"
   },
   {
    "duration": 1255,
    "start_time": "2023-08-01T01:18:35.176Z"
   },
   {
    "duration": 287,
    "start_time": "2023-08-01T01:18:36.433Z"
   },
   {
    "duration": 4,
    "start_time": "2023-08-01T01:18:36.721Z"
   },
   {
    "duration": 534,
    "start_time": "2023-08-01T01:18:36.727Z"
   },
   {
    "duration": 75,
    "start_time": "2023-08-01T01:18:37.262Z"
   },
   {
    "duration": 52,
    "start_time": "2023-08-01T01:18:37.338Z"
   },
   {
    "duration": 41,
    "start_time": "2023-08-01T01:18:37.392Z"
   },
   {
    "duration": 51,
    "start_time": "2023-08-01T01:18:37.435Z"
   },
   {
    "duration": 18,
    "start_time": "2023-08-01T01:18:37.500Z"
   },
   {
    "duration": 41,
    "start_time": "2023-08-01T01:18:37.520Z"
   },
   {
    "duration": 20,
    "start_time": "2023-08-01T01:18:37.563Z"
   },
   {
    "duration": 47,
    "start_time": "2023-08-01T01:18:37.585Z"
   },
   {
    "duration": 43,
    "start_time": "2023-08-01T01:18:37.634Z"
   },
   {
    "duration": 27,
    "start_time": "2023-08-01T01:18:37.679Z"
   },
   {
    "duration": 35,
    "start_time": "2023-08-01T01:18:37.708Z"
   },
   {
    "duration": 39,
    "start_time": "2023-08-01T01:18:37.745Z"
   },
   {
    "duration": 40,
    "start_time": "2023-08-01T01:18:37.785Z"
   },
   {
    "duration": 42,
    "start_time": "2023-08-01T01:18:37.826Z"
   },
   {
    "duration": 39,
    "start_time": "2023-08-01T01:18:37.870Z"
   },
   {
    "duration": 48,
    "start_time": "2023-08-01T01:18:37.910Z"
   },
   {
    "duration": 71,
    "start_time": "2023-08-01T01:18:37.960Z"
   },
   {
    "duration": 91,
    "start_time": "2023-08-01T01:18:38.033Z"
   },
   {
    "duration": 75,
    "start_time": "2023-08-01T01:18:38.126Z"
   },
   {
    "duration": 33,
    "start_time": "2023-08-01T01:18:38.203Z"
   },
   {
    "duration": 88,
    "start_time": "2023-08-01T01:18:38.238Z"
   },
   {
    "duration": 75,
    "start_time": "2023-08-01T01:18:38.328Z"
   },
   {
    "duration": 33,
    "start_time": "2023-08-01T01:18:38.405Z"
   },
   {
    "duration": 48,
    "start_time": "2023-08-01T01:18:38.443Z"
   },
   {
    "duration": 135,
    "start_time": "2023-08-01T01:18:38.493Z"
   },
   {
    "duration": 41,
    "start_time": "2023-08-01T01:18:38.630Z"
   },
   {
    "duration": 124,
    "start_time": "2023-08-01T01:18:38.673Z"
   },
   {
    "duration": 1379,
    "start_time": "2023-08-01T01:18:38.798Z"
   },
   {
    "duration": 70,
    "start_time": "2023-08-01T01:18:40.179Z"
   },
   {
    "duration": 9,
    "start_time": "2023-08-01T01:18:40.251Z"
   },
   {
    "duration": 27,
    "start_time": "2023-08-01T01:18:40.262Z"
   },
   {
    "duration": 8,
    "start_time": "2023-08-01T01:18:40.296Z"
   },
   {
    "duration": 149,
    "start_time": "2023-08-01T01:18:40.306Z"
   },
   {
    "duration": 14,
    "start_time": "2023-08-01T01:18:40.457Z"
   },
   {
    "duration": 28,
    "start_time": "2023-08-01T01:18:40.472Z"
   },
   {
    "duration": 22,
    "start_time": "2023-08-01T01:18:40.502Z"
   },
   {
    "duration": 28,
    "start_time": "2023-08-01T01:18:40.525Z"
   },
   {
    "duration": 166,
    "start_time": "2023-08-01T01:18:40.555Z"
   },
   {
    "duration": 503,
    "start_time": "2023-08-01T01:18:40.723Z"
   },
   {
    "duration": 120,
    "start_time": "2023-08-01T01:18:41.228Z"
   },
   {
    "duration": 3,
    "start_time": "2023-08-01T01:18:41.350Z"
   },
   {
    "duration": 0,
    "start_time": "2023-08-01T01:18:41.354Z"
   },
   {
    "duration": 0,
    "start_time": "2023-08-01T01:18:41.355Z"
   },
   {
    "duration": 4,
    "start_time": "2023-08-01T01:18:48.481Z"
   },
   {
    "duration": 10,
    "start_time": "2023-08-01T01:18:49.203Z"
   },
   {
    "duration": 347,
    "start_time": "2023-08-01T01:18:49.886Z"
   },
   {
    "duration": 101,
    "start_time": "2023-08-01T01:19:31.279Z"
   },
   {
    "duration": 95,
    "start_time": "2023-08-01T01:19:37.436Z"
   },
   {
    "duration": 1281,
    "start_time": "2023-08-01T01:20:29.716Z"
   },
   {
    "duration": 274,
    "start_time": "2023-08-01T01:20:31.004Z"
   },
   {
    "duration": 4,
    "start_time": "2023-08-01T01:20:31.280Z"
   },
   {
    "duration": 591,
    "start_time": "2023-08-01T01:20:31.285Z"
   },
   {
    "duration": 60,
    "start_time": "2023-08-01T01:20:31.878Z"
   },
   {
    "duration": 65,
    "start_time": "2023-08-01T01:20:31.940Z"
   },
   {
    "duration": 36,
    "start_time": "2023-08-01T01:20:32.007Z"
   },
   {
    "duration": 49,
    "start_time": "2023-08-01T01:20:32.044Z"
   },
   {
    "duration": 43,
    "start_time": "2023-08-01T01:20:32.102Z"
   },
   {
    "duration": 60,
    "start_time": "2023-08-01T01:20:32.147Z"
   },
   {
    "duration": 46,
    "start_time": "2023-08-01T01:20:32.209Z"
   },
   {
    "duration": 46,
    "start_time": "2023-08-01T01:20:32.257Z"
   },
   {
    "duration": 53,
    "start_time": "2023-08-01T01:20:32.304Z"
   },
   {
    "duration": 63,
    "start_time": "2023-08-01T01:20:32.360Z"
   },
   {
    "duration": 125,
    "start_time": "2023-08-01T01:20:32.425Z"
   },
   {
    "duration": 58,
    "start_time": "2023-08-01T01:20:32.552Z"
   },
   {
    "duration": 93,
    "start_time": "2023-08-01T01:20:32.612Z"
   },
   {
    "duration": 50,
    "start_time": "2023-08-01T01:20:32.707Z"
   },
   {
    "duration": 117,
    "start_time": "2023-08-01T01:20:32.759Z"
   },
   {
    "duration": 181,
    "start_time": "2023-08-01T01:20:32.878Z"
   },
   {
    "duration": 64,
    "start_time": "2023-08-01T01:20:33.061Z"
   },
   {
    "duration": 80,
    "start_time": "2023-08-01T01:20:33.127Z"
   },
   {
    "duration": 64,
    "start_time": "2023-08-01T01:20:33.209Z"
   },
   {
    "duration": 50,
    "start_time": "2023-08-01T01:20:33.274Z"
   },
   {
    "duration": 86,
    "start_time": "2023-08-01T01:20:33.325Z"
   },
   {
    "duration": 63,
    "start_time": "2023-08-01T01:20:33.413Z"
   },
   {
    "duration": 53,
    "start_time": "2023-08-01T01:20:33.477Z"
   },
   {
    "duration": 29,
    "start_time": "2023-08-01T01:20:33.532Z"
   },
   {
    "duration": 144,
    "start_time": "2023-08-01T01:20:33.563Z"
   },
   {
    "duration": 36,
    "start_time": "2023-08-01T01:20:33.708Z"
   },
   {
    "duration": 121,
    "start_time": "2023-08-01T01:20:33.746Z"
   },
   {
    "duration": 1384,
    "start_time": "2023-08-01T01:20:33.869Z"
   },
   {
    "duration": 71,
    "start_time": "2023-08-01T01:20:35.254Z"
   },
   {
    "duration": 9,
    "start_time": "2023-08-01T01:20:35.327Z"
   },
   {
    "duration": 24,
    "start_time": "2023-08-01T01:20:35.338Z"
   },
   {
    "duration": 42,
    "start_time": "2023-08-01T01:20:35.364Z"
   },
   {
    "duration": 150,
    "start_time": "2023-08-01T01:20:35.408Z"
   },
   {
    "duration": 14,
    "start_time": "2023-08-01T01:20:35.559Z"
   },
   {
    "duration": 13,
    "start_time": "2023-08-01T01:20:35.593Z"
   },
   {
    "duration": 33,
    "start_time": "2023-08-01T01:20:35.607Z"
   },
   {
    "duration": 40,
    "start_time": "2023-08-01T01:20:35.644Z"
   },
   {
    "duration": 139,
    "start_time": "2023-08-01T01:20:35.685Z"
   },
   {
    "duration": 478,
    "start_time": "2023-08-01T01:20:35.826Z"
   },
   {
    "duration": 108,
    "start_time": "2023-08-01T01:20:36.306Z"
   },
   {
    "duration": 3,
    "start_time": "2023-08-01T01:20:36.416Z"
   },
   {
    "duration": 21,
    "start_time": "2023-08-01T01:20:36.421Z"
   },
   {
    "duration": 387,
    "start_time": "2023-08-01T01:20:36.443Z"
   },
   {
    "duration": 110,
    "start_time": "2023-08-01T01:20:36.831Z"
   },
   {
    "duration": 3,
    "start_time": "2023-08-01T01:20:36.943Z"
   },
   {
    "duration": 14,
    "start_time": "2023-08-01T01:20:36.948Z"
   },
   {
    "duration": 104,
    "start_time": "2023-08-01T01:29:08.638Z"
   },
   {
    "duration": 1269,
    "start_time": "2023-08-01T01:29:48.778Z"
   },
   {
    "duration": 293,
    "start_time": "2023-08-01T01:29:50.049Z"
   },
   {
    "duration": 4,
    "start_time": "2023-08-01T01:29:50.343Z"
   },
   {
    "duration": 532,
    "start_time": "2023-08-01T01:29:50.349Z"
   },
   {
    "duration": 62,
    "start_time": "2023-08-01T01:29:50.883Z"
   },
   {
    "duration": 63,
    "start_time": "2023-08-01T01:29:50.947Z"
   },
   {
    "duration": 38,
    "start_time": "2023-08-01T01:29:51.012Z"
   },
   {
    "duration": 48,
    "start_time": "2023-08-01T01:29:51.052Z"
   },
   {
    "duration": 16,
    "start_time": "2023-08-01T01:29:51.102Z"
   },
   {
    "duration": 20,
    "start_time": "2023-08-01T01:29:51.122Z"
   },
   {
    "duration": 16,
    "start_time": "2023-08-01T01:29:51.144Z"
   },
   {
    "duration": 36,
    "start_time": "2023-08-01T01:29:51.161Z"
   },
   {
    "duration": 28,
    "start_time": "2023-08-01T01:29:51.199Z"
   },
   {
    "duration": 30,
    "start_time": "2023-08-01T01:29:51.229Z"
   },
   {
    "duration": 32,
    "start_time": "2023-08-01T01:29:51.261Z"
   },
   {
    "duration": 17,
    "start_time": "2023-08-01T01:29:51.296Z"
   },
   {
    "duration": 27,
    "start_time": "2023-08-01T01:29:51.315Z"
   },
   {
    "duration": 31,
    "start_time": "2023-08-01T01:29:51.344Z"
   },
   {
    "duration": 24,
    "start_time": "2023-08-01T01:29:51.377Z"
   },
   {
    "duration": 37,
    "start_time": "2023-08-01T01:29:51.403Z"
   },
   {
    "duration": 32,
    "start_time": "2023-08-01T01:29:51.442Z"
   },
   {
    "duration": 104,
    "start_time": "2023-08-01T01:29:51.476Z"
   },
   {
    "duration": 70,
    "start_time": "2023-08-01T01:29:51.582Z"
   },
   {
    "duration": 50,
    "start_time": "2023-08-01T01:29:51.654Z"
   },
   {
    "duration": 78,
    "start_time": "2023-08-01T01:29:51.706Z"
   },
   {
    "duration": 68,
    "start_time": "2023-08-01T01:29:51.786Z"
   },
   {
    "duration": 60,
    "start_time": "2023-08-01T01:29:51.856Z"
   },
   {
    "duration": 24,
    "start_time": "2023-08-01T01:29:51.921Z"
   },
   {
    "duration": 155,
    "start_time": "2023-08-01T01:29:51.947Z"
   },
   {
    "duration": 34,
    "start_time": "2023-08-01T01:29:52.104Z"
   },
   {
    "duration": 118,
    "start_time": "2023-08-01T01:29:52.140Z"
   },
   {
    "duration": 1325,
    "start_time": "2023-08-01T01:29:52.259Z"
   },
   {
    "duration": 66,
    "start_time": "2023-08-01T01:29:53.585Z"
   },
   {
    "duration": 10,
    "start_time": "2023-08-01T01:29:53.653Z"
   },
   {
    "duration": 36,
    "start_time": "2023-08-01T01:29:53.665Z"
   },
   {
    "duration": 33,
    "start_time": "2023-08-01T01:29:53.704Z"
   },
   {
    "duration": 146,
    "start_time": "2023-08-01T01:29:53.739Z"
   },
   {
    "duration": 19,
    "start_time": "2023-08-01T01:29:53.886Z"
   },
   {
    "duration": 52,
    "start_time": "2023-08-01T01:29:53.907Z"
   },
   {
    "duration": 42,
    "start_time": "2023-08-01T01:29:53.961Z"
   },
   {
    "duration": 31,
    "start_time": "2023-08-01T01:29:54.005Z"
   },
   {
    "duration": 141,
    "start_time": "2023-08-01T01:29:54.037Z"
   },
   {
    "duration": 474,
    "start_time": "2023-08-01T01:29:54.179Z"
   },
   {
    "duration": 153,
    "start_time": "2023-08-01T01:29:54.655Z"
   },
   {
    "duration": 5,
    "start_time": "2023-08-01T01:29:54.811Z"
   },
   {
    "duration": 12,
    "start_time": "2023-08-01T01:29:54.818Z"
   },
   {
    "duration": 388,
    "start_time": "2023-08-01T01:29:54.832Z"
   },
   {
    "duration": 220,
    "start_time": "2023-08-01T01:29:55.221Z"
   },
   {
    "duration": 107,
    "start_time": "2023-08-01T01:29:55.442Z"
   },
   {
    "duration": 4,
    "start_time": "2023-08-01T01:29:55.551Z"
   },
   {
    "duration": 9,
    "start_time": "2023-08-01T01:29:55.556Z"
   },
   {
    "duration": 1249,
    "start_time": "2023-08-01T01:30:49.154Z"
   },
   {
    "duration": 280,
    "start_time": "2023-08-01T01:30:50.405Z"
   },
   {
    "duration": 7,
    "start_time": "2023-08-01T01:30:50.687Z"
   },
   {
    "duration": 520,
    "start_time": "2023-08-01T01:30:50.696Z"
   },
   {
    "duration": 83,
    "start_time": "2023-08-01T01:30:51.218Z"
   },
   {
    "duration": 35,
    "start_time": "2023-08-01T01:30:51.303Z"
   },
   {
    "duration": 79,
    "start_time": "2023-08-01T01:30:51.340Z"
   },
   {
    "duration": 24,
    "start_time": "2023-08-01T01:30:51.421Z"
   },
   {
    "duration": 36,
    "start_time": "2023-08-01T01:30:51.447Z"
   },
   {
    "duration": 31,
    "start_time": "2023-08-01T01:30:51.489Z"
   },
   {
    "duration": 20,
    "start_time": "2023-08-01T01:30:51.522Z"
   },
   {
    "duration": 18,
    "start_time": "2023-08-01T01:30:51.544Z"
   },
   {
    "duration": 18,
    "start_time": "2023-08-01T01:30:51.564Z"
   },
   {
    "duration": 22,
    "start_time": "2023-08-01T01:30:51.583Z"
   },
   {
    "duration": 28,
    "start_time": "2023-08-01T01:30:51.606Z"
   },
   {
    "duration": 19,
    "start_time": "2023-08-01T01:30:51.635Z"
   },
   {
    "duration": 19,
    "start_time": "2023-08-01T01:30:51.656Z"
   },
   {
    "duration": 30,
    "start_time": "2023-08-01T01:30:51.676Z"
   },
   {
    "duration": 9,
    "start_time": "2023-08-01T01:30:51.707Z"
   },
   {
    "duration": 21,
    "start_time": "2023-08-01T01:30:51.718Z"
   },
   {
    "duration": 50,
    "start_time": "2023-08-01T01:30:51.741Z"
   },
   {
    "duration": 80,
    "start_time": "2023-08-01T01:30:51.802Z"
   },
   {
    "duration": 83,
    "start_time": "2023-08-01T01:30:51.884Z"
   },
   {
    "duration": 41,
    "start_time": "2023-08-01T01:30:51.969Z"
   },
   {
    "duration": 93,
    "start_time": "2023-08-01T01:30:52.012Z"
   },
   {
    "duration": 63,
    "start_time": "2023-08-01T01:30:52.107Z"
   },
   {
    "duration": 55,
    "start_time": "2023-08-01T01:30:52.172Z"
   },
   {
    "duration": 23,
    "start_time": "2023-08-01T01:30:52.231Z"
   },
   {
    "duration": 164,
    "start_time": "2023-08-01T01:30:52.256Z"
   },
   {
    "duration": 34,
    "start_time": "2023-08-01T01:30:52.421Z"
   },
   {
    "duration": 112,
    "start_time": "2023-08-01T01:30:52.457Z"
   },
   {
    "duration": 1330,
    "start_time": "2023-08-01T01:30:52.570Z"
   },
   {
    "duration": 58,
    "start_time": "2023-08-01T01:30:53.903Z"
   },
   {
    "duration": 38,
    "start_time": "2023-08-01T01:30:53.963Z"
   },
   {
    "duration": 10,
    "start_time": "2023-08-01T01:30:54.003Z"
   },
   {
    "duration": 13,
    "start_time": "2023-08-01T01:30:54.015Z"
   },
   {
    "duration": 143,
    "start_time": "2023-08-01T01:30:54.029Z"
   },
   {
    "duration": 28,
    "start_time": "2023-08-01T01:30:54.174Z"
   },
   {
    "duration": 9,
    "start_time": "2023-08-01T01:30:54.203Z"
   },
   {
    "duration": 22,
    "start_time": "2023-08-01T01:30:54.214Z"
   },
   {
    "duration": 20,
    "start_time": "2023-08-01T01:30:54.238Z"
   },
   {
    "duration": 151,
    "start_time": "2023-08-01T01:30:54.260Z"
   },
   {
    "duration": 506,
    "start_time": "2023-08-01T01:30:54.413Z"
   },
   {
    "duration": 123,
    "start_time": "2023-08-01T01:30:54.920Z"
   },
   {
    "duration": 4,
    "start_time": "2023-08-01T01:30:55.044Z"
   },
   {
    "duration": 50,
    "start_time": "2023-08-01T01:30:55.049Z"
   },
   {
    "duration": 371,
    "start_time": "2023-08-01T01:30:55.101Z"
   },
   {
    "duration": 99,
    "start_time": "2023-08-01T01:30:55.474Z"
   },
   {
    "duration": 16,
    "start_time": "2023-08-01T01:30:55.586Z"
   },
   {
    "duration": 37,
    "start_time": "2023-08-01T01:30:55.603Z"
   },
   {
    "duration": 13,
    "start_time": "2023-08-01T01:40:48.002Z"
   },
   {
    "duration": 12,
    "start_time": "2023-08-01T01:40:48.446Z"
   },
   {
    "duration": 9,
    "start_time": "2023-08-01T01:40:48.899Z"
   },
   {
    "duration": 20,
    "start_time": "2023-08-01T01:40:49.342Z"
   },
   {
    "duration": 3,
    "start_time": "2023-08-01T01:40:49.902Z"
   },
   {
    "duration": 6,
    "start_time": "2023-08-01T01:40:57.810Z"
   },
   {
    "duration": 7,
    "start_time": "2023-08-01T01:41:41.601Z"
   },
   {
    "duration": 8,
    "start_time": "2023-08-01T01:42:04.034Z"
   },
   {
    "duration": 51,
    "start_time": "2023-08-01T01:49:10.489Z"
   },
   {
    "duration": 6,
    "start_time": "2023-08-01T01:49:10.985Z"
   },
   {
    "duration": 5,
    "start_time": "2023-08-01T01:49:47.745Z"
   },
   {
    "duration": 2695,
    "start_time": "2023-08-01T01:49:57.911Z"
   },
   {
    "duration": 14,
    "start_time": "2023-08-01T01:50:50.413Z"
   },
   {
    "duration": 1282,
    "start_time": "2023-08-01T01:51:32.646Z"
   },
   {
    "duration": 271,
    "start_time": "2023-08-01T01:51:33.930Z"
   },
   {
    "duration": 5,
    "start_time": "2023-08-01T01:51:34.203Z"
   },
   {
    "duration": 515,
    "start_time": "2023-08-01T01:51:34.210Z"
   },
   {
    "duration": 94,
    "start_time": "2023-08-01T01:51:34.728Z"
   },
   {
    "duration": 63,
    "start_time": "2023-08-01T01:51:34.825Z"
   },
   {
    "duration": 44,
    "start_time": "2023-08-01T01:51:34.896Z"
   },
   {
    "duration": 48,
    "start_time": "2023-08-01T01:51:34.942Z"
   },
   {
    "duration": 19,
    "start_time": "2023-08-01T01:51:34.992Z"
   },
   {
    "duration": 27,
    "start_time": "2023-08-01T01:51:35.013Z"
   },
   {
    "duration": 11,
    "start_time": "2023-08-01T01:51:35.042Z"
   },
   {
    "duration": 13,
    "start_time": "2023-08-01T01:51:35.054Z"
   },
   {
    "duration": 44,
    "start_time": "2023-08-01T01:51:35.068Z"
   },
   {
    "duration": 9,
    "start_time": "2023-08-01T01:51:35.113Z"
   },
   {
    "duration": 12,
    "start_time": "2023-08-01T01:51:35.123Z"
   },
   {
    "duration": 9,
    "start_time": "2023-08-01T01:51:35.137Z"
   },
   {
    "duration": 50,
    "start_time": "2023-08-01T01:51:35.147Z"
   },
   {
    "duration": 12,
    "start_time": "2023-08-01T01:51:35.200Z"
   },
   {
    "duration": 9,
    "start_time": "2023-08-01T01:51:35.214Z"
   },
   {
    "duration": 18,
    "start_time": "2023-08-01T01:51:35.225Z"
   },
   {
    "duration": 43,
    "start_time": "2023-08-01T01:51:35.245Z"
   },
   {
    "duration": 69,
    "start_time": "2023-08-01T01:51:35.290Z"
   },
   {
    "duration": 94,
    "start_time": "2023-08-01T01:51:35.361Z"
   },
   {
    "duration": 52,
    "start_time": "2023-08-01T01:51:35.457Z"
   },
   {
    "duration": 66,
    "start_time": "2023-08-01T01:51:35.511Z"
   },
   {
    "duration": 68,
    "start_time": "2023-08-01T01:51:35.593Z"
   },
   {
    "duration": 53,
    "start_time": "2023-08-01T01:51:35.663Z"
   },
   {
    "duration": 23,
    "start_time": "2023-08-01T01:51:35.719Z"
   },
   {
    "duration": 142,
    "start_time": "2023-08-01T01:51:35.744Z"
   },
   {
    "duration": 35,
    "start_time": "2023-08-01T01:51:35.901Z"
   },
   {
    "duration": 107,
    "start_time": "2023-08-01T01:51:35.938Z"
   },
   {
    "duration": 1338,
    "start_time": "2023-08-01T01:51:36.046Z"
   },
   {
    "duration": 64,
    "start_time": "2023-08-01T01:51:37.386Z"
   },
   {
    "duration": 12,
    "start_time": "2023-08-01T01:51:37.452Z"
   },
   {
    "duration": 23,
    "start_time": "2023-08-01T01:51:37.486Z"
   },
   {
    "duration": 15,
    "start_time": "2023-08-01T01:51:37.510Z"
   },
   {
    "duration": 146,
    "start_time": "2023-08-01T01:51:37.527Z"
   },
   {
    "duration": 28,
    "start_time": "2023-08-01T01:51:37.675Z"
   },
   {
    "duration": 8,
    "start_time": "2023-08-01T01:51:37.704Z"
   },
   {
    "duration": 11,
    "start_time": "2023-08-01T01:51:37.713Z"
   },
   {
    "duration": 12,
    "start_time": "2023-08-01T01:51:37.726Z"
   },
   {
    "duration": 163,
    "start_time": "2023-08-01T01:51:37.739Z"
   },
   {
    "duration": 446,
    "start_time": "2023-08-01T01:51:37.904Z"
   },
   {
    "duration": 113,
    "start_time": "2023-08-01T01:51:38.352Z"
   },
   {
    "duration": 4,
    "start_time": "2023-08-01T01:51:38.467Z"
   },
   {
    "duration": 28,
    "start_time": "2023-08-01T01:51:38.473Z"
   },
   {
    "duration": 328,
    "start_time": "2023-08-01T01:51:38.505Z"
   },
   {
    "duration": 102,
    "start_time": "2023-08-01T01:51:38.835Z"
   },
   {
    "duration": 4,
    "start_time": "2023-08-01T01:51:38.939Z"
   },
   {
    "duration": 7,
    "start_time": "2023-08-01T01:51:38.944Z"
   },
   {
    "duration": 12,
    "start_time": "2023-08-01T01:51:38.953Z"
   },
   {
    "duration": 18,
    "start_time": "2023-08-01T01:51:38.986Z"
   },
   {
    "duration": 8,
    "start_time": "2023-08-01T01:51:39.006Z"
   },
   {
    "duration": 20,
    "start_time": "2023-08-01T01:51:39.016Z"
   },
   {
    "duration": 3,
    "start_time": "2023-08-01T01:51:39.038Z"
   },
   {
    "duration": 7,
    "start_time": "2023-08-01T01:51:39.042Z"
   },
   {
    "duration": 51,
    "start_time": "2023-08-01T01:51:39.050Z"
   },
   {
    "duration": 48,
    "start_time": "2023-08-01T01:51:39.103Z"
   },
   {
    "duration": 4,
    "start_time": "2023-08-01T01:51:39.153Z"
   },
   {
    "duration": 38,
    "start_time": "2023-08-01T01:51:39.159Z"
   },
   {
    "duration": 2344,
    "start_time": "2023-08-01T01:51:39.199Z"
   },
   {
    "duration": 54,
    "start_time": "2023-08-01T01:53:02.646Z"
   },
   {
    "duration": 62,
    "start_time": "2023-08-01T01:53:22.970Z"
   },
   {
    "duration": 2244,
    "start_time": "2023-08-01T01:54:31.966Z"
   },
   {
    "duration": 1260,
    "start_time": "2023-08-01T01:54:49.278Z"
   },
   {
    "duration": 299,
    "start_time": "2023-08-01T01:54:50.540Z"
   },
   {
    "duration": 4,
    "start_time": "2023-08-01T01:54:50.840Z"
   },
   {
    "duration": 505,
    "start_time": "2023-08-01T01:54:50.846Z"
   },
   {
    "duration": 74,
    "start_time": "2023-08-01T01:54:51.353Z"
   },
   {
    "duration": 31,
    "start_time": "2023-08-01T01:54:51.428Z"
   },
   {
    "duration": 65,
    "start_time": "2023-08-01T01:54:51.461Z"
   },
   {
    "duration": 28,
    "start_time": "2023-08-01T01:54:51.527Z"
   },
   {
    "duration": 47,
    "start_time": "2023-08-01T01:54:51.556Z"
   },
   {
    "duration": 15,
    "start_time": "2023-08-01T01:54:51.606Z"
   },
   {
    "duration": 23,
    "start_time": "2023-08-01T01:54:51.623Z"
   },
   {
    "duration": 27,
    "start_time": "2023-08-01T01:54:51.648Z"
   },
   {
    "duration": 32,
    "start_time": "2023-08-01T01:54:51.677Z"
   },
   {
    "duration": 14,
    "start_time": "2023-08-01T01:54:51.710Z"
   },
   {
    "duration": 16,
    "start_time": "2023-08-01T01:54:51.726Z"
   },
   {
    "duration": 14,
    "start_time": "2023-08-01T01:54:51.743Z"
   },
   {
    "duration": 21,
    "start_time": "2023-08-01T01:54:51.758Z"
   },
   {
    "duration": 29,
    "start_time": "2023-08-01T01:54:51.780Z"
   },
   {
    "duration": 10,
    "start_time": "2023-08-01T01:54:51.811Z"
   },
   {
    "duration": 11,
    "start_time": "2023-08-01T01:54:51.822Z"
   },
   {
    "duration": 28,
    "start_time": "2023-08-01T01:54:51.835Z"
   },
   {
    "duration": 84,
    "start_time": "2023-08-01T01:54:51.865Z"
   },
   {
    "duration": 86,
    "start_time": "2023-08-01T01:54:51.951Z"
   },
   {
    "duration": 34,
    "start_time": "2023-08-01T01:54:52.039Z"
   },
   {
    "duration": 78,
    "start_time": "2023-08-01T01:54:52.087Z"
   },
   {
    "duration": 100,
    "start_time": "2023-08-01T01:54:52.167Z"
   },
   {
    "duration": 47,
    "start_time": "2023-08-01T01:54:52.268Z"
   },
   {
    "duration": 23,
    "start_time": "2023-08-01T01:54:52.319Z"
   },
   {
    "duration": 157,
    "start_time": "2023-08-01T01:54:52.344Z"
   },
   {
    "duration": 40,
    "start_time": "2023-08-01T01:54:52.503Z"
   },
   {
    "duration": 118,
    "start_time": "2023-08-01T01:54:52.544Z"
   },
   {
    "duration": 1343,
    "start_time": "2023-08-01T01:54:52.664Z"
   },
   {
    "duration": 56,
    "start_time": "2023-08-01T01:54:54.008Z"
   },
   {
    "duration": 34,
    "start_time": "2023-08-01T01:54:54.066Z"
   },
   {
    "duration": 34,
    "start_time": "2023-08-01T01:54:54.104Z"
   },
   {
    "duration": 22,
    "start_time": "2023-08-01T01:54:54.140Z"
   },
   {
    "duration": 151,
    "start_time": "2023-08-01T01:54:54.163Z"
   },
   {
    "duration": 13,
    "start_time": "2023-08-01T01:54:54.316Z"
   },
   {
    "duration": 41,
    "start_time": "2023-08-01T01:54:54.331Z"
   },
   {
    "duration": 32,
    "start_time": "2023-08-01T01:54:54.374Z"
   },
   {
    "duration": 35,
    "start_time": "2023-08-01T01:54:54.408Z"
   },
   {
    "duration": 139,
    "start_time": "2023-08-01T01:54:54.445Z"
   },
   {
    "duration": 526,
    "start_time": "2023-08-01T01:54:54.586Z"
   },
   {
    "duration": 139,
    "start_time": "2023-08-01T01:54:55.114Z"
   },
   {
    "duration": 4,
    "start_time": "2023-08-01T01:54:55.255Z"
   },
   {
    "duration": 51,
    "start_time": "2023-08-01T01:54:55.261Z"
   },
   {
    "duration": 403,
    "start_time": "2023-08-01T01:54:55.314Z"
   },
   {
    "duration": 111,
    "start_time": "2023-08-01T01:54:55.719Z"
   },
   {
    "duration": 3,
    "start_time": "2023-08-01T01:54:55.832Z"
   },
   {
    "duration": 47,
    "start_time": "2023-08-01T01:54:55.837Z"
   },
   {
    "duration": 38,
    "start_time": "2023-08-01T01:54:55.886Z"
   },
   {
    "duration": 23,
    "start_time": "2023-08-01T01:54:55.925Z"
   },
   {
    "duration": 26,
    "start_time": "2023-08-01T01:54:55.950Z"
   },
   {
    "duration": 41,
    "start_time": "2023-08-01T01:54:55.978Z"
   },
   {
    "duration": 3,
    "start_time": "2023-08-01T01:54:56.021Z"
   },
   {
    "duration": 21,
    "start_time": "2023-08-01T01:54:56.026Z"
   },
   {
    "duration": 32,
    "start_time": "2023-08-01T01:54:56.049Z"
   },
   {
    "duration": 85,
    "start_time": "2023-08-01T01:54:56.083Z"
   },
   {
    "duration": 76,
    "start_time": "2023-08-01T01:54:56.170Z"
   },
   {
    "duration": 3,
    "start_time": "2023-08-01T01:55:15.158Z"
   },
   {
    "duration": 3,
    "start_time": "2023-08-01T01:55:24.058Z"
   },
   {
    "duration": 21,
    "start_time": "2023-08-01T01:55:32.562Z"
   },
   {
    "duration": 9,
    "start_time": "2023-08-01T01:56:13.709Z"
   },
   {
    "duration": 606,
    "start_time": "2023-08-01T01:56:31.349Z"
   },
   {
    "duration": 7,
    "start_time": "2023-08-01T01:57:49.050Z"
   },
   {
    "duration": 65,
    "start_time": "2023-08-01T01:58:59.383Z"
   },
   {
    "duration": 63,
    "start_time": "2023-08-01T01:59:11.049Z"
   },
   {
    "duration": 54,
    "start_time": "2023-08-01T01:59:23.722Z"
   },
   {
    "duration": 2,
    "start_time": "2023-08-01T02:00:00.262Z"
   },
   {
    "duration": 58,
    "start_time": "2023-08-01T02:24:21.477Z"
   },
   {
    "duration": 55,
    "start_time": "2023-08-01T02:24:36.405Z"
   },
   {
    "duration": 1245,
    "start_time": "2023-08-01T03:52:35.503Z"
   },
   {
    "duration": 267,
    "start_time": "2023-08-01T03:52:36.750Z"
   },
   {
    "duration": 4,
    "start_time": "2023-08-01T03:52:37.019Z"
   },
   {
    "duration": 450,
    "start_time": "2023-08-01T03:52:37.024Z"
   },
   {
    "duration": 57,
    "start_time": "2023-08-01T03:52:37.475Z"
   },
   {
    "duration": 57,
    "start_time": "2023-08-01T03:52:37.534Z"
   },
   {
    "duration": 36,
    "start_time": "2023-08-01T03:52:37.593Z"
   },
   {
    "duration": 25,
    "start_time": "2023-08-01T03:52:37.630Z"
   },
   {
    "duration": 40,
    "start_time": "2023-08-01T03:52:37.657Z"
   },
   {
    "duration": 13,
    "start_time": "2023-08-01T03:52:37.700Z"
   },
   {
    "duration": 11,
    "start_time": "2023-08-01T03:52:37.714Z"
   },
   {
    "duration": 15,
    "start_time": "2023-08-01T03:52:37.727Z"
   },
   {
    "duration": 55,
    "start_time": "2023-08-01T03:52:37.744Z"
   },
   {
    "duration": 10,
    "start_time": "2023-08-01T03:52:37.801Z"
   },
   {
    "duration": 13,
    "start_time": "2023-08-01T03:52:37.813Z"
   },
   {
    "duration": 9,
    "start_time": "2023-08-01T03:52:37.828Z"
   },
   {
    "duration": 50,
    "start_time": "2023-08-01T03:52:37.838Z"
   },
   {
    "duration": 12,
    "start_time": "2023-08-01T03:52:37.890Z"
   },
   {
    "duration": 10,
    "start_time": "2023-08-01T03:52:37.903Z"
   },
   {
    "duration": 13,
    "start_time": "2023-08-01T03:52:37.914Z"
   },
   {
    "duration": 27,
    "start_time": "2023-08-01T03:52:37.929Z"
   },
   {
    "duration": 65,
    "start_time": "2023-08-01T03:52:37.988Z"
   },
   {
    "duration": 87,
    "start_time": "2023-08-01T03:52:38.055Z"
   },
   {
    "duration": 32,
    "start_time": "2023-08-01T03:52:38.143Z"
   },
   {
    "duration": 67,
    "start_time": "2023-08-01T03:52:38.187Z"
   },
   {
    "duration": 73,
    "start_time": "2023-08-01T03:52:38.255Z"
   },
   {
    "duration": 29,
    "start_time": "2023-08-01T03:52:38.329Z"
   },
   {
    "duration": 37,
    "start_time": "2023-08-01T03:52:38.362Z"
   },
   {
    "duration": 130,
    "start_time": "2023-08-01T03:52:38.401Z"
   },
   {
    "duration": 34,
    "start_time": "2023-08-01T03:52:38.533Z"
   },
   {
    "duration": 108,
    "start_time": "2023-08-01T03:52:38.568Z"
   },
   {
    "duration": 1248,
    "start_time": "2023-08-01T03:52:38.677Z"
   },
   {
    "duration": 66,
    "start_time": "2023-08-01T03:52:39.926Z"
   },
   {
    "duration": 9,
    "start_time": "2023-08-01T03:52:39.995Z"
   },
   {
    "duration": 30,
    "start_time": "2023-08-01T03:52:40.006Z"
   },
   {
    "duration": 130,
    "start_time": "2023-08-01T03:52:40.038Z"
   },
   {
    "duration": 24,
    "start_time": "2023-08-01T03:52:40.170Z"
   },
   {
    "duration": 7,
    "start_time": "2023-08-01T03:52:40.196Z"
   },
   {
    "duration": 26,
    "start_time": "2023-08-01T03:52:40.205Z"
   },
   {
    "duration": 20,
    "start_time": "2023-08-01T03:52:40.233Z"
   },
   {
    "duration": 136,
    "start_time": "2023-08-01T03:52:40.255Z"
   },
   {
    "duration": 451,
    "start_time": "2023-08-01T03:52:40.393Z"
   },
   {
    "duration": 116,
    "start_time": "2023-08-01T03:52:40.846Z"
   },
   {
    "duration": 4,
    "start_time": "2023-08-01T03:52:40.964Z"
   },
   {
    "duration": 32,
    "start_time": "2023-08-01T03:52:40.970Z"
   },
   {
    "duration": 332,
    "start_time": "2023-08-01T03:52:41.003Z"
   },
   {
    "duration": 104,
    "start_time": "2023-08-01T03:52:41.337Z"
   },
   {
    "duration": 4,
    "start_time": "2023-08-01T03:52:41.442Z"
   },
   {
    "duration": 13,
    "start_time": "2023-08-01T03:52:41.448Z"
   },
   {
    "duration": 35,
    "start_time": "2023-08-01T03:52:41.463Z"
   },
   {
    "duration": 12,
    "start_time": "2023-08-01T03:52:41.500Z"
   },
   {
    "duration": 9,
    "start_time": "2023-08-01T03:52:41.513Z"
   },
   {
    "duration": 19,
    "start_time": "2023-08-01T03:52:41.524Z"
   },
   {
    "duration": 3,
    "start_time": "2023-08-01T03:52:41.545Z"
   },
   {
    "duration": 38,
    "start_time": "2023-08-01T03:52:41.550Z"
   },
   {
    "duration": 7,
    "start_time": "2023-08-01T03:52:41.590Z"
   },
   {
    "duration": 61,
    "start_time": "2023-08-01T03:52:41.599Z"
   },
   {
    "duration": 84,
    "start_time": "2023-08-01T03:52:41.661Z"
   },
   {
    "duration": 3,
    "start_time": "2023-08-01T03:52:41.746Z"
   },
   {
    "duration": 5,
    "start_time": "2023-08-01T03:52:41.751Z"
   },
   {
    "duration": 41,
    "start_time": "2023-08-01T03:52:41.758Z"
   },
   {
    "duration": 8,
    "start_time": "2023-08-01T03:52:41.801Z"
   },
   {
    "duration": 605,
    "start_time": "2023-08-01T03:52:41.810Z"
   },
   {
    "duration": 52,
    "start_time": "2023-08-01T04:36:49.431Z"
   },
   {
    "duration": 1266,
    "start_time": "2023-08-01T04:38:39.447Z"
   },
   {
    "duration": 270,
    "start_time": "2023-08-01T04:38:40.715Z"
   },
   {
    "duration": 4,
    "start_time": "2023-08-01T04:38:40.987Z"
   },
   {
    "duration": 557,
    "start_time": "2023-08-01T04:38:40.993Z"
   },
   {
    "duration": 100,
    "start_time": "2023-08-01T04:38:41.554Z"
   },
   {
    "duration": 54,
    "start_time": "2023-08-01T04:38:41.657Z"
   },
   {
    "duration": 74,
    "start_time": "2023-08-01T04:38:41.713Z"
   },
   {
    "duration": 35,
    "start_time": "2023-08-01T04:38:41.789Z"
   },
   {
    "duration": 36,
    "start_time": "2023-08-01T04:38:41.825Z"
   },
   {
    "duration": 38,
    "start_time": "2023-08-01T04:38:41.863Z"
   },
   {
    "duration": 16,
    "start_time": "2023-08-01T04:38:41.903Z"
   },
   {
    "duration": 26,
    "start_time": "2023-08-01T04:38:41.921Z"
   },
   {
    "duration": 34,
    "start_time": "2023-08-01T04:38:41.949Z"
   },
   {
    "duration": 29,
    "start_time": "2023-08-01T04:38:41.987Z"
   },
   {
    "duration": 35,
    "start_time": "2023-08-01T04:38:42.018Z"
   },
   {
    "duration": 19,
    "start_time": "2023-08-01T04:38:42.055Z"
   },
   {
    "duration": 33,
    "start_time": "2023-08-01T04:38:42.075Z"
   },
   {
    "duration": 24,
    "start_time": "2023-08-01T04:38:42.111Z"
   },
   {
    "duration": 29,
    "start_time": "2023-08-01T04:38:42.137Z"
   },
   {
    "duration": 30,
    "start_time": "2023-08-01T04:38:42.168Z"
   },
   {
    "duration": 45,
    "start_time": "2023-08-01T04:38:42.201Z"
   },
   {
    "duration": 99,
    "start_time": "2023-08-01T04:38:42.248Z"
   },
   {
    "duration": 103,
    "start_time": "2023-08-01T04:38:42.349Z"
   },
   {
    "duration": 54,
    "start_time": "2023-08-01T04:38:42.455Z"
   },
   {
    "duration": 102,
    "start_time": "2023-08-01T04:38:42.511Z"
   },
   {
    "duration": 111,
    "start_time": "2023-08-01T04:38:42.616Z"
   },
   {
    "duration": 37,
    "start_time": "2023-08-01T04:38:42.729Z"
   },
   {
    "duration": 51,
    "start_time": "2023-08-01T04:38:42.769Z"
   },
   {
    "duration": 151,
    "start_time": "2023-08-01T04:38:42.823Z"
   },
   {
    "duration": 34,
    "start_time": "2023-08-01T04:38:42.976Z"
   },
   {
    "duration": 118,
    "start_time": "2023-08-01T04:38:43.012Z"
   },
   {
    "duration": 1280,
    "start_time": "2023-08-01T04:38:43.132Z"
   },
   {
    "duration": 60,
    "start_time": "2023-08-01T04:38:44.413Z"
   },
   {
    "duration": 21,
    "start_time": "2023-08-01T04:38:44.475Z"
   },
   {
    "duration": 53,
    "start_time": "2023-08-01T04:38:44.498Z"
   },
   {
    "duration": 177,
    "start_time": "2023-08-01T04:38:44.553Z"
   },
   {
    "duration": 23,
    "start_time": "2023-08-01T04:38:44.733Z"
   },
   {
    "duration": 34,
    "start_time": "2023-08-01T04:38:44.759Z"
   },
   {
    "duration": 48,
    "start_time": "2023-08-01T04:38:44.795Z"
   },
   {
    "duration": 175,
    "start_time": "2023-08-01T04:38:44.849Z"
   },
   {
    "duration": 508,
    "start_time": "2023-08-01T04:38:45.029Z"
   },
   {
    "duration": 118,
    "start_time": "2023-08-01T04:38:45.538Z"
   },
   {
    "duration": 3,
    "start_time": "2023-08-01T04:38:45.658Z"
   },
   {
    "duration": 41,
    "start_time": "2023-08-01T04:38:45.663Z"
   },
   {
    "duration": 341,
    "start_time": "2023-08-01T04:38:45.708Z"
   },
   {
    "duration": 103,
    "start_time": "2023-08-01T04:38:46.051Z"
   },
   {
    "duration": 4,
    "start_time": "2023-08-01T04:38:46.156Z"
   },
   {
    "duration": 29,
    "start_time": "2023-08-01T04:38:46.162Z"
   },
   {
    "duration": 47,
    "start_time": "2023-08-01T04:38:46.193Z"
   },
   {
    "duration": 63,
    "start_time": "2023-08-01T04:38:46.243Z"
   },
   {
    "duration": 24,
    "start_time": "2023-08-01T04:38:46.308Z"
   },
   {
    "duration": 64,
    "start_time": "2023-08-01T04:38:46.334Z"
   },
   {
    "duration": 9,
    "start_time": "2023-08-01T04:38:46.400Z"
   },
   {
    "duration": 36,
    "start_time": "2023-08-01T04:38:46.410Z"
   },
   {
    "duration": 62,
    "start_time": "2023-08-01T04:38:46.448Z"
   },
   {
    "duration": 96,
    "start_time": "2023-08-01T04:38:46.513Z"
   },
   {
    "duration": 95,
    "start_time": "2023-08-01T04:38:46.610Z"
   },
   {
    "duration": 3,
    "start_time": "2023-08-01T04:38:46.707Z"
   },
   {
    "duration": 23,
    "start_time": "2023-08-01T04:38:46.711Z"
   },
   {
    "duration": 68,
    "start_time": "2023-08-01T04:38:46.736Z"
   },
   {
    "duration": 16,
    "start_time": "2023-08-01T04:38:46.806Z"
   },
   {
    "duration": 645,
    "start_time": "2023-08-01T04:38:46.824Z"
   },
   {
    "duration": 63,
    "start_time": "2023-08-01T04:41:05.794Z"
   },
   {
    "duration": 1620,
    "start_time": "2023-08-01T04:44:22.382Z"
   },
   {
    "duration": 263,
    "start_time": "2023-08-01T04:44:24.005Z"
   },
   {
    "duration": 4,
    "start_time": "2023-08-01T04:44:24.269Z"
   },
   {
    "duration": 539,
    "start_time": "2023-08-01T04:44:24.274Z"
   },
   {
    "duration": 90,
    "start_time": "2023-08-01T04:44:24.816Z"
   },
   {
    "duration": 33,
    "start_time": "2023-08-01T04:44:24.908Z"
   },
   {
    "duration": 61,
    "start_time": "2023-08-01T04:44:24.942Z"
   },
   {
    "duration": 26,
    "start_time": "2023-08-01T04:44:25.005Z"
   },
   {
    "duration": 16,
    "start_time": "2023-08-01T04:44:25.033Z"
   },
   {
    "duration": 40,
    "start_time": "2023-08-01T04:44:25.050Z"
   },
   {
    "duration": 11,
    "start_time": "2023-08-01T04:44:25.092Z"
   },
   {
    "duration": 15,
    "start_time": "2023-08-01T04:44:25.104Z"
   },
   {
    "duration": 18,
    "start_time": "2023-08-01T04:44:25.120Z"
   },
   {
    "duration": 9,
    "start_time": "2023-08-01T04:44:25.140Z"
   },
   {
    "duration": 44,
    "start_time": "2023-08-01T04:44:25.151Z"
   },
   {
    "duration": 9,
    "start_time": "2023-08-01T04:44:25.197Z"
   },
   {
    "duration": 17,
    "start_time": "2023-08-01T04:44:25.207Z"
   },
   {
    "duration": 15,
    "start_time": "2023-08-01T04:44:25.225Z"
   },
   {
    "duration": 9,
    "start_time": "2023-08-01T04:44:25.242Z"
   },
   {
    "duration": 45,
    "start_time": "2023-08-01T04:44:25.253Z"
   },
   {
    "duration": 33,
    "start_time": "2023-08-01T04:44:25.300Z"
   },
   {
    "duration": 93,
    "start_time": "2023-08-01T04:44:25.334Z"
   },
   {
    "duration": 77,
    "start_time": "2023-08-01T04:44:25.429Z"
   },
   {
    "duration": 33,
    "start_time": "2023-08-01T04:44:25.508Z"
   },
   {
    "duration": 136,
    "start_time": "2023-08-01T04:44:25.543Z"
   },
   {
    "duration": 61,
    "start_time": "2023-08-01T04:44:25.681Z"
   },
   {
    "duration": 45,
    "start_time": "2023-08-01T04:44:25.744Z"
   },
   {
    "duration": 117,
    "start_time": "2023-08-01T04:44:25.791Z"
   },
   {
    "duration": 289,
    "start_time": "2023-08-01T04:44:25.909Z"
   },
   {
    "duration": 66,
    "start_time": "2023-08-01T04:44:26.199Z"
   },
   {
    "duration": 153,
    "start_time": "2023-08-01T04:44:26.266Z"
   },
   {
    "duration": 1224,
    "start_time": "2023-08-01T04:44:26.420Z"
   },
   {
    "duration": 71,
    "start_time": "2023-08-01T04:44:27.646Z"
   },
   {
    "duration": 8,
    "start_time": "2023-08-01T04:44:27.719Z"
   },
   {
    "duration": 31,
    "start_time": "2023-08-01T04:44:27.728Z"
   },
   {
    "duration": 156,
    "start_time": "2023-08-01T04:44:27.761Z"
   },
   {
    "duration": 21,
    "start_time": "2023-08-01T04:44:27.919Z"
   },
   {
    "duration": 17,
    "start_time": "2023-08-01T04:44:27.942Z"
   },
   {
    "duration": 36,
    "start_time": "2023-08-01T04:44:27.961Z"
   },
   {
    "duration": 127,
    "start_time": "2023-08-01T04:44:27.999Z"
   },
   {
    "duration": 502,
    "start_time": "2023-08-01T04:44:28.130Z"
   },
   {
    "duration": 115,
    "start_time": "2023-08-01T04:44:28.634Z"
   },
   {
    "duration": 4,
    "start_time": "2023-08-01T04:44:28.750Z"
   },
   {
    "duration": 14,
    "start_time": "2023-08-01T04:44:28.756Z"
   },
   {
    "duration": 347,
    "start_time": "2023-08-01T04:44:28.772Z"
   },
   {
    "duration": 103,
    "start_time": "2023-08-01T04:44:29.120Z"
   },
   {
    "duration": 4,
    "start_time": "2023-08-01T04:44:29.225Z"
   },
   {
    "duration": 19,
    "start_time": "2023-08-01T04:44:29.230Z"
   },
   {
    "duration": 13,
    "start_time": "2023-08-01T04:44:29.250Z"
   },
   {
    "duration": 13,
    "start_time": "2023-08-01T04:44:29.265Z"
   },
   {
    "duration": 35,
    "start_time": "2023-08-01T04:44:29.287Z"
   },
   {
    "duration": 55,
    "start_time": "2023-08-01T04:44:29.323Z"
   },
   {
    "duration": 34,
    "start_time": "2023-08-01T04:44:29.379Z"
   },
   {
    "duration": 10,
    "start_time": "2023-08-01T04:44:29.415Z"
   },
   {
    "duration": 19,
    "start_time": "2023-08-01T04:44:29.426Z"
   },
   {
    "duration": 64,
    "start_time": "2023-08-01T04:44:29.447Z"
   },
   {
    "duration": 82,
    "start_time": "2023-08-01T04:44:29.513Z"
   },
   {
    "duration": 2,
    "start_time": "2023-08-01T04:44:29.597Z"
   },
   {
    "duration": 5,
    "start_time": "2023-08-01T04:44:29.601Z"
   },
   {
    "duration": 20,
    "start_time": "2023-08-01T04:44:29.608Z"
   },
   {
    "duration": 8,
    "start_time": "2023-08-01T04:44:29.630Z"
   },
   {
    "duration": 628,
    "start_time": "2023-08-01T04:44:29.640Z"
   },
   {
    "duration": 15,
    "start_time": "2023-08-02T22:23:47.351Z"
   },
   {
    "duration": 61,
    "start_time": "2023-08-02T22:23:52.243Z"
   },
   {
    "duration": 7,
    "start_time": "2023-08-02T22:23:53.309Z"
   },
   {
    "duration": 1625,
    "start_time": "2023-08-02T23:02:29.383Z"
   },
   {
    "duration": 658,
    "start_time": "2023-08-02T23:02:31.010Z"
   },
   {
    "duration": 4,
    "start_time": "2023-08-02T23:02:31.669Z"
   },
   {
    "duration": 558,
    "start_time": "2023-08-02T23:02:31.675Z"
   },
   {
    "duration": 91,
    "start_time": "2023-08-02T23:02:32.236Z"
   },
   {
    "duration": 66,
    "start_time": "2023-08-02T23:02:32.330Z"
   },
   {
    "duration": 41,
    "start_time": "2023-08-02T23:02:32.398Z"
   },
   {
    "duration": 50,
    "start_time": "2023-08-02T23:02:32.441Z"
   },
   {
    "duration": 38,
    "start_time": "2023-08-02T23:02:32.494Z"
   },
   {
    "duration": 32,
    "start_time": "2023-08-02T23:02:32.534Z"
   },
   {
    "duration": 35,
    "start_time": "2023-08-02T23:02:32.568Z"
   },
   {
    "duration": 25,
    "start_time": "2023-08-02T23:02:32.605Z"
   },
   {
    "duration": 51,
    "start_time": "2023-08-02T23:02:32.633Z"
   },
   {
    "duration": 39,
    "start_time": "2023-08-02T23:02:32.687Z"
   },
   {
    "duration": 39,
    "start_time": "2023-08-02T23:02:32.728Z"
   },
   {
    "duration": 123,
    "start_time": "2023-08-02T23:02:32.769Z"
   },
   {
    "duration": 202,
    "start_time": "2023-08-02T23:02:32.894Z"
   },
   {
    "duration": 118,
    "start_time": "2023-08-02T23:02:33.098Z"
   },
   {
    "duration": 43,
    "start_time": "2023-08-02T23:02:33.218Z"
   },
   {
    "duration": 110,
    "start_time": "2023-08-02T23:02:33.263Z"
   },
   {
    "duration": 102,
    "start_time": "2023-08-02T23:02:33.375Z"
   },
   {
    "duration": 242,
    "start_time": "2023-08-02T23:02:33.479Z"
   },
   {
    "duration": 92,
    "start_time": "2023-08-02T23:02:33.723Z"
   },
   {
    "duration": 128,
    "start_time": "2023-08-02T23:02:33.817Z"
   },
   {
    "duration": 68,
    "start_time": "2023-08-02T23:02:33.947Z"
   },
   {
    "duration": 34,
    "start_time": "2023-08-02T23:02:34.017Z"
   },
   {
    "duration": 76,
    "start_time": "2023-08-02T23:02:34.053Z"
   },
   {
    "duration": 150,
    "start_time": "2023-08-02T23:02:34.131Z"
   },
   {
    "duration": 37,
    "start_time": "2023-08-02T23:02:34.283Z"
   },
   {
    "duration": 123,
    "start_time": "2023-08-02T23:02:34.321Z"
   },
   {
    "duration": 113,
    "start_time": "2023-08-02T23:02:34.447Z"
   },
   {
    "duration": 0,
    "start_time": "2023-08-02T23:02:34.563Z"
   },
   {
    "duration": 0,
    "start_time": "2023-08-02T23:02:34.565Z"
   },
   {
    "duration": 0,
    "start_time": "2023-08-02T23:02:34.567Z"
   },
   {
    "duration": 0,
    "start_time": "2023-08-02T23:02:34.568Z"
   },
   {
    "duration": 0,
    "start_time": "2023-08-02T23:02:34.570Z"
   },
   {
    "duration": 0,
    "start_time": "2023-08-02T23:02:34.588Z"
   },
   {
    "duration": 0,
    "start_time": "2023-08-02T23:02:34.589Z"
   },
   {
    "duration": 0,
    "start_time": "2023-08-02T23:02:34.591Z"
   },
   {
    "duration": 0,
    "start_time": "2023-08-02T23:02:34.592Z"
   },
   {
    "duration": 0,
    "start_time": "2023-08-02T23:02:34.593Z"
   },
   {
    "duration": 0,
    "start_time": "2023-08-02T23:02:34.595Z"
   },
   {
    "duration": 0,
    "start_time": "2023-08-02T23:02:34.596Z"
   },
   {
    "duration": 0,
    "start_time": "2023-08-02T23:02:34.597Z"
   },
   {
    "duration": 0,
    "start_time": "2023-08-02T23:02:34.598Z"
   },
   {
    "duration": 0,
    "start_time": "2023-08-02T23:02:34.599Z"
   },
   {
    "duration": 0,
    "start_time": "2023-08-02T23:02:34.601Z"
   },
   {
    "duration": 0,
    "start_time": "2023-08-02T23:02:34.602Z"
   },
   {
    "duration": 0,
    "start_time": "2023-08-02T23:02:34.603Z"
   },
   {
    "duration": 0,
    "start_time": "2023-08-02T23:02:34.604Z"
   },
   {
    "duration": 0,
    "start_time": "2023-08-02T23:02:34.605Z"
   },
   {
    "duration": 0,
    "start_time": "2023-08-02T23:02:34.606Z"
   },
   {
    "duration": 0,
    "start_time": "2023-08-02T23:02:34.607Z"
   },
   {
    "duration": 0,
    "start_time": "2023-08-02T23:02:34.609Z"
   },
   {
    "duration": 0,
    "start_time": "2023-08-02T23:02:34.610Z"
   },
   {
    "duration": 0,
    "start_time": "2023-08-02T23:02:34.611Z"
   },
   {
    "duration": 0,
    "start_time": "2023-08-02T23:02:34.612Z"
   },
   {
    "duration": 0,
    "start_time": "2023-08-02T23:02:34.613Z"
   },
   {
    "duration": 0,
    "start_time": "2023-08-02T23:02:34.614Z"
   },
   {
    "duration": 0,
    "start_time": "2023-08-02T23:02:34.615Z"
   },
   {
    "duration": 0,
    "start_time": "2023-08-02T23:02:34.616Z"
   },
   {
    "duration": 0,
    "start_time": "2023-08-02T23:02:34.618Z"
   },
   {
    "duration": 0,
    "start_time": "2023-08-02T23:02:34.619Z"
   },
   {
    "duration": 0,
    "start_time": "2023-08-02T23:02:34.620Z"
   },
   {
    "duration": 0,
    "start_time": "2023-08-02T23:02:34.621Z"
   },
   {
    "duration": 24,
    "start_time": "2023-08-02T23:03:43.507Z"
   },
   {
    "duration": 48,
    "start_time": "2023-08-02T23:04:02.677Z"
   },
   {
    "duration": 1346,
    "start_time": "2023-08-02T23:05:52.314Z"
   },
   {
    "duration": 300,
    "start_time": "2023-08-02T23:05:53.663Z"
   },
   {
    "duration": 3,
    "start_time": "2023-08-02T23:05:53.966Z"
   },
   {
    "duration": 584,
    "start_time": "2023-08-02T23:05:53.971Z"
   },
   {
    "duration": 66,
    "start_time": "2023-08-02T23:05:54.556Z"
   },
   {
    "duration": 66,
    "start_time": "2023-08-02T23:05:54.625Z"
   },
   {
    "duration": 48,
    "start_time": "2023-08-02T23:05:54.694Z"
   },
   {
    "duration": 48,
    "start_time": "2023-08-02T23:05:54.743Z"
   },
   {
    "duration": 19,
    "start_time": "2023-08-02T23:05:54.794Z"
   },
   {
    "duration": 41,
    "start_time": "2023-08-02T23:05:54.816Z"
   },
   {
    "duration": 51,
    "start_time": "2023-08-02T23:05:54.860Z"
   },
   {
    "duration": 44,
    "start_time": "2023-08-02T23:05:54.914Z"
   },
   {
    "duration": 30,
    "start_time": "2023-08-02T23:05:54.960Z"
   },
   {
    "duration": 42,
    "start_time": "2023-08-02T23:05:54.992Z"
   },
   {
    "duration": 48,
    "start_time": "2023-08-02T23:05:55.037Z"
   },
   {
    "duration": 20,
    "start_time": "2023-08-02T23:05:55.098Z"
   },
   {
    "duration": 42,
    "start_time": "2023-08-02T23:05:55.120Z"
   },
   {
    "duration": 19,
    "start_time": "2023-08-02T23:05:55.164Z"
   },
   {
    "duration": 31,
    "start_time": "2023-08-02T23:05:55.185Z"
   },
   {
    "duration": 29,
    "start_time": "2023-08-02T23:05:55.218Z"
   },
   {
    "duration": 40,
    "start_time": "2023-08-02T23:05:55.249Z"
   },
   {
    "duration": 98,
    "start_time": "2023-08-02T23:05:55.291Z"
   },
   {
    "duration": 80,
    "start_time": "2023-08-02T23:05:55.391Z"
   },
   {
    "duration": 88,
    "start_time": "2023-08-02T23:05:55.473Z"
   },
   {
    "duration": 80,
    "start_time": "2023-08-02T23:05:55.564Z"
   },
   {
    "duration": 45,
    "start_time": "2023-08-02T23:05:55.646Z"
   },
   {
    "duration": 34,
    "start_time": "2023-08-02T23:05:55.693Z"
   },
   {
    "duration": 190,
    "start_time": "2023-08-02T23:05:55.731Z"
   },
   {
    "duration": 34,
    "start_time": "2023-08-02T23:05:55.923Z"
   },
   {
    "duration": 133,
    "start_time": "2023-08-02T23:05:55.959Z"
   },
   {
    "duration": 173,
    "start_time": "2023-08-02T23:05:56.095Z"
   },
   {
    "duration": 0,
    "start_time": "2023-08-02T23:05:56.271Z"
   },
   {
    "duration": 0,
    "start_time": "2023-08-02T23:05:56.273Z"
   },
   {
    "duration": 0,
    "start_time": "2023-08-02T23:05:56.274Z"
   },
   {
    "duration": 0,
    "start_time": "2023-08-02T23:05:56.275Z"
   },
   {
    "duration": 0,
    "start_time": "2023-08-02T23:05:56.287Z"
   },
   {
    "duration": 0,
    "start_time": "2023-08-02T23:05:56.288Z"
   },
   {
    "duration": 0,
    "start_time": "2023-08-02T23:05:56.289Z"
   },
   {
    "duration": 0,
    "start_time": "2023-08-02T23:05:56.291Z"
   },
   {
    "duration": 0,
    "start_time": "2023-08-02T23:05:56.292Z"
   },
   {
    "duration": 0,
    "start_time": "2023-08-02T23:05:56.292Z"
   },
   {
    "duration": 0,
    "start_time": "2023-08-02T23:05:56.294Z"
   },
   {
    "duration": 0,
    "start_time": "2023-08-02T23:05:56.295Z"
   },
   {
    "duration": 0,
    "start_time": "2023-08-02T23:05:56.296Z"
   },
   {
    "duration": 0,
    "start_time": "2023-08-02T23:05:56.297Z"
   },
   {
    "duration": 0,
    "start_time": "2023-08-02T23:05:56.299Z"
   },
   {
    "duration": 0,
    "start_time": "2023-08-02T23:05:56.300Z"
   },
   {
    "duration": 0,
    "start_time": "2023-08-02T23:05:56.301Z"
   },
   {
    "duration": 0,
    "start_time": "2023-08-02T23:05:56.305Z"
   },
   {
    "duration": 0,
    "start_time": "2023-08-02T23:05:56.306Z"
   },
   {
    "duration": 0,
    "start_time": "2023-08-02T23:05:56.308Z"
   },
   {
    "duration": 0,
    "start_time": "2023-08-02T23:05:56.309Z"
   },
   {
    "duration": 0,
    "start_time": "2023-08-02T23:05:56.311Z"
   },
   {
    "duration": 0,
    "start_time": "2023-08-02T23:05:56.312Z"
   },
   {
    "duration": 0,
    "start_time": "2023-08-02T23:05:56.313Z"
   },
   {
    "duration": 0,
    "start_time": "2023-08-02T23:05:56.314Z"
   },
   {
    "duration": 0,
    "start_time": "2023-08-02T23:05:56.316Z"
   },
   {
    "duration": 0,
    "start_time": "2023-08-02T23:05:56.317Z"
   },
   {
    "duration": 0,
    "start_time": "2023-08-02T23:05:56.318Z"
   },
   {
    "duration": 0,
    "start_time": "2023-08-02T23:05:56.319Z"
   },
   {
    "duration": 0,
    "start_time": "2023-08-02T23:05:56.321Z"
   },
   {
    "duration": 0,
    "start_time": "2023-08-02T23:05:56.322Z"
   },
   {
    "duration": 0,
    "start_time": "2023-08-02T23:05:56.323Z"
   },
   {
    "duration": 0,
    "start_time": "2023-08-02T23:05:56.324Z"
   },
   {
    "duration": 0,
    "start_time": "2023-08-02T23:05:56.325Z"
   },
   {
    "duration": 54,
    "start_time": "2023-08-02T23:06:28.303Z"
   },
   {
    "duration": 645,
    "start_time": "2023-08-02T23:10:06.204Z"
   },
   {
    "duration": 13,
    "start_time": "2023-08-02T23:10:23.888Z"
   },
   {
    "duration": 1340,
    "start_time": "2023-08-02T23:10:35.633Z"
   },
   {
    "duration": 283,
    "start_time": "2023-08-02T23:10:36.975Z"
   },
   {
    "duration": 5,
    "start_time": "2023-08-02T23:10:37.260Z"
   },
   {
    "duration": 608,
    "start_time": "2023-08-02T23:10:37.267Z"
   },
   {
    "duration": 67,
    "start_time": "2023-08-02T23:10:37.878Z"
   },
   {
    "duration": 61,
    "start_time": "2023-08-02T23:10:37.947Z"
   },
   {
    "duration": 720,
    "start_time": "2023-08-02T23:10:38.012Z"
   },
   {
    "duration": 41,
    "start_time": "2023-08-02T23:10:38.734Z"
   },
   {
    "duration": 25,
    "start_time": "2023-08-02T23:10:38.789Z"
   },
   {
    "duration": 33,
    "start_time": "2023-08-02T23:10:38.816Z"
   },
   {
    "duration": 19,
    "start_time": "2023-08-02T23:10:38.851Z"
   },
   {
    "duration": 29,
    "start_time": "2023-08-02T23:10:38.872Z"
   },
   {
    "duration": 32,
    "start_time": "2023-08-02T23:10:38.903Z"
   },
   {
    "duration": 17,
    "start_time": "2023-08-02T23:10:38.940Z"
   },
   {
    "duration": 40,
    "start_time": "2023-08-02T23:10:38.959Z"
   },
   {
    "duration": 16,
    "start_time": "2023-08-02T23:10:39.002Z"
   },
   {
    "duration": 16,
    "start_time": "2023-08-02T23:10:39.020Z"
   },
   {
    "duration": 63,
    "start_time": "2023-08-02T23:10:39.038Z"
   },
   {
    "duration": 14,
    "start_time": "2023-08-02T23:10:39.103Z"
   },
   {
    "duration": 13,
    "start_time": "2023-08-02T23:10:39.119Z"
   },
   {
    "duration": 57,
    "start_time": "2023-08-02T23:10:39.134Z"
   },
   {
    "duration": 73,
    "start_time": "2023-08-02T23:10:39.192Z"
   },
   {
    "duration": 89,
    "start_time": "2023-08-02T23:10:39.267Z"
   },
   {
    "duration": 90,
    "start_time": "2023-08-02T23:10:39.358Z"
   },
   {
    "duration": 84,
    "start_time": "2023-08-02T23:10:39.450Z"
   },
   {
    "duration": 36,
    "start_time": "2023-08-02T23:10:39.536Z"
   },
   {
    "duration": 37,
    "start_time": "2023-08-02T23:10:39.574Z"
   },
   {
    "duration": 207,
    "start_time": "2023-08-02T23:10:39.614Z"
   },
   {
    "duration": 43,
    "start_time": "2023-08-02T23:10:39.824Z"
   },
   {
    "duration": 131,
    "start_time": "2023-08-02T23:10:39.869Z"
   },
   {
    "duration": 1393,
    "start_time": "2023-08-02T23:10:40.003Z"
   },
   {
    "duration": 1740,
    "start_time": "2023-08-02T23:10:41.398Z"
   },
   {
    "duration": 88,
    "start_time": "2023-08-02T23:10:43.140Z"
   },
   {
    "duration": 11,
    "start_time": "2023-08-02T23:10:43.230Z"
   },
   {
    "duration": 9,
    "start_time": "2023-08-02T23:10:43.243Z"
   },
   {
    "duration": 157,
    "start_time": "2023-08-02T23:10:43.253Z"
   },
   {
    "duration": 17,
    "start_time": "2023-08-02T23:10:43.412Z"
   },
   {
    "duration": 13,
    "start_time": "2023-08-02T23:10:43.431Z"
   },
   {
    "duration": 42,
    "start_time": "2023-08-02T23:10:43.446Z"
   },
   {
    "duration": 134,
    "start_time": "2023-08-02T23:10:43.490Z"
   },
   {
    "duration": 106,
    "start_time": "2023-08-02T23:10:43.628Z"
   },
   {
    "duration": 0,
    "start_time": "2023-08-02T23:10:43.736Z"
   },
   {
    "duration": 0,
    "start_time": "2023-08-02T23:10:43.737Z"
   },
   {
    "duration": 0,
    "start_time": "2023-08-02T23:10:43.738Z"
   },
   {
    "duration": 0,
    "start_time": "2023-08-02T23:10:43.739Z"
   },
   {
    "duration": 0,
    "start_time": "2023-08-02T23:10:43.740Z"
   },
   {
    "duration": 0,
    "start_time": "2023-08-02T23:10:43.742Z"
   },
   {
    "duration": 0,
    "start_time": "2023-08-02T23:10:43.743Z"
   },
   {
    "duration": 0,
    "start_time": "2023-08-02T23:10:43.744Z"
   },
   {
    "duration": 0,
    "start_time": "2023-08-02T23:10:43.746Z"
   },
   {
    "duration": 0,
    "start_time": "2023-08-02T23:10:43.746Z"
   },
   {
    "duration": 0,
    "start_time": "2023-08-02T23:10:43.747Z"
   },
   {
    "duration": 0,
    "start_time": "2023-08-02T23:10:43.748Z"
   },
   {
    "duration": 0,
    "start_time": "2023-08-02T23:10:43.749Z"
   },
   {
    "duration": 0,
    "start_time": "2023-08-02T23:10:43.750Z"
   },
   {
    "duration": 0,
    "start_time": "2023-08-02T23:10:43.751Z"
   },
   {
    "duration": 0,
    "start_time": "2023-08-02T23:10:43.752Z"
   },
   {
    "duration": 0,
    "start_time": "2023-08-02T23:10:43.754Z"
   },
   {
    "duration": 0,
    "start_time": "2023-08-02T23:10:43.755Z"
   },
   {
    "duration": 0,
    "start_time": "2023-08-02T23:10:43.756Z"
   },
   {
    "duration": 0,
    "start_time": "2023-08-02T23:10:43.758Z"
   },
   {
    "duration": 0,
    "start_time": "2023-08-02T23:10:43.759Z"
   },
   {
    "duration": 0,
    "start_time": "2023-08-02T23:10:43.760Z"
   },
   {
    "duration": 0,
    "start_time": "2023-08-02T23:10:43.761Z"
   },
   {
    "duration": 0,
    "start_time": "2023-08-02T23:10:43.762Z"
   },
   {
    "duration": 28,
    "start_time": "2023-08-02T23:11:35.109Z"
   },
   {
    "duration": 25,
    "start_time": "2023-08-02T23:13:30.813Z"
   },
   {
    "duration": 107,
    "start_time": "2023-08-02T23:16:42.860Z"
   },
   {
    "duration": 6,
    "start_time": "2023-08-02T23:17:12.224Z"
   },
   {
    "duration": 8,
    "start_time": "2023-08-02T23:17:19.256Z"
   },
   {
    "duration": 6,
    "start_time": "2023-08-02T23:17:47.467Z"
   },
   {
    "duration": 15,
    "start_time": "2023-08-02T23:17:54.800Z"
   },
   {
    "duration": 1436,
    "start_time": "2023-08-02T23:17:55.507Z"
   },
   {
    "duration": 1336,
    "start_time": "2023-08-02T23:24:23.643Z"
   },
   {
    "duration": 1503,
    "start_time": "2023-08-02T23:24:36.792Z"
   },
   {
    "duration": 10,
    "start_time": "2023-08-02T23:47:27.307Z"
   },
   {
    "duration": 3,
    "start_time": "2023-08-02T23:47:33.081Z"
   },
   {
    "duration": 4,
    "start_time": "2023-08-02T23:47:50.421Z"
   },
   {
    "duration": 29,
    "start_time": "2023-08-02T23:57:45.173Z"
   },
   {
    "duration": 27,
    "start_time": "2023-08-03T00:00:20.496Z"
   },
   {
    "duration": 31,
    "start_time": "2023-08-03T00:01:37.932Z"
   },
   {
    "duration": 1384,
    "start_time": "2023-08-03T00:02:10.241Z"
   },
   {
    "duration": 284,
    "start_time": "2023-08-03T00:02:11.627Z"
   },
   {
    "duration": 3,
    "start_time": "2023-08-03T00:02:11.913Z"
   },
   {
    "duration": 525,
    "start_time": "2023-08-03T00:02:11.918Z"
   },
   {
    "duration": 73,
    "start_time": "2023-08-03T00:02:12.445Z"
   },
   {
    "duration": 31,
    "start_time": "2023-08-03T00:02:12.519Z"
   },
   {
    "duration": 585,
    "start_time": "2023-08-03T00:02:12.551Z"
   },
   {
    "duration": 32,
    "start_time": "2023-08-03T00:02:13.138Z"
   },
   {
    "duration": 54,
    "start_time": "2023-08-03T00:02:13.171Z"
   },
   {
    "duration": 40,
    "start_time": "2023-08-03T00:02:13.228Z"
   },
   {
    "duration": 49,
    "start_time": "2023-08-03T00:02:13.270Z"
   },
   {
    "duration": 38,
    "start_time": "2023-08-03T00:02:13.320Z"
   },
   {
    "duration": 64,
    "start_time": "2023-08-03T00:02:13.360Z"
   },
   {
    "duration": 47,
    "start_time": "2023-08-03T00:02:13.426Z"
   },
   {
    "duration": 56,
    "start_time": "2023-08-03T00:02:13.475Z"
   },
   {
    "duration": 43,
    "start_time": "2023-08-03T00:02:13.533Z"
   },
   {
    "duration": 52,
    "start_time": "2023-08-03T00:02:13.578Z"
   },
   {
    "duration": 71,
    "start_time": "2023-08-03T00:02:13.632Z"
   },
   {
    "duration": 43,
    "start_time": "2023-08-03T00:02:13.705Z"
   },
   {
    "duration": 57,
    "start_time": "2023-08-03T00:02:13.750Z"
   },
   {
    "duration": 61,
    "start_time": "2023-08-03T00:02:13.809Z"
   },
   {
    "duration": 92,
    "start_time": "2023-08-03T00:02:13.872Z"
   },
   {
    "duration": 75,
    "start_time": "2023-08-03T00:02:13.966Z"
   },
   {
    "duration": 82,
    "start_time": "2023-08-03T00:02:14.042Z"
   },
   {
    "duration": 80,
    "start_time": "2023-08-03T00:02:14.126Z"
   },
   {
    "duration": 32,
    "start_time": "2023-08-03T00:02:14.208Z"
   },
   {
    "duration": 44,
    "start_time": "2023-08-03T00:02:14.242Z"
   },
   {
    "duration": 141,
    "start_time": "2023-08-03T00:02:14.303Z"
   },
   {
    "duration": 48,
    "start_time": "2023-08-03T00:02:14.445Z"
   },
   {
    "duration": 149,
    "start_time": "2023-08-03T00:02:14.496Z"
   },
   {
    "duration": 1304,
    "start_time": "2023-08-03T00:02:14.648Z"
   },
   {
    "duration": 12,
    "start_time": "2023-08-03T00:02:15.954Z"
   },
   {
    "duration": 1562,
    "start_time": "2023-08-03T00:02:15.968Z"
   },
   {
    "duration": 1294,
    "start_time": "2023-08-03T00:02:17.532Z"
   },
   {
    "duration": 75,
    "start_time": "2023-08-03T00:02:18.828Z"
   },
   {
    "duration": 9,
    "start_time": "2023-08-03T00:02:18.906Z"
   },
   {
    "duration": 40,
    "start_time": "2023-08-03T00:02:18.916Z"
   },
   {
    "duration": 160,
    "start_time": "2023-08-03T00:02:18.957Z"
   },
   {
    "duration": 15,
    "start_time": "2023-08-03T00:02:19.119Z"
   },
   {
    "duration": 44,
    "start_time": "2023-08-03T00:02:19.136Z"
   },
   {
    "duration": 54,
    "start_time": "2023-08-03T00:02:19.181Z"
   },
   {
    "duration": 145,
    "start_time": "2023-08-03T00:02:19.237Z"
   },
   {
    "duration": 16,
    "start_time": "2023-08-03T00:02:19.384Z"
   },
   {
    "duration": 62,
    "start_time": "2023-08-03T00:02:19.401Z"
   },
   {
    "duration": 58,
    "start_time": "2023-08-03T00:02:19.464Z"
   },
   {
    "duration": 149,
    "start_time": "2023-08-03T00:02:19.523Z"
   },
   {
    "duration": 0,
    "start_time": "2023-08-03T00:02:19.674Z"
   },
   {
    "duration": 0,
    "start_time": "2023-08-03T00:02:19.675Z"
   },
   {
    "duration": 0,
    "start_time": "2023-08-03T00:02:19.676Z"
   },
   {
    "duration": 0,
    "start_time": "2023-08-03T00:02:19.677Z"
   },
   {
    "duration": 0,
    "start_time": "2023-08-03T00:02:19.678Z"
   },
   {
    "duration": 0,
    "start_time": "2023-08-03T00:02:19.689Z"
   },
   {
    "duration": 0,
    "start_time": "2023-08-03T00:02:19.696Z"
   },
   {
    "duration": 0,
    "start_time": "2023-08-03T00:02:19.699Z"
   },
   {
    "duration": 0,
    "start_time": "2023-08-03T00:02:19.700Z"
   },
   {
    "duration": 0,
    "start_time": "2023-08-03T00:02:19.702Z"
   },
   {
    "duration": 0,
    "start_time": "2023-08-03T00:02:19.821Z"
   },
   {
    "duration": 1,
    "start_time": "2023-08-03T00:02:19.822Z"
   },
   {
    "duration": 0,
    "start_time": "2023-08-03T00:02:19.824Z"
   },
   {
    "duration": 0,
    "start_time": "2023-08-03T00:02:19.825Z"
   },
   {
    "duration": 0,
    "start_time": "2023-08-03T00:02:19.826Z"
   },
   {
    "duration": 0,
    "start_time": "2023-08-03T00:02:19.827Z"
   },
   {
    "duration": 0,
    "start_time": "2023-08-03T00:02:19.828Z"
   },
   {
    "duration": 0,
    "start_time": "2023-08-03T00:02:19.829Z"
   },
   {
    "duration": 0,
    "start_time": "2023-08-03T00:02:19.830Z"
   },
   {
    "duration": 0,
    "start_time": "2023-08-03T00:02:19.831Z"
   },
   {
    "duration": 0,
    "start_time": "2023-08-03T00:02:19.832Z"
   },
   {
    "duration": 0,
    "start_time": "2023-08-03T00:02:19.834Z"
   },
   {
    "duration": 0,
    "start_time": "2023-08-03T00:02:19.835Z"
   },
   {
    "duration": 10,
    "start_time": "2023-08-03T00:08:47.630Z"
   },
   {
    "duration": 9,
    "start_time": "2023-08-03T00:08:54.152Z"
   },
   {
    "duration": 49,
    "start_time": "2023-08-03T00:09:12.888Z"
   },
   {
    "duration": 17,
    "start_time": "2023-08-03T00:15:14.827Z"
   },
   {
    "duration": 91,
    "start_time": "2023-08-03T00:17:24.075Z"
   },
   {
    "duration": 53,
    "start_time": "2023-08-03T00:18:51.900Z"
   },
   {
    "duration": 1379,
    "start_time": "2023-08-03T00:18:58.102Z"
   },
   {
    "duration": 332,
    "start_time": "2023-08-03T00:18:59.483Z"
   },
   {
    "duration": 5,
    "start_time": "2023-08-03T00:18:59.816Z"
   },
   {
    "duration": 544,
    "start_time": "2023-08-03T00:18:59.823Z"
   },
   {
    "duration": 69,
    "start_time": "2023-08-03T00:19:00.368Z"
   },
   {
    "duration": 28,
    "start_time": "2023-08-03T00:19:00.439Z"
   },
   {
    "duration": 597,
    "start_time": "2023-08-03T00:19:00.487Z"
   },
   {
    "duration": 41,
    "start_time": "2023-08-03T00:19:01.088Z"
   },
   {
    "duration": 74,
    "start_time": "2023-08-03T00:19:01.130Z"
   },
   {
    "duration": 62,
    "start_time": "2023-08-03T00:19:01.207Z"
   },
   {
    "duration": 60,
    "start_time": "2023-08-03T00:19:01.270Z"
   },
   {
    "duration": 97,
    "start_time": "2023-08-03T00:19:01.331Z"
   },
   {
    "duration": 208,
    "start_time": "2023-08-03T00:19:01.429Z"
   },
   {
    "duration": 37,
    "start_time": "2023-08-03T00:19:01.638Z"
   },
   {
    "duration": 32,
    "start_time": "2023-08-03T00:19:01.677Z"
   },
   {
    "duration": 38,
    "start_time": "2023-08-03T00:19:01.710Z"
   },
   {
    "duration": 59,
    "start_time": "2023-08-03T00:19:01.750Z"
   },
   {
    "duration": 69,
    "start_time": "2023-08-03T00:19:01.810Z"
   },
   {
    "duration": 24,
    "start_time": "2023-08-03T00:19:01.881Z"
   },
   {
    "duration": 34,
    "start_time": "2023-08-03T00:19:01.907Z"
   },
   {
    "duration": 55,
    "start_time": "2023-08-03T00:19:01.943Z"
   },
   {
    "duration": 90,
    "start_time": "2023-08-03T00:19:02.000Z"
   },
   {
    "duration": 71,
    "start_time": "2023-08-03T00:19:02.092Z"
   },
   {
    "duration": 105,
    "start_time": "2023-08-03T00:19:02.164Z"
   },
   {
    "duration": 80,
    "start_time": "2023-08-03T00:19:02.271Z"
   },
   {
    "duration": 50,
    "start_time": "2023-08-03T00:19:02.353Z"
   },
   {
    "duration": 25,
    "start_time": "2023-08-03T00:19:02.404Z"
   },
   {
    "duration": 139,
    "start_time": "2023-08-03T00:19:02.433Z"
   },
   {
    "duration": 56,
    "start_time": "2023-08-03T00:19:02.574Z"
   },
   {
    "duration": 158,
    "start_time": "2023-08-03T00:19:02.632Z"
   },
   {
    "duration": 0,
    "start_time": "2023-08-03T00:19:02.792Z"
   },
   {
    "duration": 0,
    "start_time": "2023-08-03T00:19:02.793Z"
   },
   {
    "duration": 0,
    "start_time": "2023-08-03T00:19:02.794Z"
   },
   {
    "duration": 0,
    "start_time": "2023-08-03T00:19:02.794Z"
   },
   {
    "duration": 0,
    "start_time": "2023-08-03T00:19:02.795Z"
   },
   {
    "duration": 0,
    "start_time": "2023-08-03T00:19:02.797Z"
   },
   {
    "duration": 1,
    "start_time": "2023-08-03T00:19:02.797Z"
   },
   {
    "duration": 0,
    "start_time": "2023-08-03T00:19:02.798Z"
   },
   {
    "duration": 0,
    "start_time": "2023-08-03T00:19:02.800Z"
   },
   {
    "duration": 0,
    "start_time": "2023-08-03T00:19:02.801Z"
   },
   {
    "duration": 0,
    "start_time": "2023-08-03T00:19:02.802Z"
   },
   {
    "duration": 0,
    "start_time": "2023-08-03T00:19:02.803Z"
   },
   {
    "duration": 0,
    "start_time": "2023-08-03T00:19:02.804Z"
   },
   {
    "duration": 0,
    "start_time": "2023-08-03T00:19:02.805Z"
   },
   {
    "duration": 0,
    "start_time": "2023-08-03T00:19:02.806Z"
   },
   {
    "duration": 0,
    "start_time": "2023-08-03T00:19:02.808Z"
   },
   {
    "duration": 0,
    "start_time": "2023-08-03T00:19:02.809Z"
   },
   {
    "duration": 0,
    "start_time": "2023-08-03T00:19:02.810Z"
   },
   {
    "duration": 0,
    "start_time": "2023-08-03T00:19:02.813Z"
   },
   {
    "duration": 0,
    "start_time": "2023-08-03T00:19:02.814Z"
   },
   {
    "duration": 0,
    "start_time": "2023-08-03T00:19:02.815Z"
   },
   {
    "duration": 0,
    "start_time": "2023-08-03T00:19:02.817Z"
   },
   {
    "duration": 0,
    "start_time": "2023-08-03T00:19:02.818Z"
   },
   {
    "duration": 0,
    "start_time": "2023-08-03T00:19:02.819Z"
   },
   {
    "duration": 0,
    "start_time": "2023-08-03T00:19:02.820Z"
   },
   {
    "duration": 0,
    "start_time": "2023-08-03T00:19:02.821Z"
   },
   {
    "duration": 0,
    "start_time": "2023-08-03T00:19:02.823Z"
   },
   {
    "duration": 0,
    "start_time": "2023-08-03T00:19:02.824Z"
   },
   {
    "duration": 0,
    "start_time": "2023-08-03T00:19:02.825Z"
   },
   {
    "duration": 0,
    "start_time": "2023-08-03T00:19:02.827Z"
   },
   {
    "duration": 0,
    "start_time": "2023-08-03T00:19:02.828Z"
   },
   {
    "duration": 0,
    "start_time": "2023-08-03T00:19:02.829Z"
   },
   {
    "duration": 0,
    "start_time": "2023-08-03T00:19:02.888Z"
   },
   {
    "duration": 0,
    "start_time": "2023-08-03T00:19:02.890Z"
   },
   {
    "duration": 0,
    "start_time": "2023-08-03T00:19:02.891Z"
   },
   {
    "duration": 0,
    "start_time": "2023-08-03T00:19:02.893Z"
   },
   {
    "duration": 0,
    "start_time": "2023-08-03T00:19:02.895Z"
   },
   {
    "duration": 0,
    "start_time": "2023-08-03T00:19:02.896Z"
   },
   {
    "duration": 0,
    "start_time": "2023-08-03T00:19:02.898Z"
   },
   {
    "duration": 0,
    "start_time": "2023-08-03T00:19:02.900Z"
   },
   {
    "duration": 0,
    "start_time": "2023-08-03T00:19:02.901Z"
   },
   {
    "duration": 0,
    "start_time": "2023-08-03T00:19:02.903Z"
   },
   {
    "duration": 0,
    "start_time": "2023-08-03T00:19:02.904Z"
   },
   {
    "duration": 54,
    "start_time": "2023-08-03T00:19:49.662Z"
   },
   {
    "duration": 1292,
    "start_time": "2023-08-03T00:23:03.792Z"
   },
   {
    "duration": 271,
    "start_time": "2023-08-03T00:23:05.086Z"
   },
   {
    "duration": 3,
    "start_time": "2023-08-03T00:23:05.359Z"
   },
   {
    "duration": 658,
    "start_time": "2023-08-03T00:23:05.364Z"
   },
   {
    "duration": 68,
    "start_time": "2023-08-03T00:23:06.024Z"
   },
   {
    "duration": 142,
    "start_time": "2023-08-03T00:23:06.093Z"
   },
   {
    "duration": 595,
    "start_time": "2023-08-03T00:23:06.237Z"
   },
   {
    "duration": 33,
    "start_time": "2023-08-03T00:23:06.834Z"
   },
   {
    "duration": 32,
    "start_time": "2023-08-03T00:23:06.869Z"
   },
   {
    "duration": 25,
    "start_time": "2023-08-03T00:23:06.904Z"
   },
   {
    "duration": 57,
    "start_time": "2023-08-03T00:23:06.931Z"
   },
   {
    "duration": 29,
    "start_time": "2023-08-03T00:23:06.991Z"
   },
   {
    "duration": 36,
    "start_time": "2023-08-03T00:23:07.021Z"
   },
   {
    "duration": 37,
    "start_time": "2023-08-03T00:23:07.059Z"
   },
   {
    "duration": 80,
    "start_time": "2023-08-03T00:23:07.097Z"
   },
   {
    "duration": 75,
    "start_time": "2023-08-03T00:23:07.179Z"
   },
   {
    "duration": 46,
    "start_time": "2023-08-03T00:23:07.255Z"
   },
   {
    "duration": 45,
    "start_time": "2023-08-03T00:23:07.303Z"
   },
   {
    "duration": 13,
    "start_time": "2023-08-03T00:23:07.349Z"
   },
   {
    "duration": 40,
    "start_time": "2023-08-03T00:23:07.363Z"
   },
   {
    "duration": 99,
    "start_time": "2023-08-03T00:23:07.404Z"
   },
   {
    "duration": 93,
    "start_time": "2023-08-03T00:23:07.505Z"
   },
   {
    "duration": 67,
    "start_time": "2023-08-03T00:23:07.600Z"
   },
   {
    "duration": 81,
    "start_time": "2023-08-03T00:23:07.669Z"
   },
   {
    "duration": 74,
    "start_time": "2023-08-03T00:23:07.751Z"
   },
   {
    "duration": 61,
    "start_time": "2023-08-03T00:23:07.827Z"
   },
   {
    "duration": 68,
    "start_time": "2023-08-03T00:23:07.890Z"
   },
   {
    "duration": 145,
    "start_time": "2023-08-03T00:23:07.962Z"
   },
   {
    "duration": 51,
    "start_time": "2023-08-03T00:23:08.108Z"
   },
   {
    "duration": 162,
    "start_time": "2023-08-03T00:23:08.160Z"
   },
   {
    "duration": 0,
    "start_time": "2023-08-03T00:23:08.323Z"
   },
   {
    "duration": 0,
    "start_time": "2023-08-03T00:23:08.324Z"
   },
   {
    "duration": 0,
    "start_time": "2023-08-03T00:23:08.326Z"
   },
   {
    "duration": 0,
    "start_time": "2023-08-03T00:23:08.327Z"
   },
   {
    "duration": 0,
    "start_time": "2023-08-03T00:23:08.328Z"
   },
   {
    "duration": 0,
    "start_time": "2023-08-03T00:23:08.328Z"
   },
   {
    "duration": 0,
    "start_time": "2023-08-03T00:23:08.329Z"
   },
   {
    "duration": 0,
    "start_time": "2023-08-03T00:23:08.330Z"
   },
   {
    "duration": 0,
    "start_time": "2023-08-03T00:23:08.331Z"
   },
   {
    "duration": 0,
    "start_time": "2023-08-03T00:23:08.333Z"
   },
   {
    "duration": 0,
    "start_time": "2023-08-03T00:23:08.334Z"
   },
   {
    "duration": 0,
    "start_time": "2023-08-03T00:23:08.334Z"
   },
   {
    "duration": 0,
    "start_time": "2023-08-03T00:23:08.336Z"
   },
   {
    "duration": 0,
    "start_time": "2023-08-03T00:23:08.337Z"
   },
   {
    "duration": 0,
    "start_time": "2023-08-03T00:23:08.338Z"
   },
   {
    "duration": 0,
    "start_time": "2023-08-03T00:23:08.339Z"
   },
   {
    "duration": 0,
    "start_time": "2023-08-03T00:23:08.340Z"
   },
   {
    "duration": 0,
    "start_time": "2023-08-03T00:23:08.341Z"
   },
   {
    "duration": 0,
    "start_time": "2023-08-03T00:23:08.342Z"
   },
   {
    "duration": 0,
    "start_time": "2023-08-03T00:23:08.343Z"
   },
   {
    "duration": 0,
    "start_time": "2023-08-03T00:23:08.344Z"
   },
   {
    "duration": 0,
    "start_time": "2023-08-03T00:23:08.345Z"
   },
   {
    "duration": 0,
    "start_time": "2023-08-03T00:23:08.346Z"
   },
   {
    "duration": 0,
    "start_time": "2023-08-03T00:23:08.347Z"
   },
   {
    "duration": 0,
    "start_time": "2023-08-03T00:23:08.387Z"
   },
   {
    "duration": 0,
    "start_time": "2023-08-03T00:23:08.388Z"
   },
   {
    "duration": 0,
    "start_time": "2023-08-03T00:23:08.389Z"
   },
   {
    "duration": 0,
    "start_time": "2023-08-03T00:23:08.390Z"
   },
   {
    "duration": 0,
    "start_time": "2023-08-03T00:23:08.391Z"
   },
   {
    "duration": 0,
    "start_time": "2023-08-03T00:23:08.392Z"
   },
   {
    "duration": 0,
    "start_time": "2023-08-03T00:23:08.393Z"
   },
   {
    "duration": 0,
    "start_time": "2023-08-03T00:23:08.394Z"
   },
   {
    "duration": 0,
    "start_time": "2023-08-03T00:23:08.395Z"
   },
   {
    "duration": 0,
    "start_time": "2023-08-03T00:23:08.396Z"
   },
   {
    "duration": 0,
    "start_time": "2023-08-03T00:23:08.397Z"
   },
   {
    "duration": 0,
    "start_time": "2023-08-03T00:23:08.398Z"
   },
   {
    "duration": 0,
    "start_time": "2023-08-03T00:23:08.399Z"
   },
   {
    "duration": 0,
    "start_time": "2023-08-03T00:23:08.400Z"
   },
   {
    "duration": 0,
    "start_time": "2023-08-03T00:23:08.401Z"
   },
   {
    "duration": 0,
    "start_time": "2023-08-03T00:23:08.402Z"
   },
   {
    "duration": 0,
    "start_time": "2023-08-03T00:23:08.402Z"
   },
   {
    "duration": 0,
    "start_time": "2023-08-03T00:23:08.404Z"
   },
   {
    "duration": 0,
    "start_time": "2023-08-03T00:23:08.405Z"
   },
   {
    "duration": 93,
    "start_time": "2023-08-03T00:24:07.874Z"
   },
   {
    "duration": 47,
    "start_time": "2023-08-03T00:27:10.682Z"
   },
   {
    "duration": 74,
    "start_time": "2023-08-03T00:27:39.616Z"
   },
   {
    "duration": 98,
    "start_time": "2023-08-03T00:28:38.910Z"
   },
   {
    "duration": 5,
    "start_time": "2023-08-03T00:28:48.341Z"
   },
   {
    "duration": 9,
    "start_time": "2023-08-03T00:29:05.877Z"
   },
   {
    "duration": 8,
    "start_time": "2023-08-03T00:29:30.922Z"
   },
   {
    "duration": 9,
    "start_time": "2023-08-03T00:29:31.298Z"
   },
   {
    "duration": 4,
    "start_time": "2023-08-03T00:29:46.450Z"
   },
   {
    "duration": 182,
    "start_time": "2023-08-03T00:29:46.967Z"
   },
   {
    "duration": 12,
    "start_time": "2023-08-03T00:30:00.817Z"
   },
   {
    "duration": 1293,
    "start_time": "2023-08-03T00:32:42.041Z"
   },
   {
    "duration": 297,
    "start_time": "2023-08-03T00:32:43.336Z"
   },
   {
    "duration": 4,
    "start_time": "2023-08-03T00:32:43.635Z"
   },
   {
    "duration": 531,
    "start_time": "2023-08-03T00:32:43.641Z"
   },
   {
    "duration": 61,
    "start_time": "2023-08-03T00:32:44.174Z"
   },
   {
    "duration": 59,
    "start_time": "2023-08-03T00:32:44.237Z"
   },
   {
    "duration": 624,
    "start_time": "2023-08-03T00:32:44.297Z"
   },
   {
    "duration": 32,
    "start_time": "2023-08-03T00:32:44.923Z"
   },
   {
    "duration": 22,
    "start_time": "2023-08-03T00:32:44.957Z"
   },
   {
    "duration": 36,
    "start_time": "2023-08-03T00:32:44.989Z"
   },
   {
    "duration": 38,
    "start_time": "2023-08-03T00:32:45.027Z"
   },
   {
    "duration": 48,
    "start_time": "2023-08-03T00:32:45.067Z"
   },
   {
    "duration": 35,
    "start_time": "2023-08-03T00:32:45.117Z"
   },
   {
    "duration": 33,
    "start_time": "2023-08-03T00:32:45.153Z"
   },
   {
    "duration": 36,
    "start_time": "2023-08-03T00:32:45.187Z"
   },
   {
    "duration": 21,
    "start_time": "2023-08-03T00:32:45.225Z"
   },
   {
    "duration": 38,
    "start_time": "2023-08-03T00:32:45.248Z"
   },
   {
    "duration": 132,
    "start_time": "2023-08-03T00:32:45.287Z"
   },
   {
    "duration": 10,
    "start_time": "2023-08-03T00:32:45.420Z"
   },
   {
    "duration": 43,
    "start_time": "2023-08-03T00:32:45.432Z"
   },
   {
    "duration": 49,
    "start_time": "2023-08-03T00:32:45.476Z"
   },
   {
    "duration": 86,
    "start_time": "2023-08-03T00:32:45.527Z"
   },
   {
    "duration": 81,
    "start_time": "2023-08-03T00:32:45.615Z"
   },
   {
    "duration": 69,
    "start_time": "2023-08-03T00:32:45.698Z"
   },
   {
    "duration": 85,
    "start_time": "2023-08-03T00:32:45.769Z"
   },
   {
    "duration": 51,
    "start_time": "2023-08-03T00:32:45.856Z"
   },
   {
    "duration": 23,
    "start_time": "2023-08-03T00:32:45.909Z"
   },
   {
    "duration": 170,
    "start_time": "2023-08-03T00:32:45.936Z"
   },
   {
    "duration": 45,
    "start_time": "2023-08-03T00:32:46.108Z"
   },
   {
    "duration": 141,
    "start_time": "2023-08-03T00:32:46.155Z"
   },
   {
    "duration": 129,
    "start_time": "2023-08-03T00:32:46.297Z"
   },
   {
    "duration": 29,
    "start_time": "2023-08-03T00:32:46.428Z"
   },
   {
    "duration": 370,
    "start_time": "2023-08-03T00:32:46.459Z"
   },
   {
    "duration": 14,
    "start_time": "2023-08-03T00:32:46.831Z"
   },
   {
    "duration": 90,
    "start_time": "2023-08-03T00:32:46.847Z"
   },
   {
    "duration": 116,
    "start_time": "2023-08-03T00:32:46.939Z"
   },
   {
    "duration": 1233,
    "start_time": "2023-08-03T00:32:47.057Z"
   },
   {
    "duration": 11,
    "start_time": "2023-08-03T00:32:48.293Z"
   },
   {
    "duration": 1406,
    "start_time": "2023-08-03T00:32:48.306Z"
   },
   {
    "duration": 1255,
    "start_time": "2023-08-03T00:32:49.714Z"
   },
   {
    "duration": 64,
    "start_time": "2023-08-03T00:32:50.971Z"
   },
   {
    "duration": 8,
    "start_time": "2023-08-03T00:32:51.037Z"
   },
   {
    "duration": 33,
    "start_time": "2023-08-03T00:32:51.046Z"
   },
   {
    "duration": 157,
    "start_time": "2023-08-03T00:32:51.081Z"
   },
   {
    "duration": 16,
    "start_time": "2023-08-03T00:32:51.239Z"
   },
   {
    "duration": 39,
    "start_time": "2023-08-03T00:32:51.256Z"
   },
   {
    "duration": 46,
    "start_time": "2023-08-03T00:32:51.296Z"
   },
   {
    "duration": 246,
    "start_time": "2023-08-03T00:32:51.344Z"
   },
   {
    "duration": 4,
    "start_time": "2023-08-03T00:32:51.592Z"
   },
   {
    "duration": 62,
    "start_time": "2023-08-03T00:32:51.598Z"
   },
   {
    "duration": 37,
    "start_time": "2023-08-03T00:32:51.662Z"
   },
   {
    "duration": 149,
    "start_time": "2023-08-03T00:32:51.701Z"
   },
   {
    "duration": 0,
    "start_time": "2023-08-03T00:32:51.851Z"
   },
   {
    "duration": 0,
    "start_time": "2023-08-03T00:32:51.853Z"
   },
   {
    "duration": 0,
    "start_time": "2023-08-03T00:32:51.854Z"
   },
   {
    "duration": 0,
    "start_time": "2023-08-03T00:32:51.855Z"
   },
   {
    "duration": 0,
    "start_time": "2023-08-03T00:32:51.856Z"
   },
   {
    "duration": 0,
    "start_time": "2023-08-03T00:32:51.857Z"
   },
   {
    "duration": 0,
    "start_time": "2023-08-03T00:32:51.858Z"
   },
   {
    "duration": 0,
    "start_time": "2023-08-03T00:32:51.860Z"
   },
   {
    "duration": 0,
    "start_time": "2023-08-03T00:32:51.861Z"
   },
   {
    "duration": 0,
    "start_time": "2023-08-03T00:32:51.862Z"
   },
   {
    "duration": 0,
    "start_time": "2023-08-03T00:32:51.863Z"
   },
   {
    "duration": 0,
    "start_time": "2023-08-03T00:32:51.864Z"
   },
   {
    "duration": 1,
    "start_time": "2023-08-03T00:32:51.886Z"
   },
   {
    "duration": 0,
    "start_time": "2023-08-03T00:32:51.888Z"
   },
   {
    "duration": 0,
    "start_time": "2023-08-03T00:32:51.889Z"
   },
   {
    "duration": 0,
    "start_time": "2023-08-03T00:32:51.890Z"
   },
   {
    "duration": 0,
    "start_time": "2023-08-03T00:32:51.891Z"
   },
   {
    "duration": 0,
    "start_time": "2023-08-03T00:32:51.893Z"
   },
   {
    "duration": 0,
    "start_time": "2023-08-03T00:32:51.893Z"
   },
   {
    "duration": 0,
    "start_time": "2023-08-03T00:32:51.894Z"
   },
   {
    "duration": 0,
    "start_time": "2023-08-03T00:32:51.896Z"
   },
   {
    "duration": 0,
    "start_time": "2023-08-03T00:32:51.897Z"
   },
   {
    "duration": 0,
    "start_time": "2023-08-03T00:32:51.898Z"
   },
   {
    "duration": 76,
    "start_time": "2023-08-03T00:33:15.541Z"
   },
   {
    "duration": 8,
    "start_time": "2023-08-03T00:33:17.745Z"
   },
   {
    "duration": 30,
    "start_time": "2023-08-03T00:38:49.028Z"
   },
   {
    "duration": 10,
    "start_time": "2023-08-03T00:40:34.063Z"
   },
   {
    "duration": 1292,
    "start_time": "2023-08-03T00:41:58.424Z"
   },
   {
    "duration": 304,
    "start_time": "2023-08-03T00:41:59.718Z"
   },
   {
    "duration": 5,
    "start_time": "2023-08-03T00:42:00.023Z"
   },
   {
    "duration": 613,
    "start_time": "2023-08-03T00:42:00.030Z"
   },
   {
    "duration": 72,
    "start_time": "2023-08-03T00:42:00.646Z"
   },
   {
    "duration": 79,
    "start_time": "2023-08-03T00:42:00.720Z"
   },
   {
    "duration": 578,
    "start_time": "2023-08-03T00:42:00.801Z"
   },
   {
    "duration": 44,
    "start_time": "2023-08-03T00:42:01.381Z"
   },
   {
    "duration": 134,
    "start_time": "2023-08-03T00:42:01.426Z"
   },
   {
    "duration": 103,
    "start_time": "2023-08-03T00:42:01.563Z"
   },
   {
    "duration": 65,
    "start_time": "2023-08-03T00:42:01.668Z"
   },
   {
    "duration": 112,
    "start_time": "2023-08-03T00:42:01.734Z"
   },
   {
    "duration": 119,
    "start_time": "2023-08-03T00:42:01.848Z"
   },
   {
    "duration": 106,
    "start_time": "2023-08-03T00:42:01.969Z"
   },
   {
    "duration": 62,
    "start_time": "2023-08-03T00:42:02.076Z"
   },
   {
    "duration": 108,
    "start_time": "2023-08-03T00:42:02.140Z"
   },
   {
    "duration": 65,
    "start_time": "2023-08-03T00:42:02.250Z"
   },
   {
    "duration": 100,
    "start_time": "2023-08-03T00:42:02.317Z"
   },
   {
    "duration": 11,
    "start_time": "2023-08-03T00:42:02.419Z"
   },
   {
    "duration": 48,
    "start_time": "2023-08-03T00:42:02.431Z"
   },
   {
    "duration": 62,
    "start_time": "2023-08-03T00:42:02.480Z"
   },
   {
    "duration": 110,
    "start_time": "2023-08-03T00:42:02.544Z"
   },
   {
    "duration": 80,
    "start_time": "2023-08-03T00:42:02.656Z"
   },
   {
    "duration": 81,
    "start_time": "2023-08-03T00:42:02.738Z"
   },
   {
    "duration": 80,
    "start_time": "2023-08-03T00:42:02.822Z"
   },
   {
    "duration": 31,
    "start_time": "2023-08-03T00:42:02.904Z"
   },
   {
    "duration": 81,
    "start_time": "2023-08-03T00:42:02.936Z"
   },
   {
    "duration": 202,
    "start_time": "2023-08-03T00:42:03.022Z"
   },
   {
    "duration": 41,
    "start_time": "2023-08-03T00:42:03.226Z"
   },
   {
    "duration": 88,
    "start_time": "2023-08-03T00:42:03.268Z"
   },
   {
    "duration": 123,
    "start_time": "2023-08-03T00:42:03.357Z"
   },
   {
    "duration": 16,
    "start_time": "2023-08-03T00:42:03.482Z"
   },
   {
    "duration": 172,
    "start_time": "2023-08-03T00:42:03.501Z"
   },
   {
    "duration": 11,
    "start_time": "2023-08-03T00:42:03.674Z"
   },
   {
    "duration": 36,
    "start_time": "2023-08-03T00:42:03.698Z"
   },
   {
    "duration": 118,
    "start_time": "2023-08-03T00:42:03.736Z"
   },
   {
    "duration": 1383,
    "start_time": "2023-08-03T00:42:03.857Z"
   },
   {
    "duration": 9,
    "start_time": "2023-08-03T00:42:05.242Z"
   },
   {
    "duration": 1494,
    "start_time": "2023-08-03T00:42:05.253Z"
   },
   {
    "duration": 1324,
    "start_time": "2023-08-03T00:42:06.748Z"
   },
   {
    "duration": 69,
    "start_time": "2023-08-03T00:42:08.074Z"
   },
   {
    "duration": 52,
    "start_time": "2023-08-03T00:42:08.145Z"
   },
   {
    "duration": 133,
    "start_time": "2023-08-03T00:42:08.199Z"
   },
   {
    "duration": 203,
    "start_time": "2023-08-03T00:42:08.334Z"
   },
   {
    "duration": 15,
    "start_time": "2023-08-03T00:42:08.538Z"
   },
   {
    "duration": 44,
    "start_time": "2023-08-03T00:42:08.555Z"
   },
   {
    "duration": 33,
    "start_time": "2023-08-03T00:42:08.600Z"
   },
   {
    "duration": 262,
    "start_time": "2023-08-03T00:42:08.635Z"
   },
   {
    "duration": 4,
    "start_time": "2023-08-03T00:42:08.899Z"
   },
   {
    "duration": 37,
    "start_time": "2023-08-03T00:42:08.905Z"
   },
   {
    "duration": 29,
    "start_time": "2023-08-03T00:42:08.944Z"
   },
   {
    "duration": 96,
    "start_time": "2023-08-03T00:42:08.975Z"
   },
   {
    "duration": 25,
    "start_time": "2023-08-03T00:42:09.073Z"
   },
   {
    "duration": 385,
    "start_time": "2023-08-03T00:42:09.100Z"
   },
   {
    "duration": 113,
    "start_time": "2023-08-03T00:42:09.498Z"
   },
   {
    "duration": 4,
    "start_time": "2023-08-03T00:42:09.613Z"
   },
   {
    "duration": 18,
    "start_time": "2023-08-03T00:42:09.618Z"
   },
   {
    "duration": 364,
    "start_time": "2023-08-03T00:42:09.638Z"
   },
   {
    "duration": 99,
    "start_time": "2023-08-03T00:42:10.004Z"
   },
   {
    "duration": 4,
    "start_time": "2023-08-03T00:42:10.105Z"
   },
   {
    "duration": 24,
    "start_time": "2023-08-03T00:42:10.111Z"
   },
   {
    "duration": 35,
    "start_time": "2023-08-03T00:42:10.137Z"
   },
   {
    "duration": 38,
    "start_time": "2023-08-03T00:42:10.174Z"
   },
   {
    "duration": 53,
    "start_time": "2023-08-03T00:42:10.214Z"
   },
   {
    "duration": 51,
    "start_time": "2023-08-03T00:42:10.268Z"
   },
   {
    "duration": 18,
    "start_time": "2023-08-03T00:42:10.320Z"
   },
   {
    "duration": 16,
    "start_time": "2023-08-03T00:42:10.340Z"
   },
   {
    "duration": 34,
    "start_time": "2023-08-03T00:42:10.358Z"
   },
   {
    "duration": 115,
    "start_time": "2023-08-03T00:42:10.395Z"
   },
   {
    "duration": 0,
    "start_time": "2023-08-03T00:42:10.511Z"
   },
   {
    "duration": 0,
    "start_time": "2023-08-03T00:42:10.513Z"
   },
   {
    "duration": 0,
    "start_time": "2023-08-03T00:42:10.515Z"
   },
   {
    "duration": 0,
    "start_time": "2023-08-03T00:42:10.516Z"
   },
   {
    "duration": 1,
    "start_time": "2023-08-03T00:42:10.517Z"
   },
   {
    "duration": 0,
    "start_time": "2023-08-03T00:42:10.519Z"
   },
   {
    "duration": 0,
    "start_time": "2023-08-03T00:42:10.520Z"
   },
   {
    "duration": 28,
    "start_time": "2023-08-03T00:45:23.996Z"
   },
   {
    "duration": 594,
    "start_time": "2023-08-03T00:46:49.463Z"
   },
   {
    "duration": 1221,
    "start_time": "2023-08-03T00:47:22.743Z"
   },
   {
    "duration": 265,
    "start_time": "2023-08-03T00:47:23.966Z"
   },
   {
    "duration": 4,
    "start_time": "2023-08-03T00:47:24.233Z"
   },
   {
    "duration": 530,
    "start_time": "2023-08-03T00:47:24.239Z"
   },
   {
    "duration": 77,
    "start_time": "2023-08-03T00:47:24.772Z"
   },
   {
    "duration": 63,
    "start_time": "2023-08-03T00:47:24.851Z"
   },
   {
    "duration": 551,
    "start_time": "2023-08-03T00:47:24.916Z"
   },
   {
    "duration": 48,
    "start_time": "2023-08-03T00:47:25.469Z"
   },
   {
    "duration": 15,
    "start_time": "2023-08-03T00:47:25.518Z"
   },
   {
    "duration": 21,
    "start_time": "2023-08-03T00:47:25.536Z"
   },
   {
    "duration": 32,
    "start_time": "2023-08-03T00:47:25.559Z"
   },
   {
    "duration": 19,
    "start_time": "2023-08-03T00:47:25.593Z"
   },
   {
    "duration": 27,
    "start_time": "2023-08-03T00:47:25.614Z"
   },
   {
    "duration": 22,
    "start_time": "2023-08-03T00:47:25.642Z"
   },
   {
    "duration": 26,
    "start_time": "2023-08-03T00:47:25.665Z"
   },
   {
    "duration": 10,
    "start_time": "2023-08-03T00:47:25.693Z"
   },
   {
    "duration": 35,
    "start_time": "2023-08-03T00:47:25.705Z"
   },
   {
    "duration": 51,
    "start_time": "2023-08-03T00:47:25.741Z"
   },
   {
    "duration": 9,
    "start_time": "2023-08-03T00:47:25.794Z"
   },
   {
    "duration": 23,
    "start_time": "2023-08-03T00:47:25.805Z"
   },
   {
    "duration": 43,
    "start_time": "2023-08-03T00:47:25.830Z"
   },
   {
    "duration": 81,
    "start_time": "2023-08-03T00:47:25.874Z"
   },
   {
    "duration": 78,
    "start_time": "2023-08-03T00:47:25.956Z"
   },
   {
    "duration": 72,
    "start_time": "2023-08-03T00:47:26.036Z"
   },
   {
    "duration": 77,
    "start_time": "2023-08-03T00:47:26.110Z"
   },
   {
    "duration": 32,
    "start_time": "2023-08-03T00:47:26.189Z"
   },
   {
    "duration": 24,
    "start_time": "2023-08-03T00:47:26.223Z"
   },
   {
    "duration": 146,
    "start_time": "2023-08-03T00:47:26.251Z"
   },
   {
    "duration": 43,
    "start_time": "2023-08-03T00:47:26.398Z"
   },
   {
    "duration": 90,
    "start_time": "2023-08-03T00:47:26.443Z"
   },
   {
    "duration": 109,
    "start_time": "2023-08-03T00:47:26.535Z"
   },
   {
    "duration": 5,
    "start_time": "2023-08-03T00:47:26.646Z"
   },
   {
    "duration": 184,
    "start_time": "2023-08-03T00:47:26.652Z"
   },
   {
    "duration": 10,
    "start_time": "2023-08-03T00:47:26.838Z"
   },
   {
    "duration": 44,
    "start_time": "2023-08-03T00:47:26.850Z"
   },
   {
    "duration": 108,
    "start_time": "2023-08-03T00:47:26.896Z"
   },
   {
    "duration": 1233,
    "start_time": "2023-08-03T00:47:27.006Z"
   },
   {
    "duration": 11,
    "start_time": "2023-08-03T00:47:28.241Z"
   },
   {
    "duration": 1369,
    "start_time": "2023-08-03T00:47:28.254Z"
   },
   {
    "duration": 1308,
    "start_time": "2023-08-03T00:47:29.625Z"
   },
   {
    "duration": 71,
    "start_time": "2023-08-03T00:47:30.935Z"
   },
   {
    "duration": 9,
    "start_time": "2023-08-03T00:47:31.008Z"
   },
   {
    "duration": 40,
    "start_time": "2023-08-03T00:47:31.019Z"
   },
   {
    "duration": 205,
    "start_time": "2023-08-03T00:47:31.061Z"
   },
   {
    "duration": 20,
    "start_time": "2023-08-03T00:47:31.268Z"
   },
   {
    "duration": 21,
    "start_time": "2023-08-03T00:47:31.290Z"
   },
   {
    "duration": 43,
    "start_time": "2023-08-03T00:47:31.312Z"
   },
   {
    "duration": 240,
    "start_time": "2023-08-03T00:47:31.356Z"
   },
   {
    "duration": 4,
    "start_time": "2023-08-03T00:47:31.598Z"
   },
   {
    "duration": 56,
    "start_time": "2023-08-03T00:47:31.603Z"
   },
   {
    "duration": 65,
    "start_time": "2023-08-03T00:47:31.660Z"
   },
   {
    "duration": 86,
    "start_time": "2023-08-03T00:47:31.726Z"
   },
   {
    "duration": 8,
    "start_time": "2023-08-03T00:47:31.813Z"
   },
   {
    "duration": 423,
    "start_time": "2023-08-03T00:47:31.823Z"
   },
   {
    "duration": 125,
    "start_time": "2023-08-03T00:47:32.248Z"
   },
   {
    "duration": 4,
    "start_time": "2023-08-03T00:47:32.375Z"
   },
   {
    "duration": 18,
    "start_time": "2023-08-03T00:47:32.380Z"
   },
   {
    "duration": 341,
    "start_time": "2023-08-03T00:47:32.401Z"
   },
   {
    "duration": 102,
    "start_time": "2023-08-03T00:47:32.743Z"
   },
   {
    "duration": 3,
    "start_time": "2023-08-03T00:47:32.847Z"
   },
   {
    "duration": 7,
    "start_time": "2023-08-03T00:47:32.853Z"
   },
   {
    "duration": 30,
    "start_time": "2023-08-03T00:47:32.861Z"
   },
   {
    "duration": 13,
    "start_time": "2023-08-03T00:47:32.893Z"
   },
   {
    "duration": 11,
    "start_time": "2023-08-03T00:47:32.908Z"
   },
   {
    "duration": 20,
    "start_time": "2023-08-03T00:47:32.920Z"
   },
   {
    "duration": 3,
    "start_time": "2023-08-03T00:47:32.942Z"
   },
   {
    "duration": 8,
    "start_time": "2023-08-03T00:47:32.947Z"
   },
   {
    "duration": 32,
    "start_time": "2023-08-03T00:47:32.957Z"
   },
   {
    "duration": 38,
    "start_time": "2023-08-03T00:47:32.990Z"
   },
   {
    "duration": 593,
    "start_time": "2023-08-03T00:47:33.030Z"
   },
   {
    "duration": 66,
    "start_time": "2023-08-03T00:47:33.625Z"
   },
   {
    "duration": 96,
    "start_time": "2023-08-03T00:47:33.693Z"
   },
   {
    "duration": 2,
    "start_time": "2023-08-03T00:47:33.791Z"
   },
   {
    "duration": 6,
    "start_time": "2023-08-03T00:47:33.795Z"
   },
   {
    "duration": 22,
    "start_time": "2023-08-03T00:47:33.802Z"
   },
   {
    "duration": 8,
    "start_time": "2023-08-03T00:47:33.826Z"
   },
   {
    "duration": 600,
    "start_time": "2023-08-03T00:47:33.836Z"
   },
   {
    "duration": 613,
    "start_time": "2023-08-03T00:50:01.363Z"
   },
   {
    "duration": 101,
    "start_time": "2023-08-03T01:46:05.100Z"
   },
   {
    "duration": 871,
    "start_time": "2023-08-03T01:46:32.702Z"
   },
   {
    "duration": 272,
    "start_time": "2023-08-03T01:46:48.580Z"
   }
  ],
  "kernelspec": {
   "display_name": "Python 3 (ipykernel)",
   "language": "python",
   "name": "python3"
  },
  "language_info": {
   "codemirror_mode": {
    "name": "ipython",
    "version": 3
   },
   "file_extension": ".py",
   "mimetype": "text/x-python",
   "name": "python",
   "nbconvert_exporter": "python",
   "pygments_lexer": "ipython3",
   "version": "3.9.5"
  },
  "toc": {
   "base_numbering": 1,
   "nav_menu": {},
   "number_sections": true,
   "sideBar": true,
   "skip_h1_title": true,
   "title_cell": "Table of Contents",
   "title_sidebar": "Contents",
   "toc_cell": false,
   "toc_position": {},
   "toc_section_display": true,
   "toc_window_display": true
  }
 },
 "nbformat": 4,
 "nbformat_minor": 2
}
